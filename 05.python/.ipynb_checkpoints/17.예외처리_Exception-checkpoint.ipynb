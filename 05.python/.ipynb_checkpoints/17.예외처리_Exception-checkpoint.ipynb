{
 "cells": [
  {
   "cell_type": "markdown",
   "id": "a656c1cb-2bcf-48b3-ac2d-5a7c37a90966",
   "metadata": {},
   "source": [
    "# 예외처리(Exception)\n",
    "\n",
    "1. 예외처리문법\n",
    "   ```python\n",
    "   try:\n",
    "       # 예외가 발생할 가능성이 있는 문장\n",
    "       result = 10 / 0\n",
    "   except Exception:\n",
    "       # 예외가 발생했을 경우 처리할 문장\n",
    "       print('0으로 나눌 수가 없습니다!')\n",
    "   else:\n",
    "       # 정상적으로 처리할 경우 실행할 문장\n",
    "       print(f'나누기결과 = {result}')\n",
    "   finally:\n",
    "       # 반드시 한번은 실행할 문장\n",
    "       print('프로그램이 정상적으로 종료되었습니다!')\n",
    "   ```\n",
    "2. 파이썬의 예외종류\n",
    "   * http://docs.python.org/library/exceptions.html\n",
    "\n",
    "3. 파이썬예외계층도\n",
    "><img src=\"./images/17.예외처리_Exception_02.png\" width=\"400\" height=\"300\" >"
   ]
  },
  {
   "cell_type": "code",
   "execution_count": 7,
   "id": "4fbed1b1-4a4c-42a2-9823-cfa2651bcc17",
   "metadata": {},
   "outputs": [
    {
     "name": "stdout",
     "output_type": "stream",
     "text": [
      "나눗셈은 0으로 나눌 수가 없습니다!\n",
      "ZeroDivisionError: 나눗셈은 0으로 나눌 수가 없습니다!\n"
     ]
    }
   ],
   "source": [
    "# 1. 예외처리\n",
    "a = 0\n",
    "b = 10\n",
    "c = 0\n",
    "\n",
    "if a==0:\n",
    "    print('나눗셈은 0으로 나눌 수가 없습니다!')\n",
    "else:\n",
    "    c = b / a\n",
    "\n",
    "try:\n",
    "    c = b / a\n",
    "except ZeroDivisionError:\n",
    "    print('ZeroDivisionError: 나눗셈은 0으로 나눌 수가 없습니다!')    \n",
    "except Exception:\n",
    "    print('Exception: 나눗셈은 0으로 나눌 수가 없습니다!')\n",
    "else:\n",
    "    print(c)"
   ]
  },
  {
   "cell_type": "code",
   "execution_count": null,
   "id": "c3d39ff6-21de-4992-9fd6-ec2f2bf0317e",
   "metadata": {},
   "outputs": [],
   "source": [
    "# 2. 특정예외의 처리(명시적으로 예외에 대한 Exception을 정의)\n",
    "try:\n",
    "    c = b / a\n",
    "except ZeroDivisionError:\n",
    "    print('ZeroDivisionError: 나눗셈은 0으로 나눌 수가 없습니다!')    \n",
    "else:\n",
    "    print(c)"
   ]
  },
  {
   "cell_type": "code",
   "execution_count": 16,
   "id": "9475144e-0c21-49af-be76-264f4583d91a",
   "metadata": {},
   "outputs": [
    {
     "name": "stdin",
     "output_type": "stream",
     "text": [
      "분자와 분모를 입력하세요 =>  10 10\n"
     ]
    },
    {
     "name": "stdout",
     "output_type": "stream",
     "text": [
      "NameError: 산술연산이 실패했습니다!\n"
     ]
    }
   ],
   "source": [
    "# 3. 예외처리계층별 처리하기\n",
    "try:\n",
    "    # x = int(input(\"분자를 입력하세요 => \"))\n",
    "    # y = int(input(\"분모를 입력하세요 => \"))\n",
    "\n",
    "    # map()함수\n",
    "    x, y = map(int, input(\"분자와 분모를 입력하세요 => \").split())\n",
    "    print(idx, x)\n",
    "    result = x / y\n",
    "except NameError:\n",
    "    print('NameError: 산술연산이 실패했습니다!')\n",
    "except ZeroDivisionError:\n",
    "    print('ZeroDivisionError: 나눗셈은 0으로 나눌 수가 없습니다!')     "
   ]
  },
  {
   "cell_type": "code",
   "execution_count": 21,
   "id": "0857ea94-7629-47b5-976f-36e5593f7da4",
   "metadata": {},
   "outputs": [
    {
     "name": "stdout",
     "output_type": "stream",
     "text": [
      "TypeError: 연산을 위한 데이터타입이 다릅니다!\n",
      "프로그램종료!! 무조건 한번은 처리해야할 로직입니다!!\n"
     ]
    }
   ],
   "source": [
    "# 3. 다중예외처리 - IndexError, TypeError, FileNotFoundError\n",
    "l = []\n",
    "try:\n",
    "    aaa = 2 + '2'\n",
    "    xxx = l[100]\n",
    "    f = open('./data/notfounefile.txt', 'r', encoding='utf-8')\n",
    "except TypeError:\n",
    "    print('TypeError: 연산을 위한 데이터타입이 다릅니다!')\n",
    "except FileNotFoundError:\n",
    "    print('FileNotFoundError: 파일을 찾지 못했습니다')\n",
    "except IndexError:\n",
    "    print('IndexError: 인덱스범위를 벗어났습니다.')\n",
    "else:\n",
    "    print('파일을 성공적으로 오픈했습니다')\n",
    "finally:\n",
    "    print('프로그램종료!! 무조건 한번은 처리해야할 로직입니다!!')"
   ]
  },
  {
   "cell_type": "code",
   "execution_count": 29,
   "id": "a2cfb80b-8bc7-4511-92d1-c50489a34e79",
   "metadata": {},
   "outputs": [
    {
     "name": "stdout",
     "output_type": "stream",
     "text": [
      "start .......\n",
      "finish....\n"
     ]
    },
    {
     "name": "stderr",
     "output_type": "stream",
     "text": [
      "Traceback (most recent call last):\n",
      "  File \"C:\\Users\\EZEN\\AppData\\Local\\Temp\\ipykernel_11056\\1545597733.py\", line 7, in print_message\n",
      "    print(2 + '2')\n",
      "          ~~^~~~~\n",
      "TypeError: unsupported operand type(s) for +: 'int' and 'str'\n"
     ]
    }
   ],
   "source": [
    "# 4. 예외메세지 tracking하기\n",
    "import traceback\n",
    "\n",
    "def print_message():\n",
    "    print('start .......')\n",
    "    try:\n",
    "        print(2 + '2')\n",
    "    except TypeError as e:\n",
    "        # pass\n",
    "        traceback.print_exc()  # traceback 메시지출력\n",
    "    print('finish....')\n",
    "\n",
    "print_message()"
   ]
  },
  {
   "cell_type": "code",
   "execution_count": 41,
   "id": "80448276-90a4-4b7d-a41a-3309782c89e0",
   "metadata": {},
   "outputs": [
    {
     "name": "stdin",
     "output_type": "stream",
     "text": [
      "임의의 숫자를 입력하세요 =>  10\n"
     ]
    },
    {
     "name": "stdout",
     "output_type": "stream",
     "text": [
      "입력한 수10는 3의 배수가 아닙니다!\n",
      "프로그램종료!!\n"
     ]
    },
    {
     "name": "stderr",
     "output_type": "stream",
     "text": [
      "Traceback (most recent call last):\n",
      "  File \"C:\\Users\\EZEN\\AppData\\Local\\Temp\\ipykernel_11056\\1840096196.py\", line 8, in <module>\n",
      "    raise Exception(f'입력한 수{x}는 3의 배수가 아닙니다!')\n",
      "Exception: 입력한 수10는 3의 배수가 아닙니다!\n"
     ]
    }
   ],
   "source": [
    "# 5. 강제로 예외발생 시키기\n",
    "# 1) raise 예외('에러메시지') - 사용자예외발생시키기\n",
    "# 3의 배수가 아닐경우에 예외발생시키기\n",
    "try:\n",
    "    x = int(input('임의의 숫자를 입력하세요 => '))\n",
    "    if x%3 != 0:\n",
    "        raise Exception(f'입력한 수{x}는 3의 배수가 아닙니다!')\n",
    "except Exception as e:\n",
    "    traceback.print_exc()\n",
    "    print(e)\n",
    "finally:\n",
    "    print('프로그램종료!!')\n"
   ]
  },
  {
   "cell_type": "code",
   "execution_count": 46,
   "id": "507e3d8c-7145-4f47-86bd-c26bf8e0bb8e",
   "metadata": {},
   "outputs": [
    {
     "ename": "AssertionError",
     "evalue": "3의 배수가 아닙니다!",
     "output_type": "error",
     "traceback": [
      "\u001b[1;31m---------------------------------------------------------------------------\u001b[0m",
      "\u001b[1;31mAssertionError\u001b[0m                            Traceback (most recent call last)",
      "Cell \u001b[1;32mIn[46], line 8\u001b[0m\n\u001b[0;32m      1\u001b[0m \u001b[38;5;66;03m# 2) assert명령으로 예외 발생시키기\u001b[39;00m\n\u001b[0;32m      2\u001b[0m \u001b[38;5;66;03m# assert는 조건에 따라서 예외발생시키는데 \u001b[39;00m\n\u001b[0;32m      3\u001b[0m \u001b[38;5;66;03m# 지정된 조건식이 False일경에 AssertionError를 발생시킨다.\u001b[39;00m\n\u001b[0;32m      4\u001b[0m \u001b[38;5;66;03m# 조건식이 True면 정상처리가 된다.\u001b[39;00m\n\u001b[0;32m      5\u001b[0m \u001b[38;5;66;03m# assert는 보통의 경우 발생되지 않는 조건을 검사할 때 종종 사용된다.\u001b[39;00m\n\u001b[0;32m      6\u001b[0m \u001b[38;5;66;03m# 문법 : \"assert 조건식\", \"assert 조건식, 예러메시지\"\u001b[39;00m\n\u001b[0;32m      7\u001b[0m a \u001b[38;5;241m=\u001b[39m \u001b[38;5;241m10\u001b[39m\n\u001b[1;32m----> 8\u001b[0m \u001b[38;5;28;01massert\u001b[39;00m a\u001b[38;5;241m%\u001b[39m\u001b[38;5;241m3\u001b[39m\u001b[38;5;241m==\u001b[39m\u001b[38;5;241m0\u001b[39m, \u001b[38;5;124m\"\u001b[39m\u001b[38;5;124m3의 배수가 아닙니다!\u001b[39m\u001b[38;5;124m\"\u001b[39m\n\u001b[0;32m      9\u001b[0m \u001b[38;5;28mprint\u001b[39m(a)\n",
      "\u001b[1;31mAssertionError\u001b[0m: 3의 배수가 아닙니다!"
     ]
    }
   ],
   "source": [
    "# 2) assert명령으로 예외 발생시키기\n",
    "# assert는 조건에 따라서 예외발생시키는데 \n",
    "# 지정된 조건식이 False일경에 AssertionError를 발생시킨다.\n",
    "# 조건식이 True면 정상처리가 된다.\n",
    "# assert는 보통의 경우 발생되지 않는 조건을 검사할 때 종종 사용된다.\n",
    "# 문법 : \"assert 조건식\", \"assert 조건식, 예러메시지\"\n",
    "a = 10\n",
    "assert a%3==0, \"3의 배수가 아닙니다!\"\n",
    "print(a)\n",
    "\n",
    "# assert는 보통 디버깅모드에서 많이 사용한다.\n",
    "# 파이썬에서는 기본적으로 디버깅모드(__debug__의 값은 기본값이 0)로 되어있다.\n",
    "# assert가 실행되지 않게 하기 위해서는 python을 실행할 때 -O(대문자)옵션을 설정해서 수행한다.\n",
    "# 즉, \"python.exe -O 모듈명.py\"옵션으로 실행하면 assert문장을 만나도 실행하지 않는다."
   ]
  },
  {
   "cell_type": "markdown",
   "id": "7471e013-3c37-4cbc-bdb6-27faf7777415",
   "metadata": {},
   "source": [
    "##### 사용자예외 만들기\n",
    "\n",
    "* 예외에는 파이썬에 내장된 예외가 있고 사용자가 직접 만든 예외가 있는데 이를 `사용자예외`라고 한다.\n",
    "* 사용자예외를 만드는 방법은 간단하다. 그냥 `Exception상속받아서 새로운 클래스를 생성`하면 된다.\n",
    "* 그리고, `__init__메서드에 부모클래스의 생성자함수를 호출 즉, super().__init__('에러메시')를 호출`하면 된다.\n",
    "  ```python\n",
    "  class 사용자예외명(Exception):\n",
    "      def __init__(self):\n",
    "          super().__init__('에러메시지')\n",
    "  ```"
   ]
  },
  {
   "cell_type": "code",
   "execution_count": 49,
   "id": "109ca003-d761-4a01-bd77-9b966c2588cd",
   "metadata": {},
   "outputs": [
    {
     "name": "stdin",
     "output_type": "stream",
     "text": [
      "임의의 수를 입력하세요 =>  10\n"
     ]
    },
    {
     "name": "stdout",
     "output_type": "stream",
     "text": [
      "사용자예외가 발생되었습니다!! ==> super().__init__()호출 :  사용자예외 : 입력한 수는 3의 배수가 아닙니다!!\n"
     ]
    }
   ],
   "source": [
    "# 1. super().__init__를 호출하는 경우\n",
    "class UserException(Exception):\n",
    "    def __init__(self):\n",
    "        super().__init__('사용자예외 : 입력한 수는 3의 배수가 아닙니다!!')\n",
    "\n",
    "def three_time_exception():\n",
    "    try:\n",
    "        x = int(input('임의의 수를 입력하세요 => '))\n",
    "        if x%3 != 0: raise UserException\n",
    "        print(f'{x}는 3의 배수입니다!!')\n",
    "    except Exception as e:\n",
    "        print('사용자예외가 발생되었습니다!! ==> super().__init__()호출 : ', e)\n",
    "\n",
    "three_time_exception()"
   ]
  },
  {
   "cell_type": "code",
   "execution_count": 50,
   "id": "97f03f3c-1926-4beb-9824-6cf7157aa540",
   "metadata": {},
   "outputs": [
    {
     "name": "stdin",
     "output_type": "stream",
     "text": [
      "임의의 수를 입력하세요 =>  10\n"
     ]
    },
    {
     "name": "stdout",
     "output_type": "stream",
     "text": [
      "사용자예외가 발생되었습니다!! ==> 상속만 받는 경우 :  \n"
     ]
    }
   ],
   "source": [
    "# 2. Exception만 상속만 받는 경우\n",
    "class UserException1(Exception):\n",
    "    pass\n",
    "\n",
    "def three_time_exception1():\n",
    "    try:\n",
    "        x = int(input('임의의 수를 입력하세요 => '))\n",
    "        if x%3 != 0: raise UserException1\n",
    "        print(f'{x}는 3의 배수입니다!!')\n",
    "    except Exception as e:\n",
    "        print('사용자예외가 발생되었습니다!! ==> 상속만 받는 경우 : ', e)\n",
    "\n",
    "three_time_exception1()"
   ]
  },
  {
   "cell_type": "markdown",
   "id": "4a74d9aa-2f7a-4ba9-9200-1ef171a57225",
   "metadata": {},
   "source": [
    "##### 실습. 데이터분석\n",
    "\n",
    "* Alice in Wonderland 소설의 단어 갯수를 분석하는 데이터분석실습\n",
    "* 구글링 다운로드 : https://gist.github.com/phillipj/4944029"
   ]
  },
  {
   "cell_type": "code",
   "execution_count": 57,
   "id": "7030a8ff-cea9-4b16-9e90-60b38f10e4d0",
   "metadata": {},
   "outputs": [
    {
     "name": "stdout",
     "output_type": "stream",
     "text": [
      "<class 'list'> 26470\n",
      "<class 'set'> 5307\n",
      "파일이름 = ./data/alice_in_wonderland.txt, 총단어수 = 26470, 중복단어제거후 단어수 = 5307\n"
     ]
    }
   ],
   "source": [
    "# 실습1. 데이터분석\n",
    "# 1) alice_in_wonderland.txt 파일 읽기\n",
    "# 2) exception처리하기\n",
    "# 3) 총 단어의 갯수? 파일이름 : ??, 중복제거후 총단어 갯수 = ?\n",
    "# 파일이름 = ./data/alice_in_wonderland.txt, 총단어수 = ???, 중복단어제거후 단어수 = ???\n",
    "f_name = './data/alice_in_wonderland.txt'\n",
    "try:\n",
    "    with open(f_name, encoding='utf-8') as f:\n",
    "        contents = f.read()\n",
    "        # print(contents)\n",
    "except FileNotFoundError as e:\n",
    "    print('FileNotFoundError : 파일을 찾지 못했습니다!', e)\n",
    "else:\n",
    "    words = contents.split() \n",
    "    print(type(words), len(words)) # 총단어수\n",
    "    s_words = set(words)           # 중복제거\n",
    "    print(type(s_words), len(s_words))\n",
    "    print(f'파일이름 = {f_name}, 총단어수 = {len(words)}, 중복단어제거후 단어수 = {len(s_words)}')"
   ]
  },
  {
   "cell_type": "code",
   "execution_count": 60,
   "id": "4b131d02-2129-4d6f-a3a9-579735bad775",
   "metadata": {},
   "outputs": [
    {
     "name": "stdout",
     "output_type": "stream",
     "text": [
      "파일이름 = ./data/alice_in_wonderland.txt, 총단어수 = 26470, 중복단어제거후 단어수 = 5307\n",
      "파일이름 = ./data/littlewomen.txt, 총단어수 = 189145, 중복단어제거후 단어수 = 20988\n",
      "파일이름 = ./data/mobydick.txt, 총단어수 = 215864, 중복단어제거후 단어수 = 33425\n"
     ]
    }
   ],
   "source": [
    "# 실습2. 데이터분석\n",
    "# 여러개의 파일을 읽어서 실습1의 결과처럼 각각의 결과를 출력하기\n",
    "# 구글링 : 모비딕.txt, 작은아씨들.txt ,....\n",
    "def word_count(file):\n",
    "    f_name = './data/' + file\n",
    "    try:\n",
    "        with open(f_name, encoding='utf-8') as f:\n",
    "            contents = f.read()\n",
    "    except FileNotFoundError as e:\n",
    "        print('FileNotFoundError : 파일을 찾지 못했습니다!', e)\n",
    "    else:\n",
    "        words = contents.split() \n",
    "        s_words = set(words)           \n",
    "        print(f'파일이름 = {f_name}, 총단어수 = {len(words)}, 중복단어제거후 단어수 = {len(s_words)}')   \n",
    "\n",
    "files = ['alice_in_wonderland.txt', 'littlewomen.txt', 'mobydick.txt']\n",
    "\n",
    "for file in files:\n",
    "    word_count(file)"
   ]
  }
 ],
 "metadata": {
  "kernelspec": {
   "display_name": "Python 3 (ipykernel)",
   "language": "python",
   "name": "python3"
  },
  "language_info": {
   "codemirror_mode": {
    "name": "ipython",
    "version": 3
   },
   "file_extension": ".py",
   "mimetype": "text/x-python",
   "name": "python",
   "nbconvert_exporter": "python",
   "pygments_lexer": "ipython3",
   "version": "3.11.7"
  }
 },
 "nbformat": 4,
 "nbformat_minor": 5
}
