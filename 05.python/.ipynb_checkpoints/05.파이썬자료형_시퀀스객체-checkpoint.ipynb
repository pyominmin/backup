{
 "cells": [
  {
   "cell_type": "markdown",
   "id": "5a832e40-fc38-4819-bf31-6af9aae07fff",
   "metadata": {},
   "source": [
    "# 시퀀스객체 활용하기\n",
    "\n",
    "* 지금까지 배워왔던 `list, tuple, string`이외에 `range`등을 보면 공통점이 있는데\n",
    "* 이들 모두의 값은 `연속적인 순서(sequence)`가 있다는 점이다.\n",
    "\n",
    "><h6 align=\"center\">값이 연속적으로 이루어진 자료형</h6>\n",
    "><img src=\"./images/05.파이썬자료형_시퀀스자료형_01.png\" width=\"300\" height=\"200\">\n",
    "\n",
    "* 파이썬에서는 list, tuple, string, range처럼 값이 연속적으로 이어진 자료형을 `시퀀스객체`라고 한다.\n",
    "\n",
    "><img src=\"./images/05.파이썬자료형_시퀀스자료형_02.png\" width=\"300\" height=\"200\">\n",
    "\n",
    "## 1. 시퀀스객체의 공통기능 사용하기\n",
    "\n",
    "* 시퀀스객체의 가장 큰 특징은 공통된 동작과 기능을 제공한다는 점이다.\n",
    "* 따라서, 시퀀스객체의 기본적인 사용방법을 익혀두면 나중에 어떠한 시퀀스객체를 큰 어려움없이 바로 사용할 수 있게 된다.\n",
    "* 시퀀스객체로 만들어진 자료형은 개개의 값을 가지고 있는데 이 값들을 `요소, elements`라고 한다.\n",
    "\n",
    "><h6 align=\"center\">시퀀스객체와 요소</h6>\n",
    "><img src=\"./images/05.파이썬자료형_시퀀스자료형_03.png\" width=\"300\" height=\"200\">"
   ]
  },
  {
   "cell_type": "code",
   "execution_count": 17,
   "id": "5ecfc988-003d-48dc-81dd-a41bd47b0c23",
   "metadata": {},
   "outputs": [
    {
     "name": "stdout",
     "output_type": "stream",
     "text": [
      "<class 'tuple'> (0, 1, 2, 3, 4, 5, 6, 7, 8, 9, 10)\n",
      "True\n",
      "False\n",
      "\n",
      "False\n",
      "True\n",
      "\n",
      "False\n",
      "True\n"
     ]
    }
   ],
   "source": [
    "# 1. 특정값의 존재 여부 확인하기\n",
    "# 시퀀스객체들은 `in, not in`연산자를 사용할 수 있다.\n",
    "# 이 연산자를 이용해서 특정값의 유무를 True, False로 리턴한다.\n",
    "a = 0,1,2,3,4,5,6,7,8,9,10\n",
    "print(type(a), a)\n",
    "print(3 in a)\n",
    "print(3 not in a)\n",
    "print()\n",
    "\n",
    "print('a' in a)\n",
    "print('a' not in a)\n",
    "print()\n",
    "\n",
    "print('a' in list(a))\n",
    "print('a' not in list(a))"
   ]
  },
  {
   "cell_type": "markdown",
   "id": "0f220cdb-11d9-476c-a7c8-9ef8a97dda71",
   "metadata": {},
   "source": [
    "## 2. 시퀀스객체를 연결하기\n",
    "\n",
    "* 시퀀스객체는 `더하기(+)`연산자를 사용하여 객체를 연결해서 새로운 객체를 만들 수 있다.\n",
    "* 단, 시퀀스객체중에서 range객체는 +연산자를 사용할 수 없다."
   ]
  },
  {
   "cell_type": "code",
   "execution_count": null,
   "id": "80680368-8ed8-4ecf-b176-d05f66531609",
   "metadata": {},
   "outputs": [],
   "source": [
    "# 1. list or tuple자료형 연결하기\n",
    "a = [1,2,3]\n",
    "b = ['x','y','z']\n",
    "print(a + b)\n",
    "\n",
    "c = 'a', 'b', 'c'\n",
    "# print(a + c) TypeError: can only concatenate list (not \"tuple\") to list\n",
    "print(a + list(c))\n",
    "print(tuple(a) + c)"
   ]
  },
  {
   "cell_type": "code",
   "execution_count": null,
   "id": "bb58194e-2c3b-4f2d-a7a3-e86c5cd2741b",
   "metadata": {},
   "outputs": [],
   "source": [
    "# 2. range 사용하기\n",
    "# range(stop), range(start, stop), range(start, stop, step)\n",
    "# range객체는 직접사용하지 않고 list나 tuple등으로 변홚해수 사용한다.\n",
    "print(type(range(5)), range(5))\n",
    "print(list(range(5)), tuple(range(5)))\n",
    "print(list(range(10, 21)))\n",
    "print(list(range(10, 21, 3)))\n",
    "\n",
    "# range(5) + range(10,21) TypeError: unsupported operand type(s) for +: 'range' and 'range'\n",
    "list(range(5)) + list(range(10, 21))"
   ]
  },
  {
   "cell_type": "code",
   "execution_count": 33,
   "id": "b2089115-8483-40b9-8375-ee70fcc7f189",
   "metadata": {},
   "outputs": [
    {
     "name": "stdout",
     "output_type": "stream",
     "text": [
      "Hello, 10.5\n"
     ]
    }
   ],
   "source": [
    "# 3. 문자열객체연결하기\n",
    "# 문자열과 다른 타입의 자료형을 연결하면 에러 발생\n",
    "# 'Hello' + 10 TypeError: can only concatenate str (not \"int\") to str\n",
    "\n",
    "# str()변환함수\n",
    "print(\"Hello, \" + str(10.5))"
   ]
  },
  {
   "cell_type": "markdown",
   "id": "ff74eed7-d6c8-4eed-9c4a-d31dadb10308",
   "metadata": {},
   "source": [
    "# 3. 시퀀스객체 반복하기\n",
    "\n",
    "* `곱하기(*)`연산자는 시퀀스객체를 특정 횟수만큼 반복해서 새로운 시퀀스객체를 만든다.\n",
    "* 단, 0이나 음수를 곱하면 빈 객체가 리턴되고 실수(float)를 사용할 수 없다."
   ]
  },
  {
   "cell_type": "code",
   "execution_count": 48,
   "id": "91019c4b-879c-4886-84dd-cb37a6e38d47",
   "metadata": {},
   "outputs": [
    {
     "name": "stdout",
     "output_type": "stream",
     "text": [
      "[1, 2, 3, 4, 1, 2, 3, 4, 1, 2, 3, 4]\n",
      "<class 'list'> []\n",
      "<class 'tuple'> ()\n",
      "<class 'tuple'> ()\n",
      "range(1, 11, 2)\n",
      "[1, 3, 5, 7, 9, 1, 3, 5, 7, 9]\n",
      "(1, 3, 5, 7, 9, 1, 3, 5, 7, 9)\n",
      "()\n",
      "()\n",
      "Hello Hello \n"
     ]
    }
   ],
   "source": [
    "print([1,2,3,4] * 3)\n",
    "\n",
    "# 0과 음수로 반복할 경우 원본객체자료형의 빈 객체가 리턴된다.\n",
    "print(type([1,2,3,4] * 0), [1,2,3,4] * 0)\n",
    "print(type((1,2,3,4) * 0), (1,2,3,4) * 0)\n",
    "print(type((1,2,3,4) * -10), (1,2,3,4) * -10)\n",
    "\n",
    "# range객체는 연결자(+) 뿐만아니라 반복(*)연산자도 사용할 수 없다.\n",
    "print(range(1,11,2))\n",
    "# print(range(1,11,2) * 2) TypeError: unsupported operand type(s) for *: 'range' and 'int'\n",
    "\n",
    "print(list(range(1,11,2)) * 2)\n",
    "print(tuple(range(1,11,2)) * 2)\n",
    "print(tuple(range(1,11,2)) * 0)\n",
    "print(tuple(range(1,11,2)) * -1)\n",
    "print('Hello ' * 2)"
   ]
  },
  {
   "cell_type": "markdown",
   "id": "12d4b552-c623-4a57-918a-6bdd6ca66798",
   "metadata": {},
   "source": [
    "## 4. 시퀀스객체 요소의 갯수 구하기\n",
    "\n",
    "* 시퀀스객체의 요소갯수를 구하는 것은 `len`함수를 사용한다."
   ]
  },
  {
   "cell_type": "code",
   "execution_count": 56,
   "id": "4143819d-abcf-433f-b619-ff3052c73657",
   "metadata": {},
   "outputs": [
    {
     "name": "stdout",
     "output_type": "stream",
     "text": [
      "list요소의 갯수 = 5\n",
      "tuple요소의 갯수 = 5\n",
      "string요소의 갯수 = 13\n",
      "dict요소의 갯수 = 2\n",
      "range요소의 갯수 = 5\n"
     ]
    }
   ],
   "source": [
    "a = [1,2,3,4,5]\n",
    "print(f'list요소의 갯수 = {len(a)}')\n",
    "\n",
    "b = 1,2,3,4,5\n",
    "print(f'tuple요소의 갯수 = {len(b)}')\n",
    "\n",
    "print(f'string요소의 갯수 = {len(\"Hello World!!\")}')\n",
    "\n",
    "c = {1:'홍길동', 2:'손흥민'}\n",
    "print(f'dict요소의 갯수 = {len(c)}')\n",
    "\n",
    "print(f'range요소의 갯수 = {len(range(1,11,2))}')"
   ]
  },
  {
   "cell_type": "code",
   "execution_count": 63,
   "id": "2f8db535-71b6-4f47-8f99-b80e78a6b760",
   "metadata": {},
   "outputs": [
    {
     "name": "stdout",
     "output_type": "stream",
     "text": [
      "문자열의 길이 = 13\n",
      "문자열의 길이 = 5\n",
      "문자열encoding by utf-8 = b'\\xec\\x95\\x88\\xeb\\x85\\x95\\xed\\x95\\x98\\xec\\x84\\xb8\\xec\\x9a\\x94'\n",
      "utf-8기준 길이 = 15\n",
      "문자열encoding by euc-kr = b'\\xbe\\xc8\\xb3\\xe7\\xc7\\xcf\\xbc\\xbc\\xbf\\xe4'\n",
      "euc-kr기준 길이 = 10\n"
     ]
    }
   ],
   "source": [
    "# 문자열의 갯수 구하기\n",
    "# 문자열의 갯수(길이)는 어떤 문자셋을 사용하는가에 따라 다르다.\n",
    "hello = \"Hello World!!\";\n",
    "print(f'문자열의 길이 = {len(hello)}')\n",
    "\n",
    "# hello.encode(encoding)\n",
    "\n",
    "hello = \"안녕하세요\"\n",
    "print(f'문자열의 길이 = {len(hello)}')\n",
    "\n",
    "print(f'문자열encoding by utf-8 = {hello.encode(\"utf-8\")}')\n",
    "print(f'utf-8기준 길이 = {len(hello.encode(\"utf-8\"))}')\n",
    "\n",
    "print(f'문자열encoding by euc-kr = {hello.encode(\"euc-kr\")}')\n",
    "print(f'euc-kr기준 길이 = {len(hello.encode(\"euc-kr\"))}')"
   ]
  },
  {
   "cell_type": "markdown",
   "id": "afadf1f7-e892-4ae8-a696-2ef505888df2",
   "metadata": {},
   "source": [
    "## 5. 시퀀스객체의 index사용하기\n",
    "\n",
    "* 시퀀스객체에 `대괄호[]`를 붙이고 대괄호 안에 각 요소의 index를 정의해서 접근한다.\n",
    "* 시퀀스객체의 index는 0부터 시작한다.\n",
    "* 시퀀스객체의 index를 정의 하지 않으면 전체요소를 의미한다.\n",
    "* 시퀀스객체는 `__getitem__(index)`메서드로 요소에 접근할 수 있다.\n",
    "* 즉, `시퀀스객체[index]대신에 시퀀스객체.__getitem__(index)로도 접근할 수 있다`\n",
    "* `__xxx__ 형태를 언더스코어라고 하는데 파이썬에서 언더스코어로 정의된 속성과 메서드는 은닉화된 것 이다.`"
   ]
  },
  {
   "cell_type": "code",
   "execution_count": 67,
   "id": "e4522dfd-d684-45c1-9f1d-8a992540a0b3",
   "metadata": {},
   "outputs": [
    {
     "name": "stdout",
     "output_type": "stream",
     "text": [
      "['__add__', '__class__', '__class_getitem__', '__contains__', '__delattr__', '__delitem__', '__dir__', '__doc__', '__eq__', '__format__', '__ge__', '__getattribute__', '__getitem__', '__getstate__', '__gt__', '__hash__', '__iadd__', '__imul__', '__init__', '__init_subclass__', '__iter__', '__le__', '__len__', '__lt__', '__mul__', '__ne__', '__new__', '__reduce__', '__reduce_ex__', '__repr__', '__reversed__', '__rmul__', '__setattr__', '__setitem__', '__sizeof__', '__str__', '__subclasshook__', 'append', 'clear', 'copy', 'count', 'extend', 'index', 'insert', 'pop', 'remove', 'reverse', 'sort']\n"
     ]
    }
   ],
   "source": [
    "print(dir([]))"
   ]
  },
  {
   "cell_type": "code",
   "execution_count": 69,
   "id": "458bfbcb-b113-4afc-83da-03a9907f54e3",
   "metadata": {},
   "outputs": [
    {
     "name": "stdout",
     "output_type": "stream",
     "text": [
      "1 = 1\n"
     ]
    }
   ],
   "source": [
    "# 은닉화된 메스드 사용하기\n",
    "a = 1,2,3,4,5,6,7,8,9,10\n",
    "print(f'{a[0]} = {a.__getitem__(0)}')"
   ]
  }
 ],
 "metadata": {
  "kernelspec": {
   "display_name": "Python 3 (ipykernel)",
   "language": "python",
   "name": "python3"
  },
  "language_info": {
   "codemirror_mode": {
    "name": "ipython",
    "version": 3
   },
   "file_extension": ".py",
   "mimetype": "text/x-python",
   "name": "python",
   "nbconvert_exporter": "python",
   "pygments_lexer": "ipython3",
   "version": "3.11.7"
  }
 },
 "nbformat": 4,
 "nbformat_minor": 5
}
