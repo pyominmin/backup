{
 "cells": [
  {
   "cell_type": "markdown",
   "id": "66f69e60-efad-45e8-8f85-4743f798d3fd",
   "metadata": {},
   "source": [
    "# 모듈(Module)\n",
    "\n",
    "## 1. 모듈이란?\n",
    "* 함수 : 파일내에 일정한 작업을 수행할 수 있는 재사용이 가능한 코드블럭을 말한다.\n",
    "* 모듈 : 함수, 변수, class들을 한 개의 파일에 모아 높은 파일을 말한다. 확장자가 `~.py`인 파일\n",
    "  - 유사하거나 연관된 작업을 하는 함수나 변수를 모아서 하나의 파일에 저장한 후 재사용하기 위해 정의한다.\n",
    "  - 모듈의 이름은 확장자 `~.py`를 제외한 것이 모듈이름이다.\n",
    "* 패키지 : 여러개의 모듈을 하나의 디렉토리(폴더)에 모아 놓은 것을 말한다.\n",
    "* 레벨   : 패키지(디렉토리, 폴더) > 모듈(파일명.py) > 클래스(변수, 메서드, 생성자), 함수 or 변수\n",
    "\n",
    "## 2. 모듈의 사용목적\n",
    "\n",
    "* `코드의 재사용` : 모듈이 없다면 자주 사용되는 함수를 매번 작성해야 하기 때문에 개발, 유지보수가 어렵다.\n",
    "* `작업의 효율성` : 프로그램개발시에 전체 코드를 모듈단위로 분리하여 설계함으로써 작업의 효율을 향상 시킬 수 있다.\n",
    "* `독립적인 사용` : 별도의 Namespace를 제공함으로 동일 이름의 변수, 함수를 각각의 모듈별로 독립적으로 사용할 수 있다.\n",
    "\n",
    "## 3. 모듈의 종류\n",
    "\n",
    "* `표준(내장)모듈` : 파이썬에서 기본적으로 제공되는 패키지안에 포함된 모듈, 대표적인 모듈 `math, sys...`\n",
    "* `사용자모듈`     : 개발자가 직접 작성하여 제공하는 모듈을 말한다.\n",
    "* `써드파티모듈`   : 다른 업체별로 작성해서 제공하는 모듈을 말한다. 대표적 모듈 `numpy, pandas, matplotlib...`\n",
    "\n",
    "## 4. 모듈의 선언(사용방법)\n",
    "\n",
    "1. 모듈참조\n",
    "```python\n",
    "import 모듈명\n",
    "import 모듈명 as 별칭\n",
    "from 패키지명(or 모듈명) import [모듈, 함수, 변수]\n",
    "from 패키지명(or 모듈명) import *\n",
    "from 패키지명(or 모듈명) import [모듈, 함수, 변수] as 별칭\n",
    "```\n",
    "2. 모듈내에서 함수호출 방법\n",
    "```python\n",
    "모듈명.함수(매개값,....)\n",
    "```\n",
    "5. 모듈을 참조할 수 있는 디렉토리 확인\n",
    "   * 기본적으로 현재 디렉토리에 있는 파일이나 파이썬 라이브러리가 저장되어 있는 디렉토리의 모듈만 호출할 수 있다.\n",
    "   * 디렉토리를 현재 세션에 추가하거나 삭제할 경우에 아래 함수를 사용한다.\n",
    "     - `sys.path.append()`\n",
    "     - `sys.path.remove()`\n"
   ]
  },
  {
   "cell_type": "code",
   "execution_count": null,
   "id": "7ee0025a-79eb-4d65-a88b-4ca21ed1d3b3",
   "metadata": {},
   "outputs": [],
   "source": [
    "!path \n",
    "%pwd\n",
    "!python --version"
   ]
  },
  {
   "cell_type": "code",
   "execution_count": null,
   "id": "00e47e4b-4d81-4528-bec3-26862d7ec095",
   "metadata": {},
   "outputs": [],
   "source": [
    "# 폴더 or 디렉토리 생성\n",
    "%pwd\n",
    "!mkdir source\n",
    "%ls"
   ]
  },
  {
   "cell_type": "markdown",
   "id": "3c915bae-1936-4b0f-85de-419bd8caf175",
   "metadata": {},
   "source": [
    "##### 사용자 모듈/패키지 실습환경 구성하기\n",
    "\n",
    "1. d:\\lec\\05.python\\source\\greeting_en.py\n",
    "```python\n",
    "def welcome():\n",
    "    print('Hello Python!!')\n",
    "```\n",
    "2. d:\\lec\\05.python\\source\\greeting_ko.py\n",
    "```python\n",
    "def welcome():\n",
    "    print('안녕하세요 파이썬!!')\n",
    "```"
   ]
  },
  {
   "cell_type": "code",
   "execution_count": null,
   "id": "2464a563-4aac-4603-9129-796604ecc380",
   "metadata": {},
   "outputs": [],
   "source": [
    "%%writefile ./source/greeting_ko.py\n",
    "def welcome():\n",
    "    print('안녕하세요 파이썬!!')"
   ]
  },
  {
   "cell_type": "code",
   "execution_count": null,
   "id": "f71dfcd5-8f54-458a-9267-8ebf4d05c90c",
   "metadata": {},
   "outputs": [],
   "source": [
    "%reset -f"
   ]
  },
  {
   "cell_type": "code",
   "execution_count": null,
   "id": "7e68b992-c6b5-444e-8581-5185ffbd6bb8",
   "metadata": {},
   "outputs": [],
   "source": [
    "# 패키지 즉, 폴더\n",
    "# 1. import 패키지명.모듈명\n",
    "import source.greeting_en\n",
    "import source.greeting_ko\n",
    "%whos\n",
    "print()\n",
    "\n",
    "source.greeting_en.welcome()\n",
    "source.greeting_ko.welcome()"
   ]
  },
  {
   "cell_type": "code",
   "execution_count": null,
   "id": "ab0b75f2-eb79-468b-9843-c2faa8862bd1",
   "metadata": {},
   "outputs": [],
   "source": [
    "# 2. 별칭\n",
    "import source.greeting_en as en\n",
    "import source.greeting_ko as ko\n",
    "en.welcome()\n",
    "ko.welcome()"
   ]
  },
  {
   "cell_type": "code",
   "execution_count": null,
   "id": "60d3fbb2-7261-4d55-b89a-4c86a7ff6e82",
   "metadata": {},
   "outputs": [],
   "source": [
    "# 3. from \n",
    "from source import greeting_en as e\n",
    "from source import greeting_ko as k\n",
    "e.welcome()\n",
    "k.welcome()"
   ]
  },
  {
   "cell_type": "code",
   "execution_count": null,
   "id": "82d0fe64-4f4c-4e3f-9074-7ba31ad4c28f",
   "metadata": {},
   "outputs": [],
   "source": [
    "# 4. 함수만 가져오기\n",
    "from source.greeting_en import welcome as fe\n",
    "from source.greeting_ko import welcome as fk\n",
    "fe()\n",
    "fk()"
   ]
  },
  {
   "cell_type": "code",
   "execution_count": null,
   "id": "cef16377-746f-4c07-a6ce-a4b235bc10c1",
   "metadata": {},
   "outputs": [],
   "source": [
    "%%writefile ./source/greeting_en.py\n",
    "def welcome():\n",
    "    \"\"\"\n",
    "        DocString....\n",
    "    \"\"\"\n",
    "    print('Hello Python!!')\n",
    "\n",
    "def add(a, b):\n",
    "    return a+b"
   ]
  },
  {
   "cell_type": "code",
   "execution_count": null,
   "id": "8add7001-f75d-4f99-992f-3c4c6123ebf5",
   "metadata": {},
   "outputs": [],
   "source": [
    "%reset -f\n",
    "%whos"
   ]
  },
  {
   "cell_type": "code",
   "execution_count": null,
   "id": "7fe47f60-d71c-4fb8-863f-5c02370f5dd7",
   "metadata": {},
   "outputs": [],
   "source": [
    "# 5. 전체(*)가져오기\n",
    "# from source.greeting_ko import *\n",
    "from source.greeting_en import *\n",
    "from source.greeting_ko import *\n",
    "%whos\n",
    "\n",
    "welcome()\n",
    "add(10,10)"
   ]
  },
  {
   "cell_type": "code",
   "execution_count": null,
   "id": "9c343b62-44d3-499e-bad6-c1ca392c00dd",
   "metadata": {},
   "outputs": [],
   "source": [
    "import source.greeting_en as en\n",
    "print(dir(en))\n",
    "print(en.__doc__)"
   ]
  },
  {
   "cell_type": "markdown",
   "id": "eb8cb7e5-8567-4271-9142-1385ae3679da",
   "metadata": {},
   "source": [
    "##### 내장모듈사용하기"
   ]
  },
  {
   "cell_type": "code",
   "execution_count": null,
   "id": "0f9d4557-4011-4960-a27b-dc062cbfe042",
   "metadata": {},
   "outputs": [],
   "source": [
    "# 1. 파이썬내장모듈사용하기\n",
    "import math # 수학관련함수가 포함된 모듈\n",
    "# help(math)\n",
    "print(dir(math))\n",
    "print()\n",
    "\n",
    "print(type(math.pi))\n",
    "print(type(math.pow))\n",
    "print(math.pi, math.e)\n",
    "print()\n",
    "\n",
    "print(math.pow(2,3))\n",
    "print(math.ceil(2.112))\n",
    "print(math.floor(2.9999))\n",
    "\n",
    "# 모듈이 없을 경우에는 에러 발생\n",
    "# import xxx # ModuleNotFoundError: No module named 'xxx'"
   ]
  },
  {
   "cell_type": "code",
   "execution_count": null,
   "id": "bac2c5f4-7ea8-43fb-bd93-649050b201ab",
   "metadata": {},
   "outputs": [],
   "source": [
    "%whos\n",
    "print()\n",
    "\n",
    "%who_ls\n",
    "\n",
    "# 현재세션에서 모듈등을 삭제하기 del\n",
    "del math\n",
    "\n",
    "%who_ls"
   ]
  },
  {
   "cell_type": "code",
   "execution_count": null,
   "id": "cf1ac5a1-3c7b-4896-bf9e-6f9c58f005b1",
   "metadata": {},
   "outputs": [],
   "source": [
    "# 2. 모듈에서 필요한 변수 or 함수만 불러오기\n",
    "%reset -f\n",
    "from math import pi as p, pow as x\n",
    "%whos\n",
    "print()"
   ]
  },
  {
   "cell_type": "code",
   "execution_count": null,
   "id": "8b6a5022-e65a-4c8a-bc98-0e0e3f4895f6",
   "metadata": {},
   "outputs": [],
   "source": [
    "print(f'PI = {p}')\n",
    "print(f'pow(2,3) = {x(2,3)}')\n",
    "print(f'pow(2,3) = {x(2,3)}')\n",
    "\n",
    "# print(f'PI = {math.e}') 에러\n",
    "import math \n",
    "print(f'e = {math.e}')"
   ]
  },
  {
   "cell_type": "markdown",
   "id": "0080c524-2906-45a3-b8e1-e91612cad220",
   "metadata": {},
   "source": [
    "#### sys.path모듈 사용하기"
   ]
  },
  {
   "cell_type": "code",
   "execution_count": null,
   "id": "72f77bfe-6bf4-47ba-99f7-8eb2b3c30e32",
   "metadata": {},
   "outputs": [],
   "source": [
    "%%writefile source\\mod1.py\n",
    "def add(a, b):\n",
    "    return a+b\n",
    "\n",
    "def safe_add(a,b):\n",
    "    if type(a) != type(b):\n",
    "        print(f'{type(a)}와 {type(b)}의 자료형이 다릅니다! 다른 데이터타입의 연산은 할 수 없습니다!')\n",
    "    else:\n",
    "        result = add(a,b)\n",
    "        return result"
   ]
  },
  {
   "cell_type": "code",
   "execution_count": null,
   "id": "0eae6802-f5e9-476d-944c-6a14317ce3ef",
   "metadata": {},
   "outputs": [],
   "source": [
    "%pwd\n",
    "# import mod1 # ModuleNotFoundError: No module named 'mod1'"
   ]
  },
  {
   "cell_type": "code",
   "execution_count": null,
   "id": "801ace9c-3d9f-46ae-aeeb-d4c16d68e41f",
   "metadata": {},
   "outputs": [],
   "source": [
    "import sys\n",
    "print(dir(sys))\n",
    "print()\n",
    "\n",
    "# sys?\n",
    "# sys.path?\n",
    "print(type(sys.path), sys.path)"
   ]
  },
  {
   "cell_type": "code",
   "execution_count": null,
   "id": "cdf0515c-fa8e-4c7b-82b1-1e964b7bb6f2",
   "metadata": {},
   "outputs": [],
   "source": [
    "# 1. 현재 path에 경로(path)추가하기\n",
    "sys.path.append('d:/lec/05/python/source')\n",
    "sys.path.append('./source')\n",
    "print(sys.path)"
   ]
  },
  {
   "cell_type": "code",
   "execution_count": null,
   "id": "278b8d90-941a-49ba-b5f9-b71b17702157",
   "metadata": {},
   "outputs": [],
   "source": [
    "# import source.mod1\n",
    "import mod1\n",
    "print(dir(mod1))\n",
    "print(f'mod1.add(10,10) = {mod1.add(10,10)}')\n",
    "# print(f'mod1.add(10,10) = {mod1.add(10,\"10\")}')\n",
    "print(f'mod1.add(10,10) = {mod1.safe_add(10,10)}')\n",
    "print(f'mod1.add(10,10) = {mod1.safe_add(10,\"10\")}')"
   ]
  },
  {
   "cell_type": "code",
   "execution_count": null,
   "id": "dfd8b190-aaeb-48b7-a193-5abbde5541a8",
   "metadata": {},
   "outputs": [],
   "source": [
    "# 2. 현재 path에 경로(path) 삭제하기\n",
    "# del명령, list.remove(), \n",
    "# list.remove() 삭제할 요소가 없을 경우에 에러가 발생\n",
    "# sys.path.remove('ddd') # ValueError: list.remove(x): x not in list\n",
    "# sys.path.remove('./source')\n",
    "sys.path.remove('d:/lec/05/python/source')\n",
    "print(sys.path)"
   ]
  },
  {
   "cell_type": "code",
   "execution_count": null,
   "id": "ff6e8bbd-9be6-4879-98a8-8b9b8c8ad174",
   "metadata": {},
   "outputs": [],
   "source": [
    "%reset -f\n",
    "%whos"
   ]
  },
  {
   "cell_type": "code",
   "execution_count": null,
   "id": "91fd28f0-58f0-4108-870c-ae825b44af6e",
   "metadata": {},
   "outputs": [],
   "source": [
    "from mod1 import add, safe_add\n",
    "%whos"
   ]
  },
  {
   "cell_type": "code",
   "execution_count": null,
   "id": "e4871e1d-bd1d-4a9a-b451-b73c4b98e717",
   "metadata": {},
   "outputs": [],
   "source": [
    "add(1,1)\n",
    "safe_add(1,1)\n",
    "safe_add(1,'1')"
   ]
  },
  {
   "cell_type": "markdown",
   "id": "835023f6-f66f-46c8-a062-eb0548f2d142",
   "metadata": {},
   "source": [
    "#### 외부(커맨트창)에서 파이썬 모듈 실행하기\n",
    "\n",
    ">* 절대경로 python d:\\lec\\05.python\\source\\mod1.py\n",
    ">* 상대경로 python path ..\\mod1.py\n",
    "\n",
    "#### `__name__`과 `__main__`\n",
    "\n",
    "* 파이썬의 `__name__`변수는 파이썬 내부에서 사용하는 특별한 변수이다.\n",
    "* 만약에 모듈을 직접실행할 경우에 즉 'python.exe hello.py'처럼 실행하는 경우에는 `__name__이라는 변수에는 __main__이라는 문자열이 자동으로 저장`된다.\n",
    "* 하지만, cmd창, powershell, 다른 파이쎤모듈에서 `import할 경우에는 __name__이라는 변수에는 자신의 파일명이 __name__에 저장`이 된다.\n",
    "* 즉, import hello처럼 import할 경우에는 `__name__이라는 변수에는 hello가 저장`된다.\n",
    "* `__name__변수의 값이 __main__, 자기모듈명이 들어 있는지에 자동실행여부가 결정`된다.\n",
    "* `__name__에 __main__이라는 값이 들어 있으면 프로그램의 자동시작점이 된다.` 즉, java의 main()메서드라고 간주하면 된다.\n",
    "\n",
    "><img src=\"./images/14.파이썬_Module_01.png\" width=\"300\" height=\"200\" />\n",
    "><img src=\"./images/14.파이썬_Module_02.png\" width=\"300\" height=\"200\" />"
   ]
  },
  {
   "cell_type": "code",
   "execution_count": null,
   "id": "7d9f909c-68f7-4c90-9ca3-9117f2a7d0a4",
   "metadata": {},
   "outputs": [],
   "source": [
    "print(type(print.__name__), print.__name__) \n",
    "import mod1\n",
    "print(f'mod1의 __name__속성의 값 = {mod1.__name__}')"
   ]
  },
  {
   "cell_type": "code",
   "execution_count": 1,
   "id": "eb3a3407-aa87-4e07-bc02-981cd2f296cf",
   "metadata": {},
   "outputs": [
    {
     "name": "stdout",
     "output_type": "stream",
     "text": [
      "Overwriting source\\mod2.py\n"
     ]
    }
   ],
   "source": [
    "%%writefile source\\mod2.py\n",
    "\"\"\"\n",
    "    2번째 모듈입니다!\n",
    "\"\"\"\n",
    "def add(a, b):\n",
    "    return a + b\n",
    "\n",
    "def safe_add(a,b):\n",
    "    if type(a) != type(b):\n",
    "        print(f'{type(a)}와 {type(b)}의 자료형이 다릅니다! 다른 데이터타입의 연산은 할 수 없습니다!')\n",
    "    else:\n",
    "        result = add(a,b)\n",
    "        return result\n",
    "\n",
    "def sub(a, b):\n",
    "    return a - b\n",
    "\n",
    "def main():\n",
    "    print(f'__name__ = {__name__}')\n",
    "    print(add(10,10))\n",
    "    print(safe_add(10, '100'))\n",
    "    print(sub(20, 10))\n",
    "\n",
    "if __name__ == '__main__':\n",
    "    main()"
   ]
  },
  {
   "cell_type": "code",
   "execution_count": 3,
   "id": "8ab0c936-b56b-4363-8f37-94f378b87b13",
   "metadata": {},
   "outputs": [
    {
     "data": {
      "text/plain": [
       "['d:\\\\lec\\\\05.python',\n",
       " 'C:\\\\Anaconda3\\\\python311.zip',\n",
       " 'C:\\\\Anaconda3\\\\DLLs',\n",
       " 'C:\\\\Anaconda3\\\\Lib',\n",
       " 'C:\\\\Anaconda3',\n",
       " '',\n",
       " 'C:\\\\Users\\\\EZEN\\\\AppData\\\\Roaming\\\\Python\\\\Python311\\\\site-packages',\n",
       " 'C:\\\\Anaconda3\\\\Lib\\\\site-packages',\n",
       " 'C:\\\\Anaconda3\\\\Lib\\\\site-packages\\\\win32',\n",
       " 'C:\\\\Anaconda3\\\\Lib\\\\site-packages\\\\win32\\\\lib',\n",
       " 'C:\\\\Anaconda3\\\\Lib\\\\site-packages\\\\Pythonwin',\n",
       " 'd:/lec/05.python/source']"
      ]
     },
     "execution_count": 3,
     "metadata": {},
     "output_type": "execute_result"
    }
   ],
   "source": [
    "%reset -f\n",
    "import sys\n",
    "sys.path.append('d:/lec/05.python/source')\n",
    "sys.path"
   ]
  },
  {
   "cell_type": "code",
   "execution_count": 4,
   "id": "4c2e6ade-452a-4ef2-a67d-88a9864fa6ce",
   "metadata": {},
   "outputs": [
    {
     "name": "stdout",
     "output_type": "stream",
     "text": [
      "mod2\n"
     ]
    }
   ],
   "source": [
    "import mod2\n",
    "print(mod2.__name__) # import할 경우 __name__에는 자신의 모듈명이 자동저장"
   ]
  },
  {
   "cell_type": "markdown",
   "id": "adaa2505-e844-45a5-8043-fc51821a832e",
   "metadata": {},
   "source": [
    "파이썬은 왜 프로그램의 시작점이 정해저 있지 않을까?\n",
    "\n",
    "* 파이썬이 처음 개발될 당시에서는 리눅스(유닉스)에서 사용하는 스크립트언어기반이었기 때문에 프로그램의 시작점이 따로 정해져 있지 않았다.\n",
    "* 보통, 리눅스의 스크립트파일은 한 개의 파일로만 이루어진 경우가 대부분이었다.\n",
    "* 이 스크립트파일 자체가 독립적으로 실행되는 프로그램이다 보니까 프로그램의 시작점이 별도로 필요하지 않게 되었다.\n",
    "* 하지만, Java나 C같은 언어는 처음 개발될 때부터 여러개의 파일(소스, 프로그램)으로 나누어서 실행되었기 때문에 여러개 소스파일중에서 프로그램의 시작점인 `main()메서드`를 별도로 정의해 놓았다.\n",
    "* 반면에, 상기에서 기술한 바와 같이 파이썬으 초기에 프로그램의 시작점이 필요가 없었지만, 프로그램이 복잡, 크기가 커지다보니 한 개의 소스파일로는 처리할 수가 없게 되어 여러 개의 소스파일로 구성되어 지게 되면서 어떤 소스파일이 전체 프로그램의 시작점으로 할지가 필요하게 되었다.\n",
    "* 따라서, 파이썬은 `__name__이라는 변수에 __main__값의 유무에 따라 프로그램의 시작점을 결정`하게 되었다."
   ]
  }
 ],
 "metadata": {
  "kernelspec": {
   "display_name": "Python 3 (ipykernel)",
   "language": "python",
   "name": "python3"
  },
  "language_info": {
   "codemirror_mode": {
    "name": "ipython",
    "version": 3
   },
   "file_extension": ".py",
   "mimetype": "text/x-python",
   "name": "python",
   "nbconvert_exporter": "python",
   "pygments_lexer": "ipython3",
   "version": "3.11.7"
  }
 },
 "nbformat": 4,
 "nbformat_minor": 5
}
