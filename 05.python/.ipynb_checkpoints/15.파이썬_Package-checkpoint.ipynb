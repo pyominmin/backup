{
 "cells": [
  {
   "cell_type": "markdown",
   "id": "5c71bae9-84c1-4e6d-89d6-0f77ca7ab5b0",
   "metadata": {},
   "source": [
    "# 패키지 Package\n",
    "\n",
    "* 파이썬의 패키지는 `디렉토리와 파이썬모듈(~.py)로 구성`된다.\n",
    "  1. 물리적으로 여러개의 모듈(~.py파일)을 모아 놓은 디렉토리이다.\n",
    "  2. 즉, `모듈은 확장가 py`인 파일이고 `package는 디렉토리 즉, 폴더`이다.\n",
    "     a. 패키안에 `__init__.py`은 해당 폴더가 패키지임을 파이썬엔진에게 알려주는 역할을 한다.\n",
    "     b. 파이썬 v3.3이후 부터는 이 파일 없어도 패키지로 인식된다.\n",
    "     c. v3.3이전버전에 이 파일이 없으면 패키지로 인식되지 않는다.\n",
    "     d. 하위버전과 호환성을 위해서 dummy파일로 생성하는 것이 좋다.\n",
    "  3. 파이썬 모듈를 계층적(그룹핑, 디렉토리)으로 관리하기 위해서는 `dot(.)연산자를 사용`한다.\n",
    "  4. `__name__변수에는 패키지명.모듈명`의 형식으로 저장된다."
   ]
  },
  {
   "cell_type": "code",
   "execution_count": 6,
   "id": "674cdb75-96ec-4fcc-a44f-d116275626fd",
   "metadata": {},
   "outputs": [
    {
     "name": "stderr",
     "output_type": "stream",
     "text": [
      "하위 디렉터리 또는 파일 d:\\lec\\05.python\\source\\game\\sound이(가) 이미 있습니다.\n"
     ]
    }
   ],
   "source": [
    "# 1. source하위 폴더 : /game, /game/sound, game/graphic\n",
    "!mkdir d:\\lec\\05.python\\source\\game\\sound\n",
    "!mkdir .\\source\\game\\graphic"
   ]
  },
  {
   "cell_type": "code",
   "execution_count": 9,
   "id": "276d5fdd-0a9f-41ca-967b-c90e7c425c90",
   "metadata": {},
   "outputs": [],
   "source": [
    "# 2. 3개의 디렉토리에 __init__.py생성하기\n",
    "# \n",
    "# a) ./sound/echo.py\n",
    "def echo_test():\n",
    "    print('echo')\n",
    "\n",
    "# b) ./graphic/render.py\n",
    "def render_test():\n",
    "    print('rendering')"
   ]
  },
  {
   "cell_type": "code",
   "execution_count": 10,
   "id": "101adc42-2d88-40d1-9db8-3c0f26a4d502",
   "metadata": {},
   "outputs": [
    {
     "data": {
      "text/plain": [
       "['d:\\\\lec\\\\05.python',\n",
       " 'C:\\\\Anaconda3\\\\python311.zip',\n",
       " 'C:\\\\Anaconda3\\\\DLLs',\n",
       " 'C:\\\\Anaconda3\\\\Lib',\n",
       " 'C:\\\\Anaconda3',\n",
       " '',\n",
       " 'C:\\\\Users\\\\EZEN\\\\AppData\\\\Roaming\\\\Python\\\\Python311\\\\site-packages',\n",
       " 'C:\\\\Anaconda3\\\\Lib\\\\site-packages',\n",
       " 'C:\\\\Anaconda3\\\\Lib\\\\site-packages\\\\win32',\n",
       " 'C:\\\\Anaconda3\\\\Lib\\\\site-packages\\\\win32\\\\lib',\n",
       " 'C:\\\\Anaconda3\\\\Lib\\\\site-packages\\\\Pythonwin',\n",
       " 'd:/lec/05.python/source']"
      ]
     },
     "execution_count": 10,
     "metadata": {},
     "output_type": "execute_result"
    }
   ],
   "source": [
    "import sys\n",
    "sys.path.append('d:/lec/05.python/source')\n",
    "sys.path"
   ]
  },
  {
   "cell_type": "code",
   "execution_count": 12,
   "id": "4cbc7150-cc4c-4179-964e-ec00851f63e0",
   "metadata": {},
   "outputs": [
    {
     "name": "stdout",
     "output_type": "stream",
     "text": [
      "Variable      Type        Data/Info\n",
      "-----------------------------------\n",
      "echo_test     function    <function echo_test at 0x000001E061E25120>\n",
      "game          module      <module 'game' from 'd:\\\\<...>urce\\\\game\\\\__init__.py'>\n",
      "render_test   function    <function render_test at 0x000001E061E25BC0>\n",
      "sys           module      <module 'sys' (built-in)>\n",
      "\n",
      "echo\n"
     ]
    }
   ],
   "source": [
    "# 1. game.sound패키지에서 echo모듈 불러오기\n",
    "import game.sound.echo\n",
    "%whos\n",
    "print()\n",
    "\n",
    "game.sound.echo.echo_test()"
   ]
  },
  {
   "cell_type": "code",
   "execution_count": 14,
   "id": "00d50329-3717-4778-9866-5102a46da6b6",
   "metadata": {},
   "outputs": [
    {
     "name": "stdout",
     "output_type": "stream",
     "text": [
      "Variable      Type        Data/Info\n",
      "-----------------------------------\n",
      "echo          module      <module 'game.sound.echo'<...>e\\\\game\\\\sound\\\\echo.py'>\n",
      "echo_test     function    <function echo_test at 0x000001E061E25120>\n",
      "game          module      <module 'game' from 'd:\\\\<...>urce\\\\game\\\\__init__.py'>\n",
      "render_test   function    <function render_test at 0x000001E061E25BC0>\n",
      "sys           module      <module 'sys' (built-in)>\n",
      "\n",
      "echo\n"
     ]
    }
   ],
   "source": [
    "# 2. 모듈만 불러오기\n",
    "from game.sound import echo\n",
    "%whos\n",
    "print()\n",
    "\n",
    "echo.echo_test()"
   ]
  },
  {
   "cell_type": "code",
   "execution_count": 15,
   "id": "74fc3a95-6030-4206-bfb7-0150ffbbeabe",
   "metadata": {},
   "outputs": [
    {
     "name": "stdout",
     "output_type": "stream",
     "text": [
      "Variable      Type        Data/Info\n",
      "-----------------------------------\n",
      "echo          module      <module 'game.sound.echo'<...>e\\\\game\\\\sound\\\\echo.py'>\n",
      "echo_test     function    <function echo_test at 0x000001E061DBF920>\n",
      "game          module      <module 'game' from 'd:\\\\<...>urce\\\\game\\\\__init__.py'>\n",
      "render_test   function    <function render_test at 0x000001E061E25BC0>\n",
      "sys           module      <module 'sys' (built-in)>\n",
      "\n",
      "echo\n"
     ]
    }
   ],
   "source": [
    "# 3. 함수만 불러오기\n",
    "from game.sound.echo import echo_test\n",
    "%whos\n",
    "print()\n",
    "\n",
    "echo_test()"
   ]
  },
  {
   "cell_type": "markdown",
   "id": "be578ace-b25b-442e-baad-6ee3a9564784",
   "metadata": {},
   "source": [
    "#### 실습 : 14:10분까지\n",
    "\n",
    "* ./source/calcpkg 폴더 생성('__init__.py)'\n",
    "  1. operation.py  \n",
    "     - add, mul, \n",
    "  2. geometry.py\n",
    "     - triangle_area, rectangle_area \n",
    "     - 삼/사각형(width, height)\n",
    "  3. 패키지를 로딩해서 각 함수를 호출해서 출력(import, from)"
   ]
  },
  {
   "cell_type": "code",
   "execution_count": 20,
   "id": "46ad7706-feb1-49e7-baf1-7a2c0fd2b76c",
   "metadata": {},
   "outputs": [
    {
     "name": "stdout",
     "output_type": "stream",
     "text": [
      "Variable      Type        Data/Info\n",
      "-----------------------------------\n",
      "echo          module      <module 'game.sound.echo'<...>e\\\\game\\\\sound\\\\echo.py'>\n",
      "echo_test     function    <function echo_test at 0x000001E061DBF920>\n",
      "game          module      <module 'game' from 'd:\\\\<...>urce\\\\game\\\\__init__.py'>\n",
      "go            module      <module 'calcpkg.geometry<...>e\\\\calcpkg\\\\geometry.py'>\n",
      "op            module      <module 'calcpkg.operatio<...>\\\\calcpkg\\\\operation.py'>\n",
      "render_test   function    <function render_test at 0x000001E061E25BC0>\n",
      "sys           module      <module 'sys' (built-in)>\n"
     ]
    }
   ],
   "source": [
    "# 실습문제풀이\n",
    "import calcpkg.operation as op\n",
    "import calcpkg.geometry as go\n",
    "# from calcpkg import operation as op1, geometry as go1\n",
    "# from calcpkg import *\n",
    "\n",
    "%whos"
   ]
  },
  {
   "cell_type": "code",
   "execution_count": 24,
   "id": "b81f7d52-36ed-43c1-a6d7-d8b3fbd68764",
   "metadata": {},
   "outputs": [
    {
     "name": "stdout",
     "output_type": "stream",
     "text": [
      "더하기 = 2000\n",
      "곱하기 = 213572634912\n",
      "\n",
      "삼각형의 넓이 = 19341.5\n",
      "사각형의 넓이 = 38683\n"
     ]
    }
   ],
   "source": [
    "print(f'더하기 = {op.add(1000, 1000)}')\n",
    "print(f'곱하기 = {op.mul(440494,484848)}')\n",
    "print()\n",
    "\n",
    "print(f'삼각형의 넓이 = {go.triangle_area(101,383)}')\n",
    "print(f'사각형의 넓이 = {go.rectangle_area(101,383)}')"
   ]
  },
  {
   "cell_type": "markdown",
   "id": "086b0b7c-a249-46d9-b2fb-2e4adc5ca5c4",
   "metadata": {},
   "source": [
    "#### 실습 : 실습시간\n",
    "\n",
    "* 초보자를 위한 파이썬예제 300 : 201~250문제\n",
    "* 초보자를 위한 파이썬예제 300 : 예습(파이썬클래스 251~290)"
   ]
  }
 ],
 "metadata": {
  "kernelspec": {
   "display_name": "Python 3 (ipykernel)",
   "language": "python",
   "name": "python3"
  },
  "language_info": {
   "codemirror_mode": {
    "name": "ipython",
    "version": 3
   },
   "file_extension": ".py",
   "mimetype": "text/x-python",
   "name": "python",
   "nbconvert_exporter": "python",
   "pygments_lexer": "ipython3",
   "version": "3.11.7"
  }
 },
 "nbformat": 4,
 "nbformat_minor": 5
}
