{
 "cells": [
  {
   "cell_type": "code",
   "execution_count": null,
   "id": "0de92144-1271-4b30-b86e-9a634a9c7f93",
   "metadata": {},
   "outputs": [],
   "source": [
    "import MySQLdb"
   ]
  },
  {
   "cell_type": "markdown",
   "id": "59639a8a-2468-45e1-bc25-a8ad70efa0ea",
   "metadata": {},
   "source": [
    "### A. MySQL or mariaDB\n",
    "\n",
    "#### 1. mariadb database생성\n",
    "```sql\n",
    "create database mysuppliers;\n",
    "\n",
    "show database\n",
    ";\n",
    "\n",
    "use mysupplirs;\n",
    "\n",
    "create table if not exists suppliers(\n",
    "     supplier_name    varchar(20)\n",
    "   , invoice_number   varchar(20)\n",
    "   , part_number      varchar(20)\n",
    "   , cost             float\n",
    "   , purchase_date    date\n",
    ");\n",
    "\n",
    "describe suppliers; \n",
    "desc suppliers;\n",
    "```\n",
    "#### 2. DB접속을 위한 패키지 설치\n",
    "* MySQL or Mariadb와 연동을 하기 위해서 `mysqlclient`패키지를 설치해야 한다.\n",
    ">* pip install mysqlclient\n",
    ">* conda install -y mysqlclient\n",
    "\n",
    "##### 설치순서\n",
    "1. pip install mysqlclient\n",
    "2. python -m pip install --upgrade pip\n",
    "3. pip install mysqlclient --upgrade\n",
    "4. pip list or pip show mysqlclient"
   ]
  },
  {
   "cell_type": "code",
   "execution_count": null,
   "id": "ce5c6d87-57e9-4532-a806-6ccc787a08c7",
   "metadata": {},
   "outputs": [],
   "source": [
    "!pip install mysqlclient\n",
    "!pip show mysqlclient"
   ]
  },
  {
   "cell_type": "code",
   "execution_count": null,
   "id": "a5727f38-03df-41e5-94d4-c5fcdad48af6",
   "metadata": {},
   "outputs": [],
   "source": [
    "import csv\n",
    "import MySQLdb  # mysql, mariadb 연동모듈\n",
    "from datetime import datetime, date\n",
    "\n",
    "print(dir(MySQLdb))"
   ]
  },
  {
   "cell_type": "markdown",
   "id": "1e6b0ceb-bd56-4a4c-991e-9f9ac3f1ff97",
   "metadata": {},
   "source": [
    "#### 1. MySQL 연동\n",
    "##### 1. 레코드조회하기"
   ]
  },
  {
   "cell_type": "code",
   "execution_count": null,
   "id": "b02700e5-5e39-4fca-8fa2-70f2d1868887",
   "metadata": {},
   "outputs": [],
   "source": [
    "# mysql(3306) or mariadb(3307) 연결\n",
    "conn = MySQLdb.connect(host=\"localhost\", port=3307, db='mysuppliers', user='root', password='12345')\n",
    "print(dir(conn))\n",
    "print()\n",
    "# conn.cursor?\n",
    "cursor = conn.cursor()\n",
    "print(dir(cursor))\n",
    "print()\n",
    "\n",
    "# sql\n",
    "sql = 'select * from suppliers'\n",
    "cursor.execute(sql)\n",
    "suppliers = cursor.fetchall()\n",
    "\n",
    "for supplier in suppliers:\n",
    "    output = []\n",
    "    for i in range(len(supplier)):\n",
    "        output.append(str(supplier[i]))\n",
    "    print(output)\n",
    "\n",
    "cursor.close()\n",
    "conn.close()    "
   ]
  },
  {
   "cell_type": "code",
   "execution_count": null,
   "id": "0aa5b081-cc83-4ad6-999b-16f5114a7a89",
   "metadata": {},
   "outputs": [],
   "source": [
    "# 1. csv파일을 읽어서 suppliers에 insert하기\n",
    "\n",
    "# 1) db접속\n",
    "conn = MySQLdb.connect(host=\"localhost\", port=3307, db='mysuppliers', user='root', password='12345')\n",
    "cursor = conn.cursor()\n",
    "\n",
    "# 2) csv파일 읽기\n",
    "f_name = './data/suppliers.csv'\n",
    "f_reader = csv.reader(open(f_name, 'r'), delimiter=',')\n",
    "print(type(f_reader), f_reader)\n",
    "\n",
    "# 3) header 처리\n",
    "header = next(f_reader)\n",
    "print(type(header), header)\n",
    "\n",
    "for row in f_reader:\n",
    "    # print(type(row), row)\n",
    "    data = []\n",
    "    for i in range(len(header)):\n",
    "        if i<4: # Purchase Date(idx=4)\n",
    "            data.append(str(row[i].replace(',','')).strip())\n",
    "        else:\n",
    "            # strptime(문자열, 형식)\n",
    "            # strftime() : 날짜를 문자열로 변환함수\n",
    "            p_date = datetime.date(datetime.strptime(str(row[i]), '%Y-%m-%d'))\n",
    "            p_date = p_date.strftime('%Y-%m-%d')\n",
    "            data.append(p_date)\n",
    "    print(data)\n",
    "    cursor.execute('insert into suppliers values(%s,%s,%s,%s,%s)', data)                           \n",
    "\n",
    "cursor.close()\n",
    "conn.commit()\n",
    "conn.close()"
   ]
  },
  {
   "cell_type": "code",
   "execution_count": null,
   "id": "b5818666-de7d-430b-b0b4-d03242888c1a",
   "metadata": {},
   "outputs": [],
   "source": [
    "# 2. suppliers를 읽어서 출력해보기\n",
    "conn = MySQLdb.connect(host=\"localhost\", port=3307, db='mysuppliers', user='root', password='12345')\n",
    "cursor = conn.cursor()\n",
    "sql = 'select * from suppliers'\n",
    "\n",
    "cursor.execute(sql)\n",
    "suppliers = cursor.fetchall()\n",
    "\n",
    "for supplier in suppliers:\n",
    "    output = []\n",
    "    for i in range(len(supplier)):\n",
    "        output.append(str(supplier[i]))\n",
    "    print(output)\n",
    "\n",
    "cursor.close()\n",
    "conn.close()   "
   ]
  },
  {
   "cell_type": "code",
   "execution_count": null,
   "id": "8e6f4b7f-a772-46a3-9948-a2e53fec0dff",
   "metadata": {},
   "outputs": [],
   "source": [
    "# 3. supplier name이 A인 자료만 수정\n",
    "# cursor.exeecute(update-sql, (150, '오늘날짜', A))\n",
    "conn = MySQLdb.connect(host=\"localhost\", port=3307, db='mysuppliers', user='root', password='12345')\n",
    "cursor = conn.cursor()\n",
    "sql = 'update suppliers set cost=%s, purchase_date=%s where supplier_name = %s'\n",
    "cursor.execute(sql, (150, '2024-03-22', 'A'))\n",
    "conn.commit()\n",
    "               \n",
    "sql = 'select * from suppliers'\n",
    "\n",
    "cursor.execute(sql)\n",
    "suppliers = cursor.fetchall()\n",
    "\n",
    "for supplier in suppliers:\n",
    "    output = []\n",
    "    for i in range(len(supplier)):\n",
    "        output.append(str(supplier[i]))\n",
    "    print(output)\n",
    "\n",
    "cursor.close()\n",
    "conn.close()   "
   ]
  },
  {
   "cell_type": "code",
   "execution_count": null,
   "id": "a3bc3c9f-e5de-436a-a3fe-a447a49a45ed",
   "metadata": {},
   "outputs": [],
   "source": [
    "# 4. supplier name이 C인 자료만 삭제\n",
    "conn = MySQLdb.connect(host=\"localhost\", port=3307, db='mysuppliers', user='root', password='12345')\n",
    "cursor = conn.cursor()\n",
    "sql = 'delete from suppliers where supplier_name = %s'\n",
    "cursor.execute(sql, ('C',))\n",
    "conn.commit()\n",
    "\n",
    "sql = 'select * from suppliers'\n",
    "cursor.execute(sql)\n",
    "suppliers = cursor.fetchall()\n",
    "\n",
    "for supplier in suppliers:\n",
    "    output = []\n",
    "    for i in range(len(supplier)):\n",
    "        output.append(str(supplier[i]))\n",
    "    print(output)\n",
    "\n",
    "cursor.close()\n",
    "conn.close()  "
   ]
  },
  {
   "cell_type": "code",
   "execution_count": null,
   "id": "e203bf76-2187-40a4-989b-40a42a5edb74",
   "metadata": {},
   "outputs": [],
   "source": [
    "# 5. csv파일 출력하기\n",
    "conn = MySQLdb.connect(host=\"localhost\", port=3307, db='mysuppliers', user='root', password='12345')\n",
    "cursor = conn.cursor()\n",
    "cursor.execute('select * from suppliers where cost > 150')\n",
    "rows = cursor.fetchall()\n",
    "\n",
    "o_file = './data/suppliers_output.csv'\n",
    "with open(o_file, 'w', newline='') as f:\n",
    "    fw = csv.writer(f)  # empty file\n",
    "\n",
    "    # 제목행\n",
    "    header = ['Supplier Name', ' Invoice Number', ' Part Number', ' Cost', ' Purchase Date']\n",
    "    fw.writerow(header)\n",
    "\n",
    "    for row in rows:\n",
    "        fw.writerow(row)\n",
    "\n",
    "cursor.close()\n",
    "conn.close()"
   ]
  },
  {
   "cell_type": "markdown",
   "id": "116db8de-927e-47d6-ad5f-313cc3a33540",
   "metadata": {},
   "source": [
    "### B. Oracle\n",
    "\n",
    "#### 1. oracle package\n",
    ">* python -m pip install cx_Oracle --upgrade\n",
    ">* cx_Oracle패키지가 python-oracledb로 변경\n",
    ">* https://oracle.github.io/python-cx_Oracle\n",
    "\n",
    "#### python package repository\n",
    "* https://pypi.org\n",
    "\n",
    "#### 2. scott에 table생성\n",
    "\n",
    "```sql\n",
    "create table product(\n",
    "    product_id number,\n",
    "    product_name varchar2(50),\n",
    "    price number default 0,\n",
    "    decription clob,\n",
    "    picture_url varchar2(500),\n",
    "    primary key(product_id)\n",
    ");\n",
    "\n",
    "insert into product select 1, '레몬', 1500, '레몬에 포함된 구연산은 피로회복에... ', 'lemon.jpg' from dual;\n",
    "insert into product select 2, '오렌지', 2000, '오렌지에 포함된 구연산은 피로회복에. ', 'orange.jpg' from dual;\n",
    "insert into product select 3, '키위', 2500, '키위에 포함된 구연산은 피로회복에... ', 'kiwi.jpg' from dual;\n",
    "insert into product select 4, '포도', 3000, '포도에 포함된 구연산은 피로회복에... ', 'grape.jpg' from dual;\n",
    "\n",
    "commit;\n",
    "```"
   ]
  },
  {
   "cell_type": "code",
   "execution_count": null,
   "id": "a9d19491-8e52-418c-9376-ee9013e25756",
   "metadata": {
    "scrolled": true
   },
   "outputs": [],
   "source": [
    "!python -m pip install cx_Oracle --upgrade"
   ]
  },
  {
   "cell_type": "code",
   "execution_count": 16,
   "id": "b2b182d8-9de9-4dd2-bd3d-7bd3c76596be",
   "metadata": {},
   "outputs": [
    {
     "name": "stdout",
     "output_type": "stream",
     "text": [
      "['ATTR_PURITY_DEFAULT', 'ATTR_PURITY_NEW', 'ATTR_PURITY_SELF', 'ApiType', 'BFILE', 'BINARY', 'BLOB', 'BOOLEAN', 'Binary', 'CLOB', 'CURSOR', 'Connection', 'Cursor', 'DATETIME', 'DBSHUTDOWN_ABORT', 'DBSHUTDOWN_FINAL', 'DBSHUTDOWN_IMMEDIATE', 'DBSHUTDOWN_TRANSACTIONAL', 'DBSHUTDOWN_TRANSACTIONAL_LOCAL', 'DB_TYPE_BFILE', 'DB_TYPE_BINARY_DOUBLE', 'DB_TYPE_BINARY_FLOAT', 'DB_TYPE_BINARY_INTEGER', 'DB_TYPE_BLOB', 'DB_TYPE_BOOLEAN', 'DB_TYPE_CHAR', 'DB_TYPE_CLOB', 'DB_TYPE_CURSOR', 'DB_TYPE_DATE', 'DB_TYPE_INTERVAL_DS', 'DB_TYPE_INTERVAL_YM', 'DB_TYPE_JSON', 'DB_TYPE_LONG', 'DB_TYPE_LONG_RAW', 'DB_TYPE_NCHAR', 'DB_TYPE_NCLOB', 'DB_TYPE_NUMBER', 'DB_TYPE_NVARCHAR', 'DB_TYPE_OBJECT', 'DB_TYPE_RAW', 'DB_TYPE_ROWID', 'DB_TYPE_TIMESTAMP', 'DB_TYPE_TIMESTAMP_LTZ', 'DB_TYPE_TIMESTAMP_TZ', 'DB_TYPE_VARCHAR', 'DEFAULT_AUTH', 'DEQ_BROWSE', 'DEQ_FIRST_MSG', 'DEQ_IMMEDIATE', 'DEQ_LOCKED', 'DEQ_NEXT_MSG', 'DEQ_NEXT_TRANSACTION', 'DEQ_NO_WAIT', 'DEQ_ON_COMMIT', 'DEQ_REMOVE', 'DEQ_REMOVE_NODATA', 'DEQ_WAIT_FOREVER', 'DataError', 'DatabaseError', 'Date', 'DateFromTicks', 'DbType', 'DeqOptions', 'ENQ_IMMEDIATE', 'ENQ_ON_COMMIT', 'EVENT_AQ', 'EVENT_DEREG', 'EVENT_NONE', 'EVENT_OBJCHANGE', 'EVENT_QUERYCHANGE', 'EVENT_SHUTDOWN', 'EVENT_SHUTDOWN_ANY', 'EVENT_STARTUP', 'EnqOptions', 'Error', 'FIXED_CHAR', 'FIXED_NCHAR', 'INTERVAL', 'IntegrityError', 'InterfaceError', 'InternalError', 'LOB', 'LONG_BINARY', 'LONG_STRING', 'MSG_BUFFERED', 'MSG_EXPIRED', 'MSG_NO_DELAY', 'MSG_NO_EXPIRATION', 'MSG_PERSISTENT', 'MSG_PERSISTENT_OR_BUFFERED', 'MSG_PROCESSED', 'MSG_READY', 'MSG_WAITING', 'MessageProperties', 'NATIVE_FLOAT', 'NATIVE_INT', 'NCHAR', 'NCLOB', 'NUMBER', 'NotSupportedError', 'OBJECT', 'OPCODE_ALLOPS', 'OPCODE_ALLROWS', 'OPCODE_ALTER', 'OPCODE_DELETE', 'OPCODE_DROP', 'OPCODE_INSERT', 'OPCODE_UPDATE', 'Object', 'ObjectType', 'OperationalError', 'PRELIM_AUTH', 'ProgrammingError', 'ROWID', 'SPOOL_ATTRVAL_FORCEGET', 'SPOOL_ATTRVAL_NOWAIT', 'SPOOL_ATTRVAL_TIMEDWAIT', 'SPOOL_ATTRVAL_WAIT', 'STRING', 'SUBSCR_GROUPING_CLASS_TIME', 'SUBSCR_GROUPING_TYPE_LAST', 'SUBSCR_GROUPING_TYPE_SUMMARY', 'SUBSCR_NAMESPACE_AQ', 'SUBSCR_NAMESPACE_DBCHANGE', 'SUBSCR_PROTO_HTTP', 'SUBSCR_PROTO_MAIL', 'SUBSCR_PROTO_OCI', 'SUBSCR_PROTO_SERVER', 'SUBSCR_QOS_BEST_EFFORT', 'SUBSCR_QOS_DEREG_NFY', 'SUBSCR_QOS_QUERY', 'SUBSCR_QOS_RELIABLE', 'SUBSCR_QOS_ROWIDS', 'SYSASM', 'SYSBKP', 'SYSDBA', 'SYSDGD', 'SYSKMT', 'SYSOPER', 'SYSRAC', 'SessionPool', 'SodaCollection', 'SodaDatabase', 'SodaDoc', 'SodaDocCursor', 'SodaOperation', 'TIMESTAMP', 'Time', 'TimeFromTicks', 'Timestamp', 'TimestampFromTicks', 'Var', 'Warning', '_Error', '__doc__', '__file__', '__future__', '__loader__', '__name__', '__package__', '__spec__', '__version__', 'apilevel', 'buildtime', 'clientversion', 'connect', 'init_oracle_client', 'makedsn', 'paramstyle', 'threadsafety', 'version']\n"
     ]
    }
   ],
   "source": [
    "import cx_Oracle\n",
    "print(dir(cx_Oracle))"
   ]
  },
  {
   "cell_type": "code",
   "execution_count": 19,
   "id": "9f0154d2-240a-4637-a6cd-2e9af4da5af9",
   "metadata": {},
   "outputs": [],
   "source": [
    "# 1. 여러건 추가\n",
    "dsn = cx_Oracle.makedsn('localhost', 1521, 'xe')\n",
    "conn = cx_Oracle.connect('scott', 'tiger', dsn)\n",
    "cursor = conn.cursor()\n",
    "\n",
    "items = [\n",
    "    (5, '레몬', 1500, '레몬에 포함된 구연산은 피로회복에... ', 'lemon.jpg'),\n",
    "    (6, '오렌지', 2000, '오렌지에 포함된 구연산은 피로회복에. ', 'orange.jpg'),\n",
    "    (7, '키위', 2500, '키위에 포함된 구연산은 피로회복에... ', 'kiwi.jpg'),\n",
    "    (8, '포도', 3000, '포도에 포함된 구연산은 피로회복에... ', 'grape.jpg')    \n",
    "]\n",
    "\n",
    "sql = 'insert into product values(:1, :2, :3, :4, :5)'\n",
    "\n",
    "for item in items:\n",
    "    cursor.execute(sql, item)\n",
    "\n",
    "conn.commit()\n",
    "# cursor.close()\n",
    "conn.close()"
   ]
  },
  {
   "cell_type": "code",
   "execution_count": 22,
   "id": "ca4c9caa-f35c-44c0-b4ff-e2aef1a2532b",
   "metadata": {},
   "outputs": [
    {
     "name": "stdout",
     "output_type": "stream",
     "text": [
      "<class 'tuple'> (1, '레몬', 1500, <cx_Oracle.LOB object at 0x00000139BCC3F090>, 'lemon.jpg')\n",
      "<class 'tuple'> (2, '오렌지', 2000, <cx_Oracle.LOB object at 0x00000139BCB53540>, 'orange.jpg')\n",
      "<class 'tuple'> (3, '키위', 2500, <cx_Oracle.LOB object at 0x00000139BCC3F090>, 'kiwi.jpg')\n",
      "<class 'tuple'> (4, '포도', 3000, <cx_Oracle.LOB object at 0x00000139BCB53540>, 'grape.jpg')\n",
      "<class 'tuple'> (5, '레몬', 1500, <cx_Oracle.LOB object at 0x00000139BCC3F090>, 'lemon.jpg')\n",
      "<class 'tuple'> (6, '오렌지', 2000, <cx_Oracle.LOB object at 0x00000139BCB53540>, 'orange.jpg')\n",
      "<class 'tuple'> (7, '키위', 2500, <cx_Oracle.LOB object at 0x00000139BCC3F090>, 'kiwi.jpg')\n",
      "<class 'tuple'> (8, '포도', 3000, <cx_Oracle.LOB object at 0x00000139BCB53540>, 'grape.jpg')\n",
      "\n",
      "1 레몬 1500 레몬에 포함된 구연산은 피로회복에...  lemon.jpg\n",
      "2 오렌지 2000 오렌지에 포함된 구연산은 피로회복에.  orange.jpg\n",
      "3 키위 2500 키위에 포함된 구연산은 피로회복에...  kiwi.jpg\n",
      "4 포도 3000 포도에 포함된 구연산은 피로회복에...  grape.jpg\n",
      "5 레몬 1500 레몬에 포함된 구연산은 피로회복에...  lemon.jpg\n",
      "6 오렌지 2000 오렌지에 포함된 구연산은 피로회복에.  orange.jpg\n",
      "7 키위 2500 키위에 포함된 구연산은 피로회복에...  kiwi.jpg\n",
      "8 포도 3000 포도에 포함된 구연산은 피로회복에...  grape.jpg\n",
      "\n",
      "레몬에 포함된 구연산은 피로회복에... \n",
      "오렌지에 포함된 구연산은 피로회복에. \n",
      "키위에 포함된 구연산은 피로회복에... \n",
      "포도에 포함된 구연산은 피로회복에... \n",
      "레몬에 포함된 구연산은 피로회복에... \n",
      "오렌지에 포함된 구연산은 피로회복에. \n",
      "키위에 포함된 구연산은 피로회복에... \n",
      "포도에 포함된 구연산은 피로회복에... \n",
      "\n"
     ]
    }
   ],
   "source": [
    "# 2. select(1)\n",
    "dsn = cx_Oracle.makedsn('localhost', 1521, 'xe')\n",
    "conn = cx_Oracle.connect('scott', 'tiger', dsn)\n",
    "cursor = conn.cursor()\n",
    "\n",
    "sql = 'select * from product order by product_id'\n",
    "cursor.execute(sql)\n",
    "\n",
    "for row in cursor:\n",
    "    # clob필드는 어떻게 처리되는지?\n",
    "    print(type(row), row)\n",
    "print()\n",
    "\n",
    "cursor.execute(sql)\n",
    "for row in cursor:\n",
    "    print(row[0],row[1],row[2],row[3],row[4], end='\\n')\n",
    "print()\n",
    "\n",
    "cursor.execute(sql)\n",
    "for row in cursor:\n",
    "    # clob필드를 읽는 방법\n",
    "    print(row[3].read())\n",
    "print()\n",
    "\n",
    "cursor.close()\n",
    "conn.close()"
   ]
  },
  {
   "cell_type": "code",
   "execution_count": 25,
   "id": "1ff718fe-173b-454c-9160-5a1f3e31b328",
   "metadata": {},
   "outputs": [
    {
     "name": "stdout",
     "output_type": "stream",
     "text": [
      "<class 'list'> [(1, '레몬', 1500, <cx_Oracle.LOB object at 0x00000139BCE216B0>, 'lemon.jpg'), (2, '오렌지', 2000, <cx_Oracle.LOB object at 0x00000139BCE219B0>, 'orange.jpg'), (3, '키위', 2500, <cx_Oracle.LOB object at 0x00000139BCC237B0>, 'kiwi.jpg'), (4, '포도', 3000, <cx_Oracle.LOB object at 0x00000139BCC234B0>, 'grape.jpg'), (5, '레몬', 1500, <cx_Oracle.LOB object at 0x00000139BCC23960>, 'lemon.jpg'), (6, '오렌지', 2000, <cx_Oracle.LOB object at 0x00000139BCC22CD0>, 'orange.jpg'), (7, '키위', 2500, <cx_Oracle.LOB object at 0x00000139BCC23900>, 'kiwi.jpg'), (8, '포도', 3000, <cx_Oracle.LOB object at 0x00000139BCC23480>, 'grape.jpg')]\n",
      "\n",
      "(1, '레몬', 1500, <cx_Oracle.LOB object at 0x00000139BCE216B0>, 'lemon.jpg')\n",
      "... 레몬에 포함된 구연산은 피로회복에... \n",
      "(2, '오렌지', 2000, <cx_Oracle.LOB object at 0x00000139BCE219B0>, 'orange.jpg')\n",
      "... 오렌지에 포함된 구연산은 피로회복에. \n",
      "(3, '키위', 2500, <cx_Oracle.LOB object at 0x00000139BCC237B0>, 'kiwi.jpg')\n",
      "... 키위에 포함된 구연산은 피로회복에... \n",
      "(4, '포도', 3000, <cx_Oracle.LOB object at 0x00000139BCC234B0>, 'grape.jpg')\n",
      "... 포도에 포함된 구연산은 피로회복에... \n",
      "(5, '레몬', 1500, <cx_Oracle.LOB object at 0x00000139BCC23960>, 'lemon.jpg')\n",
      "... 레몬에 포함된 구연산은 피로회복에... \n",
      "(6, '오렌지', 2000, <cx_Oracle.LOB object at 0x00000139BCC22CD0>, 'orange.jpg')\n",
      "... 오렌지에 포함된 구연산은 피로회복에. \n",
      "(7, '키위', 2500, <cx_Oracle.LOB object at 0x00000139BCC23900>, 'kiwi.jpg')\n",
      "... 키위에 포함된 구연산은 피로회복에... \n",
      "(8, '포도', 3000, <cx_Oracle.LOB object at 0x00000139BCC23480>, 'grape.jpg')\n",
      "... 포도에 포함된 구연산은 피로회복에... \n"
     ]
    }
   ],
   "source": [
    "# 2. select(2) - 전체 조회후 list로 저장\n",
    "dsn = cx_Oracle.makedsn('localhost', 1521, 'xe')\n",
    "conn = cx_Oracle.connect('scott', 'tiger', dsn)\n",
    "cursor = conn.cursor()\n",
    "\n",
    "sql = 'select * from product order by product_id'\n",
    "cursor.execute(sql)\n",
    "\n",
    "rows = cursor.fetchall() # list로 리턴\n",
    "print(type(rows), rows)\n",
    "print()\n",
    "\n",
    "for row in rows:\n",
    "    desc = row[3].read()\n",
    "    print(row)\n",
    "    print(f'... {desc}')\n",
    "\n",
    "cursor.close()\n",
    "conn.close()"
   ]
  },
  {
   "cell_type": "code",
   "execution_count": 26,
   "id": "e1fd204e-814e-4062-9451-484707e66a24",
   "metadata": {},
   "outputs": [
    {
     "name": "stdout",
     "output_type": "stream",
     "text": [
      "<class 'tuple'> (8,)\n"
     ]
    }
   ],
   "source": [
    "# select(3) - fetchone\n",
    "dsn = cx_Oracle.makedsn('localhost', 1521, 'xe')\n",
    "conn = cx_Oracle.connect('scott', 'tiger', dsn)\n",
    "cursor = conn.cursor()\n",
    "\n",
    "sql = 'select count(*) from product'\n",
    "cursor.execute(sql)\n",
    "count = cursor.fetchone()\n",
    "print(type(count), count)\n",
    "\n",
    "cursor.close()\n",
    "conn.close()"
   ]
  },
  {
   "cell_type": "code",
   "execution_count": 29,
   "id": "21aa9358-09ea-4559-ab43-d1e0fe30c750",
   "metadata": {},
   "outputs": [],
   "source": [
    "# 4. update\n",
    "dsn = cx_Oracle.makedsn('localhost', 1521, 'xe')\n",
    "conn = cx_Oracle.connect('scott', 'tiger', dsn)\n",
    "cursor = conn.cursor()\n",
    "\n",
    "sql = 'update product set procuct_name = :1 where product_id = :2'\n",
    "cursor.execute(sql, ('사과', 6))\n",
    "conn.commit()\n",
    "\n",
    "cursor.close()\n",
    "conn.close()"
   ]
  },
  {
   "cell_type": "code",
   "execution_count": 31,
   "id": "308275d3-668b-4fe3-8691-34a139b3d65b",
   "metadata": {},
   "outputs": [],
   "source": [
    "# 5. delete\n",
    "dsn = cx_Oracle.makedsn('localhost', 1521, 'xe')\n",
    "conn = cx_Oracle.connect('scott', 'tiger', dsn)\n",
    "cursor = conn.cursor()\n",
    "\n",
    "cursor.execute('delete from product')\n",
    "conn.commit()\n",
    "\n",
    "cursor.close()\n",
    "conn.close()"
   ]
  },
  {
   "cell_type": "markdown",
   "id": "36f9c6d5-659c-4600-850c-b19c7187d0a0",
   "metadata": {},
   "source": [
    "### C. SQLite\n",
    "* 파일기반 소용량의 데이터베이스 시스템\n",
    "* 공식사이트 : http://sqlite.com\n",
    "* 개발자\n",
    "  - 리차드 힙이 2008.8월에 발표(C로 개발)\n",
    "  - 최신버전 : 3.45.2 (2024-03-12)\n",
    "* SQLite의 개요\n",
    "  - 파일기반 RDMBS, 저메모리, 빠른 속도\n",
    "  - Open Source\n",
    "  - 별도의 DB서버가 없어도 쉽고 빠르게 사용할 수 있는 `embeded SQL DB엔진`\n",
    "  - 언드로이드, 아이폰등 스마트기기의 내장DB로 많이 사용된다.\n",
    "  - `표준SQL을 지원`\n",
    " \n",
    "* SQLite에서 지원되지 않는 기능\n",
    "  - https://www.sqlite.com/omitted.html\n",
    "* SQLite 클라이언트 tool\n",
    "  - http://www.sqliteexpert.com\n",
    "  - personal edition 64bit download and install\n",
    "* python에서 `SQLite3은 파이썬의 표준라이브러리이기 때문에 별도 설치 없이도 사용`할 수 있다."
   ]
  },
  {
   "cell_type": "code",
   "execution_count": 1,
   "id": "531dcd7a-a57a-4e69-bb8d-83e34d60bc9c",
   "metadata": {},
   "outputs": [
    {
     "name": "stdout",
     "output_type": "stream",
     "text": [
      "sqlite3 모듈 버전 : 2.6.0\n",
      "sqlite3 DB 버전 : 3.41.2\n"
     ]
    },
    {
     "data": {
      "text/plain": [
       "(3, 41, 2)"
      ]
     },
     "execution_count": 1,
     "metadata": {},
     "output_type": "execute_result"
    }
   ],
   "source": [
    "import sqlite3\n",
    "print(f'sqlite3 모듈 버전 : {sqlite3.version}')\n",
    "print(f'sqlite3 DB 버전 : {sqlite3.sqlite_version}')\n",
    "sqlite3.sqlite_version_info"
   ]
  },
  {
   "cell_type": "markdown",
   "id": "b1f25b64-3224-4b67-8f34-42f04f7570c5",
   "metadata": {},
   "source": [
    "#### 1. table 생성"
   ]
  },
  {
   "cell_type": "code",
   "execution_count": 2,
   "id": "f62a5523-b755-40c0-ada1-daea578b6559",
   "metadata": {},
   "outputs": [],
   "source": [
    "def create_table(table):\n",
    "    # db connection\n",
    "    # 해당폴더에 db가 없으면 connection할 때 자동으로 생성\n",
    "    conn = sqlite3.connect('./data/mybook.db')\n",
    "    cursor = conn.cursor()\n",
    "\n",
    "    # 테이블생성\n",
    "    # 제목, 출판일, 출판사, 페이지수, 추천여부\n",
    "    cursor.execute(f'''\n",
    "        create table if not exists {table} (\n",
    "              title            text\n",
    "            , published_date   text\n",
    "            , publisher        text\n",
    "            , pages            integer\n",
    "            , recommand        integer\n",
    "        )\n",
    "    ''')\n",
    "\n",
    "    conn.commit()\n",
    "    cursor.close()\n",
    "    conn.close()\n",
    "\n",
    "create_table('books')"
   ]
  },
  {
   "cell_type": "markdown",
   "id": "e44e4a6a-d645-48f5-a2e6-c265b8667b75",
   "metadata": {},
   "source": [
    "#### 2. insert"
   ]
  },
  {
   "cell_type": "code",
   "execution_count": 3,
   "id": "86b7f1d4-acad-463a-8f3d-72cdd2414d4a",
   "metadata": {},
   "outputs": [],
   "source": [
    "# 1. 1건 입력\n",
    "def insert_table():\n",
    "    conn = sqlite3.connect('./data/mybook.db')\n",
    "    cursor = conn.cursor()\n",
    "    \n",
    "    cursor.execute('''\n",
    "        insert into books values('Python', '2024-03-22', '이젠', 580, 10)\n",
    "    ''')\n",
    "\n",
    "    conn.commit()\n",
    "    cursor.close()\n",
    "    conn.close()\n",
    "\n",
    "insert_table()"
   ]
  },
  {
   "cell_type": "code",
   "execution_count": 4,
   "id": "2c3e8e5d-a9f5-446c-b80f-3ea642fc1673",
   "metadata": {},
   "outputs": [],
   "source": [
    "# 2. tuple을 이용한 1건 입력\n",
    "def insert_book_1():\n",
    "    conn = sqlite3.connect('./data/mybook.db')\n",
    "    cursor = conn.cursor()\n",
    "    \n",
    "    sql = 'insert into books values(?,?,?,?,?)'\n",
    "    cursor.execute(sql, ('Java', '2024-03-22', '한빛미디어', 400, 5))\n",
    "\n",
    "    conn.commit()\n",
    "    cursor.close()\n",
    "    conn.close()\n",
    "\n",
    "insert_book_1()"
   ]
  },
  {
   "cell_type": "code",
   "execution_count": 5,
   "id": "47a2c252-8df7-4b67-b0d0-d12dffd1c193",
   "metadata": {},
   "outputs": [],
   "source": [
    "# 3. tuple을 이용한 여러 건 입력\n",
    "def insert_book_2():\n",
    "    conn = sqlite3.connect('./data/mybook.db')\n",
    "    cursor = conn.cursor()\n",
    "    \n",
    "    sql = 'insert into books values(?,?,?,?,?)'\n",
    "\n",
    "    # 책의 정보를 저장한 list(요소는 tuple)\n",
    "    books = [\n",
    "        ('Big Data', '2024-03-22', '길벗', 400, 5),\n",
    "        ('ChatBot', '2024-03-22', '제이펍', 400, 5),\n",
    "        ('React.js', '2024-03-22', '교보문고', 400, 5),\n",
    "        ('Node.js', '2024-03-22', '위키북스', 400, 5)\n",
    "    ]\n",
    "\n",
    "    # 여러건 executemany()\n",
    "    cursor.executemany(sql, books)\n",
    "         \n",
    "    conn.commit()\n",
    "    cursor.close()\n",
    "    conn.close()\n",
    "\n",
    "insert_book_2()"
   ]
  },
  {
   "cell_type": "markdown",
   "id": "ef632d3b-d507-46ab-9c5b-007f62e5a543",
   "metadata": {},
   "source": [
    "##### 3. select"
   ]
  },
  {
   "cell_type": "code",
   "execution_count": 6,
   "id": "a2968bf3-3ba1-4cfd-a3d2-5e1d965bb8b5",
   "metadata": {},
   "outputs": [
    {
     "name": "stdout",
     "output_type": "stream",
     "text": [
      "<class 'tuple'> ('Python', '2024-03-22', '이젠', 580, 10)\n",
      "<class 'tuple'> ('Java', '2024-03-22', '한빛미디어', 400, 5)\n",
      "<class 'tuple'> ('Big Data', '2024-03-22', '길벗', 400, 5)\n",
      "<class 'tuple'> ('ChatBot', '2024-03-22', '제이펍', 400, 5)\n",
      "<class 'tuple'> ('React.js', '2024-03-22', '교보문고', 400, 5)\n",
      "<class 'tuple'> ('Node.js', '2024-03-22', '위키북스', 400, 5)\n",
      "<class 'tuple'> ('Python', '2024-03-22', '이젠', 580, 10)\n",
      "<class 'tuple'> ('Java', '2024-03-22', '한빛미디어', 400, 5)\n",
      "<class 'tuple'> ('Big Data', '2024-03-22', '길벗', 400, 5)\n",
      "<class 'tuple'> ('ChatBot', '2024-03-22', '제이펍', 400, 5)\n",
      "<class 'tuple'> ('React.js', '2024-03-22', '교보문고', 400, 5)\n",
      "<class 'tuple'> ('Node.js', '2024-03-22', '위키북스', 400, 5)\n"
     ]
    }
   ],
   "source": [
    "# 1. 전체 도서목록 조회 - fetchall()\n",
    "def all_books():\n",
    "    conn = sqlite3.connect('./data/mybook.db')\n",
    "    cursor = conn.cursor()\n",
    "\n",
    "    sql = 'select * from books'\n",
    "    cursor.execute(sql)\n",
    "\n",
    "    books = cursor.fetchall()\n",
    "\n",
    "    for book in books:\n",
    "        print(type(book), book)\n",
    "    \n",
    "    cursor.close()\n",
    "    conn.close()\n",
    "\n",
    "all_books()"
   ]
  },
  {
   "cell_type": "code",
   "execution_count": 7,
   "id": "02965cd2-3c34-4acf-909b-5134eab7cb20",
   "metadata": {},
   "outputs": [
    {
     "name": "stdout",
     "output_type": "stream",
     "text": [
      "\n",
      "일부자료조회하기\n",
      "------------------------------------------------------------\n",
      "<class 'tuple'> ('Python', '2024-03-22', '이젠', 580, 10)\n",
      "<class 'tuple'> ('Java', '2024-03-22', '한빛미디어', 400, 5)\n",
      "\n",
      "일부자료조회하기\n",
      "------------------------------------------------------------\n",
      "<class 'tuple'> ('Python', '2024-03-22', '이젠', 580, 10)\n",
      "<class 'tuple'> ('Java', '2024-03-22', '한빛미디어', 400, 5)\n",
      "<class 'tuple'> ('Big Data', '2024-03-22', '길벗', 400, 5)\n",
      "<class 'tuple'> ('ChatBot', '2024-03-22', '제이펍', 400, 5)\n",
      "<class 'tuple'> ('React.js', '2024-03-22', '교보문고', 400, 5)\n"
     ]
    }
   ],
   "source": [
    "# 2. 일부자료조회 - fetchmany(n)\n",
    "def some_books(count):\n",
    "    conn = sqlite3.connect('./data/mybook.db')\n",
    "    cursor = conn.cursor()\n",
    "\n",
    "    sql = 'select * from books'\n",
    "    cursor.execute(sql)\n",
    "\n",
    "    # 일부자료 fetchmany(number) : number갯수만큼 리턴\n",
    "    print('\\n일부자료조회하기')\n",
    "    print('-'*60)\n",
    "\n",
    "    books = cursor.fetchmany(count)\n",
    "\n",
    "    for book in books:\n",
    "        print(type(book), book)\n",
    "    \n",
    "    cursor.close()\n",
    "    conn.close()\n",
    "\n",
    "some_books(2)\n",
    "some_books(5)"
   ]
  },
  {
   "cell_type": "code",
   "execution_count": 8,
   "id": "0127f444-c823-4515-a104-e7ef92a01afa",
   "metadata": {},
   "outputs": [
    {
     "name": "stdout",
     "output_type": "stream",
     "text": [
      "\n",
      "일부자료조회하기\n",
      "------------------------------------------------------------\n",
      "<class 'str'> Python\n",
      "<class 'str'> 2024-03-22\n",
      "<class 'str'> 이젠\n",
      "<class 'int'> 580\n",
      "<class 'int'> 10\n"
     ]
    }
   ],
   "source": [
    "# 3. 한 개의 자료만 조회 - fetchone()\n",
    "def one_book():\n",
    "    conn = sqlite3.connect('./data/mybook.db')\n",
    "    cursor = conn.cursor()\n",
    "\n",
    "    sql = 'select * from books'\n",
    "    cursor.execute(sql)\n",
    "    \n",
    "    # 한 개의 자료 fetchone()\n",
    "    print('\\n일부자료조회하기')\n",
    "    print('-'*60)\n",
    "\n",
    "    book = cursor.fetchone()\n",
    "    # print(type(book), book, '\\n')\n",
    "    \n",
    "    for col in book:\n",
    "        print(type(col), col)\n",
    "    \n",
    "    cursor.close()\n",
    "    conn.close()\n",
    "    \n",
    "one_book()"
   ]
  },
  {
   "cell_type": "code",
   "execution_count": 9,
   "id": "df12b2b8-b0f3-401e-b998-b0abed5f910c",
   "metadata": {},
   "outputs": [
    {
     "name": "stdout",
     "output_type": "stream",
     "text": [
      "페이지수가 300보다 큰 책 조회하기\n",
      "------------------------------------------------------------\n",
      "('Python', '2024-03-22', '이젠', 580, 10)\n",
      "('Java', '2024-03-22', '한빛미디어', 400, 5)\n",
      "('Big Data', '2024-03-22', '길벗', 400, 5)\n",
      "('ChatBot', '2024-03-22', '제이펍', 400, 5)\n",
      "('React.js', '2024-03-22', '교보문고', 400, 5)\n",
      "('Node.js', '2024-03-22', '위키북스', 400, 5)\n",
      "('Python', '2024-03-22', '이젠', 580, 10)\n",
      "('Java', '2024-03-22', '한빛미디어', 400, 5)\n",
      "('Big Data', '2024-03-22', '길벗', 400, 5)\n",
      "('ChatBot', '2024-03-22', '제이펍', 400, 5)\n",
      "('React.js', '2024-03-22', '교보문고', 400, 5)\n",
      "('Node.js', '2024-03-22', '위키북스', 400, 5)\n"
     ]
    }
   ],
   "source": [
    "# 4. 조건별 조회 : page > 500\n",
    "def big_books(pages):\n",
    "    conn = sqlite3.connect('./data/mybook.db')\n",
    "    cursor = conn.cursor()\n",
    "\n",
    "    sql = f'select * from books where pages > {pages}'  # + str(pages)\n",
    "    cursor.execute(sql)\n",
    "\n",
    "    print(f'페이지수가 {pages}보다 큰 책 조회하기')\n",
    "    print('-'*60)\n",
    "\n",
    "    books = cursor.fetchall()\n",
    "\n",
    "    for book in books:\n",
    "        print(book)\n",
    "        \n",
    "    cursor.close()\n",
    "    conn.close()\n",
    "    \n",
    "big_books(300)"
   ]
  },
  {
   "cell_type": "markdown",
   "id": "7eef6c75-c039-4119-90ea-c8ba300ec22b",
   "metadata": {},
   "source": [
    "#### 4. update"
   ]
  },
  {
   "cell_type": "code",
   "execution_count": 10,
   "id": "ab5c11a2-5ba7-48b1-b855-68427e5c8f9a",
   "metadata": {},
   "outputs": [
    {
     "name": "stdout",
     "output_type": "stream",
     "text": [
      "<class 'tuple'> ('Python', '2024-03-22', '이젠', 680, 5)\n",
      "<class 'tuple'> ('Java', '2024-03-22', '한빛미디어', 400, 5)\n",
      "<class 'tuple'> ('Big Data', '2024-03-22', '길벗', 400, 5)\n",
      "<class 'tuple'> ('ChatBot', '2024-03-22', '제이펍', 400, 5)\n",
      "<class 'tuple'> ('React.js', '2024-03-22', '교보문고', 400, 5)\n",
      "<class 'tuple'> ('Node.js', '2024-03-22', '위키북스', 400, 5)\n",
      "<class 'tuple'> ('Python', '2024-03-22', '이젠', 680, 5)\n",
      "<class 'tuple'> ('Java', '2024-03-22', '한빛미디어', 400, 5)\n",
      "<class 'tuple'> ('Big Data', '2024-03-22', '길벗', 400, 5)\n",
      "<class 'tuple'> ('ChatBot', '2024-03-22', '제이펍', 400, 5)\n",
      "<class 'tuple'> ('React.js', '2024-03-22', '교보문고', 400, 5)\n",
      "<class 'tuple'> ('Node.js', '2024-03-22', '위키북스', 400, 5)\n"
     ]
    }
   ],
   "source": [
    "# 1. Python책의 페이지수를 680, 추천수를 5으로 수정\n",
    "def update_books():\n",
    "    conn = sqlite3.connect('./data/mybook.db')\n",
    "    cursor = conn.cursor()\n",
    "\n",
    "    sql = 'update books set pages=?, recommand=? where title=?'\n",
    "    cursor.execute(sql, (680, 5, 'Python'))\n",
    "\n",
    "    conn.commit()    \n",
    "    cursor.close()\n",
    "    conn.close()\n",
    "    \n",
    "update_books()\n",
    "all_books()"
   ]
  },
  {
   "cell_type": "markdown",
   "id": "c4329add-11e9-4818-aef4-e130d54b436b",
   "metadata": {},
   "source": [
    "#### 5. delete"
   ]
  },
  {
   "cell_type": "code",
   "execution_count": 11,
   "id": "0fd2c492-6bab-49a0-9620-d444702fb212",
   "metadata": {},
   "outputs": [
    {
     "name": "stdout",
     "output_type": "stream",
     "text": [
      "<class 'tuple'> ('Java', '2024-03-22', '한빛미디어', 400, 5)\n",
      "<class 'tuple'> ('Big Data', '2024-03-22', '길벗', 400, 5)\n",
      "<class 'tuple'> ('ChatBot', '2024-03-22', '제이펍', 400, 5)\n",
      "<class 'tuple'> ('React.js', '2024-03-22', '교보문고', 400, 5)\n",
      "<class 'tuple'> ('Node.js', '2024-03-22', '위키북스', 400, 5)\n",
      "<class 'tuple'> ('Java', '2024-03-22', '한빛미디어', 400, 5)\n",
      "<class 'tuple'> ('Big Data', '2024-03-22', '길벗', 400, 5)\n",
      "<class 'tuple'> ('ChatBot', '2024-03-22', '제이펍', 400, 5)\n",
      "<class 'tuple'> ('React.js', '2024-03-22', '교보문고', 400, 5)\n",
      "<class 'tuple'> ('Node.js', '2024-03-22', '위키북스', 400, 5)\n"
     ]
    }
   ],
   "source": [
    "# 2. Python책을 삭제\n",
    "def delete_book():\n",
    "    conn = sqlite3.connect('./data/mybook.db')\n",
    "    cursor = conn.cursor()\n",
    "    \n",
    "    sql = 'delete from books where title=?'\n",
    "    cursor.execute(sql, ('Python',))\n",
    "    \n",
    "    conn.commit()\n",
    "    cursor.close()\n",
    "    conn.close()\n",
    "    \n",
    "delete_book()\n",
    "all_books()"
   ]
  },
  {
   "cell_type": "markdown",
   "id": "a30d2580-4bb6-40ae-becb-456386a55a9c",
   "metadata": {},
   "source": [
    "##### SQLite를 RAM에서 직접사용하기\n",
    "\n",
    "* sqlite을 RAM에서 사용하려면 `:memory:`로 연결하면 된다.\n",
    "* 장점은 RAM에서 실행되기 때문에 처리속도가 빠르다. 하지만\n",
    "* 단점은 휘발성이기 때문에 저장되지 않는다."
   ]
  },
  {
   "cell_type": "code",
   "execution_count": 15,
   "id": "c470ed51-cb64-4937-af22-aea25d2a954b",
   "metadata": {},
   "outputs": [
    {
     "name": "stdout",
     "output_type": "stream",
     "text": [
      "('소향', '배', 9000.0, '2024-03-22')\n",
      "('나얼', '사과', 10000.0, '2024-03-22')\n",
      "('거미', '체리 1kg', 8000.0, '2024-03-22')\n",
      "('효신', '딸기(1kg)', 7000.0, '2024-03-22')\n",
      "총처리건수 = 4\n"
     ]
    }
   ],
   "source": [
    "import sqlite3\n",
    "\n",
    "conn = sqlite3.connect(':memory:')\n",
    "sql = '''\n",
    "    create table if not exists sales(\n",
    "          customer    varchar(20)\n",
    "        , product     varchar(20)\n",
    "        , price       float\n",
    "        , order_date  date\n",
    "    )\n",
    "'''\n",
    "conn.execute(sql)\n",
    "\n",
    "data = [\n",
    "    ('소향', '배', 9000, '2024-03-22'),\n",
    "    ('나얼', '사과', 10000, '2024-03-22'),\n",
    "    ('거미', '체리 1kg', 8000, '2024-03-22'),\n",
    "    ('효신', '딸기(1kg)', 7000, '2024-03-22'),\n",
    "]\n",
    "\n",
    "sql = 'insert into sales values(?,?,?,?)'\n",
    "conn.executemany(sql, data)\n",
    "conn.commit()\n",
    "\n",
    "cursor = conn.execute('select * from sales')\n",
    "rows = cursor.fetchall()\n",
    "\n",
    "count = 0\n",
    "for row in rows:\n",
    "    print(row)\n",
    "    count += 1\n",
    "\n",
    "print(f'총처리건수 = {count}')\n",
    "cursor.close()\n",
    "conn.close()"
   ]
  },
  {
   "cell_type": "markdown",
   "id": "1632b950-6a8f-465e-9287-bfe12a085bc5",
   "metadata": {},
   "source": [
    "##### 연습문제 - 판매관리DB(sqlite, oracle, mariadb)\n",
    "\n",
    "1. ./data/db/mysales.db 라는 db를 생성하세요\n",
    "2. sales 테이블 생성하기\n",
    "   customer varchar(20)\n",
    "   product varchar(20)\n",
    "   price float\n",
    "   date date\n",
    "   함수이름 : create_table_sales()\n",
    "   \n",
    "3. 테이블조회 : show_tables()\n",
    "   1) sqlite_master 시스템테이블\n",
    "   2) type = 'table'\n",
    "   3) for table in tables:\n",
    "\n",
    "4. 데이터추가 : insert_sales()\n",
    "   1) 자료추가 : 리스트 = 테이블, 튜플 = 레코드\n",
    "   2) 4건정도 추가\n",
    "\n",
    "5. 데이터조회 : select_sales()\n",
    "   1) 추가한 데이터 조회"
   ]
  }
 ],
 "metadata": {
  "kernelspec": {
   "display_name": "Python 3 (ipykernel)",
   "language": "python",
   "name": "python3"
  },
  "language_info": {
   "codemirror_mode": {
    "name": "ipython",
    "version": 3
   },
   "file_extension": ".py",
   "mimetype": "text/x-python",
   "name": "python",
   "nbconvert_exporter": "python",
   "pygments_lexer": "ipython3",
   "version": "3.11.7"
  }
 },
 "nbformat": 4,
 "nbformat_minor": 5
}
