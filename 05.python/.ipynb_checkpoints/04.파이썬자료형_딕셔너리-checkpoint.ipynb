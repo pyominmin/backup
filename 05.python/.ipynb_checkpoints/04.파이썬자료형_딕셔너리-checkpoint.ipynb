{
 "cells": [
  {
   "cell_type": "markdown",
   "id": "9a43f53a-216e-4b4e-8f4d-25c9b59a2760",
   "metadata": {},
   "source": [
    "# 딕셔너리(dictionary, dict) 자료형\n",
    "\n",
    "><img src=\"./images/04.파이썬자료형_딕셔너리_01.png\" width=\"300\" height=\"200\" />\n",
    "\n",
    "* 파이썬에서 딕셔너리자료형이란 `key와 value을 한쌍으로 갖는 자료형`이다.\n",
    "* JavaScript에서 map or JSON형태와 유사한 자료형이다.\n",
    "* key와 value와 같은 관계를 `연관배열(Associative array) or 해시(Hash)`라고 한다.\n",
    "* dict자료형은 tuple이나 list처럼 순차적(Sequential)으로 즉, index로 해당요소에 접근하는 것이 아니라\n",
    "* `key를 통해서 value에 접근`할 수 있다.\n",
    "\n",
    "##### dictionary의 특징\n",
    "\n",
    "* 딕셔너리의 선언은 `중괄호{}`로 선언한다.\n",
    ">{key:value,....key:value}\n",
    "* 딕셔너리는 `immutable한 key와 mutable한 value로 맵핑`되어 있는 순서가 없는 자료형이다.\n",
    "* key는 immutable한 값은 사용할 수 있지만, mutable한 객체(list, dict...)는 사용할 수 없다.\n",
    "* value는 중복이 가능하지만 key는 중복불가능하다\n",
    "* 만약, key가 중복이 된다면 마지막에 선언한 value로 덮어 쓴다.\n",
    "* 순서가 없기 때문에 인덱스로는 접근불가, `key로 value에 접근`할 수 있다.\n",
    "* dict는 mutable자료형이기 때문에 key는 수정할 수 없지만 key로 접근해서 값을 수정할 수 있다.\n",
    "\n",
    "## 1. dict의 선언"
   ]
  },
  {
   "cell_type": "code",
   "execution_count": 43,
   "id": "c1dc115d-1b09-468d-8ac7-78f849241470",
   "metadata": {},
   "outputs": [
    {
     "name": "stdout",
     "output_type": "stream",
     "text": [
      "<class 'dict'> {}\n",
      "<class 'dict'> {}\n",
      "<class 'dict'> {1: 100, 2: 200}\n",
      "<class 'dict'> {(1, 2, 3): 100, ('a', 'b'): 200}\n",
      "<class 'dict'> {3.141592: 'PI'}\n",
      "<class 'dict'> {3.141592653589793: 'PI'}\n",
      "<class 'dict'> {'name': '홍길동', 'age': 1000}\n",
      "<class 'dict'> {True: '싫어할까요? 좋아할까요?', False: '싫어요!!'}\n",
      "\n",
      "h[0]에서의 0은 index, 값 = 0\n",
      "i[0]에서의 0은 key, 값 = 100\n",
      "\n",
      "[3.141592653589793] : key가 float일 경우, 값 = PI\n",
      "[math.pi] : key가 float일 경우, 값 = PI\n",
      "['name'] : key가 name문자열일 경우, 값 = 홍길동\n",
      "[True] : key가 boolean일 경우, 값 = 싫어할까요? 좋아할까요?\n"
     ]
    }
   ],
   "source": [
    "# A. key가 immutable인 자료형\n",
    "# 1. 선언하기 - 중괄호 or dict()\n",
    "a = {}\n",
    "b = dict() # 생성자함수 or 변환함수 역할\n",
    "print(type(a), a)\n",
    "print(type(b), b)\n",
    "\n",
    "# 2. 값을 가진 dict\n",
    "c = {1:100, 2:200} # key가 int타입인 1과 2가 있고 value가 int타입인 100과 200\n",
    "print(type(c), c)\n",
    "\n",
    "# 3. key는 immutabl한 자료형으로 선언해야 한다.\n",
    "# d = {[1,2,3]:100, ['a','b']:200} # list는 mutable한 자료형이기 때문에 TypeError\n",
    "# 1) tuple이 key\n",
    "d = {(1,2,3):100, ('a','b'):200}\n",
    "print(type(d), d)\n",
    "\n",
    "# 2) float가 key\n",
    "import math\n",
    "e = {3.141592:'PI'}\n",
    "print(type(e), e)\n",
    "\n",
    "e = {math.pi:'PI'}\n",
    "print(type(e), e)\n",
    "\n",
    "# 3) string이 key\n",
    "f = {'name':'홍길동', 'age':1000}\n",
    "print(type(f), f)\n",
    "\n",
    "# 4) boolean이 key\n",
    "g = {True:'좋아요!!', False:'싫어요!!', True:'싫어할까요? 좋아할까요?'}\n",
    "print(type(g), g)\n",
    "print()\n",
    "\n",
    "# list의 index와 dict의 key화 혼동하지 말 것\n",
    "h = [0,1,2]\n",
    "i = {0:100, 1:200, 3:300}\n",
    "print('h[0]에서의 0은 index, 값 =', h[0])\n",
    "print('i[0]에서의 0은 key, 값 =', i[0])\n",
    "print()\n",
    "\n",
    "print(\"[3.141592653589793] : key가 float일 경우, 값 =\", e[3.141592653589793])\n",
    "print(\"[math.pi] : key가 float일 경우, 값 =\", e[math.pi])\n",
    "print(\"['name'] : key가 name문자열일 경우, 값 =\", f['name'])\n",
    "print(\"[True] : key가 boolean일 경우, 값 =\", g[True])"
   ]
  },
  {
   "cell_type": "code",
   "execution_count": 47,
   "id": "80172531-d74e-40aa-9d2d-0a17da5847fc",
   "metadata": {},
   "outputs": [],
   "source": [
    "# B. key가 mutable일 경우 : \n",
    "# d = {[1,2]:100, [3,4]:200}    # TypeError: unhashable type: 'list'\n",
    "# d = {{1:10}:100, {2:20}:200}  # TypeError: unhashable type: 'dict'\n",
    "# d = {{1,10}:100, {2,20}:200}  # TypeError: unhashable type: 'set' "
   ]
  },
  {
   "cell_type": "code",
   "execution_count": 53,
   "id": "0b4d8855-a530-42a0-ae87-a02c4374db85",
   "metadata": {},
   "outputs": [
    {
     "name": "stdout",
     "output_type": "stream",
     "text": [
      "<class 'dict'> 1 {'name': '나얼'} 나얼\n",
      "<class 'dict'> 1 {'name': '소향'} 소향\n",
      "<class 'dict'> 3 {1: 99, 2: 100, 3: 82} 100\n"
     ]
    }
   ],
   "source": [
    "# C. key가 중복일 경우\n",
    "a = {'name':'소향', 'name':'나얼'}\n",
    "print(type(a), len(a), a, a['name'])\n",
    "\n",
    "a = {'name':'나얼', 'name':'소향'}\n",
    "print(type(a), len(a), a, a['name'])\n",
    "\n",
    "b = {1:99, 2:89, 3:82, 2:100}\n",
    "print(type(b), len(b), b, b[2])"
   ]
  },
  {
   "cell_type": "code",
   "execution_count": 58,
   "id": "c24480d6-6b9a-4dbd-a734-358e0de4a790",
   "metadata": {},
   "outputs": [
    {
     "name": "stdout",
     "output_type": "stream",
     "text": [
      "99 89 82\n",
      "\n",
      "<class 'dict'> {'name': '소향', 'age': 43, 'addr': '인천'}\n",
      "소향 43 인천\n"
     ]
    }
   ],
   "source": [
    "# D. dict에 접근하기\n",
    "a = {1:99, 200:89, 30:82}\n",
    "# print(a[0]) # KeyError: 0\n",
    "print(a[1], a[200], a[30])\n",
    "print()\n",
    "\n",
    "b = {'name':'소향', 'age':43, 'addr':'인천'}\n",
    "print(type(b), b)\n",
    "print(b['name'], b['age'], b['addr'])"
   ]
  },
  {
   "cell_type": "markdown",
   "id": "2c2b4dac-a986-4781-92ed-cac81e4e92b5",
   "metadata": {},
   "source": [
    "### 2. dict 수정/삭제/추가 하기"
   ]
  },
  {
   "cell_type": "code",
   "execution_count": 59,
   "id": "46145e34-edbc-4378-849c-a5d98a87f4ff",
   "metadata": {},
   "outputs": [
    {
     "name": "stdout",
     "output_type": "stream",
     "text": [
      "['__class__', '__class_getitem__', '__contains__', '__delattr__', '__delitem__', '__dir__', '__doc__', '__eq__', '__format__', '__ge__', '__getattribute__', '__getitem__', '__getstate__', '__gt__', '__hash__', '__init__', '__init_subclass__', '__ior__', '__iter__', '__le__', '__len__', '__lt__', '__ne__', '__new__', '__or__', '__reduce__', '__reduce_ex__', '__repr__', '__reversed__', '__ror__', '__setattr__', '__setitem__', '__sizeof__', '__str__', '__subclasshook__', 'clear', 'copy', 'fromkeys', 'get', 'items', 'keys', 'pop', 'popitem', 'setdefault', 'update', 'values']\n"
     ]
    }
   ],
   "source": [
    "print(dir({}))"
   ]
  },
  {
   "cell_type": "code",
   "execution_count": 63,
   "id": "a183f62d-3f6a-418b-9db7-1b06c5cac433",
   "metadata": {},
   "outputs": [
    {
     "name": "stdout",
     "output_type": "stream",
     "text": [
      "소향\n",
      "dict_keys(['name', 'age', 'addr'])\n",
      "dict_values(['소향', 43, '인천'])\n",
      "dict_items([('name', '소향'), ('age', 43), ('addr', '인천')])\n"
     ]
    }
   ],
   "source": [
    "print(b.get('name'))\n",
    "print(b.keys())\n",
    "print(b.values())\n",
    "print(b.items())"
   ]
  },
  {
   "cell_type": "code",
   "execution_count": 75,
   "id": "984d13c8-0d21-48a8-a7c1-99066d7d49e9",
   "metadata": {},
   "outputs": [
    {
     "name": "stdout",
     "output_type": "stream",
     "text": [
      "소향 {1: '소향'}\n",
      "나얼 {1: '소향', 2: '나얼'}\n",
      "거미 {1: '소향', 2: '나얼', 'name': '거미'}\n",
      "('서울', '서초구', '신논현동') {1: '소향', 2: '나얼', 'name': '거미', 'addr': ('서울', '서초구', '신논현동')}\n",
      "<built-in function print> {1: '소향', 2: '나얼', 'name': '거미', 'addr': ('서울', '서초구', '신논현동'), 'fn_print': <built-in function print>}\n",
      "dict에 저장된 print함수를 이용해서 출력하기\n",
      "\n",
      "<class 'builtin_function_or_method'> <built-in function print>\n"
     ]
    }
   ],
   "source": [
    "# 1. 추가하기 : key값이 없는 key에 값을 대입하기\n",
    "a = {1:'소향'}\n",
    "print(a.get(1), a)\n",
    "\n",
    "a[2] = '나얼'\n",
    "print(a.get(2), a)\n",
    "\n",
    "a['name'] = '거미'\n",
    "print(a.get('name'), a)\n",
    "\n",
    "a['addr'] = ('서울', '서초구', '신논현동')\n",
    "print(a.get('addr'), a)\n",
    "\n",
    "a['fn_print'] = print\n",
    "print(a.get('fn_print'), a)\n",
    "\n",
    "a['fn_print']('dict에 저장된 print함수를 이용해서 출력하기')\n",
    "print()\n",
    "\n",
    "print(type(a['fn_print']), a['fn_print'])"
   ]
  },
  {
   "cell_type": "code",
   "execution_count": 79,
   "id": "e11c492f-e935-44b9-bc14-2b9ea04ee714",
   "metadata": {},
   "outputs": [
    {
     "name": "stdout",
     "output_type": "stream",
     "text": [
      "print {1: '소향', 2: '손흥민', 'name': '거미', 'addr': ('서울', '서초구', '신논현동'), 'fn_print': 'print'}\n",
      "<class 'str'> print\n",
      "{1: '소향', 2: '손흥민', 'name': '거미', 'addr': ('서울', '서초구', '신논현동'), 'fn_print': 'print'}\n",
      "{1: '소향', 2: '손흥민', 'name': '거미', 'addr': ('서울', '서초구', '신논현동'), 'fn_print': 'print', 10: '김민재'}\n"
     ]
    }
   ],
   "source": [
    "# 2. 수정하기 : key값이 있을 경우에 값을 대입하기\n",
    "a['fn_print'] = 'print'\n",
    "print(a.get('fn_print'), a)\n",
    "print(type(a['fn_print']), a['fn_print'])\n",
    "\n",
    "a[2] = '손흥민'\n",
    "print(a)\n",
    "\n",
    "a[10] = '김민재'\n",
    "print(a)"
   ]
  },
  {
   "cell_type": "code",
   "execution_count": 81,
   "id": "c1afac86-7584-4f54-90f3-8d9b23bb63e9",
   "metadata": {},
   "outputs": [
    {
     "ename": "KeyError",
     "evalue": "10",
     "output_type": "error",
     "traceback": [
      "\u001b[1;31m---------------------------------------------------------------------------\u001b[0m",
      "\u001b[1;31mKeyError\u001b[0m                                  Traceback (most recent call last)",
      "Cell \u001b[1;32mIn[81], line 3\u001b[0m\n\u001b[0;32m      1\u001b[0m \u001b[38;5;66;03m# 3. 딕셔너리 삭제하기\u001b[39;00m\n\u001b[0;32m      2\u001b[0m \u001b[38;5;66;03m# del명령으로 삭제, 키를 찾지 못했을 경우 에러 발생\u001b[39;00m\n\u001b[1;32m----> 3\u001b[0m \u001b[38;5;28;01mdel\u001b[39;00m a[\u001b[38;5;241m10\u001b[39m]\n\u001b[0;32m      4\u001b[0m \u001b[38;5;28mprint\u001b[39m(a)\n\u001b[0;32m      6\u001b[0m \u001b[38;5;28;01mdel\u001b[39;00m a[\u001b[38;5;241m10\u001b[39m]\n",
      "\u001b[1;31mKeyError\u001b[0m: 10"
     ]
    }
   ],
   "source": [
    "# 3. 딕셔너리 삭제하기\n",
    "# del명령으로 삭제, 키를 찾지 못했을 경우 에러 발생\n",
    "del a[10]\n",
    "print(a)\n",
    "\n",
    "# del a[10] # KeyError: 10"
   ]
  },
  {
   "cell_type": "markdown",
   "id": "970cd432-f639-4a85-9b80-9ebdb54b3523",
   "metadata": {},
   "source": [
    "### 3. 딕셔너리 사용하기\n",
    "\n",
    "* 딕셔너리를 생성할 때 주의할 점\n",
    "  1. key는 고유한 값이어야 하지만 중복 오류는 발생하지 않는다.\n",
    "  2. key에는 mutable한 list는 사용할 수 없지만 immutable한 tuple은 사용할 수 있다."
   ]
  },
  {
   "cell_type": "code",
   "execution_count": 83,
   "id": "222c45dc-24b6-49fc-92ab-bb88f0833240",
   "metadata": {},
   "outputs": [
    {
     "name": "stdout",
     "output_type": "stream",
     "text": [
      "안녕하세요?\n",
      "반갑습니다\n"
     ]
    }
   ],
   "source": [
    "a = {(1,2):'안녕하세요?', ('a', 'x'):'반갑습니다'}\n",
    "print(a[(1,2)])\n",
    "print(a[('a', 'x')])"
   ]
  },
  {
   "cell_type": "markdown",
   "id": "68e8d326-1595-48a4-868f-68aba6f8e8d6",
   "metadata": {},
   "source": [
    "### 4. 딕셔너리관련함수\n",
    "\n",
    "* items()  : key와 value의 목록\n",
    "* keys()   : key의 목록\n",
    "* values() : 값의 목록\n",
    "* get()    : key로 값을 읽기\n",
    "* clear()  : dict전체 삭제\n",
    "* in, not in : 해당 key의 유무를 리턴\n",
    "* update() : 여러개의 값을 일괄로 수정\n",
    "* copy()   : dict를 복사 (얕은 복사)"
   ]
  },
  {
   "cell_type": "code",
   "execution_count": 89,
   "id": "3330ed3e-107a-4585-8804-1e848211f224",
   "metadata": {},
   "outputs": [
    {
     "name": "stdout",
     "output_type": "stream",
     "text": [
      "<class 'dict_keys'> dict_keys(['홍길동', '손흥민', '김민재', '이정후'])\n",
      "['__and__', '__class__', '__contains__', '__delattr__', '__dir__', '__doc__', '__eq__', '__format__', '__ge__', '__getattribute__', '__getstate__', '__gt__', '__hash__', '__init__', '__init_subclass__', '__iter__', '__le__', '__len__', '__lt__', '__ne__', '__new__', '__or__', '__rand__', '__reduce__', '__reduce_ex__', '__repr__', '__reversed__', '__ror__', '__rsub__', '__rxor__', '__setattr__', '__sizeof__', '__str__', '__sub__', '__subclasshook__', '__xor__', 'isdisjoint', 'mapping']\n"
     ]
    },
    {
     "data": {
      "text/plain": [
       "\u001b[1;31mDocstring:\u001b[0m D.keys() -> a set-like object providing a view on D's keys\n",
       "\u001b[1;31mType:\u001b[0m      builtin_function_or_method"
      ]
     },
     "metadata": {},
     "output_type": "display_data"
    }
   ],
   "source": [
    "# 1. keys() : dict의 key를 dict_keys객체로 리턴\n",
    "grade = {\"홍길동\":80,\"손흥민\":100,\"김민재\":98,\"이정후\":89}\n",
    "print(type(grade.keys()), grade.keys()) # dict_keys객체는 list형처럼 사용\n",
    "print(dir(grade.keys()))\n",
    "\n",
    "grade.keys?"
   ]
  },
  {
   "cell_type": "code",
   "execution_count": 91,
   "id": "c4347fe6-8574-4c37-8d43-cacbcc2eee08",
   "metadata": {},
   "outputs": [
    {
     "name": "stdout",
     "output_type": "stream",
     "text": [
      "<class 'dict_values'> dict_values([80, 100, 98, 89])\n",
      "['__class__', '__delattr__', '__dir__', '__doc__', '__eq__', '__format__', '__ge__', '__getattribute__', '__getstate__', '__gt__', '__hash__', '__init__', '__init_subclass__', '__iter__', '__le__', '__len__', '__lt__', '__ne__', '__new__', '__reduce__', '__reduce_ex__', '__repr__', '__reversed__', '__setattr__', '__sizeof__', '__str__', '__subclasshook__', 'mapping']\n"
     ]
    },
    {
     "data": {
      "text/plain": [
       "\u001b[1;31mDocstring:\u001b[0m D.values() -> an object providing a view on D's values\n",
       "\u001b[1;31mType:\u001b[0m      builtin_function_or_method"
      ]
     },
     "metadata": {},
     "output_type": "display_data"
    }
   ],
   "source": [
    "# 2. values : 값목록을 dict_values객체로 리턴\n",
    "print(type(grade.values()), grade.values())\n",
    "print(dir(grade.values())) # dict_values객체는 list처럼 사용한다.\n",
    "\n",
    "grade.values?"
   ]
  },
  {
   "cell_type": "code",
   "execution_count": 98,
   "id": "4bb93852-0178-40d0-bd50-a5d71fc98742",
   "metadata": {},
   "outputs": [
    {
     "name": "stdout",
     "output_type": "stream",
     "text": [
      "<class 'dict_items'> dict_items([('홍길동', 80), ('손흥민', 100), ('김민재', 98), ('이정후', 89)])\n",
      "['__and__', '__class__', '__contains__', '__delattr__', '__dir__', '__doc__', '__eq__', '__format__', '__ge__', '__getattribute__', '__getstate__', '__gt__', '__hash__', '__init__', '__init_subclass__', '__iter__', '__le__', '__len__', '__lt__', '__ne__', '__new__', '__or__', '__rand__', '__reduce__', '__reduce_ex__', '__repr__', '__reversed__', '__ror__', '__rsub__', '__rxor__', '__setattr__', '__sizeof__', '__str__', '__sub__', '__subclasshook__', '__xor__', 'isdisjoint', 'mapping']\n"
     ]
    },
    {
     "data": {
      "text/plain": [
       "\u001b[1;31mDocstring:\u001b[0m D.items() -> a set-like object providing a view on D's items\n",
       "\u001b[1;31mType:\u001b[0m      builtin_function_or_method"
      ]
     },
     "metadata": {},
     "output_type": "display_data"
    }
   ],
   "source": [
    "# 3. items : key와 값을 한쌍의 목록(tuple)으로 dict_items객체(list)로 리턴, \n",
    "print(type(grade.items()), grade.items())\n",
    "print(dir(grade.items())) # dict_items객체는 list처럼 사용한다.\n",
    "grade.items?\n",
    "\n",
    "# 주의할 점\n",
    "a = grade.items()\n",
    "# a[0] # TypeError: 'dict_items' object is not subscriptable\n",
    "# 즉, dict_items는 list형태이지만 list객체가 아니기 때문에 index를 사용할 수 없다."
   ]
  },
  {
   "cell_type": "code",
   "execution_count": 112,
   "id": "2071f64d-c9d9-4d0c-be76-ed2661b72596",
   "metadata": {},
   "outputs": [
    {
     "name": "stdout",
     "output_type": "stream",
     "text": [
      "{'홍길동': 80, '손흥민': 100, '김민재': 98, '이정후': 89}\n",
      "100 = 100\n",
      "None\n",
      "주어진 키를 찾지 못했습니다!\n",
      "\n",
      "100 = 100\n",
      "None\n"
     ]
    }
   ],
   "source": [
    "# 4. get(키) : 주어진 key로 값에 접근\n",
    "# 딕셔너리.get('key') vs 딕셔너리.get('key', default)\n",
    "# 값을 가져오는 기능은 동일하지만 키가 없을 경우에 default선언없이 사용할 경우 기본값인 None을 리턴\n",
    "# default옵션 사용할 경우에는 default옵션의 값을 리턴한다. 기본값 None은 거짓이라는 의미\n",
    "print(grade)\n",
    "print(grade.get('손흥민'), '=', grade.get('손흥민', None)) \n",
    "print(grade.get('이강인'))\n",
    "print(grade.get('이강인', '주어진 키를 찾지 못했습니다!'))\n",
    "print()\n",
    "\n",
    "print(grade['손흥민'], '=', grade.get('손흥민'))\n",
    "print(grade.get('이강인'))\n",
    "# grade['이강인'] # KeyError: '이강인'"
   ]
  },
  {
   "cell_type": "code",
   "execution_count": 115,
   "id": "eecc1d60-7a38-4811-b092-612a04a49896",
   "metadata": {},
   "outputs": [
    {
     "name": "stdout",
     "output_type": "stream",
     "text": [
      "True\n",
      "False\n",
      "\n",
      "False\n",
      "True\n"
     ]
    }
   ],
   "source": [
    "# 5. in, not in : 해당키의 유무를 리턴\n",
    "print('손흥민' in grade)\n",
    "print('이강인' in grade)\n",
    "print()\n",
    "\n",
    "print('손흥민' not in grade)\n",
    "print('이강인' not in grade)"
   ]
  },
  {
   "cell_type": "code",
   "execution_count": 119,
   "id": "b7aecf19-391f-42f9-aba1-f2206c74d9a0",
   "metadata": {},
   "outputs": [
    {
     "name": "stdout",
     "output_type": "stream",
     "text": [
      "{'홍길동': 100, '손흥민': 0, '김민재': 99, '이정후': 100}\n",
      "{'홍길동': 90, '손흥민': 80, '김민재': 85, '이정후': 100}\n",
      "{'홍길동': 100, '손흥민': 80, '김민재': 99, '이정후': 100}\n",
      "{'홍길동': 100, '손흥민': 100, '김민재': 99, '이정후': 99, '이강인': 60}\n"
     ]
    }
   ],
   "source": [
    "# 6. update() : 여러개의 값을 일괄로 수정\n",
    "grade['손흥민'] = 0\n",
    "print(grade)\n",
    "\n",
    "# 일괄로 수정하기\n",
    "grade.update({'홍길동': 90, '손흥민': 80, '김민재': 85, '이정후': 100})\n",
    "print(grade)\n",
    "\n",
    "grade.update({'홍길동': 100, '김민재': 99})\n",
    "print(grade)\n",
    "\n",
    "grade.update({'손흥민': 100, '이정후': 99, '이강인':60})\n",
    "print(grade)"
   ]
  },
  {
   "cell_type": "code",
   "execution_count": 121,
   "id": "1f4f5303-59d3-406f-8315-c7387c68ed2b",
   "metadata": {},
   "outputs": [
    {
     "name": "stdout",
     "output_type": "stream",
     "text": [
      "{} 0\n"
     ]
    }
   ],
   "source": [
    "# 7. clear() : dict내용 전체를 삭제\n",
    "grade.clear()\n",
    "print(grade, len(grade))"
   ]
  },
  {
   "cell_type": "code",
   "execution_count": 126,
   "id": "2fff848c-ca40-4eae-8fff-dc2e1f24727d",
   "metadata": {},
   "outputs": [
    {
     "name": "stdout",
     "output_type": "stream",
     "text": [
      "1615466569216 1615466569216\n",
      "1615466566400 1615466566400\n",
      "\n",
      "<class 'list'>\n",
      "{'홍길동': 100, '손흥민': [1, 2, 3, 'x'], '김민재': 99, '이정후': 99, '이강인': 60}\n",
      "{'홍길동': 100, '손흥민': [1, 2, 3, 'x'], '김민재': 99, '이정후': 99, '이강인': 60}\n"
     ]
    }
   ],
   "source": [
    "# 8. copy() \n",
    "# 1) 얕은 복사\n",
    "d0 = {'홍길동': 100, '손흥민': [1,2,3], '김민재': 99, '이정후': 99, '이강인': 60}\n",
    "d1 = d0\n",
    "print(id(d0), id(d1))\n",
    "print(id(d0['손흥민']), id(d1['손흥민']))\n",
    "print()\n",
    "\n",
    "print(type(d1['손흥민']))\n",
    "d1['손흥민'].append('x')\n",
    "print(d0)\n",
    "print(d1)"
   ]
  },
  {
   "cell_type": "code",
   "execution_count": 129,
   "id": "c706cc35-e612-4b3c-b8e3-2e00079873d1",
   "metadata": {},
   "outputs": [
    {
     "name": "stdout",
     "output_type": "stream",
     "text": [
      "1615464355136 1615464358336\n",
      "1615464399872 1615464399872\n",
      "\n",
      "{'홍길동': 100, '손흥민': [1, 2, 3, 'x'], '김민재': 99, '이정후': 99, '이강인': 60}\n",
      "{'홍길동': 100, '손흥민': [1, 2, 3, 'x'], '김민재': 99, '이정후': 99, '이강인': 60}\n"
     ]
    }
   ],
   "source": [
    "# 2) 딕셔너리.copy() : 얕은 복사\n",
    "d0 = {'홍길동': 100, '손흥민': [1,2,3], '김민재': 99, '이정후': 99, '이강인': 60}\n",
    "# d0.copy?\n",
    "\n",
    "d1 = d0.copy()\n",
    "print(id(d0), id(d1))\n",
    "print(id(d0['손흥민']), id(d1['손흥민']))\n",
    "print()\n",
    "\n",
    "d1['손흥민'].append('x')\n",
    "print(d0)\n",
    "print(d1)"
   ]
  },
  {
   "cell_type": "code",
   "execution_count": 134,
   "id": "334d4234-cd61-433a-af69-a9815ad91d1e",
   "metadata": {},
   "outputs": [
    {
     "name": "stdout",
     "output_type": "stream",
     "text": [
      "1615463919744 1615463920448\n",
      "1615463922240 1615463920704\n",
      "\n",
      "{'홍길동': 100, '손흥민': [1, 2, 3], '김민재': 99, '이정후': 99, '이강인': 60}\n",
      "{'홍길동': 100, '손흥민': [1, 2, 3, 'x'], '김민재': 99, '이정후': 99, '이강인': 60}\n",
      "1615463919744 1615463920448\n",
      "1615463922240 1615463920704\n"
     ]
    }
   ],
   "source": [
    "# 3) copy패키지의 deepcopy메서드 : 깊은복사 \n",
    "# copy의 copy()메서드 : 얕은 복사\n",
    "import copy as cp\n",
    "d0 = {'홍길동': 100, '손흥민': [1,2,3], '김민재': 99, '이정후': 99, '이강인': 60}\n",
    "d1 = cp.deepcopy(d0)\n",
    "\n",
    "print(id(d0), id(d1))\n",
    "print(id(d0['손흥민']), id(d1['손흥민']))\n",
    "print()\n",
    "\n",
    "d1['손흥민'].append('x')\n",
    "print(d0)\n",
    "print(d1)\n",
    "print(id(d0), id(d1))\n",
    "print(id(d0['손흥민']), id(d1['손흥민']))"
   ]
  },
  {
   "cell_type": "markdown",
   "id": "4309868f-f830-4783-890f-2139087f268a",
   "metadata": {},
   "source": [
    "### 5. 자료형변환함수\n",
    "\n",
    "* 변환함수이자 생성자함수\n",
    "* 매개값(x)은 다른 데이터형으로 변환될 수 있어야 한다. 아니면 에러 발생\n",
    "    * dict(x)\n",
    "    * list(x)\n",
    "    * tuple(x)\n",
    "    * int(x)\n",
    "    * str(x)"
   ]
  },
  {
   "cell_type": "code",
   "execution_count": 153,
   "id": "211269d2-563a-4bbf-87fe-2e6872a74ff1",
   "metadata": {},
   "outputs": [
    {
     "name": "stdout",
     "output_type": "stream",
     "text": [
      "<class 'list'> [['소향', '송도'], ['나얼', '서울']]\n",
      "<class 'dict'> {'소향': '송도', '나얼': '서울'}\n",
      "<class 'list'> ['소향', '나얼']\n",
      "<class 'tuple'> ('소향', '나얼')\n",
      "<class 'tuple'> (['소향', '송도'], ['나얼', '서울']) <class 'list'>\n",
      "<class 'list'> [['소향', '송도'], ['나얼', '서울']]\n",
      "<class 'str'> 10\n",
      "<class 'int'> 10\n",
      "<class 'list'> ['홍', '길', '동', ',', '소', '향', ',', '나', '얼']\n",
      "<class 'tuple'> ('홍', '길', '동', ',', '소', '향', ',', '나', '얼')\n",
      "<class 'str'> ('홍', '길', '동', ',', '소', '향', ',', '나', '얼')\n",
      "<class 'str'> ['홍', '길', '동', ',', '소', '향', ',', '나', '얼']\n"
     ]
    }
   ],
   "source": [
    "name_addr = [['소향', '송도'], ['나얼', '서울']]\n",
    "print(type(name_addr), name_addr)\n",
    "\n",
    "# 1. list -> dict\n",
    "d = dict(name_addr)\n",
    "print(type(d), d)\n",
    "\n",
    "# name_addr = [['소향', '송도', 43], ['나얼', '서울', 50]]\n",
    "# d = dict(name_addr) ValueError: dictionary update sequence element #0 has length 3; 2 is required\n",
    "# print(type(d), d) \n",
    "\n",
    "# 2) dict -> list\n",
    "l = list(d)  # 값은 사라지고 key만 list의 요소로 변환\n",
    "print(type(l), l) \n",
    "\n",
    "# 3) list -> tuple(1) - 한 요소에 한개의 값만 있는 경우\n",
    "t = tuple(l)       # 값은 사라지고 key만 tuple의 요소로 변환\n",
    "print(type(t), t) \n",
    "\n",
    "# 4) list -> tuple(2)  - 한 요소에 여러개의 값이 있을 경우\n",
    "t = tuple(name_addr)\n",
    "print(type(t), t, type(t[0])) \n",
    "\n",
    "# 5) tuple -> list\n",
    "l = list(t)\n",
    "print(type(l), l) \n",
    "\n",
    "# 6) int -> str\n",
    "i = 10\n",
    "s = str(i)\n",
    "print(type(s), s)\n",
    "\n",
    "# 7) str -> int\n",
    "i = int(s)\n",
    "print(type(i), i)\n",
    "\n",
    "# 8) str -> list or tuple\n",
    "s = '홍길동,소향,나얼'\n",
    "l = list(s)\n",
    "print(type(l), l)\n",
    "\n",
    "t = tuple(s)\n",
    "print(type(t), t)\n",
    "\n",
    "# 9) list or tuple -> str\n",
    "t = ('홍', '길', '동', ',', '소', '향', ',', '나', '얼')\n",
    "s = str(t)\n",
    "print(type(s), s)\n",
    "\n",
    "l = ['홍', '길', '동', ',', '소', '향', ',', '나', '얼']\n",
    "s = str(l)\n",
    "print(type(s), s)"
   ]
  },
  {
   "cell_type": "markdown",
   "id": "76465c84-2bc1-40b7-8999-539ef52bd22e",
   "metadata": {},
   "source": [
    "### 6. pprint : tuple, list, dict등의 자료형을 읽기 쉽게 출력해 주는 모듈\n",
    "\n",
    "* pip : python install package -> 파이썬 외부 패키지(라이브러리)를 설치해 주는 파이썬 프로그램\n",
    ">* pip install 패키지 -> 패키지를 설치\n",
    ">* pip show 패키지 -> 설치되어 있는 패키지 정보를 조회\n",
    ">* 최신버전의 패키지를 설치하려면 경우에 따라서 pip프로그램도 최신버전으로 실행해야 되는 경우에는 pip프로그램을 upgrade해야 한다.\n",
    ">>pip프로그램 업그레이드 명령 : `python -m pip install --upgrade pip`\n",
    "\n",
    "* import : 설치 되어 있는 패키지 import하기\n",
    ">* import pprint -> pprint패키지의 모든 속성과 메서드를 import\n",
    ">* from pprint import pprint as pp -> pprint패키지의 pprint메서드를 import해서 별칭을 pp로 선언"
   ]
  },
  {
   "cell_type": "code",
   "execution_count": 156,
   "id": "9e31b6fc-92d3-4339-a5f6-67c24501e8ea",
   "metadata": {},
   "outputs": [],
   "source": [
    "# !pip show pprint\n",
    "# !pip install pprint"
   ]
  },
  {
   "cell_type": "code",
   "execution_count": 158,
   "id": "cf5de882-45e4-4976-8580-953fd4b4dac6",
   "metadata": {},
   "outputs": [
    {
     "name": "stdout",
     "output_type": "stream",
     "text": [
      "Variable    Type          Data/Info\n",
      "-----------------------------------\n",
      "a           dict_items    dict_items([])\n",
      "b           dict          n=3\n",
      "c           dict          n=2\n",
      "cp          module        <module 'copy' from 'd:\\\\<...>lec\\\\05.python\\\\copy.py'>\n",
      "d           dict          n=2\n",
      "d0          dict          n=5\n",
      "d1          dict          n=5\n",
      "e           dict          n=1\n",
      "f           dict          n=2\n",
      "g           dict          n=2\n",
      "grade       dict          n=0\n",
      "h           list          n=3\n",
      "i           int           10\n",
      "l           list          n=9\n",
      "math        module        <module 'math' (built-in)>\n",
      "name_addr   list          n=2\n",
      "pp          function      <function pprint at 0x000001781D275120>\n",
      "s           str           ['홍', '길', '동', ',', '소', '향', ',', '나', '얼']\n",
      "t           tuple         n=9\n"
     ]
    }
   ],
   "source": [
    "# import pprint\n",
    "from pprint import pprint as pp\n",
    "%whos"
   ]
  },
  {
   "cell_type": "code",
   "execution_count": 161,
   "id": "21c77965-8f8e-44fa-98b0-11aacbcefe9e",
   "metadata": {},
   "outputs": [
    {
     "name": "stdout",
     "output_type": "stream",
     "text": [
      "{'홍길동': [1, 2, 3], '홍길순': 90, '홍길녀': ('x', 'y', 'z'), '홍길자': {1, 2, 3, 4, 5, 6}, '홍미녀': '이쁘다', '홍길상': {'name': 'honggilsang', 'age': 100}}\n"
     ]
    }
   ],
   "source": [
    "d = {'홍길동':[1,2,3], '홍길순':90, '홍길녀':('x','y','z'),\n",
    "     '홍길자':{1,2,3,4,5,6}, '홍미녀':'이쁘다', '홍길상':{'name':'honggilsang', 'age':100}\n",
    "    }\n",
    "d\n",
    "print(d)"
   ]
  },
  {
   "cell_type": "code",
   "execution_count": 164,
   "id": "1762aed7-a5f6-4d55-8d3f-5a25eb5efe56",
   "metadata": {},
   "outputs": [
    {
     "name": "stdout",
     "output_type": "stream",
     "text": [
      "{'홍길녀': ('x', 'y', 'z'),\n",
      " '홍길동': [1, 2, 3],\n",
      " '홍길상': {'age': 100, 'name': 'honggilsang'},\n",
      " '홍길순': 90,\n",
      " '홍길자': {1, 2, 3, 4, 5, 6},\n",
      " '홍미녀': '이쁘다'}\n"
     ]
    }
   ],
   "source": [
    "pp(d)"
   ]
  },
  {
   "cell_type": "markdown",
   "id": "39f274bf-f97e-44e2-81b0-778b2d3124e9",
   "metadata": {},
   "source": [
    "##### 실습문제"
   ]
  },
  {
   "cell_type": "code",
   "execution_count": 3,
   "id": "ccf3c711-9438-4a6a-abea-f45e2b1b42cc",
   "metadata": {},
   "outputs": [
    {
     "name": "stdout",
     "output_type": "stream",
     "text": [
      "['__class__', '__class_getitem__', '__contains__', '__delattr__', '__delitem__', '__dir__', '__doc__', '__eq__', '__format__', '__ge__', '__getattribute__', '__getitem__', '__getstate__', '__gt__', '__hash__', '__init__', '__init_subclass__', '__ior__', '__iter__', '__le__', '__len__', '__lt__', '__ne__', '__new__', '__or__', '__reduce__', '__reduce_ex__', '__repr__', '__reversed__', '__ror__', '__setattr__', '__setitem__', '__sizeof__', '__str__', '__subclasshook__', 'clear', 'copy', 'fromkeys', 'get', 'items', 'keys', 'pop', 'popitem', 'setdefault', 'update', 'values']\n",
      "80\n",
      "{'A': 90, 'C': 70}\n"
     ]
    },
    {
     "data": {
      "text/plain": [
       "\u001b[1;31mDocstring:\u001b[0m\n",
       "D.pop(k[,d]) -> v, remove specified key and return the corresponding value.\n",
       "\n",
       "If the key is not found, return the default if given; otherwise,\n",
       "raise a KeyError.\n",
       "\u001b[1;31mType:\u001b[0m      builtin_function_or_method"
      ]
     },
     "metadata": {},
     "output_type": "display_data"
    }
   ],
   "source": [
    "# 1. 딕셔너리 a에서 'B'에 해당되는 값을 추출하고 삭제\n",
    "a = {'A':90, 'B':80, 'C':70}\n",
    "print(dir(a))\n",
    "a.pop?\n",
    "result = a.pop('B')\n",
    "print(result)\n",
    "print(a)"
   ]
  },
  {
   "cell_type": "code",
   "execution_count": 5,
   "id": "352315ef-8943-43a8-bfc3-7211c513c605",
   "metadata": {},
   "outputs": [
    {
     "name": "stdout",
     "output_type": "stream",
     "text": [
      "최대값 =  90\n",
      "최소값 =  70\n"
     ]
    }
   ],
   "source": [
    "# 2. 딕셔너리 a의 value중에서 최소/최대 값을 출력  min(), max()\n",
    "# 내장함수 min() 함수\n",
    "a = {'A':90, 'B':80, 'C':70}\n",
    "print('최대값 = ', max(a.values()))\n",
    "print('최소값 = ', min(a.values()))"
   ]
  },
  {
   "cell_type": "code",
   "execution_count": 10,
   "id": "79c369d3-701c-49c8-a021-b1cc3f2ac45e",
   "metadata": {},
   "outputs": [
    {
     "name": "stdout",
     "output_type": "stream",
     "text": [
      "dict_items([('A', 90), ('B', 80), ('C', 70)])\n",
      "리스트 =  [('A', 90), ('B', 80), ('C', 70)]\n",
      "리스트 =  [('D', 90), ('B', 80), ('A', 70)]\n",
      "리스트(정렬) =  [('A', 70), ('B', 80), ('D', 90)]\n"
     ]
    },
    {
     "data": {
      "text/plain": [
       "\u001b[1;31mSignature:\u001b[0m \u001b[0msorted\u001b[0m\u001b[1;33m(\u001b[0m\u001b[0miterable\u001b[0m\u001b[1;33m,\u001b[0m \u001b[1;33m/\u001b[0m\u001b[1;33m,\u001b[0m \u001b[1;33m*\u001b[0m\u001b[1;33m,\u001b[0m \u001b[0mkey\u001b[0m\u001b[1;33m=\u001b[0m\u001b[1;32mNone\u001b[0m\u001b[1;33m,\u001b[0m \u001b[0mreverse\u001b[0m\u001b[1;33m=\u001b[0m\u001b[1;32mFalse\u001b[0m\u001b[1;33m)\u001b[0m\u001b[1;33m\u001b[0m\u001b[1;33m\u001b[0m\u001b[0m\n",
       "\u001b[1;31mDocstring:\u001b[0m\n",
       "Return a new list containing all items from the iterable in ascending order.\n",
       "\n",
       "A custom key function can be supplied to customize the sort order, and the\n",
       "reverse flag can be set to request the result in descending order.\n",
       "\u001b[1;31mType:\u001b[0m      builtin_function_or_method"
      ]
     },
     "metadata": {},
     "output_type": "display_data"
    }
   ],
   "source": [
    "# 3. 딕셔너리 a를 다음과 같은 리스트로 변환 list(), list로 변환된 변수를 \n",
    "#  dict으로 변환 dict()\n",
    "# a = {'A':90, 'B':80, 'C':70}\n",
    "# [('A', 90), ('B', 80), ('C', 70)]\n",
    "a = {'A':90, 'B':80, 'C':70}\n",
    "print(a.items())\n",
    "print('리스트 = ', list(a.items()))\n",
    "\n",
    "# dict자료형을 key순서로 정렬\n",
    "b = {'D':90, 'B':80, 'A':70}\n",
    "print('리스트 = ', list(b.items()))\n",
    "\n",
    "print('리스트(정렬) = ', sorted(list(b.items())))\n",
    "\n",
    "sorted?"
   ]
  },
  {
   "cell_type": "code",
   "execution_count": 19,
   "id": "96997b17-1716-4162-b72f-05f5b07d426d",
   "metadata": {},
   "outputs": [
    {
     "name": "stdout",
     "output_type": "stream",
     "text": [
      "[300, 20]\n",
      "가격 = 300\n",
      "재고 = 20\n",
      "메로나의 재고수량은 20, 메로나의 판매가격은 300원 입니다!\n",
      "조스바의 재고수량은 20, 조스바의 판매가격은 250원 입니다!\n"
     ]
    }
   ],
   "source": [
    "# 4. 딕셔너리 인덱싱\n",
    "inventory = {'메로나':[300, 20], \n",
    "             '비비빅':[400, 3], \n",
    "             '붕어빵':[200, 10], \n",
    "             '조스바':{'가격':250, '재고':20}}\n",
    "\n",
    "# 1) 메로나의 재고수량?\n",
    "print(inventory['메로나'])\n",
    "print(f'가격 = {inventory[\"메로나\"][0]}')\n",
    "print(f'재고 = {inventory[\"메로나\"][1]}')\n",
    "print(f'메로나의 재고수량은 {inventory[\"메로나\"][1]}, ' \\\n",
    "      f'메로나의 판매가격은 {inventory[\"메로나\"][0]}원 입니다!')\n",
    "\n",
    "# 2) 조스바의 재고수량은?\n",
    "print(f'조스바의 재고수량은 {inventory[\"조스바\"][\"재고\"]}, ' \\\n",
    "      f'조스바의 판매가격은 {inventory[\"조스바\"][\"가격\"]}원 입니다!')"
   ]
  },
  {
   "cell_type": "code",
   "execution_count": null,
   "id": "c8e5e6bd-2f49-4535-9a76-36dd07677d0b",
   "metadata": {},
   "outputs": [],
   "source": [
    "# 초보자를 위한 파이썬 300제 : 71~100"
   ]
  }
 ],
 "metadata": {
  "kernelspec": {
   "display_name": "Python 3 (ipykernel)",
   "language": "python",
   "name": "python3"
  },
  "language_info": {
   "codemirror_mode": {
    "name": "ipython",
    "version": 3
   },
   "file_extension": ".py",
   "mimetype": "text/x-python",
   "name": "python",
   "nbconvert_exporter": "python",
   "pygments_lexer": "ipython3",
   "version": "3.11.7"
  }
 },
 "nbformat": 4,
 "nbformat_minor": 5
}
