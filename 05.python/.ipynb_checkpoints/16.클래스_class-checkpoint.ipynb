{
 "cells": [
  {
   "cell_type": "markdown",
   "id": "43ad7e9f-7ac3-43f9-bc68-45f9d8f3d393",
   "metadata": {},
   "source": [
    "# 클래스 class\n",
    "\n",
    "1. module vs class vs instance(객체, object)\n",
    "   - module은 확장자가 py파일(함수(def), 변수, class등이 포함된 파일)\n",
    "   - class : 새로운 객체(instance, object)를 만드는 설계도\n",
    "   - instance : class로 부터 생성된 객체를 말한다.\n",
    "\n",
    "2. 클래스 내부의 메서드(함수)선언\n",
    "   - 메서드는 일반함수와 동일하게 선언하지만 다른 점은 반드시 첫 번째인수로 `self`로 정의해야 한다.\n",
    "      ```python\n",
    "      class 클래스명():\n",
    "\n",
    "          def 메서드명(self):\n",
    "              # self는 java에서 this와 동일한 역할 즉, 객체 자기자신을 의미한다.\n",
    "              pass \n",
    "\n",
    "          def 함수명():\n",
    "              pass\n",
    "      ```\n",
    "   - 즉, 메서드는 `def 메서드명(self)`의 형태로 선언해야 한다.\n",
    "   - self는 `객체 자기 자신을 참조`하는 것으로 인스턴스(객체) 자기 자진을 가리킨다.\n",
    "   - 정확하게는 `객체 자기 자신이 참조하고 있는 메모리주소`를 의미한다.\n",
    "   - 각각의 인스턴스(객체)는 self를 이용해서 자신에게 접근할 수 있다.\n",
    "\n",
    "3. 클래스메서드(@classmethod)\n",
    "   - 파이썬에 `@는 데코레이터 decorator`라고 명칭한다. Java에서 annotation의 역할을 수행한다.\n",
    "   - 클래스메서드는 특정 객체에 소속된 것이 아니라 `클래스로 생성된 모든 인스턴스에서 공통으로 사용`되는 메서드이다.\n",
    "   - 클래스메서드는 `첫 번째인수로 cls로 전달되는 메서드`이다.\n",
    "   - 즉, `def 메서드명(cls)`의 형태로 정의되는 메서드이다.\n",
    "   - 클래스메서드는 인스턴스(객체)에 소속된 멤버가 아니라 `클래스에 소속된 멤버로서 class namespace에 존재하는 메서드`이다.\n",
    "   - 클래스메서드에 접근하기 위해서는 `클래스명.메서드()`형태로 접근한다.\n",
    "   - 첫 번째 인수인 cls는 클래스의 인스턴스를 자동으로 전달받는 인자값이다.\n",
    "   \n",
    "4. 생성자(constroctor, `__init__()`)함수\n",
    "   - 파이썬에서는 `객체(인스턴스)가 생성될 때 자동으로 실행되는 메서드로서 생성자메서드`라고 한다.\n",
    "   - 파이썬에서는 Java와는 다르게 `오직 한 개의 생성자메서드만 정의`할 수 있다.\n",
    "   - 만약, `__init__()`가 여러개 선언됐을 경우에는 에러는 발생하지 않지만 마지막에 선언된 메서드가 생성자메서드가 된다.\n",
    "\n",
    "5. 소멸자(`__de;__()`)함수\n",
    "   - 파이썬에서는 메모리나 기타 자원을 자동으로 관리한다.\n",
    "   - 객체(인스턴스)가 메모리에서 소멸될 때 자동으로 실행되는 메서드이다.\n",
    "   - 만약, 객체가 소멸될 때 특정의 수행작업이 필요할 경우에는 소멸자메서드에 정의해 주면된다.\n",
    "   - 실행할 로직이 없다면 특별히 정의하지않아도 된다.\n",
    "   \n",
    "6. 상속(Inheritance)\n",
    "   - 파이썬은 `다중상속이 가능`하다.\n",
    "   - 상속의 이점은 정보공유와 코드의 재사용이다.\n",
    "   - 자식클래스는 상속을 해준 부모의 속성(필드, 메서드)등을 사용할 수 있다.\n",
    "   - 자식클래스에서 필요한 속성을 추가하거나 부모의 기능(메서드)을 재정의(Override)해서 사용할 수 있다.\n",
    "\n",
    "7. Override\n",
    "   - 자식클래스(child, sub)에서 부모(parent, super)클래스에 정의된 메서드를 자식클래스에서 재정의하는 것을 오버라이드라고 한다.\n",
    "  \n",
    "8. 다형성(Polymorphism)\n",
    "   - 상속관계내의 다른 클래스들의 인스턴스들이 동일 멤버함수를 호출하는 것에 대해 다르게 실행되는 기능을 말한다.\n",
    "   - 적은 코딩으로 다양한 형태의 인스턴스를 생성할 수 있다.\n",
    "   - 코드의 가독성을 높인다."
   ]
  },
  {
   "cell_type": "code",
   "execution_count": 50,
   "id": "d570d907-6043-4210-8c14-b8ebbfef0603",
   "metadata": {},
   "outputs": [
    {
     "name": "stdout",
     "output_type": "stream",
     "text": [
      "클래스내부에서 method2(함수)가 호출되었습니다!\n"
     ]
    }
   ],
   "source": [
    "# 1. 클래스를 정의하는 방법\n",
    "class Korean:\n",
    "    # 1) 속성(properties) : 변수(객체멤버)\n",
    "    nation = ''\n",
    "    name = ''\n",
    "    \n",
    "    # 2) 생성자       \n",
    "    def __init__(self):\n",
    "        print('1. Korean클래스로부터 홍길동객체가 생성되었습니다!')\n",
    "\n",
    "    def __init__(self, nation, name):\n",
    "        print('2. Korean클래스로부터 홍길동객체가 생성되었습니다!')\n",
    "\n",
    "    def __init__(self, nation, name):\n",
    "        self.nation = nation\n",
    "        self.name = name\n",
    "        print(f'3. Korean클래스로부터 {self.name}객체가 생성되었습니다!')\n",
    "        \n",
    "    # 3) 메서드\n",
    "    def method1(self): \n",
    "        print('Korean에서 생성된 객체로부터 method1(메서드)이 호출되었습니다!!')\n",
    "        \n",
    "    def method2(): # class 내부에서만 사용가능한 함수 즉, 클래스멤버\n",
    "        print('클래스내부에서 method2(함수)가 호출되었습니다!')\n",
    "\n",
    "    method2()"
   ]
  },
  {
   "cell_type": "code",
   "execution_count": 49,
   "id": "8c979541-6301-4da5-9f04-fc9ddd250846",
   "metadata": {},
   "outputs": [
    {
     "name": "stdout",
     "output_type": "stream",
     "text": [
      "3. Korean클래스로부터 소향객체가 생성되었습니다!\n",
      "<class '__main__.Korean'> 한국 소향\n",
      "Korean에서 생성된 객체로부터 method1(메서드)이 호출되었습니다!!\n"
     ]
    }
   ],
   "source": [
    "sohyang = Korean('한국', '소향')\n",
    "print(type(sohyang), sohyang.nation, sohyang.name)\n",
    "\n",
    "sohyang.method1()\n",
    "# sohyang.method2() # 즉, 클래스내부에서만 호출 가능 TypeError: Korean.method2() takes 0 positional arguments but 1 was given,"
   ]
  },
  {
   "cell_type": "code",
   "execution_count": 78,
   "id": "4f4d383a-f19d-4bf5-8215-ee8a8f2cf238",
   "metadata": {},
   "outputs": [
    {
     "name": "stdout",
     "output_type": "stream",
     "text": [
      "<class '__main__.Korean2'> 대한민국 홍길동\n",
      "\n",
      "<class '__main__.Korean2'> 미국 스티브\n"
     ]
    }
   ],
   "source": [
    "class Korean2():\n",
    "    nation = '대한민국'\n",
    "    name = '홍길동'\n",
    "\n",
    "    # 기본생성자함수 : 정의하지 않아도 자동생성된다.\n",
    "    # def __init__(self):\n",
    "    #     pass\n",
    "\n",
    "    def method1(self):\n",
    "        return 'method1'\n",
    "\n",
    "    def method2():\n",
    "        return 'method2'\n",
    "    \n",
    "kim = Korean2()\n",
    "print(type(kim), kim.nation, kim.name)\n",
    "print()\n",
    "\n",
    "steve = Korean2()\n",
    "steve.nation = '미국'\n",
    "steve.name = '스티브'\n",
    "print(type(steve), steve.nation, steve.name)"
   ]
  },
  {
   "cell_type": "code",
   "execution_count": 79,
   "id": "3e76deb8-7af9-4d5b-9864-c4197107d6a8",
   "metadata": {},
   "outputs": [
    {
     "name": "stdout",
     "output_type": "stream",
     "text": [
      "['__class__', '__delattr__', '__dir__', '__doc__', '__eq__', '__format__', '__ge__', '__getattribute__', '__getstate__', '__gt__', '__hash__', '__init__', '__init_subclass__', '__le__', '__lt__', '__ne__', '__new__', '__reduce__', '__reduce_ex__', '__repr__', '__setattr__', '__sizeof__', '__str__', '__subclasshook__']\n",
      "\n",
      "['__class__', '__delattr__', '__dict__', '__dir__', '__doc__', '__eq__', '__format__', '__ge__', '__getattribute__', '__getstate__', '__gt__', '__hash__', '__init__', '__init_subclass__', '__le__', '__lt__', '__module__', '__ne__', '__new__', '__reduce__', '__reduce_ex__', '__repr__', '__setattr__', '__sizeof__', '__str__', '__subclasshook__', '__weakref__', 'method1', 'method2', 'name', 'nation']\n",
      "\n",
      "{'__module__': '__main__', 'nation': '대한민국', 'name': '홍길동', 'method1': <function Korean2.method1 at 0x000001C857983420>, 'method2': <function Korean2.method2 at 0x000001C857980A40>, '__dict__': <attribute '__dict__' of 'Korean2' objects>, '__weakref__': <attribute '__weakref__' of 'Korean2' objects>, '__doc__': None}\n"
     ]
    }
   ],
   "source": [
    "# 파이썬에서 최상위 부모객체 object\n",
    "print(dir(object))\n",
    "print()\n",
    "\n",
    "print(dir(Korean2))\n",
    "print()\n",
    "\n",
    "print(Korean2.__dict__)"
   ]
  },
  {
   "cell_type": "code",
   "execution_count": 80,
   "id": "fb0d448f-2b7f-47b3-9e56-63bcd479d09d",
   "metadata": {},
   "outputs": [
    {
     "name": "stdout",
     "output_type": "stream",
     "text": [
      "kor1의 메모리주소 = 1959981542160, 대한민국, 홍길동\n",
      "kor2의 메모리주소 = 1959981538192, 대한민국, 홍길동\n",
      "kor1 == kor2의 결과 : False\n"
     ]
    }
   ],
   "source": [
    "# 2. 객체를 만드는 방법\n",
    "# 변수명 = 생성자함ㅅ 즉, 변수명 = 클래스명()\n",
    "# 변수는 객체변수 or 인스턴스변수\n",
    "\n",
    "# Korean2()는 생성자함수라고 하고 __init__()를 호출한다.\n",
    "kor1 = Korean2() \n",
    "kor2 = Korean2() \n",
    "\n",
    "# kor1, kor2는 참조변수이기 때문에 객체가 저장되어 있는 메모리주소를 참조한다.\n",
    "print(f'kor1의 메모리주소 = {id(kor1)}, {kor1.nation}, {kor1.name}')\n",
    "print(f'kor2의 메모리주소 = {id(kor2)}, {kor2.nation}, {kor2.name}')\n",
    "print(f'kor1 == kor2의 결과 : {kor1 == kor2}')"
   ]
  },
  {
   "cell_type": "code",
   "execution_count": 83,
   "id": "1a46d02c-41b4-4e64-9b26-1b92baaa083c",
   "metadata": {},
   "outputs": [
    {
     "name": "stdout",
     "output_type": "stream",
     "text": [
      "kor1 객체의 속성 : 대한민국, 홍길동\n",
      "kor1객체의 method1이 호출되었습니다!\n"
     ]
    }
   ],
   "source": [
    "# 3. 객체의 속성(변수, 메서드)에 접근하는 법\n",
    "# 객체변수.속성\n",
    "print(f'kor1 객체의 속성 : {kor1.nation}, {kor1.name}')\n",
    "print(f'kor1객체의 {kor1.method1()}이 호출되었습니다!')\n",
    "# print(f'kor1객체의 {kor1.method2()}는 객체멤버가 아니라 클래스멤버이기 때문에 객체에서 호출할 수 없습니다!')"
   ]
  },
  {
   "cell_type": "code",
   "execution_count": 86,
   "id": "2ec978f0-be81-4383-878e-81f429bc269e",
   "metadata": {},
   "outputs": [
    {
     "name": "stdout",
     "output_type": "stream",
     "text": [
      "한국인, 1959980705936, 대한민국, 손흥민\n",
      "미국인, 1959979941456, 미국인, 스티브\n"
     ]
    }
   ],
   "source": [
    "# 3. 다형성\n",
    "class Person:\n",
    "    nation = ''\n",
    "    name = ''\n",
    "\n",
    "# 1) 다형성 - 외부에서 객체의 속성을 정의\n",
    "sonny = Person()\n",
    "sonny.nation = \"대한민국\"\n",
    "sonny.name = \"손흥민\"\n",
    "\n",
    "steve = Person()\n",
    "steve.nation = '미국인'\n",
    "steve.name = '스티브'\n",
    "\n",
    "print(f'한국인, {id(sonny)}, {sonny.nation}, {sonny.name}')\n",
    "print(f'미국인, {id(steve)}, {steve.nation}, {steve.name}')"
   ]
  },
  {
   "cell_type": "code",
   "execution_count": 89,
   "id": "2b0e911b-ec6e-408f-b439-fb77d13b0278",
   "metadata": {},
   "outputs": [
    {
     "name": "stdout",
     "output_type": "stream",
     "text": [
      "한국인, 1959982169360, 대한민국, 홍길동\n",
      "미국인, 1959972572816, USA, paul\n"
     ]
    }
   ],
   "source": [
    "# 2) 다형성 - 내부에서 객체의 속성을 정의(생성자함수)\n",
    "class Person2:\n",
    "\n",
    "    # nation = ''\n",
    "    # name = ''\n",
    "\n",
    "    def __init__(self, nation, name):\n",
    "        # 변수를 선언하지하지 않고 self.변수로 속성(변수)를 정의할 수 있다.\n",
    "        self.nation = nation\n",
    "        self.name = name\n",
    "\n",
    "hong = Person2('대한민국', '홍길동')\n",
    "paul = Person2('USA', 'paul')\n",
    "\n",
    "print(f'한국인, {id(hong)}, {hong.nation}, {hong.name}')\n",
    "print(f'미국인, {id(paul)}, {paul.nation}, {paul.name}')"
   ]
  },
  {
   "cell_type": "code",
   "execution_count": 90,
   "id": "d7a34c4e-9916-4c65-bc15-d712844cb1ce",
   "metadata": {},
   "outputs": [],
   "source": [
    "%reset -f"
   ]
  },
  {
   "cell_type": "markdown",
   "id": "2427431b-8db0-431d-bb17-16f49d83ddcc",
   "metadata": {},
   "source": [
    "#### 생성자함수로 정의한 클래스"
   ]
  },
  {
   "cell_type": "code",
   "execution_count": 99,
   "id": "ed74a1a2-50b4-4880-adc1-fd2d1b29e87e",
   "metadata": {},
   "outputs": [
    {
     "name": "stdout",
     "output_type": "stream",
     "text": [
      "생성자함수가 호출되었습니다!\n",
      "메서드가 호출되었습니다!\n",
      "\n",
      "생성자함수가 호출되었습니다!\n",
      "<class '__main__.Korean'> <__main__.Korean object at 0x000001C857D3C350>\n",
      "<class 'NoneType'> None\n"
     ]
    }
   ],
   "source": [
    "# 1. __init__() : 생성자함수 vs 일반함수\n",
    "class Korean:\n",
    "\n",
    "    def __init__(self):\n",
    "        print('생성자함수가 호출되었습니다!')\n",
    "        # return '문자열'\n",
    "\n",
    "    def greeting(self):\n",
    "        print('메서드가 호출되었습니다!')\n",
    "\n",
    "kor1 = Korean()  # 생성자함수가 호출\n",
    "kor1.greeting()\n",
    "print()\n",
    "\n",
    "# 생성자함수가 아니라 일반함수로 호출하는 경우\n",
    "kor2 = kor1.__init__(); # __init__()로 호출하면 생성자함수가 아니라 일반함수로 호출되었기 때문에 return이 없기 때문에 None\n",
    "# kor2.greeting() # kor2는 생성자가 아니라 일반함수(__init__)가 저장되어 있기 때문에 greeting은 호출할 수 없다.\n",
    "\n",
    "print(type(kor1), kor1)\n",
    "print(type(kor2), kor2)"
   ]
  },
  {
   "cell_type": "code",
   "execution_count": 108,
   "id": "27b8d413-9b25-4104-a681-fed5bef9cdd9",
   "metadata": {},
   "outputs": [
    {
     "name": "stdout",
     "output_type": "stream",
     "text": [
      "안녕하세요\n",
      "안녕하세요\n"
     ]
    }
   ],
   "source": [
    "# 2. 클래스멤버변수\n",
    "class Korean2:\n",
    "    \n",
    "    hello = '안녕하세요'\n",
    "    \n",
    "    def __init__(self):\n",
    "        # hello = 'Hello Python!!'     # hello - 생성자함수에서만 사용가능한 지역변수\n",
    "        self.hello = 'Hello Python!!'  # hello - 클래서 전역에서 사용가능한 전역변수\n",
    "        pass\n",
    "\n",
    "    def greeting(self):\n",
    "        print(self.hello)\n",
    "\n",
    "kor3 = Korean2()\n",
    "kor3.greeting()\n",
    "print(kor3.hello)"
   ]
  },
  {
   "cell_type": "code",
   "execution_count": 117,
   "id": "e5c932a5-4220-4397-8cfc-7aa64ed4f28b",
   "metadata": {},
   "outputs": [],
   "source": [
    "# 3. 메서드오버라이드\n",
    "# 1) object.__str__()\n",
    "%reset -f\n",
    "class Person:\n",
    "    nation = '대한민국'\n",
    "    name = str()\n",
    "    age = int()\n",
    "    height = float()\n",
    "    weight = float()\n",
    "\n",
    "    def toString(self): # python에서는 toString메서드가 없다. 사용자가 정의한 메서드\n",
    "        print(f'국적={self.nation}, 이름={self.name}, 나이={self.age}, 신장={self.height}, 체중={self.weight}')"
   ]
  },
  {
   "cell_type": "code",
   "execution_count": 122,
   "id": "23e46259-3435-45a8-ae37-0bb41e510fb9",
   "metadata": {},
   "outputs": [
    {
     "name": "stdout",
     "output_type": "stream",
     "text": [
      "국적=대한민국, 이름=손흥민, 나이=32, 신장=183.5, 체중=80.3\n",
      "None\n",
      "<__main__.Person object at 0x000001C858470950>\n",
      "\n",
      "['__annotations__', '__class__', '__delattr__', '__dict__', '__dir__', '__doc__', '__eq__', '__format__', '__ge__', '__getattribute__', '__getstate__', '__gt__', '__hash__', '__init__', '__init_subclass__', '__le__', '__lt__', '__module__', '__ne__', '__new__', '__reduce__', '__reduce_ex__', '__repr__', '__setattr__', '__sizeof__', '__str__', '__subclasshook__', '__weakref__', 'age', 'height', 'name', 'nation', 'toString', 'weight']\n"
     ]
    }
   ],
   "source": [
    "sonny = Person()\n",
    "sonny.name = \"손흥민\"\n",
    "sonny.age = 32\n",
    "sonny.height = 183.5\n",
    "sonny.weight = 80.3\n",
    "print(sonny.toString())\n",
    "\n",
    "# __str__()은 object에서 상속받은 메서드로서 객체의 정보를 출력해 주는 메서드이다.\n",
    "# __str__()은 객체가 저장되어 있는 메모리주소를 16진수(0x000001C857C30450)를 리턴한다.\n",
    "# java의 toString()메서드의 역할을 수행하는 메서드\n",
    "print(sonny.__str__())\n",
    "print()\n",
    "\n",
    "print(dir(Person))"
   ]
  },
  {
   "cell_type": "code",
   "execution_count": 124,
   "id": "a0085b07-5b37-45ed-acea-8468c8631c7b",
   "metadata": {},
   "outputs": [
    {
     "name": "stdout",
     "output_type": "stream",
     "text": [
      "국적=대한민국, 이름=손흥민, 나이=32, 신장=183.5, 체중=80.3\n",
      "국적=대한민국, 이름=소향, 나이=44, 신장=165.5, 체중=58.4\n"
     ]
    }
   ],
   "source": [
    "%reset -f\n",
    "# 2) Person.__str__()\n",
    "class Person:\n",
    "    nation = '대한민국'\n",
    "    name = str()\n",
    "    age = int()\n",
    "    height = float()\n",
    "    weight = float()\n",
    "\n",
    "    def __str__(self): # object에서 상속받은 __str__()을 재정의(overriding)\n",
    "        return f'국적={self.nation}, 이름={self.name}, 나이={self.age}, 신장={self.height}, 체중={self.weight}'\n",
    "\n",
    "sonny = Person()\n",
    "sonny.name = \"손흥민\"\n",
    "sonny.age = 32\n",
    "sonny.height = 183.5\n",
    "sonny.weight = 80.3\n",
    "print(sonny.__str__())\n",
    "\n",
    "sohyang = Person()\n",
    "sohyang.name = '소향'\n",
    "sohyang.age = 44\n",
    "sohyang.height = 165.5\n",
    "sohyang.weight = 58.4\n",
    "print(sohyang.__str__())"
   ]
  },
  {
   "cell_type": "markdown",
   "id": "51404d0b-7a97-4ed3-b5cd-a4532dd58c2e",
   "metadata": {},
   "source": [
    "#### 생성자와 소멸자"
   ]
  },
  {
   "cell_type": "code",
   "execution_count": 130,
   "id": "da67e128-0811-45bf-8906-419809511800",
   "metadata": {},
   "outputs": [
    {
     "data": {
      "text/plain": [
       "'국적=대한민국, 이름=손흥민, 나이=32, 신장=185.5, 체중=80.5'"
      ]
     },
     "execution_count": 130,
     "metadata": {},
     "output_type": "execute_result"
    }
   ],
   "source": [
    "# 1. 생성자\n",
    "# 1) 기본생성자와 중복생성자\n",
    "# 생성자의 중복을 불허, 하지만 중복선언이 될 경우에는 문법에러는 발생하지 않지만\n",
    "# 맨 마지막에 선언된 생성자가 그 클래스의 생성자함수가 된다.\n",
    "%reset -f\n",
    "class Korean:\n",
    "    nation = '대한민국'\n",
    "\n",
    "    def __init__(self):\n",
    "        print('기본생성자가 호출되었습니다!')\n",
    "\n",
    "    def __init__(self, name, age, height, weight):\n",
    "        self.name = name\n",
    "        self.age = age\n",
    "        self.height = height\n",
    "        self.weight = weight\n",
    "        \n",
    "    def __str__(self):\n",
    "        return f'국적={self.nation}, 이름={self.name}, 나이={self.age}, 신장={self.height}, 체중={self.weight}'\n",
    "# kim = Korean()\n",
    "sonny = Korean('손흥민', 32, 185.5, 80.5)\n",
    "sonny.__str__()"
   ]
  },
  {
   "cell_type": "code",
   "execution_count": 146,
   "id": "df9e828b-7b37-429b-8858-a607e2ece9c4",
   "metadata": {},
   "outputs": [
    {
     "name": "stdout",
     "output_type": "stream",
     "text": [
      "국적=대한민국, 이름=None, 나이=1000, 신장=None, 체중=None\n",
      "국적=손흥민, 이름=32, 나이=185.5, 신장=80.5, 체중=None\n",
      "국적=미국, 이름=32, 나이=185.5, 신장=80.5, 체중=Steve\n",
      "국적=대한민국, 이름=홍길동, 나이=1000, 신장=160.0, 체중=55.9\n",
      "국적=대한민국, 이름=이길동, 나이=1, 신장=160.0, 체중=55.9\n"
     ]
    }
   ],
   "source": [
    "# 2) 초기값을 가진 생성자\n",
    "%reset -f\n",
    "class Korean:\n",
    "\n",
    "    def __init__(self, nation='대한민국', name=None, age=1000, height=None, weight=None):\n",
    "        self.nation = nation\n",
    "        self.name = name\n",
    "        self.age = age\n",
    "        self.height = height\n",
    "        self.weight = weight\n",
    "\n",
    "    def __str__(self):\n",
    "        return f'국적={self.nation}, 이름={self.name}, 나이={self.age}, 신장={self.height}, 체중={self.weight}'\n",
    "\n",
    "kim = Korean()\n",
    "print(kim.__str__())\n",
    "\n",
    "# 주의사항 - 초기값을 설정하는 경우에는 데이터에 맞는 순서대로 호출해야 한다.\n",
    "# 즉, 초기값을 전달하는 경우, 매개변수의 순서와 동일하게 전달되어야 한다.\n",
    "sonny = Korean('손흥민', 32, 185.5, 80.5)\n",
    "print(sonny.__str__())\n",
    "\n",
    "steve = Korean('미국', 32, 185.5, 80.5, 'Steve')\n",
    "print(steve.__str__())\n",
    "\n",
    "# 순서를 사용하지 않고 매개변수의 이름으로 매핑\n",
    "hong = Korean(name=\"홍길동\", height=160.0, weight=55.9)\n",
    "print(hong.__str__())\n",
    "lee = Korean(name=\"이길동\", height=160.0, weight=55.9, age=1)\n",
    "print(lee.__str__())"
   ]
  },
  {
   "cell_type": "code",
   "execution_count": 150,
   "id": "43ae8c29-1147-4fec-84ac-149172fecfb2",
   "metadata": {},
   "outputs": [
    {
     "name": "stdout",
     "output_type": "stream",
     "text": [
      "소멸자메서드가 호출되었습니다\n"
     ]
    }
   ],
   "source": [
    "# 3) 소멸자\n",
    "%reset -f\n",
    "class Korean:\n",
    "\n",
    "    # 생성자\n",
    "    def __init__(self, nation='대한민국', name=None, age=None, height=None, weight=None):\n",
    "        self.nation = nation\n",
    "        self.name = name\n",
    "        self.age = age\n",
    "        self.height = height\n",
    "        self.weight = weight\n",
    "\n",
    "    # 소멸자\n",
    "    def __del__(self):\n",
    "        print('소멸자메서드가 호출되었습니다')\n",
    "        \n",
    "    def __str__(self):\n",
    "        return f'국적={self.nation}, 이름={self.name}, 나이={self.age}, 신장={self.height}, 체중={self.weight}'"
   ]
  },
  {
   "cell_type": "code",
   "execution_count": 153,
   "id": "b4de3c03-a5fc-4124-9c43-a09266342d1f",
   "metadata": {},
   "outputs": [
    {
     "name": "stdout",
     "output_type": "stream",
     "text": [
      "국적=대한민국, 이름=손흥민, 나이=32, 신장=185.5, 체중=80.5\n",
      "1959981751376\n",
      "\n",
      "소멸자메서드가 호출되었습니다\n",
      "100\n",
      "140737447382920\n"
     ]
    }
   ],
   "source": [
    "sonny = Korean(name='손흥민', age=32, height=185.5, weight=80.5)\n",
    "print(sonny) # __str__() 생략시 객체명으로 자동호출\n",
    "print(id(sonny))\n",
    "print()\n",
    "\n",
    "sonny = 100   # 객체소멸자가 호출\n",
    "print(sonny) \n",
    "print(id(sonny))"
   ]
  },
  {
   "cell_type": "markdown",
   "id": "97158767-0298-41c3-803f-d9a04687a803",
   "metadata": {},
   "source": [
    "#### class method와 static method\n",
    "\n",
    "* 일반적으로 객체멤버(변수, 메서드)에 접근하려면 객체(인스턴스)가 생성된 후에 접근할 수 있다.\n",
    "* 하지만, 객체가 생성된 않았어도 클래스를 통해서 직접 접근할 수 있도록 `static method와 class method`를 제공한다.\n",
    "* 파이썬에서는 기본적으로 모든 변수와 메서드에 접근할 수 있다.\n",
    "* 하지만, 캡슐화(은닉화)를 통해서 특정메서드와 변수에 접근할 수 없도록 제한할 수가 있다.\n",
    "* 그러나, Java처럼 완벽한 캡슐화(은닉화)는 어렵다.\n",
    "\n",
    "##### 1. static method\n",
    "\n",
    "* 정적메서드는 메서드선언 바로 위에 `@statictmethod`라는 메타정보(데코레이터)를 선언한다.\n",
    "* 주의할 점은 `정적메서드는 매개변수에 self를 정의하지 않는다`\n",
    "* 정적메서드는 self를 선언하지 않기 때문에 객체(인스턴스)를 통해서 접근할 수 없다.\n",
    "* 그래서, 보통 정적메서드는 객체의 속성과 메서드가 필요하지 않을 경우에 사용한다.\n",
    "* 선언방법\n",
    "    ```python\n",
    "    class 클래스명:\n",
    "        @staticmethod\n",
    "        def 메서드명(매개변수....):\n",
    "            pass\n",
    "    ```\n",
    "\n",
    "##### 2. class method\n",
    "\n",
    "* 정적메서드와 비슷하지만 약간의 차이점이 있다.\n",
    "* 클래스메서드는 메서드선언 바로 위에 `@classmethod`라는 데코레이터로 선언한다.\n",
    "* 이때, `클래스메서드의 첫 번째 인수는 cls로 선언`한다.\n",
    "* 선언방법\n",
    "    ```python\n",
    "    class 클래스명:\n",
    "        @classmethod\n",
    "        def 메서드명(cls, 매개변수....):\n",
    "            pass\n",
    "    ```\n",
    "\n",
    "##### 3. decorator(@, 데코레이터)\n",
    "\n",
    "* 파이썬은 `데코레이터 decorator라는 기능을 제공`한다.\n",
    "* 데코레이터의 사전적의미는 '장식하다, 꾸민다'라는 뜻과 같이 메서드등의 메타정보를 선언한다.\n",
    "* 즉, 메서드나 변수를 장식한다라는 의미로 명명이 되었다."
   ]
  },
  {
   "cell_type": "code",
   "execution_count": 161,
   "id": "e3b9c21a-37ee-4dd2-befb-074c10c6b2a7",
   "metadata": {},
   "outputs": [
    {
     "name": "stdout",
     "output_type": "stream",
     "text": [
      "클래스 내부메서드가 호출되었습니다!!\n",
      "정적(static)메서드가 호출되었습니다!!\n"
     ]
    }
   ],
   "source": [
    "%reset -f\n",
    "class _Class:\n",
    "    def xxx(self):\n",
    "        print('객체(인스턴스)메서드가 호출되었습니다!!')\n",
    "\n",
    "    @staticmethod\n",
    "    def yyy():\n",
    "        print('정적(static)메서드가 호출되었습니다!!')        \n",
    "\n",
    "    @classmethod\n",
    "    def zzz(cls):\n",
    "        print('클래스(clas)메서드가 호출되었습니다!!')     \n",
    "\n",
    "    def aaa(): # 정적메서드처럼 self매개변수가 없는것은 동일하지만 @staticmethod로 선언되지 않았다.\n",
    "        print('클래스 내부메서드가 호출되었습니다!!')\n",
    "\n",
    "    # 클래스내부에서 메서드들 호출하기\n",
    "    # 정적메서드와 내부메서드만 호출가능\n",
    "    aaa()\n",
    "    # xxx() TypeError: _Class.xxx() missing 1 required positional argument: 'self'\n",
    "    yyy()\n",
    "    # zzz()  # TypeError: 'classmethod' object is not callable"
   ]
  },
  {
   "cell_type": "code",
   "execution_count": 166,
   "id": "ae76e0e2-040a-4b73-bb8d-bb3fe3f0d4d9",
   "metadata": {},
   "outputs": [
    {
     "name": "stdout",
     "output_type": "stream",
     "text": [
      "정적(static)메서드가 호출되었습니다!!\n",
      "클래스(clas)메서드가 호출되었습니다!!\n",
      "클래스 내부메서드가 호출되었습니다!!\n"
     ]
    }
   ],
   "source": [
    "# 1. 객체생성없이 외부에서 메서드호출하기\n",
    "# _Class.xxx() # 호출불가\n",
    "_Class.yyy()   # 정적메서드 호출가능\n",
    "_Class.zzz()   # 클래스메서드 호출가능\n",
    "_Class.aaa()   # 클래스내부메서드 호출가능"
   ]
  },
  {
   "cell_type": "code",
   "execution_count": 172,
   "id": "28333574-5430-4dcd-baa2-ff119d235b42",
   "metadata": {},
   "outputs": [
    {
     "name": "stdout",
     "output_type": "stream",
     "text": [
      "객체(인스턴스)메서드가 호출되었습니다!!\n",
      "정적(static)메서드가 호출되었습니다!!\n",
      "클래스(clas)메서드가 호출되었습니다!!\n"
     ]
    }
   ],
   "source": [
    "# 2. 객체생성후 객체의 메서드 호출하기\n",
    "# 객체로 정적메서드(yyy)와, 클래스메서드(zzz)를 접속할 수 있다.\n",
    "# 이 점이 java처럼 완벽한 은닉화를 구현할 수 없다.\n",
    "obj = _Class()\n",
    "obj.xxx()  # 호출가능\n",
    "obj.yyy()  # 호출가능\n",
    "obj.zzz()  # 호출가능\n",
    "# obj.aaa()  # 호출불가"
   ]
  },
  {
   "cell_type": "code",
   "execution_count": 183,
   "id": "643f00fe-9383-4821-a343-b6c179c26d8c",
   "metadata": {},
   "outputs": [
    {
     "name": "stdout",
     "output_type": "stream",
     "text": [
      "['__class__', '__delattr__', '__dict__', '__dir__', '__doc__', '__eq__', '__format__', '__ge__', '__getattribute__', '__getstate__', '__gt__', '__hash__', '__init__', '__init_subclass__', '__le__', '__lt__', '__module__', '__ne__', '__new__', '__reduce__', '__reduce_ex__', '__repr__', '__setattr__', '__sizeof__', '__str__', '__subclasshook__', '__weakref__', 'add', 'mul']\n"
     ]
    },
    {
     "data": {
      "text/plain": [
       "'static method mul(a,b,c) 호출결과 : 10 * 10 * 10 = 1000'"
      ]
     },
     "execution_count": 183,
     "metadata": {},
     "output_type": "execute_result"
    },
    {
     "data": {
      "text/plain": [
       "\u001b[1;31mSignature:\u001b[0m \u001b[0mCalc\u001b[0m\u001b[1;33m.\u001b[0m\u001b[0mmul\u001b[0m\u001b[1;33m(\u001b[0m\u001b[0ma\u001b[0m\u001b[1;33m,\u001b[0m \u001b[0mb\u001b[0m\u001b[1;33m,\u001b[0m \u001b[0mc\u001b[0m\u001b[1;33m)\u001b[0m\u001b[1;33m\u001b[0m\u001b[1;33m\u001b[0m\u001b[0m\n",
       "\u001b[1;31mDocstring:\u001b[0m 정적메서드 mul(a,b,c)\n",
       "\u001b[1;31mFile:\u001b[0m      c:\\users\\ezen\\appdata\\local\\temp\\ipykernel_13840\\2706711212.py\n",
       "\u001b[1;31mType:\u001b[0m      function"
      ]
     },
     "metadata": {},
     "output_type": "display_data"
    }
   ],
   "source": [
    "# 3. static method 와 일반메서드 재정의\n",
    "# 동일이름의 메서드가 중복선언 될 경우, 생성자함수처럼 맨 마지막에 정의된 메서드가 적용된다.\n",
    "%reset -f\n",
    "class Calc:\n",
    "\n",
    "    @staticmethod\n",
    "    def add(a, b):\n",
    "        return f'static method add() 호출결과 : {a} + {b} = {a+b}'\n",
    "\n",
    "    @staticmethod\n",
    "    def mul(a, b):\n",
    "        \"\"\"정적메서드 mul(a,b)\"\"\"\n",
    "        return f'static method mul() 호출결과 : {a} * {b} = {a*b}'\n",
    "\n",
    "    def mul(a, b, c):\n",
    "        \"\"\"내부메서드\"\"\"\n",
    "        return f'inner method mul() 호출결과 : {a} * {b} = {a*b}'\n",
    "\n",
    "    @staticmethod\n",
    "    def mul(a, b, c):\n",
    "        \"\"\"정적메서드 mul(a,b,c)\"\"\"\n",
    "        return f'static method mul(a,b,c) 호출결과 : {a} * {b} * {c} = {a*b*c}'\n",
    "        \n",
    "print(dir(Calc))\n",
    "Calc.mul?\n",
    "\n",
    "Calc.mul(10, 10, 10)"
   ]
  },
  {
   "cell_type": "code",
   "execution_count": 198,
   "id": "92449e42-4dd7-4649-aee3-5fdc8c8fa467",
   "metadata": {
    "scrolled": true
   },
   "outputs": [
    {
     "name": "stdout",
     "output_type": "stream",
     "text": [
      "대한민국\n",
      "정적메서드 toString()이 호출되었습니다!!\n",
      "이 객체의 국적속성의 값은 대한민국\n",
      "\n",
      "생성자메서드 __init__()가 호출되었습니다!\n",
      "손흥민 32 영국\n",
      "일반메서드 display()가 호출되었습니다!!\n",
      "정적메서드 toString()이 호출되었습니다!!\n",
      "이 객체의 국적속성의 값은 대한민국\n",
      "<__main__.Korean object at 0x000001C857000C90>\n",
      "<class '__main__.Korean'>\n"
     ]
    }
   ],
   "source": [
    "# 4. static variable\n",
    "%reset -f\n",
    "class Korean:\n",
    "\n",
    "    # 클래스멤버, 클래스변수, 정확하게는 static변수\n",
    "    nation = \"대한민국\"\n",
    "\n",
    "    @staticmethod\n",
    "    def toString():\n",
    "        print('정적메서드 toString()이 호출되었습니다!!')\n",
    "        print(f'이 객체의 국적속성의 값은 {Korean.nation}')\n",
    "        # print(f'이 객체의 국적속성의 값은 {nation}')  # self.nation와 동일의미\n",
    "        # print(f'이 객체의 국적속성의 값은 {self.name}')\n",
    "        # print(f'이 객체의 국적속성의 값은 {self.age}')\n",
    "        # print(f'이 객체의 국적속성의 값은 {self.addr}')\n",
    "        \n",
    "\n",
    "    def __init__(self, name=None, age=None, addr=None):\n",
    "        # 객체(인스턴스, 일반)변수 즉, 객체에 소속된 객체멤버\n",
    "        self.name = name\n",
    "        self.age = age\n",
    "        self.addr = addr\n",
    "        print('생성자메서드 __init__()가 호출되었습니다!')\n",
    "\n",
    "    # 일반메서드\n",
    "    def display(self):\n",
    "        print('일반메서드 display()가 호출되었습니다!!')\n",
    "\n",
    "print(Korean.nation)  # 정적변수\n",
    "Korean.toString()     # 정적메서드\n",
    "print()\n",
    "\n",
    "# Korean.name         # 객체멤버변수이기 때문에 클래스로 접근불가\n",
    "sonny = Korean(name=\"손흥민\", addr=\"영국\", age=32)\n",
    "print(sonny.name, sonny.age, sonny.addr)\n",
    "sonny.display()\n",
    "sonny.toString()\n",
    "print(sonny.__str__())\n",
    "print(type(sonny))"
   ]
  },
  {
   "cell_type": "code",
   "execution_count": 212,
   "id": "e9754f76-20c9-4f21-b2e8-746765d67617",
   "metadata": {},
   "outputs": [
    {
     "name": "stdout",
     "output_type": "stream",
     "text": [
      "1\n",
      "2\n",
      "3\n",
      "1959938967664 = 1959938967664\n",
      "3개의 Person객체가 생성되었습니다!!\n"
     ]
    }
   ],
   "source": [
    "# 5. class method, class variable(static variable, 즉 공통사용변수)\n",
    "%reset -f\n",
    "class Person:\n",
    "    # 클래스멤버 즉, static변수(공통사용변수)\n",
    "    count = 0; # 객체가 생성된 갯수\n",
    "\n",
    "    def __init__(self):\n",
    "        Person.count += 1 # Person객체가 생성될 때마다 static변수인 count가 1씩증가\n",
    "\n",
    "    @classmethod\n",
    "    def print_count(cls): # cls는 Person\n",
    "        print(f'{cls.count}개의 Person객체가 생성되었습니다!!')\n",
    "\n",
    "    @classmethod\n",
    "    def return_id(cls): # cls는 Person        \n",
    "        return id(cls)\n",
    "    \n",
    "kim = Person()\n",
    "print(kim.count)\n",
    "\n",
    "lee = Person()\n",
    "print(lee.count)\n",
    "\n",
    "park = Person()\n",
    "print(park.count)\n",
    "\n",
    "print(id(Person), '=', Person.return_id())\n",
    "Person.print_count()\n",
    "\n",
    "# 클래스메서드는 정적메서드처럼 인스턴스(객체)생성없이 접근할 수 있다는 점에서는 동일하지만\n",
    "# 클래스메서드는 메서안에서 클래스의 속성(클래스멤버변수)과 클래스메서드에 접근할 때 사용한다.\n",
    "# 특히 cls를 사용하면 메서드안에서 현재 클래스의 인스턴스(객체)를 만들수 있다.\n",
    "# 즉, cls는 현재의 클래스이므로 Person과 동일하다."
   ]
  },
  {
   "cell_type": "code",
   "execution_count": 215,
   "id": "3cd5edee-b153-4dbf-8c89-30796387b3d9",
   "metadata": {},
   "outputs": [
    {
     "name": "stdout",
     "output_type": "stream",
     "text": [
      "클래스메서드호출과 생성자호출 : <class '__main__.Human'> = <class '__main__.Human'>\n"
     ]
    }
   ],
   "source": [
    "# 6. 생성자를 사용하지 않고 객체를 생성할 수 있다.\n",
    "%reset -f\n",
    "class Human:\n",
    "\n",
    "    @classmethod\n",
    "    def create(cls):\n",
    "        p = cls()  # cls() 즉 Human()와 동일 즉, 생성자함수(__init__())를 호출한다.\n",
    "        return p\n",
    "\n",
    "lee = Human()\n",
    "kim = Human.create()\n",
    "print('클래스메서드호출과 생성자호출 :', type(lee), '=', type(kim))"
   ]
  },
  {
   "cell_type": "markdown",
   "id": "eb8fa102-9ef5-4e13-b58d-3593429580da",
   "metadata": {},
   "source": [
    "#### 클래스의 상속\n",
    "\n",
    "* 파이썬에서 상속이란 특정 클래스를 만들 떄 해당 클래스의 속성(변수와 메서드)를 상속할 수 있도록 하는 기능이다.\n",
    "* 부모클래스를 상속할 경우에는 부모의 생성자도 상속된다.\n",
    "* 파이썬에서는 Java와는 다르게 `다중상속이 가능`하다.\n",
    "* 문법\n",
    "  ```python\n",
    "  class 클래스명(부모클래스1,....):\n",
    "      pass\n",
    "  ```\n",
    "* object 클래스\n",
    "  - 파이썬에서 `최상위 부모클래스는 object클래스`이다.\n",
    "  - 파이썬에서 생성되는 객체는 모두 object클래스를 부모클래스로 상속한다.\n",
    "  - 따라서, 별도 정의없이도 기본적으로 object를 상속을 받는다."
   ]
  },
  {
   "cell_type": "code",
   "execution_count": 219,
   "id": "0fc9bd9b-df41-449b-ab4c-e7c0919e09e2",
   "metadata": {},
   "outputs": [
    {
     "name": "stdout",
     "output_type": "stream",
     "text": [
      "['__class__', '__delattr__', '__dir__', '__doc__', '__eq__', '__format__', '__ge__', '__getattribute__', '__getstate__', '__gt__', '__hash__', '__init__', '__init_subclass__', '__le__', '__lt__', '__ne__', '__new__', '__reduce__', '__reduce_ex__', '__repr__', '__setattr__', '__sizeof__', '__str__', '__subclasshook__']\n",
      "\n",
      "['__class__', '__delattr__', '__dict__', '__dir__', '__doc__', '__eq__', '__format__', '__ge__', '__getattribute__', '__getstate__', '__gt__', '__hash__', '__init__', '__init_subclass__', '__le__', '__lt__', '__module__', '__ne__', '__new__', '__reduce__', '__reduce_ex__', '__repr__', '__setattr__', '__sizeof__', '__str__', '__subclasshook__', '__weakref__']\n",
      "\n",
      "['__class__', '__delattr__', '__dict__', '__dir__', '__doc__', '__eq__', '__format__', '__ge__', '__getattribute__', '__getstate__', '__gt__', '__hash__', '__init__', '__init_subclass__', '__le__', '__lt__', '__module__', '__ne__', '__new__', '__reduce__', '__reduce_ex__', '__repr__', '__setattr__', '__sizeof__', '__str__', '__subclasshook__', '__weakref__']\n",
      "\n",
      "['__class__', '__delattr__', '__dict__', '__dir__', '__doc__', '__eq__', '__format__', '__ge__', '__getattribute__', '__getstate__', '__gt__', '__hash__', '__init__', '__init_subclass__', '__le__', '__lt__', '__module__', '__ne__', '__new__', '__reduce__', '__reduce_ex__', '__repr__', '__setattr__', '__sizeof__', '__str__', '__subclasshook__', '__weakref__']\n"
     ]
    }
   ],
   "source": [
    "%reset -f\n",
    "# 최상위 부모객체 object를 상속\n",
    "class Calculator1:\n",
    "    pass\n",
    "\n",
    "class Calculator2():\n",
    "    pass\n",
    "    \n",
    "class Calculator3(object):\n",
    "    pass\n",
    "\n",
    "print(dir(object))\n",
    "print()\n",
    "print(dir(Calculator1))\n",
    "print()\n",
    "print(dir(Calculator2))\n",
    "print()\n",
    "print(dir(Calculator3))"
   ]
  },
  {
   "cell_type": "code",
   "execution_count": 266,
   "id": "733d5e8f-2be2-43c0-9e9e-38fdb11b36f2",
   "metadata": {},
   "outputs": [],
   "source": [
    "%reset -f\n",
    "class Calculator:\n",
    "\n",
    "    def __init__(self, first=None, second=None):\n",
    "        print('부모생성자(Calculator)가 호출되었습니다!!')\n",
    "        self.first = 0 if first is None else first\n",
    "        self.second = 0 if second is None else second\n",
    "\n",
    "    def add(self):\n",
    "        result = self.first + self.second\n",
    "        return result\n",
    "\n",
    "    def sub(self):\n",
    "        return self.first - self.second\n",
    "\n",
    "    def mul(self):\n",
    "        result = self.first * self.second\n",
    "        return result\n",
    "\n",
    "    def div(self):\n",
    "        return self.first / self.second"
   ]
  },
  {
   "cell_type": "code",
   "execution_count": 267,
   "id": "e0caf5e7-2c55-4c8c-8e06-730126055119",
   "metadata": {},
   "outputs": [
    {
     "name": "stdout",
     "output_type": "stream",
     "text": [
      "부모생성자(Calculator)가 호출되었습니다!!\n",
      "30 10 200 2.0\n"
     ]
    }
   ],
   "source": [
    "cal = Calculator(20,10)\n",
    "print(cal.add(), cal.sub(), cal.mul(), cal.div())"
   ]
  },
  {
   "cell_type": "code",
   "execution_count": 268,
   "id": "4ab56f1e-7255-4894-90cd-4bc0940473d1",
   "metadata": {},
   "outputs": [],
   "source": [
    "# 제곱근을 계산하는 계산기 만들기\n",
    "# 1. 상속후에 pow()메서드만 추가\n",
    "#    생성자는 부모생성자를 호출(super())\n",
    "class SubCalculator1(Calculator):\n",
    "\n",
    "    def __init__(self, first=None, second=None):\n",
    "        super().__init__(first, second)\n",
    "        # super(first, second) 확인 필요\n",
    "\n",
    "    def pow(self):\n",
    "        return self.first ** self.second"
   ]
  },
  {
   "cell_type": "code",
   "execution_count": 269,
   "id": "5d3910db-0c7b-49e5-bd81-1ca45714ce30",
   "metadata": {},
   "outputs": [
    {
     "name": "stdout",
     "output_type": "stream",
     "text": [
      "부모생성자(Calculator)가 호출되었습니다!!\n",
      "5 -1 6 0.6666666666666666 8\n"
     ]
    }
   ],
   "source": [
    "cal1 = SubCalculator1(2, 3)\n",
    "print(cal1.add(), cal1.sub(), cal1.mul(), cal1.div(), cal1.pow())"
   ]
  },
  {
   "cell_type": "code",
   "execution_count": 270,
   "id": "90764868-3f3b-488d-b512-ffec6c898f1e",
   "metadata": {},
   "outputs": [
    {
     "name": "stdout",
     "output_type": "stream",
     "text": [
      "부모생성자(Calculator)가 호출되었습니다!!\n"
     ]
    },
    {
     "ename": "ZeroDivisionError",
     "evalue": "division by zero",
     "output_type": "error",
     "traceback": [
      "\u001b[1;31m---------------------------------------------------------------------------\u001b[0m",
      "\u001b[1;31mZeroDivisionError\u001b[0m                         Traceback (most recent call last)",
      "Cell \u001b[1;32mIn[270], line 2\u001b[0m\n\u001b[0;32m      1\u001b[0m cal1 \u001b[38;5;241m=\u001b[39m SubCalculator1(\u001b[38;5;241m2\u001b[39m, \u001b[38;5;241m0\u001b[39m)\n\u001b[1;32m----> 2\u001b[0m \u001b[38;5;28mprint\u001b[39m(cal1\u001b[38;5;241m.\u001b[39madd(), cal1\u001b[38;5;241m.\u001b[39msub(), cal1\u001b[38;5;241m.\u001b[39mmul(), cal1\u001b[38;5;241m.\u001b[39mdiv(), cal1\u001b[38;5;241m.\u001b[39mpow())\n",
      "Cell \u001b[1;32mIn[266], line 21\u001b[0m, in \u001b[0;36mCalculator.div\u001b[1;34m(self)\u001b[0m\n\u001b[0;32m     20\u001b[0m \u001b[38;5;28;01mdef\u001b[39;00m \u001b[38;5;21mdiv\u001b[39m(\u001b[38;5;28mself\u001b[39m):\n\u001b[1;32m---> 21\u001b[0m     \u001b[38;5;28;01mreturn\u001b[39;00m \u001b[38;5;28mself\u001b[39m\u001b[38;5;241m.\u001b[39mfirst \u001b[38;5;241m/\u001b[39m \u001b[38;5;28mself\u001b[39m\u001b[38;5;241m.\u001b[39msecond\n",
      "\u001b[1;31mZeroDivisionError\u001b[0m: division by zero"
     ]
    }
   ],
   "source": [
    "cal1 = SubCalculator1(2, 0)\n",
    "print(cal1.add(), cal1.sub(), cal1.mul(), cal1.div(), cal1.pow())"
   ]
  },
  {
   "cell_type": "code",
   "execution_count": 272,
   "id": "20d8158d-04d0-4605-8c8e-a17d73e833ab",
   "metadata": {},
   "outputs": [
    {
     "name": "stdout",
     "output_type": "stream",
     "text": [
      "부모생성자(Calculator)가 호출되었습니다!!\n",
      "나누기연산에서 분모값은 0일수가 없습니다!!\n",
      "10 10 0 0 1\n"
     ]
    }
   ],
   "source": [
    "class SubCalculator2(SubCalculator1):\n",
    "\n",
    "    # 오버라이딩 - 부모메서드재정의\n",
    "    # ZeroDivisionError: division by zero 해결로직\n",
    "    def div(self):\n",
    "        if self.second == 0:\n",
    "            print('나누기연산에서 분모값은 0일수가 없습니다!!')\n",
    "            return 0\n",
    "        else:\n",
    "            return self.first / self.second\n",
    "\n",
    "cal2 = SubCalculator2(10, 0)\n",
    "print(cal2.add(), cal2.sub(), cal2.mul(), cal2.div(), cal2.pow())"
   ]
  },
  {
   "cell_type": "code",
   "execution_count": 273,
   "id": "153659ce-c186-46a4-b6d2-68438c65d45f",
   "metadata": {},
   "outputs": [
    {
     "ename": "TypeError",
     "evalue": "Cannot create a consistent method resolution\norder (MRO) for bases SubCalculator1, SubCalculator2",
     "output_type": "error",
     "traceback": [
      "\u001b[1;31m---------------------------------------------------------------------------\u001b[0m",
      "\u001b[1;31mTypeError\u001b[0m                                 Traceback (most recent call last)",
      "Cell \u001b[1;32mIn[273], line 2\u001b[0m\n\u001b[0;32m      1\u001b[0m \u001b[38;5;66;03m# 다중상속문제해결(MRO, Method Resoultion, Order)\u001b[39;00m\n\u001b[1;32m----> 2\u001b[0m \u001b[38;5;28;01mclass\u001b[39;00m \u001b[38;5;21;01mSubCalculator3\u001b[39;00m(SubCalculator1, SubCalculator2):\n\u001b[0;32m      3\u001b[0m     \u001b[38;5;28;01mpass\u001b[39;00m\n\u001b[0;32m      5\u001b[0m cal3 \u001b[38;5;241m=\u001b[39m SubCalculator3(\u001b[38;5;241m10\u001b[39m, \u001b[38;5;241m0\u001b[39m)\n",
      "\u001b[1;31mTypeError\u001b[0m: Cannot create a consistent method resolution\norder (MRO) for bases SubCalculator1, SubCalculator2"
     ]
    }
   ],
   "source": [
    "# 다중상속문제해결(MRO, Method Resoultion, Order)\n",
    "class SubCalculator3(SubCalculator1, SubCalculator2):\n",
    "    pass\n",
    "\n",
    "cal3 = SubCalculator3(10, 0)\n",
    "cal3.div()"
   ]
  },
  {
   "cell_type": "code",
   "execution_count": 274,
   "id": "fb64f0e2-5940-493c-9e4e-a7563ecc1b1b",
   "metadata": {},
   "outputs": [
    {
     "name": "stdout",
     "output_type": "stream",
     "text": [
      "부모생성자(Calculator)가 호출되었습니다!!\n",
      "나누기연산에서 분모값은 0일수가 없습니다!!\n"
     ]
    },
    {
     "data": {
      "text/plain": [
       "0"
      ]
     },
     "execution_count": 274,
     "metadata": {},
     "output_type": "execute_result"
    }
   ],
   "source": [
    "class SubCalculator3(SubCalculator2, SubCalculator1):\n",
    "    pass\n",
    "\n",
    "cal3 = SubCalculator3(10, 0)\n",
    "cal3.div()"
   ]
  },
  {
   "cell_type": "code",
   "execution_count": 288,
   "id": "d0213342-32ed-4f28-b076-39612b80cf63",
   "metadata": {},
   "outputs": [
    {
     "name": "stdout",
     "output_type": "stream",
     "text": [
      "Person 생성자함수 호출!!\n",
      "Hello Python\n",
      "안녕하세요\n",
      "\n",
      "Student 생성자함수 호출!!\n",
      "홍길동\n",
      "Hello Python\n",
      "Hello Python\n"
     ]
    }
   ],
   "source": [
    "# 2. 부모클래스의 속성 사용하기\n",
    "%reset -f\n",
    "class Person:\n",
    "    # hello를 주석처리 번갈아 가면서 확인\n",
    "    hello = 'Hello Python' \n",
    "\n",
    "    def __init__(self):\n",
    "        print('Person 생성자함수 호출!!')\n",
    "        self.hello = \"안녕하세요\"\n",
    "\n",
    "class Student(Person):\n",
    "\n",
    "    # __init__를 주석처리 번갈아 가면서 확인\n",
    "    def __init__(self):\n",
    "        print('Student 생성자함수 호출!!')\n",
    "        self.name = \"홍길동\"   \n",
    "        \n",
    "    pass\n",
    "    \n",
    "person = Person()\n",
    "print(Person.hello)\n",
    "print(person.hello)\n",
    "print()\n",
    "\n",
    "student = Student()\n",
    "print(student.name)\n",
    "print(student.hello) # Student에는 hello속성이 없기 때문에 부모의 속성 hello의 값을 출력\n",
    "print(Student.hello)\n",
    "\n",
    "# Person의 hello에 주석처리를 했을 경우 에러가 발생하는 이유는 hello는 Person클래스에 소속된 변수이기 때문이다.\n",
    "# Student의 __init__를 주석처리를 했을 경우 Student객체가 생성될 때 부모생성자가 호출(super().__init__())이 된다."
   ]
  },
  {
   "cell_type": "code",
   "execution_count": 293,
   "id": "b8b69efc-0277-410c-8ae8-8030ea71b0e8",
   "metadata": {},
   "outputs": [
    {
     "name": "stdout",
     "output_type": "stream",
     "text": [
      "Person 생성자함수 호출!!\n",
      "안녕하세요\n"
     ]
    }
   ],
   "source": [
    "# 3. super()메서드로 부모클래스를 초기화 하기\n",
    "%reset -f\n",
    "class Person:\n",
    "\n",
    "    def __init__(self):\n",
    "        print('Person 생성자함수 호출!!')\n",
    "        self.hello = \"안녕하세요\"\n",
    "\n",
    "class Student(Person):\n",
    "\n",
    "    # __init__를 주석처리 번갈아 가면서 확인\n",
    "    def __init__(self):\n",
    "        super().__init__()  # 주석을 toggle해서 실습하기\n",
    "        print('Student 생성자함수 호출!!')\n",
    "        self.name = \"홍길동\"   \n",
    "    \n",
    "student = Student()\n",
    "print(student.name)\n",
    "print(student.hello)\n",
    "\n",
    "# 부모객체의 속성에 접근하려면 부모생성자를 명시적으로 호출해야 한다. 부모객체가 생성된 후에 부모객체의 변수에 접근할 수 있다.\n",
    "# Java는 super()를 명시적으로 정의하지 않아도 자동으로 호출하지만, 파이썬에서는 기본생성자일지라도 명시적으로 호출해야 한다."
   ]
  },
  {
   "cell_type": "markdown",
   "id": "51af012e-c056-43ab-9dfc-fa55163cd0cf",
   "metadata": {},
   "source": [
    "##### 부모클래스의 속성을 찾는 process\n",
    "\n",
    "><img src=\"./images/16.클래스_class_07.png\" width=\"500\" height=\"400\">"
   ]
  },
  {
   "cell_type": "code",
   "execution_count": 297,
   "id": "ccdb6b35-1a08-4016-b628-b55b7fab3efa",
   "metadata": {},
   "outputs": [
    {
     "name": "stdout",
     "output_type": "stream",
     "text": [
      "Person 생성자함수 호출!!\n",
      "홍길동\n",
      "안녕하세요\n"
     ]
    }
   ],
   "source": [
    "# 4. 부모클래스를 초기화 하지 않아도 되는 경우\n",
    "# 만약, 자식클래스에서 생성자메서드를 명시적으로 선언하지 않았다면\n",
    "# 즉, 생략이 되었다면 자동으로 부모클래스의 생성자를 호출하기 때문에\n",
    "# super()메서드를 사용하지 않아도 된다.\n",
    "%reset -f\n",
    "class Person:\n",
    "\n",
    "    def __init__(self):\n",
    "        print('Person 생성자함수 호출!!')\n",
    "        self.hello = \"안녕하세요\"\n",
    "\n",
    "class Student(Person):\n",
    "    name = \"홍길동\"\n",
    "    pass\n",
    "\n",
    "student = Student()\n",
    "print(student.name)\n",
    "print(student.hello)"
   ]
  },
  {
   "cell_type": "code",
   "execution_count": 301,
   "id": "9bf71bea-a324-4467-b982-5e77f1d42946",
   "metadata": {},
   "outputs": [
    {
     "name": "stdout",
     "output_type": "stream",
     "text": [
      "Person 생성자함수 호출!!\n",
      "Student 생성자함수 호출!!\n",
      "홍길동\n",
      "안녕하세요\n"
     ]
    }
   ],
   "source": [
    "# 4. 명확하게 super()메서드를 사용하기\n",
    "# super(자식클래스, self)와 같이 선언하면 super는 Student클래스와 객체(self)를 전달해서\n",
    "# 현재 클래스가 어떤 클래스인지를 명확하게 표시하는 방법이 있다.\n",
    "%reset -f\n",
    "%reset -f\n",
    "class Person:\n",
    "\n",
    "    def __init__(self):\n",
    "        print('Person 생성자함수 호출!!')\n",
    "        self.hello = \"안녕하세요\"\n",
    "\n",
    "class Student(Person):\n",
    "\n",
    "    def __init__(self):\n",
    "        super(Student, self).__init__() # 부모생성자를 호출\n",
    "        print('Student 생성자함수 호출!!')\n",
    "        self.name = \"홍길동\"\n",
    "\n",
    "student = Student()\n",
    "print(student.name)\n",
    "print(student.hello)"
   ]
  },
  {
   "cell_type": "markdown",
   "id": "075d898a-b351-4559-ae1e-057d8e8aa91e",
   "metadata": {},
   "source": [
    "##### 6. 다중상속\n",
    "\n",
    "><img src=\"./images/16.클래스_class_08.png\" width=\"500\" height=\"400\" />\n",
    "><img src=\"./images/16.클래스_class_09.png\" width=\"500\" height=\"400\" />"
   ]
  },
  {
   "cell_type": "code",
   "execution_count": 302,
   "id": "228997de-40ef-4307-9057-aa059d4faec6",
   "metadata": {},
   "outputs": [
    {
     "name": "stdout",
     "output_type": "stream",
     "text": [
      "전화통화를 합니다!\n",
      "사진촬영을 합니다!\n",
      "영상통화를 합니다!\n"
     ]
    }
   ],
   "source": [
    "# 1. 다중상속 : 전화 > 카메라 > 동영상\n",
    "class Phone:\n",
    "    def call(self):\n",
    "        print('전화통화를 합니다!')\n",
    "\n",
    "class Camera:\n",
    "    def photo(self):\n",
    "        print('사진촬영을 합니다!')\n",
    "\n",
    "class SmartPhone(Phone, Camera):\n",
    "    def photo_call(self):\n",
    "        print('영상통화를 합니다!')\n",
    "\n",
    "phone = SmartPhone()\n",
    "phone.call()\n",
    "phone.photo()\n",
    "phone.photo_call()"
   ]
  },
  {
   "cell_type": "code",
   "execution_count": 305,
   "id": "013e68ed-0112-4a2d-96ff-15cad800f439",
   "metadata": {},
   "outputs": [
    {
     "name": "stdout",
     "output_type": "stream",
     "text": [
      "안녕하세요? B입니다!\n",
      "안녕하세요? C입니다!\n"
     ]
    }
   ],
   "source": [
    "# 2. 다이아몬드상속\n",
    "class A:\n",
    "    def greeting(self):\n",
    "        print('안녕하세요? A입니다!')\n",
    "\n",
    "class B(A):\n",
    "    def greeting(self):\n",
    "        print('안녕하세요? B입니다!')\n",
    "\n",
    "\n",
    "class C(A):\n",
    "    def greeting(self):\n",
    "        print('안녕하세요? C입니다!')\n",
    "\n",
    "class D1(B, C):\n",
    "    pass\n",
    "\n",
    "\n",
    "class D2(C, B):\n",
    "    pass\n",
    "    \n",
    "d1 = D1()\n",
    "d1.greeting();\n",
    "\n",
    "d2 = D2()\n",
    "d2.greeting();\n",
    "\n",
    "# 상기와 같이 클래스간에 다이아몬드처럼 생겨서 객체지향프로그램언어에서는 이런 상속관계를 다이아몬드상속이라고 한다.\n",
    "# D1, D2에서 어느 부모의 속성을 상속받을지 애매모호한 상태가 발생하게 된다. 만약, 사람의 생명을 다루는 프로그램이라면\n",
    "# 심각한 상황을 초래할 수가 있다. \n",
    "# 이러한 문제를 해결하기 하기 위해수는 파이썬에서 \"MRO(Method Resoultion Order) 메서드탐색순서\"를 정의하고 있다."
   ]
  },
  {
   "cell_type": "code",
   "execution_count": 311,
   "id": "9e1f7311-1430-4f8c-b04a-9e503ef8179f",
   "metadata": {},
   "outputs": [
    {
     "name": "stdout",
     "output_type": "stream",
     "text": [
      "[<class '__main__.D1'>, <class '__main__.B'>, <class '__main__.C'>, <class '__main__.A'>, <class 'object'>]\n",
      "[<class '__main__.D2'>, <class '__main__.C'>, <class '__main__.B'>, <class '__main__.A'>, <class 'object'>]\n",
      "\n",
      "[<class 'int'>, <class 'object'>]\n",
      "[<class 'str'>, <class 'object'>]\n",
      "[<class 'list'>, <class 'object'>]\n",
      "[<class 'dict'>, <class 'object'>]\n"
     ]
    }
   ],
   "source": [
    "# 3. 다이아몬드상속의 문제해결\n",
    "# MRO를 확인하기 위해서는 클래스명.mro()함수를 이용하면 MRO를 확인할 수 있다.\n",
    "print(D1.mro())\n",
    "print(D2.mro())\n",
    "print()\n",
    "\n",
    "print(int.mro())\n",
    "print(str.mro())\n",
    "print(list.mro())\n",
    "print(dict.mro())\n"
   ]
  },
  {
   "cell_type": "markdown",
   "id": "079b95d9-1b6e-4ccc-9ecf-8372ceebe6fb",
   "metadata": {},
   "source": [
    "##### 7. 추상화\n",
    "\n",
    "* 파이썬에셔는 Java와 같이 `추상클래스(abstract class)를 제공`한다.\n",
    "* 추상클래스는 메서드의 목록만 선언 즉, 실행문이 없는 메서드만 가진 클래스이다.\n",
    "* 추상클래스의 주된 목적은 상속받는 자식클래스에서 메서드의 구현을 강제화하기 위해 사용한다.\n",
    "* 추상클래스를 만들기 위해서는 `import abc`처럼 abc(Abstract Base Class)모듈을 로딩해야 한다.\n",
    "* 그리고, 클래스의 소괄호안에 `metaclass=ABCMeta를 지정`하고 메서드선언 위에 `@abstractmethod`를 선언해서 추상메서드로 선언한다.\n",
    "* 사용법\n",
    "  ```python\n",
    "  from abc import *\n",
    "  class 추상클래스명(metaclass=ABCMeta):\n",
    "      @abstractmethod\n",
    "      def 추상메서드명(self): pass\n",
    "  ```"
   ]
  },
  {
   "cell_type": "code",
   "execution_count": 328,
   "id": "88bea65b-1f30-4771-93cd-d9837fff7245",
   "metadata": {},
   "outputs": [],
   "source": [
    "# 1. 추상클래스만들기\n",
    "%reset -f\n",
    "from abc import *\n",
    "class StudentAbstract(metaclass=ABCMeta):\n",
    "    @abstractmethod # 추상메서으로 선언하면 상속받는 클래스에서 반드시 구현해야 한다.\n",
    "    def study(self): pass\n",
    "\n",
    "class Student(StudentAbstract):\n",
    "    def study(self):\n",
    "        print('공부를 합니다!!')\n",
    "\n",
    "    def goto_school(self):\n",
    "        print('학교를 갑니다!')"
   ]
  },
  {
   "cell_type": "code",
   "execution_count": 329,
   "id": "91cf1634-610c-4590-8494-a2e4f432ae78",
   "metadata": {},
   "outputs": [
    {
     "name": "stdout",
     "output_type": "stream",
     "text": [
      "공부를 합니다!!\n",
      "학교를 갑니다!\n"
     ]
    }
   ],
   "source": [
    "student = Student()\n",
    "student.study() # 구현을 안할 경우 TypeError: Can't instantiate abstract class Student with abstract method study\n",
    "student.goto_school()"
   ]
  },
  {
   "cell_type": "code",
   "execution_count": 333,
   "id": "372e4d41-f77c-4577-96f2-9804bb434132",
   "metadata": {},
   "outputs": [],
   "source": [
    "# 추상클래스는 객체를 생성할 수 없다.\n",
    "aaa = Student()\n",
    "# xxx = StudentAbstract() # TypeError: Can't instantiate abstract class StudentAbstract with abstract method study"
   ]
  },
  {
   "cell_type": "markdown",
   "id": "8e5b3f22-0d70-4fe7-8f08-7e481a136f53",
   "metadata": {},
   "source": [
    "#### 8. 클래스멤버변수\n",
    "\n",
    "* 파이썬에서 클래스멤버변수는 `클래스에 의해 생성된 모든 인스턴스(객체)에서 공유`된다는 특징이 있다."
   ]
  },
  {
   "cell_type": "code",
   "execution_count": 353,
   "id": "87f3132e-775f-4059-9384-21b1ce8757d9",
   "metadata": {},
   "outputs": [
    {
     "name": "stdout",
     "output_type": "stream",
     "text": [
      "홍 홍\n"
     ]
    }
   ],
   "source": [
    "class Family:\n",
    "    last_name = \"홍\"\n",
    "    first_name = str()\n",
    "\n",
    "hong1 = Family()\n",
    "hong2 = Family()\n",
    "\n",
    "print(hong1.last_name, hong2.last_name)"
   ]
  },
  {
   "cell_type": "code",
   "execution_count": 354,
   "id": "05e5a443-f630-4f46-8a7d-baa0e36e1f06",
   "metadata": {},
   "outputs": [
    {
     "name": "stdout",
     "output_type": "stream",
     "text": [
      "1959988049392\n",
      "1959988049392\n",
      "1959988049392\n",
      "\n",
      "140737447401184\n",
      "140737447401184\n",
      "140737447401184\n"
     ]
    }
   ],
   "source": [
    "# 동일변수여부확인\n",
    "print(id(hong1.last_name))\n",
    "print(id(hong2.last_name))\n",
    "print(id(Family.last_name))\n",
    "print()\n",
    "\n",
    "print(id(hong1.first_name))\n",
    "print(id(hong2.first_name))\n",
    "print(id(Family.first_name))"
   ]
  },
  {
   "cell_type": "code",
   "execution_count": 355,
   "id": "112bfa44-6bf5-4882-a09d-5064fd47e74a",
   "metadata": {},
   "outputs": [
    {
     "name": "stdout",
     "output_type": "stream",
     "text": [
      "Family : 홍\n",
      "hong1  : 홍\n",
      "hong2  : 김\n",
      "\n",
      "Family : 트럼프\n",
      "hong1  : 트럼프\n",
      "hong2  : 김\n",
      "\n"
     ]
    }
   ],
   "source": [
    "# 공통변수 속성의 문제점\n",
    "# hong1.last_name = \"박\" \n",
    "hong2.last_name = \"김\"  \n",
    "\n",
    "print(f'Family : {Family.last_name}')\n",
    "print(f'hong1  : {hong1.last_name}')\n",
    "print(f'hong2  : {hong2.last_name}')\n",
    "print()\n",
    "\n",
    "Family.last_name = \"트럼프\"\n",
    "print(f'Family : {Family.last_name}')\n",
    "print(f'hong1  : {hong1.last_name}') # last_name - Family클래스의 클래스멤버변수\n",
    "print(f'hong2  : {hong2.last_name}') # last_name - hong2객체의 객체변수\n",
    "print()"
   ]
  },
  {
   "cell_type": "markdown",
   "id": "8a895e98-a398-403a-99ee-21800b8682ca",
   "metadata": {},
   "source": [
    "#### 8. 클래스속성\n",
    "\n",
    "* 클래스의 속성에는 `클래스속성(클래스멤버)과 인스턴스속성(객체멤버)` 2가지 종류가 있다.\n",
    "* 생성자에 의해 정의된 속성은 객체속성이고 class에서 선언된 속성은 클래스속성이다."
   ]
  },
  {
   "cell_type": "code",
   "execution_count": 360,
   "id": "c7a17646-d1ba-4808-bdb9-edf6605c1e6d",
   "metadata": {},
   "outputs": [
    {
     "name": "stdout",
     "output_type": "stream",
     "text": [
      "[] [] []\n",
      "1959988953216 1959988953216 1959988953216\n",
      "\n",
      "['자동차키', '핸드폰', '지갑'] ['자동차키', '핸드폰', '지갑'] ['자동차키', '핸드폰', '지갑']\n",
      "1959988953216 1959988953216 1959988953216\n"
     ]
    }
   ],
   "source": [
    "# 1. 클래스속성사용하기\n",
    "%reset -f\n",
    "class Person:\n",
    "\n",
    "    bag = [] # 클래스멤버, Person으로 생성된 모든 객체에서 공통으로 사용되는 속성\n",
    "\n",
    "    def put_bag(self, stuff):\n",
    "        self.bag.append(stuff)\n",
    "\n",
    "kim = Person()\n",
    "lee = Person()\n",
    "park = Person()\n",
    "\n",
    "print(kim.bag, lee.bag, park.bag)\n",
    "print(id(kim.bag), id(lee.bag), id(park.bag))    \n",
    "print()\n",
    "\n",
    "kim.put_bag('자동차키')\n",
    "lee.put_bag('핸드폰')\n",
    "park.put_bag('지갑')\n",
    "\n",
    "print(kim.bag, lee.bag, park.bag)\n",
    "print(id(kim.bag), id(lee.bag), id(park.bag)) "
   ]
  },
  {
   "cell_type": "code",
   "execution_count": 365,
   "id": "98c8dfb6-c265-4d64-84e3-6b8cec484240",
   "metadata": {},
   "outputs": [
    {
     "name": "stdout",
     "output_type": "stream",
     "text": [
      "[] [] []\n",
      "1959978813568 1959978813568 1959978813568\n",
      "\n",
      "['자동차키', '핸드폰', '지갑'] ['자동차키', '핸드폰', '지갑'] ['자동차키', '핸드폰', '지갑']\n",
      "1959978813568 1959978813568 1959978813568\n",
      "1959987786064 1959978957872 1959988054992\n"
     ]
    }
   ],
   "source": [
    "%reset -f\n",
    "class Person:\n",
    "\n",
    "    bag = [] # 클래스멤버, Person으로 생성된 모든 객체에서 공통으로 사용되는 속성\n",
    "\n",
    "    def put_bag(self, stuff, name):\n",
    "        self.bag.append(stuff)\n",
    "        self.name = name   # 객체멤버 Person으로 생성된 객체에서 해당 객체만 사용되는 속성\n",
    "\n",
    "kim = Person()\n",
    "lee = Person()\n",
    "park = Person()\n",
    "\n",
    "print(kim.bag, lee.bag, park.bag)\n",
    "print(id(kim.bag), id(lee.bag), id(park.bag))      \n",
    "print()\n",
    "\n",
    "kim.put_bag('자동차키', '김씨')\n",
    "lee.put_bag('핸드폰', '이씨')\n",
    "park.put_bag('지갑', '박씨')\n",
    "\n",
    "print(kim.bag, lee.bag, park.bag)\n",
    "print(id(kim.bag), id(lee.bag), id(park.bag))\n",
    "print(id(kim.name), id(lee.name), id(park.name)) "
   ]
  },
  {
   "cell_type": "code",
   "execution_count": 367,
   "id": "8b469097-8dde-4ca1-abf9-e91de53265cc",
   "metadata": {},
   "outputs": [
    {
     "name": "stdout",
     "output_type": "stream",
     "text": [
      "{'name': '김씨'}\n",
      "{'name': '이씨'}\n",
      "{'name': '박씨'}\n",
      "\n",
      "{'__module__': '__main__', 'bag': ['자동차키', '핸드폰', '지갑'], 'put_bag': <function Person.put_bag at 0x000001C8581BADE0>, '__dict__': <attribute '__dict__' of 'Person' objects>, '__weakref__': <attribute '__weakref__' of 'Person' objects>, '__doc__': None}\n"
     ]
    }
   ],
   "source": [
    "# 해당변수가 클래스속성인지 객체속성인지 확인\n",
    "# __dict__ 속성으로 확인\n",
    "print(kim.__dict__)\n",
    "print(lee.__dict__)\n",
    "print(park.__dict__)\n",
    "print()\n",
    "\n",
    "print(Person.__dict__)"
   ]
  },
  {
   "cell_type": "code",
   "execution_count": 369,
   "id": "15020498-29d9-4e93-b47e-1820b9bffa81",
   "metadata": {},
   "outputs": [
    {
     "name": "stdout",
     "output_type": "stream",
     "text": [
      "[] [] []\n",
      "1959986947648 1959989792576 1959991159936\n",
      "\n",
      "['자동차키'] ['핸드폰'] ['지갑']\n",
      "1959986947648 1959989792576 1959991159936\n",
      "김씨 이씨 박씨\n",
      "1959987785488 1959987786832 1959987778384\n"
     ]
    }
   ],
   "source": [
    "# 객체속성으로 사용하기\n",
    "# 특정변수를 객체에서만 사용하기위해서는 해당변수를 클래스멤버로 선언하는 것이 아니라\n",
    "# 객체멤버 즉, 생성자함수에서 객체소속 변수로 선언해야 한다.\n",
    "%reset -f\n",
    "class Person:\n",
    "\n",
    "    def __init__(self):\n",
    "        self.bag = []\n",
    "\n",
    "    def put_bag(self, stuff, name):\n",
    "        self.bag.append(stuff)\n",
    "        self.name = name  \n",
    "\n",
    "kim = Person()\n",
    "lee = Person()\n",
    "park = Person()\n",
    "\n",
    "print(kim.bag, lee.bag, park.bag)\n",
    "print(id(kim.bag), id(lee.bag), id(park.bag))      \n",
    "print()\n",
    "\n",
    "kim.put_bag('자동차키', '김씨')\n",
    "lee.put_bag('핸드폰', '이씨')\n",
    "park.put_bag('지갑', '박씨')\n",
    "\n",
    "print(kim.bag, lee.bag, park.bag)\n",
    "print(id(kim.bag), id(lee.bag), id(park.bag))\n",
    "\n",
    "print(kim.name, lee.name, park.name) \n",
    "print(id(kim.name), id(lee.name), id(park.name)) "
   ]
  },
  {
   "cell_type": "code",
   "execution_count": 375,
   "id": "ea57c235-00e2-4ba2-9916-54a7c3bf622b",
   "metadata": {},
   "outputs": [
    {
     "name": "stdout",
     "output_type": "stream",
     "text": [
      "대한민국\n",
      "Korea\n",
      "Republic Of Korea\n"
     ]
    }
   ],
   "source": [
    "# 캡슐화(은닉화)\n",
    "# 비공개속성으로 사용하기\n",
    "# 클래스속성인데 객체속성처럼 비공개속성(비공유속성)으로 선언할 수가 있다.\n",
    "# 클래스 속성을 비공개속성으로 선언하려몀 \"__속성명\"으로 선언하면 비공개속성이 된다.\n",
    "# 비공개속성은 클래스안에서만 접근할 수 있고, 클래스 외부에서는 접근할 수 없다.\n",
    "\n",
    "# 파이썬에서는 Java처럼 완벽한 비공개, 즉 캡슐(은닉화)하기는 업렵다.\n",
    "# '__속성__'와 같이 선언된 속성은 캡슐화와는 상관이 없다. 즉, 공개속성이다.\n",
    "# '__속성'와 같이 선언된 속성이 비공개 속성이다.\n",
    "%reset -f\n",
    "class Korean:\n",
    "    country = \"대한민국\"\n",
    "    __country__ = \"Korea\"\n",
    "    __country = \"Republic Of Korea\"\n",
    "\n",
    "    def getCountry(self): # getter\n",
    "        # return '캡슐화(은닉화): 비공개속성은 접근할 수 없다!!'\n",
    "        return Korean.__country\n",
    "\n",
    "kim = Korean()\n",
    "print(kim.country)\n",
    "print(kim.__country__)\n",
    "# print(kim.__country) AttributeError: 'Korean' object has no attribute '__country'\n",
    "print(kim.getCountry()) # 비공개된 속성은 getter를 통해서 접근가능"
   ]
  },
  {
   "cell_type": "code",
   "execution_count": 379,
   "id": "0567f28d-265f-4a12-b9a2-27d5f613f0ea",
   "metadata": {},
   "outputs": [
    {
     "name": "stdout",
     "output_type": "stream",
     "text": [
      "대한민국\n",
      "Korea\n",
      "Republic Of Korea\n"
     ]
    }
   ],
   "source": [
    "# 파이썬에서는 불완전한 캡슐화(1)\n",
    "# Korean.__country # AttributeError: type object 'Korean' has no attribute '__country'\n",
    "Korean.__country = '미국'\n",
    "print(kim.country)\n",
    "print(kim.__country__)\n",
    "print(kim.getCountry()) "
   ]
  },
  {
   "cell_type": "code",
   "execution_count": 383,
   "id": "d1642755-bc10-4f65-a129-9772bcfb6572",
   "metadata": {},
   "outputs": [
    {
     "name": "stdout",
     "output_type": "stream",
     "text": [
      "['_Korean__country', '__class__', '__country', '__country__', '__delattr__', '__dict__', '__dir__', '__doc__', '__eq__', '__format__', '__ge__', '__getattribute__', '__getstate__', '__gt__', '__hash__', '__init__', '__init_subclass__', '__le__', '__lt__', '__module__', '__ne__', '__new__', '__reduce__', '__reduce_ex__', '__repr__', '__setattr__', '__sizeof__', '__str__', '__subclasshook__', '__weakref__', 'country', 'getCountry']\n",
      "미국\n",
      "Republic Of Korea\n",
      "\n",
      "['_Korean__country', '__class__', '__country', '__country__', '__delattr__', '__dict__', '__dir__', '__doc__', '__eq__', '__format__', '__ge__', '__getattribute__', '__getstate__', '__gt__', '__hash__', '__init__', '__init_subclass__', '__le__', '__lt__', '__module__', '__ne__', '__new__', '__reduce__', '__reduce_ex__', '__repr__', '__setattr__', '__sizeof__', '__str__', '__subclasshook__', '__weakref__', 'country', 'getCountry']\n"
     ]
    }
   ],
   "source": [
    "# 파이썬에서는 불완전한 캡슐화(2)\n",
    "print(dir(Korean)) # '_Korean__country'\n",
    "print(kim.__country)\n",
    "print(kim._Korean__country)\n",
    "print()\n",
    "\n",
    "# 언더바2개 즉, 비공개속성으로 선언된 변수의 이름은 내부적으로 \"_클래스명__변수명\"으로 변경이 되어 저장된다.\n",
    "# 확인하는 방법은 dir()함수로 확인할 수 있고 클래스와 객체의 각각의 변수를 확인할 수 있다.\n",
    "print(dir(kim))"
   ]
  },
  {
   "cell_type": "code",
   "execution_count": 390,
   "id": "55617d39-f960-4d71-8c89-184e94ba5690",
   "metadata": {},
   "outputs": [
    {
     "name": "stdout",
     "output_type": "stream",
     "text": [
      "Republic Of Korea\n",
      "영국\n",
      "영국\n"
     ]
    }
   ],
   "source": [
    "# 은닉화(비공개속성)된 변수는 setter를 통해서 변경\n",
    "%reset -f\n",
    "class Korean:\n",
    "    country = \"대한민국\"\n",
    "    __country__ = \"Korea\"\n",
    "    __country = \"Republic Of Korea\"\n",
    "\n",
    "    def getCountry(self): # getter\n",
    "        # return '캡슐화(은닉화): 비공개속성은 접근할 수 없다!!'\n",
    "        return self.__country\n",
    "\n",
    "    def setCountry(self, country):\n",
    "        self.__country = country\n",
    "\n",
    "kor = Korean()\n",
    "print(kor.getCountry())\n",
    "\n",
    "kor.setCountry('영국')\n",
    "print(kor.getCountry())\n",
    "print(kor._Korean__country)"
   ]
  },
  {
   "cell_type": "markdown",
   "id": "9861406b-8572-4e5b-8aaf-bfbb2b70e77a",
   "metadata": {},
   "source": [
    "##### 9. 다형성"
   ]
  },
  {
   "cell_type": "code",
   "execution_count": 392,
   "id": "cc8ae514-e81e-4be3-9bcf-e44e51a7b201",
   "metadata": {},
   "outputs": [
    {
     "name": "stdout",
     "output_type": "stream",
     "text": [
      "통화기능\n",
      "폴더폰:통화기능\n",
      "영상통화기능\n",
      "통화,영상통화, 인터넷검색 기능\n"
     ]
    }
   ],
   "source": [
    "class Phone:\n",
    "    def call(self):\n",
    "        print('통화기능')\n",
    "\n",
    "class FoldePhone(Phone):\n",
    "    def call(self):\n",
    "        print('폴더폰:통화기능')\n",
    "\n",
    "class CameraPhone(Phone):\n",
    "    def call(self):\n",
    "        print('영상통화기능')\n",
    "\n",
    "\n",
    "class SmartPhone(Phone):\n",
    "    def call(self):\n",
    "        print('통화,영상통화, 인터넷검색 기능')\n",
    "\n",
    "p1 = Phone()\n",
    "p1.call()\n",
    "\n",
    "p2 = FoldePhone()\n",
    "p2.call()\n",
    "\n",
    "p3 = CameraPhone()\n",
    "p3.call()\n",
    "\n",
    "p4 = SmartPhone()\n",
    "p4.call()"
   ]
  },
  {
   "cell_type": "code",
   "execution_count": null,
   "id": "11866550-04be-43d8-bcd2-eb2237d11b3c",
   "metadata": {},
   "outputs": [],
   "source": [
    "# 실습. 초보자를 위한 파이썬 300제 - 클래스 251~290"
   ]
  }
 ],
 "metadata": {
  "kernelspec": {
   "display_name": "Python 3 (ipykernel)",
   "language": "python",
   "name": "python3"
  },
  "language_info": {
   "codemirror_mode": {
    "name": "ipython",
    "version": 3
   },
   "file_extension": ".py",
   "mimetype": "text/x-python",
   "name": "python",
   "nbconvert_exporter": "python",
   "pygments_lexer": "ipython3",
   "version": "3.11.7"
  }
 },
 "nbformat": 4,
 "nbformat_minor": 5
}
