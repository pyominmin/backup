{
 "cells": [
  {
   "cell_type": "markdown",
   "id": "01e1a305-fa23-41cd-a76b-def29f25dc19",
   "metadata": {},
   "source": [
    "# 외장함수\n",
    "\n",
    "* 외장함수는 내장함수와 달리 `import 모듈(함수)`처럼 외부에 있는 패키지[class, 함수]등을 로딩한 후에 사용할 수 있는 함수"
   ]
  },
  {
   "cell_type": "code",
   "execution_count": null,
   "id": "d41c867b-f57c-4e85-a163-518d295c70d5",
   "metadata": {},
   "outputs": [],
   "source": [
    "# 1. sys\n",
    "import sys\n",
    "print(dir(sys))\n",
    "print()\n",
    "\n",
    "# 1) path : 경로추가, 삭제, 조회\n",
    "print(type(sys.path)) \n",
    "print(sys.path)\n",
    "print()\n",
    "\n",
    "# 2) argv : 실행명령에서 인수를 전달할 때\n",
    "# python.exe xxx.py 1st 2nd 3rd \"서울 부산\"\n",
    "print(type(sys.argv), sys.argv)\n",
    "print(sys.argv[0], sys.argv[1])\n",
    "print()\n",
    "\n",
    "# 3) exit : 프로그램 강제종료\n",
    "print(type(sys.exit))\n",
    "# sys.exit?\n",
    "sys.exit()"
   ]
  },
  {
   "cell_type": "code",
   "execution_count": null,
   "id": "c7a9415f-b7cb-46d6-bc6e-d74c8c840896",
   "metadata": {},
   "outputs": [],
   "source": [
    "# 2. os : 환경변수, 디렉토리, 파일, os자원등을 제어할 수 있게 하는 모듈\n",
    "import os\n",
    "\n",
    "# 1) os.environ\n",
    "# os.environ?\n",
    "print(type(os.environ), os.environ)\n",
    "print()\n",
    "\n",
    "print(os.environ['PATH'])\n",
    "print()\n",
    "\n",
    "print(os.environ['COMPUTERNAME'])\n",
    "print()\n",
    "\n",
    "print(os.environ['JAVA_HOME'])\n",
    "print()\n",
    "\n",
    "# os.chdir() : 현재폴더변경함수 -> cd 폴더명\n",
    "%pwd\n",
    "\n",
    "print(os.chdir('c:/windows'))\n",
    "%pwd\n",
    "\n",
    "print(os.chdir('d:/lec/05.python'))\n",
    "%pwd"
   ]
  },
  {
   "cell_type": "code",
   "execution_count": null,
   "id": "8892cd72-7dbd-4a51-83ff-d4744ffbcf69",
   "metadata": {},
   "outputs": [],
   "source": [
    "# 3. shutil - 파일을 복사해 주는 유틸리티\n",
    "import shutil\n",
    "# help(shutil)\n",
    "print(dir(shutil))\n",
    "shutil.copy('./data/newfile.txt', './data/newfile_copy.txt') "
   ]
  },
  {
   "cell_type": "code",
   "execution_count": null,
   "id": "d9946d71-8398-4c42-bd04-cb6d324c20be",
   "metadata": {},
   "outputs": [],
   "source": [
    "# 4. glob : 특정디렉토리목록을 출력\n",
    "import glob\n",
    "# help(glob)\n",
    "# glob.glob?\n",
    "l = glob.glob('./data/*.txt')\n",
    "print(type(l), l)\n",
    "\n",
    "glob.glob('./data/new*.txt')\n",
    "glob.glob('./data/*.css')\n",
    "glob.glob('./*.py')\n",
    "print()\n",
    "\n",
    "# glob.glob와 os.path를 이용하기\n",
    "files = glob.glob('*')\n",
    "\n",
    "for file in files:\n",
    "    if os.path.isdir(file):\n",
    "        print(f'{file}   <dir>')\n",
    "    else:\n",
    "        print(file)"
   ]
  },
  {
   "cell_type": "code",
   "execution_count": null,
   "id": "10a215dc-e6e4-49ab-abdb-3cafde7412fb",
   "metadata": {},
   "outputs": [],
   "source": [
    "# 5. tempfile - 파일을 임시로 생성해서 사용할 때 유용한 모듈\n",
    "import tempfile\n",
    "# help(tempfile)\n",
    "\n",
    "f_name = tempfile.mktemp()\n",
    "print(type(f_name), f_name)\n",
    "\n",
    "f = tempfile.TemporaryFile() # 임시로 사용할 파일객체를 리턴\n",
    "print(type(f), f)"
   ]
  },
  {
   "cell_type": "code",
   "execution_count": null,
   "id": "6f99f88c-3db7-4a2e-8084-60fea617291b",
   "metadata": {},
   "outputs": [],
   "source": [
    "# 6. time = 시간을 표현해 주는 모듈\n",
    "# 1970.1.1 00:00:00를 기준으로 ms별로 일련의 값을 리턴\n",
    "# 시간대 UTC(Universial Time Coordinate, 협정세계표준시)를 사용\n",
    "import time\n",
    "# help(time)\n",
    "# time.time?\n",
    "print(dir(time))\n",
    "time.time()\n",
    "\n",
    "from time import gmtime, localtime\n",
    "# gmtime, localtime : timestamp를 struct_time객체로 변환\n",
    "gmtime(time.time())\n",
    "gmtime(0)\n",
    "\n",
    "tm = localtime(time.time())\n",
    "print(dir(tm))\n",
    "print()\n",
    "\n",
    "print('년:', tm.tm_year)\n",
    "print('월:', tm.tm_mon)\n",
    "print('일:', tm.tm_mday)\n",
    "print('시:', tm.tm_hour)\n",
    "print('분:', tm.tm_min)\n",
    "print('초:', tm.tm_sec)\n",
    "print('요일:', tm.tm_wday) # 0~6 -> 월~일\n",
    "print('서머타임여부', tm.tm_isdst)"
   ]
  },
  {
   "cell_type": "code",
   "execution_count": null,
   "id": "b1563549-ff2d-41e4-98dc-c76ba9aefe12",
   "metadata": {},
   "outputs": [],
   "source": [
    "# 1) 날짜와 시간형태로 변환하기\n",
    "# time.strftime(포맷코드, 시각객체)\n",
    "print(time.localtime())\n",
    "print(time.strftime('%Y', time.localtime()))\n",
    "print(time.strftime('%Y.%m', time.localtime()))\n",
    "print(time.strftime('%Y.%m.%d', time.localtime()))\n",
    "print(time.strftime('%Y년 %m월 %d일 %H:%M:%S', time.localtime()))\n",
    "print(time.strftime('%Y.%m.%d %H:%M:%S', time.localtime()))"
   ]
  },
  {
   "cell_type": "code",
   "execution_count": null,
   "id": "9f228c14-04d5-460b-ab7d-cd0ea985315b",
   "metadata": {},
   "outputs": [],
   "source": [
    "# 2) datetime \n",
    "# 현재날짜와 현재시간을 구할때 today(), now()함수를 사용, 현재지역 즉, KST기준 리턴\n",
    "import datetime\n",
    "print(datetime.datetime.today())\n",
    "print(datetime.datetime.now())\n",
    "# help(datetime)"
   ]
  },
  {
   "cell_type": "markdown",
   "id": "9731d5e4-62a2-4750-aa43-87aff1c095a4",
   "metadata": {},
   "source": [
    "#### 파이썬패키지설치\n",
    "* 시간을 KST가준이 아니라 UTC시간대 기준으로 출력하기 위해서는 새로운 모듈을 설치\n",
    "* pytz이라는 패키지를 설치\n",
    "* 파이썬에 외부패키지(모듈)을 설치하는 방법\n",
    "  * python 설치명령 : `pip install 패키지명`\n",
    "  * conda 설치명령  : `conda install -y 패키지명`  \n",
    "  * pip프로그램을 최신버전으로 업그레이드명령 : `python -m pip install --upgrade pip`\n",
    "  * 설치된 패키지 상세조회 명령 : `pip show 패키지명`"
   ]
  },
  {
   "cell_type": "code",
   "execution_count": null,
   "id": "46c53747-67b3-4dec-8581-b85dcbd8f6ed",
   "metadata": {},
   "outputs": [],
   "source": [
    "# !pip install pytz\n",
    "import pytz\n",
    "# help(pytz)\n",
    "# !pip show pytz\n",
    "print(datetime.datetime.now())\n",
    "print(datetime.datetime.now(pytz.timezone('Asia/Seoul')))\n",
    "print(datetime.datetime.now(pytz.timezone('UTC')))"
   ]
  },
  {
   "cell_type": "code",
   "execution_count": null,
   "id": "8a919db4-021d-4353-832d-13dd0d4f847a",
   "metadata": {},
   "outputs": [],
   "source": [
    "# 3) 특정날짜와 시간을 객체로 반들기\n",
    "# datetime.datetime(year, month, day[, hour[, minute[, second[, microsecond[,tzinfo]]]]])\n",
    "\n",
    "# a. int로 생성하기\n",
    "d1 = datetime.datetime(2024, 3, 21)\n",
    "print(type(d1), d1)\n",
    "\n",
    "# b. str로 생성하기\n",
    "d2 = datetime.datetime.strptime('2024.3.21', '%Y.%m.%d')\n",
    "print(type(d2), d2)\n",
    "d3 = datetime.datetime.strptime('2024321', '%Y%m%d')\n",
    "print(type(d3), d3)\n",
    "\n",
    "# c. 문자열포맷으로 생성하기\n",
    "d4 = d3.strftime('%m.%d.%Y')\n",
    "print(type(d4), d4)"
   ]
  },
  {
   "cell_type": "code",
   "execution_count": null,
   "id": "006f5e24-3b91-4507-8595-a2e13c55743d",
   "metadata": {},
   "outputs": [],
   "source": [
    "# 4) 날짜와 시간차이 계산하기\n",
    "# datetime.timedelta?\n",
    "from datetime import timedelta\n",
    "d5 = datetime.datetime(1995,12,25)\n",
    "d5 = d5 - timedelta(days=20)\n",
    "print(type(d5), d5)\n",
    "\n",
    "print(datetime.datetime.now() - datetime.datetime(1995,12,25))"
   ]
  },
  {
   "cell_type": "code",
   "execution_count": null,
   "id": "c41d50f2-a201-478e-8b9a-a2d15dd845ae",
   "metadata": {},
   "outputs": [],
   "source": [
    "# 5) 일정시간동안 정지하기\n",
    "# time.sleep?\n",
    "for i in range(11):\n",
    "    print(i)\n",
    "    time.sleep(1) # 초단위"
   ]
  },
  {
   "cell_type": "code",
   "execution_count": null,
   "id": "46790d5d-7bd1-41c8-8db5-dd13392a3a50",
   "metadata": {},
   "outputs": [],
   "source": [
    "# 6) 파이썬에서 달력관련 모듈\n",
    "import calendar\n",
    "# help(calendar)\n",
    "# 외부에서 실행명령 - !python -m calendar 2024 \n",
    "# print(dir(calendar))\n",
    "\n",
    "# 1년치달력\n",
    "# print(calendar.calendar(2024))\n",
    "# print(calendar.prcal(2024))\n",
    "\n",
    "# 지정월 출력\n",
    "print(calendar.prmonth(2024,3))\n",
    "\n",
    "# 현재요일을 출력 : 0~6 월~일\n",
    "print(f'현재요일 = {calendar.weekday(2024,3,21)}')\n",
    "\n",
    "# 해당월의 1일의 요일과 마직일을 출력\n",
    "print(calendar.prmonth(2024,4))\n",
    "print(calendar.monthrange(2024, 4))"
   ]
  },
  {
   "cell_type": "code",
   "execution_count": null,
   "id": "f2919491-30df-452f-a864-80e651efaf25",
   "metadata": {},
   "outputs": [],
   "source": [
    "# 7. random - 난수발생 및 다양 랜덤함수를 제공\n",
    "import random\n",
    "# print(dir(random))\n",
    "\n",
    "random.seed(42)\n",
    "print(random.random())     # 0<= x < 1 사이의 난수(실수) 한 개를 리턴\n",
    "print(random.randint(1,6)) # 1<= x < 6 사이의 난수(정수) 한 개를 리턴\n",
    "print(random.uniform(1,6)) # 1<= x < 6 사이의 난수(실수) 한 개를 리턴\n",
    "print(random.randrange(0, 101, 2)) # 0<= x < 101까지 2씩 증가한 숫자 중에서 난수(실수) 한 개를 리턴\n",
    "print(random.choice('abcdefg')) # iterable한 매개변수에서 임의의 값 1개를 리턴\n",
    "print(random.choice(range(10)))\n",
    "print(random.choice(list(range(10))))\n",
    "\n",
    "# iterable을 자료를 랜덤하게 섞기\n",
    "items = [1,2,3,4,5,6,7,8,9,10]\n",
    "random.shuffle(items)\n",
    "print(items)"
   ]
  },
  {
   "cell_type": "code",
   "execution_count": null,
   "id": "be554d69-3d2b-4761-9404-e1fa5ee27306",
   "metadata": {},
   "outputs": [],
   "source": [
    "# 8. webbrowser - 기본 웹브라우저를 자동으로 실행\n",
    "import webbrowser as wb\n",
    "wb.open('www.python.org')\n",
    "wb.open_new('www.google.com')\n",
    "wb.open_new_tab('www.naver.com')\n",
    "# wb.open('iwbaek.dothome.com/index.html')"
   ]
  },
  {
   "cell_type": "code",
   "execution_count": null,
   "id": "df1a36ee-6d53-4424-8503-5f1927f0ed65",
   "metadata": {},
   "outputs": [],
   "source": [
    "# 9. namedtuple\n",
    "# 파이썬에서 사용하는 자료형중 하나이다. tuple이지만 속성으로 값에 접근할 수 있도록 해주는 자료형이다.\n",
    "# 특징\n",
    "# 1) tuple의 기본성질인 immutable한 자료형이다.\n",
    "# 2) 객체와 유사하나 객체보다 적은 메모리를 사용한다.\n",
    "# 3) 다양한 접근방법을 지원(대괄호, 인덱스...)\n",
    "# 4) name은 dict의 key와 같은 역할을 한다.\n",
    "\n",
    "# a. 일반적인 tuple자료형\n",
    "hong = ('홍길동', 1000, '프로그래머')\n",
    "kim = '소향',44,'가수'\n",
    "sonny = '손흥민',32,'축구선수'\n",
    "\n",
    "for person in [hong, kim, sonny]:\n",
    "    print(f'이름={person[0]}, 나이={person[1]}, 직업={person[2]}')"
   ]
  },
  {
   "cell_type": "code",
   "execution_count": null,
   "id": "8f25683f-66d1-4d0d-ae32-779e874bfaa8",
   "metadata": {},
   "outputs": [],
   "source": [
    "# b. class로 객체로 생성\n",
    "class Person:\n",
    "    def __init__(self, name=None, age=None, job=None):\n",
    "        self.name = name\n",
    "        self.age = age\n",
    "        self.job = job\n",
    "\n",
    "hong = Person('홍길동', 1000, '프로그래머')\n",
    "kim = Person('소향',44,'가수')\n",
    "sonny = Person('손흥민',32,'축구선수')\n",
    "\n",
    "for person in [hong, kim, sonny]:\n",
    "    print(f'이름={person.name}, 나이={person.age}, 직업={person.job}')"
   ]
  },
  {
   "cell_type": "code",
   "execution_count": null,
   "id": "6647afa2-7048-4ee6-8911-bfe82966c477",
   "metadata": {},
   "outputs": [],
   "source": [
    "# c. namedtuple\n",
    "# namedtuple은 tuple이지만 인덱스가 아니라 객체처럼 속성(이름)으로 접근할 수 있다.\n",
    "# namedtuple은 collections 패키지의 모듈\n",
    "# import collections\n",
    "# help(collections)\n",
    "from collections import namedtuple\n",
    "\n",
    "human = namedtuple('human', ['name', 'age', 'job'])\n",
    "print(type(human), human)\n",
    "\n",
    "hong = human('홍길동', 1000, '프로그래머')\n",
    "kim = human('소향',44,'가수')\n",
    "sonny = human('손흥민',32,'축구선수')\n",
    "print(type(hong), hong, hong.name)\n",
    "# hong.name = '개똥이' # namedtuple은 immutable속성을 갖기 때문에 값을 수정할 수 없다.\n",
    "print()\n",
    "\n",
    "for man in [hong, kim, sonny]:\n",
    "    print(f'이름={man.name}, 나이={man.age}, 직업={man.job}')\n",
    "print()\n",
    "\n",
    "print(dir(human))"
   ]
  },
  {
   "cell_type": "code",
   "execution_count": null,
   "id": "ce56c647-d4c1-4711-a7d2-cbd091ba53e2",
   "metadata": {},
   "outputs": [],
   "source": [
    "# 11. sqlite3 : embeded database(RDBMS)\n",
    "# sqlite3는 python에 내장되어 있는 RDBMS이다.\n",
    "import sqlite3\n",
    "# help(sqlite3)\n",
    "\n",
    "con = sqlite3.connect('./data/mysqlite.db')\n",
    "cur = con.cursor()\n",
    "cur.execute('drop table person')\n",
    "cur.execute('create table person(name, age, job)')\n",
    "cur.execute('insert into person values(\"소향\",\"44\",\"가수\")')\n",
    "result = cur.execute('select * from person')\n",
    "print(type(result.fetchone()), result.fetchone())\n",
    "cur.close()\n",
    "con.close()"
   ]
  }
 ],
 "metadata": {
  "kernelspec": {
   "display_name": "Python 3 (ipykernel)",
   "language": "python",
   "name": "python3"
  },
  "language_info": {
   "codemirror_mode": {
    "name": "ipython",
    "version": 3
   },
   "file_extension": ".py",
   "mimetype": "text/x-python",
   "name": "python",
   "nbconvert_exporter": "python",
   "pygments_lexer": "ipython3",
   "version": "3.11.7"
  }
 },
 "nbformat": 4,
 "nbformat_minor": 5
}
