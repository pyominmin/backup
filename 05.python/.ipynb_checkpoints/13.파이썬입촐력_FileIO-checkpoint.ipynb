{
 "cells": [
  {
   "cell_type": "markdown",
   "id": "94bf6d47-7b04-4eaf-a027-c0e465e4574b",
   "metadata": {},
   "source": [
    "# File의 Input/Output\n",
    "\n",
    "* 파일에서 문자열을 읽거나 쓰는 방법과 파이썬 객체를 파일에 읽고 쓰기 위해서는 내장함수를 이용해서 처리한다.\n",
    "  1. 파일 생성 및 열기를 위해서는 `open()`이라는 내장함수를 사용\n",
    "  2. 기본문법\n",
    "     >변수(파일객체) = open(파일이름, 열기모드, 인코딩)\n",
    "\n",
    "## 1. file open mode\n",
    "|모드|설명|\n",
    "|:-----:|:----------------|\n",
    "|r|읽기모드, 파일을 읽기만 허용|\n",
    "|w|쓰기모드, 파일을 쓰기만 허용|\n",
    "|a|추가모드, 파일의 맨 뒤에 새로운 내용을 추가|\n",
    "|t|텍스트모드, 파일을 텍스트파일로 처리(기본값)|\n",
    "|b|이진모드, 파일을 이진(바이너리)파일로 처리, 이미지등 멀티미디어파일 읽기|\n",
    "|r+|읽기/쓰기모드, 파일을 읽거나 쓰기모드로 처리, 기존에 파일이 있다면 에러발생|\n",
    "|w+|읽기/쓰기모드, 파일을 읽거나 쓰기모드로 처리, 기존파일을 삭제후 새로 생성|\n",
    "|a+|읽기/쓰기모드, 파일을 쓰기모드로 처리, 파일의 맨 뒤에 텍스트내용을 추가|\n",
    "|rb+|이진으로 읽기/쓰기모드, 기존파일이 있다면 에러|\n",
    "|wb+|이진으로 읽기/쓰기모드, 기존파일삭제후 생성, 없다면 새로 생성후 쓰기|\n",
    "|ab+|이진으로 추가모드|\n",
    "\n",
    "><img src=\"./images/13.파일입출력_FileIO_01.png\" width=\"300\" height=\"200\" >\n",
    "\n",
    "## 2. 파일닫기\n",
    "\n",
    "1. 파일을 열었다면 작업이 완료된 후에 `close()`함수를 호출해서 할당된 자원을 해제해야 한다.\n",
    "2. close()를 호출하지 않으면 open된 파일객체가 다른 값을 치환되거나 프로그램이 종료가 될 때 자동으로 close함수가 호출된다.\n",
    "3. 하지만, 명시적으로 close함수를 호출하는 것이 좋다.\n",
    "\n",
    "## 3. 파일접근하기\n",
    "\n",
    "1. 순차접근 : 기본값, 파일을 맨 처음부터 맨 끝까지 순차적으로 읽는 방법\n",
    "2. 임의접근 : 파일내에 임의의 위치에서부터 파일을 읽거나 쓰는 방법\n",
    "   a. seek(n) - 파일의 가장 첫 번째위치에서 n번째 바이트로 포인트를 이동\n",
    "   b. tell()  - 파일내에서 현재의 포인터(위치)를 리턴\n",
    "\n",
    "## 4. 파일관련메서드\n",
    "\n",
    "|메서드|설명|\n",
    "|:----------------|:--------------------------------|\n",
    "|open()|파일열기|\n",
    "|close()|파일닫기|\n",
    "|read([size])|지정된 바이트수(size)만큼 파일에서 읽기, size미지정시 파일 전체 읽기|\n",
    "|readline()|한 라인씩 읽기|\n",
    "|readlines()|전체 파일을 readline을 이용해서 읽은 후에 list자료형으로 리턴|\n",
    "|write(string)|문자열(string)을 파일에 쓰기|\n",
    "|writeline(list)|문자열list를 파일에 쓰기, 주의할 점은 줄바꾸기가 되지 않는다.|\n",
    "||줄바꾸기가 되지 않기 때문에 문장(라인)끝에 줄바꿈문자('\\n\\)를 추가해야 한다.|\n",
    "|seek(offset[,whense])|whnse의 기본값은 0, whens(0=시작, 1=현재위치, 2=파일끝)|\n",
    "||offset만큼 떨어진 위치에 포인터를 이동|\n",
    "|tell()|파일의 현재 위치(포인터)를 리턴|\n",
    "|flush()|buffer에 내용이 채워지지 않아도 내부 buffer의 전체내용을 파일에 전달|\n",
    "|fileno()|파일객체의 파일기술자(File Descriptor, 정수값)를 리턴|"
   ]
  },
  {
   "cell_type": "markdown",
   "id": "cb95235d-9772-4600-a937-413c8f9a23c0",
   "metadata": {},
   "source": [
    "### 1. 파일읽기, 쓰기 기본문법"
   ]
  },
  {
   "cell_type": "code",
   "execution_count": 7,
   "id": "5545b4c2-4f52-4c47-acd3-350ef6725b74",
   "metadata": {},
   "outputs": [
    {
     "name": "stdout",
     "output_type": "stream",
     "text": [
      "<class '_io.TextIOWrapper'> <_io.TextIOWrapper name='./data/newfile.txt' mode='w' encoding='cp949'>\n",
      "['_CHUNK_SIZE', '__class__', '__del__', '__delattr__', '__dict__', '__dir__', '__doc__', '__enter__', '__eq__', '__exit__', '__format__', '__ge__', '__getattribute__', '__getstate__', '__gt__', '__hash__', '__init__', '__init_subclass__', '__iter__', '__le__', '__lt__', '__ne__', '__new__', '__next__', '__reduce__', '__reduce_ex__', '__repr__', '__setattr__', '__sizeof__', '__str__', '__subclasshook__', '_checkClosed', '_checkReadable', '_checkSeekable', '_checkWritable', '_finalizing', 'buffer', 'close', 'closed', 'detach', 'encoding', 'errors', 'fileno', 'flush', 'isatty', 'line_buffering', 'mode', 'name', 'newlines', 'read', 'readable', 'readline', 'readlines', 'reconfigure', 'seek', 'seekable', 'tell', 'truncate', 'writable', 'write', 'write_through', 'writelines']\n"
     ]
    }
   ],
   "source": [
    "# 1. 파일읽기\n",
    "# %pwd\n",
    "# %mkdir data\n",
    "# %ls\n",
    "# open?\n",
    "f = open('./data/newfile.txt', 'w')\n",
    "print(type(f), f)\n",
    "print(dir(f))\n",
    "f.close()"
   ]
  },
  {
   "cell_type": "code",
   "execution_count": 54,
   "id": "97dd8cdc-7d98-47e6-a3b8-8583797656a3",
   "metadata": {},
   "outputs": [
    {
     "name": "stdout",
     "output_type": "stream",
     "text": [
      "26\n"
     ]
    }
   ],
   "source": [
    "# write() - 파일을 쓰기모드로 열고 임의의 문자열을 쓰기\n",
    "f = open('./data/newfile.txt', 'w', encoding='utf-8')\n",
    "# f.write?\n",
    "for i in range(1,11):\n",
    "    data = '....... UTF-8 %2d번째 라인입니다.\\n' % i\n",
    "    result = f.write(data)\n",
    "f.close()\n",
    "print(result)"
   ]
  },
  {
   "cell_type": "markdown",
   "id": "27c8a8df-12be-48ef-98ed-b03798376697",
   "metadata": {},
   "source": [
    "### 2. 파일읽기"
   ]
  },
  {
   "cell_type": "code",
   "execution_count": 19,
   "id": "2562f4d3-e202-4efd-91d4-d3f1b92c14a7",
   "metadata": {},
   "outputs": [
    {
     "name": "stdout",
     "output_type": "stream",
     "text": [
      "<class 'str'> ....... UTF-8  1번째 라인입니다.\n",
      "\n",
      "<class 'str'> ....... UTF-8  2번째 라인입니다.\n",
      "\n",
      "<class 'str'> ....... UTF-8  3번째 라인입니다.\n",
      "\n",
      "<class 'str'> ....... UTF-8  4번째 라인입니다.\n",
      "\n",
      "<class 'str'> ....... UTF-8  5번째 라인입니다.\n",
      "\n",
      "<class 'str'> ....... UTF-8  6번째 라인입니다.\n",
      "\n",
      "<class 'str'> ....... UTF-8  7번째 라인입니다.\n",
      "\n",
      "<class 'str'> ....... UTF-8  8번째 라인입니다.\n",
      "\n",
      "<class 'str'> ....... UTF-8  9번째 라인입니다.\n",
      "\n",
      "<class 'str'> ....... UTF-8 10번째 라인입니다.\n",
      "\n"
     ]
    }
   ],
   "source": [
    "# 1. 외부에 저장된 파일읽기(1) - readline()\n",
    "# f.readline?\n",
    "f = open('./data/newfile.txt', 'r', encoding='utf-8')\n",
    "\n",
    "while True:\n",
    "    line = f.readline()\n",
    "    if not line: break\n",
    "    print(type(line), line)\n",
    "\n",
    "f.close()"
   ]
  },
  {
   "cell_type": "code",
   "execution_count": 21,
   "id": "b4d2759f-b0b6-42a3-ae19-b658fb85edf5",
   "metadata": {},
   "outputs": [
    {
     "name": "stdout",
     "output_type": "stream",
     "text": [
      "<class 'list'>\n",
      "['....... UTF-8  1번째 라인입니다.\\n', '....... UTF-8  2번째 라인입니다.\\n', '....... UTF-8  3번째 라인입니다.\\n', '....... UTF-8  4번째 라인입니다.\\n', '....... UTF-8  5번째 라인입니다.\\n', '....... UTF-8  6번째 라인입니다.\\n', '....... UTF-8  7번째 라인입니다.\\n', '....... UTF-8  8번째 라인입니다.\\n', '....... UTF-8  9번째 라인입니다.\\n', '....... UTF-8 10번째 라인입니다.\\n']\n",
      "\n",
      "....... UTF-8  1번째 라인입니다.\n",
      "\n",
      "....... UTF-8  2번째 라인입니다.\n",
      "\n",
      "....... UTF-8  3번째 라인입니다.\n",
      "\n",
      "....... UTF-8  4번째 라인입니다.\n",
      "\n",
      "....... UTF-8  5번째 라인입니다.\n",
      "\n",
      "....... UTF-8  6번째 라인입니다.\n",
      "\n",
      "....... UTF-8  7번째 라인입니다.\n",
      "\n",
      "....... UTF-8  8번째 라인입니다.\n",
      "\n",
      "....... UTF-8  9번째 라인입니다.\n",
      "\n",
      "....... UTF-8 10번째 라인입니다.\n",
      "\n"
     ]
    }
   ],
   "source": [
    "# 2. 외부에 저장된 파일읽기(2) - readlines()\n",
    "f = open('./data/newfile.txt', 'r', encoding='utf-8')\n",
    "lines = f.readlines()\n",
    "print(type(lines))\n",
    "print(lines)\n",
    "print()\n",
    "\n",
    "for line in lines:\n",
    "    print(line)"
   ]
  },
  {
   "cell_type": "code",
   "execution_count": 34,
   "id": "49b7845e-888c-4287-9332-69eed0c5bf7f",
   "metadata": {},
   "outputs": [
    {
     "name": "stdout",
     "output_type": "stream",
     "text": [
      "<class 'str'>\n",
      "....... UTF-8  1번째 라\n"
     ]
    }
   ],
   "source": [
    "# 3. 외부에 저장된 파일읽기(3) - read(문자단위의 길이)\n",
    "# f.read?\n",
    "f = open('./data/newfile.txt', 'r', encoding='utf-8')\n",
    "data = f.read(20) \n",
    "f.close()\n",
    "print(type(data))\n",
    "print(data)"
   ]
  },
  {
   "cell_type": "markdown",
   "id": "f9fae0c2-8418-4aa2-8b67-246173149f2c",
   "metadata": {},
   "source": [
    "### 3. 파일쓰기"
   ]
  },
  {
   "cell_type": "code",
   "execution_count": 39,
   "id": "d4ca3fa6-dc4e-47b4-b218-4254ffda81d5",
   "metadata": {},
   "outputs": [],
   "source": [
    "# 1. 추가모드(a): 기존 파일에 새로운 내용을 추가\n",
    "f = open('./data/newfile.txt', 'a', encoding='utf-8')\n",
    "\n",
    "for i in range(21, 31):\n",
    "    data = f'append mode {i:2d}번째 라인입니다!!\\n'\n",
    "    f.write(data)\n",
    "f.close()"
   ]
  },
  {
   "cell_type": "code",
   "execution_count": 43,
   "id": "3c378663-4719-476f-a320-0f33464f72a7",
   "metadata": {},
   "outputs": [
    {
     "name": "stdout",
     "output_type": "stream",
     "text": [
      "Variable   Type             Data/Info\n",
      "-------------------------------------\n",
      "f          TextIOWrapper    <_io.TextIOWrapper name='<...>ode='w' encoding='utf-8'>\n",
      "f_name     str              ./data/newfile_01.txt\n"
     ]
    }
   ],
   "source": [
    "# 2. wiht문을 사용 - 오픈된 파일을 자동으로 close\n",
    "# with문은 python v2.5이상부터 사용가능\n",
    "# %whos\n",
    "# %reset -f\n",
    "f_name = './data/newfile_01.txt'\n",
    "with open(f_name, 'w', encoding='utf-8') as f:\n",
    "    f.write('Hello Python!!')\n",
    "%whos"
   ]
  },
  {
   "cell_type": "markdown",
   "id": "fbdc0891-d016-4843-bc03-991710d39b5d",
   "metadata": {},
   "source": [
    "### 4. 파일객체 접근함수"
   ]
  },
  {
   "cell_type": "code",
   "execution_count": 52,
   "id": "8a97d491-e454-41f9-82d4-01787c5983fd",
   "metadata": {},
   "outputs": [
    {
     "name": "stdout",
     "output_type": "stream",
     "text": [
      "Life is too short!\n",
      "----+----+----+----+----+\n",
      "현재 포인터의 위치 = 18\n",
      "현재 포인터의 위치 = 5\n",
      "is too short!\n",
      "현재 포인터의 위치 = 18\n"
     ]
    }
   ],
   "source": [
    "# seek, tell\n",
    "# f.seek?\n",
    "# f.tell?\n",
    "# 1. f.seek(n) or f.seek(n, 0) : 파일의 맨 처음부터 n번째로 이동후 파일 읽기, 0=SEET_SET\n",
    "# 2. f.seek(n, 1) : 현재위치, 1=SEEK_CUR\n",
    "# 3. f.seek(n, 2) : 맨끝위치, 2=SEEK_END\n",
    "# 4. f.tell() : 현재 포인터의 위치\n",
    "f = open('./data/newfile_02.txt', 'w', encoding='utf-8')\n",
    "f.write('Life is too short!')\n",
    "f = open('./data/newfile_02.txt', 'r', encoding='utf-8')\n",
    "\n",
    "for line in f:\n",
    "    print(line)\n",
    "print('----+'*5)\n",
    "print(f'현재 포인터의 위치 = {f.tell()}')\n",
    "\n",
    "f.seek(5, 0)\n",
    "print(f'현재 포인터의 위치 = {f.tell()}')\n",
    "print(f.readline())\n",
    "print(f'현재 포인터의 위치 = {f.tell()}')"
   ]
  },
  {
   "cell_type": "markdown",
   "id": "6cb34078-471c-4653-a1dd-a45417a898c4",
   "metadata": {},
   "source": [
    "### 5. 파일저장하기"
   ]
  },
  {
   "cell_type": "code",
   "execution_count": 60,
   "id": "6e6b4457-93af-41f7-995a-004f5b9ae80f",
   "metadata": {},
   "outputs": [
    {
     "name": "stdout",
     "output_type": "stream",
     "text": [
      "<class '_io.TextIOWrapper'> <_io.TextIOWrapper name='./data/newfile.txt' mode='r' encoding='utf-8'>\n",
      "<class 'list'> ['....... UTF-8  1번째 라인입니다.\\n', '....... UTF-8  2번째 라인입니다.\\n', '....... UTF-8  3번째 라인입니다.\\n', '....... UTF-8  4번째 라인입니다.\\n', '....... UTF-8  5번째 라인입니다.\\n', '....... UTF-8  6번째 라인입니다.\\n', '....... UTF-8  7번째 라인입니다.\\n', '....... UTF-8  8번째 라인입니다.\\n', '....... UTF-8  9번째 라인입니다.\\n', '....... UTF-8 10번째 라인입니다.\\n'] \n",
      "\n",
      "<class 'tuple'> ('....... UTF-8  1번째 라인입니다.\\n', '....... UTF-8  2번째 라인입니다.\\n', '....... UTF-8  3번째 라인입니다.\\n', '....... UTF-8  4번째 라인입니다.\\n', '....... UTF-8  5번째 라인입니다.\\n', '....... UTF-8  6번째 라인입니다.\\n', '....... UTF-8  7번째 라인입니다.\\n', '....... UTF-8  8번째 라인입니다.\\n', '....... UTF-8  9번째 라인입니다.\\n', '....... UTF-8 10번째 라인입니다.\\n')\n"
     ]
    }
   ],
   "source": [
    "# 1. 파일의 내용을 list자료형으로 변환하기\n",
    "f = open('./data/newfile.txt', 'r', encoding='utf-8')\n",
    "print(type(f) ,f)\n",
    "\n",
    "# a. list\n",
    "l = list(f)\n",
    "print(type(l) ,l, '\\n')\n",
    "\n",
    "# b. tuple\n",
    "f.seek(0)  # 파일을 읽었기 때문에 현재 마지막 포인터를 맨 처음으로 이동\n",
    "t = tuple(f)\n",
    "print(type(t) ,t, '\\n')\n"
   ]
  },
  {
   "cell_type": "code",
   "execution_count": 64,
   "id": "1088beb1-28ef-4b15-ae30-f6a595972739",
   "metadata": {},
   "outputs": [
    {
     "name": "stdout",
     "output_type": "stream",
     "text": [
      "10 \n",
      "\n",
      "csv 파일을 성공적으로 저장했습니다!!\n"
     ]
    }
   ],
   "source": [
    "# 2. csv파일 형식으로 저장하기\n",
    "nums = [1,2,3,4,5,6,7,8,9,10]\n",
    "count = len(nums)\n",
    "print(len(nums), '\\n')\n",
    "\n",
    "f_name = './data/result.csv'\n",
    "f = open(f_name, 'a', encoding='utf-8')\n",
    "for i in range(count):\n",
    "    if i < count-1:\n",
    "        f.write(str(nums[i]) + ',')\n",
    "    else:\n",
    "        f.write(str(nums[i]) + '\\n')\n",
    "f.close()\n",
    "print('csv 파일을 성공적으로 저장했습니다!!')"
   ]
  },
  {
   "cell_type": "markdown",
   "id": "1a284c71-391a-43d4-800b-7d7760e764a0",
   "metadata": {},
   "source": [
    "### 6. 파일객체를 파일로 저장, 읽어오기\n",
    "\n",
    "#### 1. pickle모듈\n",
    "1. 일반 텍스트를 저장할 경우에는 파일을 이용해서 저장한다.\n",
    "2. 하지만, list, class(클래스)와 같은 텍스트가 아닌 자료형 or 객체는 일반적인 파일 입출력방법으로는 데이터를 저장하거나 읽을 수가 없다.\n",
    "3. 파이썬에서는 텍스트이외의 자료를 저장하기 위해서는 `pickle모듈을 사용`한다.\n",
    "4. pickle을 사용하기 위해서는 pickle모듈을 `import pickle`처럼 import해야 한다.\n",
    "5. pickle을 이용하면 원하는 데이터를 자료형의 변경없이 파일로 저장하여 그대로 load를 할 수 있다.\n",
    "6. pickle로 데이터를 저장하거나 읽기 위해서는 `바이트형식으로 처리`해야 한다. 즉, `rb, wb모드로 파일을 오픈`해야 한다.\n",
    "7. wb로 데이터를 저장할 경우에는 관례적으로 `파일이름의 확장자를 bin`으로 사용한다.\n",
    "8. 모든 파이썬의 데이터는 객체상태(이진파일)형태로 처리할 수가 있다.\n",
    "\n",
    "#### 2. pickle모듈 사용하기\n",
    "1. 쓰기 : pickle.dump(data, file)\n",
    "2. 읽기 : pickle.load(file) or load()함수로 파일을 읽어 올 수 있다. 단, pickle.dump()로 저장된 파일만 읽을 수가 있다."
   ]
  },
  {
   "cell_type": "code",
   "execution_count": 76,
   "id": "34caf276-2747-47e5-a4b5-5c781a55daf0",
   "metadata": {},
   "outputs": [
    {
     "name": "stdout",
     "output_type": "stream",
     "text": [
      "<class 'bytes'> b'\\x01\\x02\\x03\\x04\\x05\\x06\\x07\\x08\\t\\n'\n",
      "1,2,3,4,5,6,7,8,9,10,"
     ]
    }
   ],
   "source": [
    "# 1. pickle모듈없이 바이너리파일로 저장하기\n",
    "data = 1,2,3,4,5,6,7,8,9,10\n",
    "\n",
    "# 1) 바이트파일로 쓰기\n",
    "with open('./data/test.bin', 'wb') as f:\n",
    "    # f.write(data)# TypeError: a bytes-like object is required, not 'tuple'\n",
    "    # int(), float()처러 바이트변환함수 bytes()변환함수를 이용하여 이진데이터로 변환후에 저장\n",
    "    # print(type(bytes(data)), bytes(data))\n",
    "    f.write(bytes(data))\n",
    "    \n",
    "# 2) 바이트파일 읽기\n",
    "with open('./data/test.bin', 'rb') as f:\n",
    "    contents = f.read()\n",
    "    print(type(contents), contents)\n",
    "    for content in contents:\n",
    "        print(content, end=\",\")\n",
    "\n",
    "# 3) 객체를 파일로 저장\n",
    "data = 1,2,3,4,5,6,7,8,9,10, print, '문자열'\n",
    "with open('./data/test.bin', 'wb') as f:\n",
    "    # f.write(bytes(data))  TypeError: 'builtin_function_or_method' object cannot be interpreted as an integer\n",
    "    pass"
   ]
  },
  {
   "cell_type": "code",
   "execution_count": 90,
   "id": "8fa3fbd0-59c0-43f7-8dbb-30dea8030348",
   "metadata": {},
   "outputs": [
    {
     "name": "stdout",
     "output_type": "stream",
     "text": [
      "<class 'str'> Hello Python\n",
      "<class 'int'> 12345\n",
      "<class 'float'> 3.141\n",
      "<class 'list'> [1, 2, 3, [4, 5, 6], {}, (), '문자열']\n",
      "<class 'dict'> {'name': '소향', 'job': '가수'}\n",
      "\n",
      "<class 'str'> Hello Python\n",
      "<class 'int'> 12345\n",
      "<class 'float'> 3.141\n",
      "<class 'list'> [1, 2, 3, [4, 5, 6], {}, (), '문자열']\n",
      "<class 'dict'> {'name': '소향', 'job': '가수'}\n"
     ]
    }
   ],
   "source": [
    "# 2. pickle모듈을 사용해서 객체를 포함한 데이터를 바이너리파일로 저장하기\n",
    "\n",
    "# 1) pickle 모듈 load하기\n",
    "import pickle\n",
    "# pickle?\n",
    "# print(dir(pickle))\n",
    "\n",
    "# 2) 객체를 바이너리파일로 저장\n",
    "with open('./data/test.bin', 'wb') as f:\n",
    "    pickle.dump('Hello Python', f) # 문자열객체\n",
    "    pickle.dump(12345, f)          # int\n",
    "    pickle.dump(3.141, f)          # float\n",
    "    pickle.dump([1,2,3,[4,5,6], {}, (), '문자열'], f)      # list객체의 요소(다양한 데이터타입)저장\n",
    "    pickle.dump({'name':'소향', 'job':'가수'}, f)          # object타입\n",
    "    \n",
    "# 3) pickle로 저장된 바이너리파일 읽기    \n",
    "with open('./data/test.bin', 'rb') as f:\n",
    "    data = pickle.load(f)\n",
    "    print(type(data), data)\n",
    "    data = pickle.load(f)\n",
    "    print(type(data), data)\n",
    "    data = pickle.load(f)\n",
    "    print(type(data), data)\n",
    "    data = pickle.load(f)\n",
    "    print(type(data), data)\n",
    "    data = pickle.load(f)\n",
    "    print(type(data), data)\n",
    "\n",
    "    # 더이상 꺼내올 자료가 없을 경우에는 에러가 발생\n",
    "    #data = pickle.load(f) # EOFError: Ran out of input\n",
    "    # print(type(data), data)   \n",
    "print()\n",
    "\n",
    "# 4) exception 처리\n",
    "with open('./data/test.bin', 'rb') as f:\n",
    "    while True:\n",
    "        try:\n",
    "            data = pickle.load(f)\n",
    "            print(type(data), data)            \n",
    "        except EOFError:\n",
    "            break"
   ]
  },
  {
   "cell_type": "code",
   "execution_count": 94,
   "id": "7839f4fd-6b7b-4272-8d45-8794994fee36",
   "metadata": {},
   "outputs": [
    {
     "name": "stdout",
     "output_type": "stream",
     "text": [
      "소향 45 서울 {'국어': 100, '수학': 80, '영어': 99, '과학': 92} <function add at 0x000002B41E386020>\n",
      "pickle로 저장된 객체의 add함수 =  3000\n"
     ]
    }
   ],
   "source": [
    "# 3. pickle을 사용해서 파일객체로 저장하기\n",
    "import pickle as p\n",
    "\n",
    "name = '소향'\n",
    "age = 45\n",
    "addr = '서울'\n",
    "scores = {'국어':100, '수학':80, '영어':99, '과학':92}\n",
    "\n",
    "def add(x, y):\n",
    "    return x+y\n",
    "\n",
    "with open('./data/sohyan.bin', 'wb') as f:\n",
    "    p.dump(name, f)\n",
    "    p.dump(age, f)\n",
    "    p.dump(addr, f)\n",
    "    p.dump(scores, f)\n",
    "    p.dump(add, f)\n",
    "\n",
    "\n",
    "with open('./data/sohyan.bin', 'rb') as f:\n",
    "    name = p.load(f)\n",
    "    age  = p.load(f)\n",
    "    addr = p.load(f)\n",
    "    scores = p.load(f)\n",
    "    add = p.load(f)\n",
    "    print(name, age, addr, scores, add)\n",
    "    \n",
    "print(\"pickle로 저장된 객체의 add함수 = \", add(1000, 2000))  "
   ]
  },
  {
   "cell_type": "markdown",
   "id": "2d384f8d-2d3d-4a1e-bfec-c60d6ec90011",
   "metadata": {},
   "source": [
    "### 3. 파일압축하기\n",
    "\n",
    "* gzip모듈을 이용하여 데이터를 압축, 해제하기\n",
    "```python\n",
    "import gzip\n",
    "```"
   ]
  },
  {
   "cell_type": "code",
   "execution_count": 98,
   "id": "d93ce848-b881-4a4b-8963-f94f26c92dae",
   "metadata": {},
   "outputs": [
    {
     "name": "stdout",
     "output_type": "stream",
     "text": [
      "['BadGzipFile', 'FCOMMENT', 'FEXTRA', 'FHCRC', 'FNAME', 'FTEXT', 'GzipFile', 'READ', 'WRITE', '_COMPRESS_LEVEL_BEST', '_COMPRESS_LEVEL_FAST', '_COMPRESS_LEVEL_TRADEOFF', '_GzipReader', '_PaddedFile', '__all__', '__builtins__', '__cached__', '__doc__', '__file__', '__loader__', '__name__', '__package__', '__spec__', '_compression', '_create_simple_gzip_header', '_read_exact', '_read_gzip_header', 'builtins', 'compress', 'decompress', 'io', 'main', 'open', 'os', 'struct', 'sys', 'time', 'write32u', 'zlib']\n"
     ]
    }
   ],
   "source": [
    "import pickle as p\n",
    "import gzip\n",
    "# gzip?\n",
    "print(dir(gzip))\n",
    "\n",
    "data = {\n",
    "    'name': '소향',\n",
    "    'age': 45,\n",
    "    'addr': '서울',\n",
    "    'scores': {'국어':100, '수학':80, '영어':99, '과학':92}\n",
    "}"
   ]
  },
  {
   "cell_type": "code",
   "execution_count": 101,
   "id": "3383710a-ebbc-4626-b237-034563ddf898",
   "metadata": {},
   "outputs": [
    {
     "name": "stdout",
     "output_type": "stream",
     "text": [
      "<class 'dict'> {'name': '소향', 'age': 45, 'addr': '서울', 'scores': {'국어': 100, '수학': 80, '영어': 99, '과학': 92}}\n"
     ]
    }
   ],
   "source": [
    "# 1) 쓰기와 압축\n",
    "# gzip.GzipFile?\n",
    "with gzip.open('./data/sohyang.bin', 'wb') as f:\n",
    "    p.dump(data, f)\n",
    "    # print(type(f), f) type = gzip.GzipFile\n",
    "\n",
    "with gzip.open('./data/sohyang.bin', 'rb') as f:\n",
    "    data = p.load(f)\n",
    "    print(type(data), data)"
   ]
  }
 ],
 "metadata": {
  "kernelspec": {
   "display_name": "Python 3 (ipykernel)",
   "language": "python",
   "name": "python3"
  },
  "language_info": {
   "codemirror_mode": {
    "name": "ipython",
    "version": 3
   },
   "file_extension": ".py",
   "mimetype": "text/x-python",
   "name": "python",
   "nbconvert_exporter": "python",
   "pygments_lexer": "ipython3",
   "version": "3.11.7"
  }
 },
 "nbformat": 4,
 "nbformat_minor": 5
}
