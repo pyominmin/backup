{
 "cells": [
  {
   "cell_type": "markdown",
   "id": "18f1f660-a49d-439b-a20b-74300edc27e8",
   "metadata": {},
   "source": [
    "# 반복문(for)\n",
    "\n",
    "```python\n",
    "for 변수 in iterable:\n",
    "    pass\n",
    "```"
   ]
  },
  {
   "cell_type": "code",
   "execution_count": 1,
   "id": "3b2d9904-4cfc-4c6a-80e1-e549aa04879d",
   "metadata": {},
   "outputs": [
    {
     "name": "stdout",
     "output_type": "stream",
     "text": [
      "0, 1, 2, 3, 4, 5, 6, 7, 8, 9, \n",
      "10, 11, 12, 13, 14, 15, 16, 17, 18, 19, \n",
      "10, 13, 16, 19, "
     ]
    }
   ],
   "source": [
    "# 1. for문과 range()함수\n",
    "for i in range(10):\n",
    "    print(i, end=\", \")\n",
    "print()\n",
    "\n",
    "for i in range(10, 20):\n",
    "    print(i, end=\", \")\n",
    "print()\n",
    "\n",
    "for i in range(10, 20, 3):\n",
    "    print(i, end=\", \")"
   ]
  },
  {
   "cell_type": "code",
   "execution_count": 3,
   "id": "ac205475-1cae-40c3-95be-fc11e86ab080",
   "metadata": {},
   "outputs": [
    {
     "name": "stdout",
     "output_type": "stream",
     "text": [
      "1~10까지의 합 = 55\n",
      "1~100까지 3의 배수의 합 = 1717\n"
     ]
    }
   ],
   "source": [
    "# 2. 일반 for 문\n",
    "# 1~10까지의 합을 구하기\n",
    "tot = 0\n",
    "for i in range(1, 11):\n",
    "    tot += i\n",
    "print(f'1~10까지의 합 = {tot}')\n",
    "\n",
    "# 3의 배수의 합\n",
    "tot = 0\n",
    "for i in range(1, 101, 3):\n",
    "    tot += i\n",
    "print(f'1~100까지 3의 배수의 합 = {tot}')"
   ]
  },
  {
   "cell_type": "code",
   "execution_count": 9,
   "id": "469646b0-3c62-4a76-baee-b3eff5520c39",
   "metadata": {},
   "outputs": [
    {
     "name": "stdout",
     "output_type": "stream",
     "text": [
      "java의 길이는 4자 입니다!!\n",
      "javascript의 길이는 10자 입니다!!\n",
      "R의 길이는 1자 입니다!!\n",
      "python의 길이는 6자 입니다!!\n",
      "sql의 길이는 3자 입니다!!\n",
      "windows의 길이는 7자 입니다!!\n",
      "machinelearning의 길이는 15자 입니다!!\n",
      "deeplearning의 길이는 12자 입니다!!\n",
      "love의 길이는 4자 입니다!!\n",
      "\n",
      "javascript의 길이는 10자 입니다!!\n",
      "python의 길이는 6자 입니다!!\n",
      "windows의 길이는 7자 입니다!!\n",
      "machinelearning의 길이는 15자 입니다!!\n",
      "deeplearning의 길이는 12자 입니다!!\n",
      "\n",
      "['deeplearning', 'machinelearning', 'windows', 'python', 'javascript'] 5\n"
     ]
    }
   ],
   "source": [
    "# 3. for문과 시퀀스객체의 indexing/slicing\n",
    "words = ['java','javascript','R','python','sql','windows','machinelearning','deeplearning', 'love']\n",
    "\n",
    "# 실습. \n",
    "# 1) 각 단어의 길이를 출력하기\n",
    "for word in words:\n",
    "    print(f'{word}의 길이는 {len(word)}자 입니다!!')\n",
    "print()\n",
    "\n",
    "# 2) 5자리이상의 단어만 출력하기\n",
    "for word in words:\n",
    "    if(len(word)>=5):\n",
    "        print(f'{word}의 길이는 {len(word)}자 입니다!!')\n",
    "print()\n",
    "\n",
    "# 3) 5자리이상의 단어로 구성된 list생성하기\n",
    "l = []\n",
    "for word in words:\n",
    "    if(len(word)>=5):\n",
    "        # l.append(word)  # 마지막에 추가\n",
    "        l.insert(0, word)  # 맨 앞에 추가\n",
    "print(l, len(l))"
   ]
  },
  {
   "cell_type": "code",
   "execution_count": 15,
   "id": "8e6be38e-bbdb-4079-9eac-3e37bb1ad86c",
   "metadata": {},
   "outputs": [
    {
     "name": "stdout",
     "output_type": "stream",
     "text": [
      "0 java\n",
      "1 javascript\n",
      "2 R\n",
      "3 python\n",
      "4 sql\n",
      "5 windows\n",
      "6 machinelearning\n",
      "7 deeplearning\n",
      "8 love\n",
      "0 안, 1 녕, 2 하, 3 세, 4 요, 7  , 8 반, 9 갑, 10 습, 11 니, 12 다, \n",
      "[-10, -9, -8, -7, -6, -5, -4, -3, -2]\n",
      "[-1, -11, -21, -31, -41, -51, -61, -71, -81, -91]\n"
     ]
    }
   ],
   "source": [
    "# 4. len()와 range함수 동시 사용하기\n",
    "for i in range(len(words)):\n",
    "    print(i, words[i])\n",
    "\n",
    "strs = '안녕하세요!! 반갑습니다!!'\n",
    "\n",
    "# 실습. strs에서 !만 제외해서 출력하기\n",
    "# len(), range()를 이용\n",
    "for i in range(len(strs)):\n",
    "    if strs[i] != '!':\n",
    "        print(i, strs[i], end=\", \")\n",
    "print()\n",
    "\n",
    "# range함수의 옵션값은 음수도 가능\n",
    "print(list(range(-10, -1)))\n",
    "print(list(range(-1, -100, -10)))"
   ]
  },
  {
   "cell_type": "code",
   "execution_count": 18,
   "id": "2d1f7675-ca48-4c37-be42-ba7b1d8f69b7",
   "metadata": {},
   "outputs": [
    {
     "name": "stdout",
     "output_type": "stream",
     "text": [
      "중첩 for문 (2, 2)번째 실행!!\n",
      "중첩 for문 (2, 3)번째 실행!!\n"
     ]
    }
   ],
   "source": [
    "# 5. 중첩for문\n",
    "for i in range(2, 3):\n",
    "    for j in range(2,4):\n",
    "        print(f'중첩 for문 ({i}, {j})번째 실행!!')"
   ]
  },
  {
   "cell_type": "code",
   "execution_count": 22,
   "id": "276bfd56-971b-491f-aa5b-bcfd540b89ca",
   "metadata": {},
   "outputs": [
    {
     "name": "stdin",
     "output_type": "stream",
     "text": [
      "단을 입력하세요 =>  3\n"
     ]
    },
    {
     "name": "stdout",
     "output_type": "stream",
     "text": [
      "---- 3단 ----\n",
      "3 x 2 =  6\n",
      "3 x 3 =  9\n",
      "3 x 4 = 12\n",
      "3 x 5 = 15\n",
      "3 x 6 = 18\n",
      "3 x 7 = 21\n",
      "3 x 8 = 24\n",
      "3 x 9 = 27\n"
     ]
    }
   ],
   "source": [
    "# 실습1. for문을 이용해서 구구단 만들기\n",
    "# 임의 단을 입력받아서 해당 단의 구구단 출력하기\n",
    "#  3 * 2 = 6, ..... 3 * 9 = 27\n",
    "dan = int(input(\"단을 입력하세요 => \"))\n",
    "print(f'---- {dan}단 ----')\n",
    "for i in range(2, 10):\n",
    "    print(f'{dan} x {i} = {dan * i:2d}')"
   ]
  },
  {
   "cell_type": "code",
   "execution_count": 23,
   "id": "d6c09050-3d52-42ce-b3fd-82e94e74ce18",
   "metadata": {},
   "outputs": [
    {
     "name": "stdout",
     "output_type": "stream",
     "text": [
      "---- 2단 ----\n",
      "2 x 2 =  4\n",
      "2 x 3 =  6\n",
      "2 x 4 =  8\n",
      "2 x 5 = 10\n",
      "2 x 6 = 12\n",
      "2 x 7 = 14\n",
      "2 x 8 = 16\n",
      "2 x 9 = 18\n",
      "---- 3단 ----\n",
      "3 x 2 =  6\n",
      "3 x 3 =  9\n",
      "3 x 4 = 12\n",
      "3 x 5 = 15\n",
      "3 x 6 = 18\n",
      "3 x 7 = 21\n",
      "3 x 8 = 24\n",
      "3 x 9 = 27\n",
      "---- 4단 ----\n",
      "4 x 2 =  8\n",
      "4 x 3 = 12\n",
      "4 x 4 = 16\n",
      "4 x 5 = 20\n",
      "4 x 6 = 24\n",
      "4 x 7 = 28\n",
      "4 x 8 = 32\n",
      "4 x 9 = 36\n",
      "---- 5단 ----\n",
      "5 x 2 = 10\n",
      "5 x 3 = 15\n",
      "5 x 4 = 20\n",
      "5 x 5 = 25\n",
      "5 x 6 = 30\n",
      "5 x 7 = 35\n",
      "5 x 8 = 40\n",
      "5 x 9 = 45\n",
      "---- 6단 ----\n",
      "6 x 2 = 12\n",
      "6 x 3 = 18\n",
      "6 x 4 = 24\n",
      "6 x 5 = 30\n",
      "6 x 6 = 36\n",
      "6 x 7 = 42\n",
      "6 x 8 = 48\n",
      "6 x 9 = 54\n",
      "---- 7단 ----\n",
      "7 x 2 = 14\n",
      "7 x 3 = 21\n",
      "7 x 4 = 28\n",
      "7 x 5 = 35\n",
      "7 x 6 = 42\n",
      "7 x 7 = 49\n",
      "7 x 8 = 56\n",
      "7 x 9 = 63\n",
      "---- 8단 ----\n",
      "8 x 2 = 16\n",
      "8 x 3 = 24\n",
      "8 x 4 = 32\n",
      "8 x 5 = 40\n",
      "8 x 6 = 48\n",
      "8 x 7 = 56\n",
      "8 x 8 = 64\n",
      "8 x 9 = 72\n",
      "---- 9단 ----\n",
      "9 x 2 = 18\n",
      "9 x 3 = 27\n",
      "9 x 4 = 36\n",
      "9 x 5 = 45\n",
      "9 x 6 = 54\n",
      "9 x 7 = 63\n",
      "9 x 8 = 72\n",
      "9 x 9 = 81\n"
     ]
    }
   ],
   "source": [
    "# 실습2. 2단~9단까지 세로 출력하기\n",
    "# 중첩for문을 이용\n",
    "# -- 2단 -- \n",
    "# 2 * = 4\n",
    "#  ....\n",
    "# -- 9단 --\n",
    "# 9 * 9 = 81\n",
    "for dan in range(2, 10):\n",
    "    print(f'---- {dan}단 ----')\n",
    "    for j in range(2, 10):\n",
    "        print(f'{dan} x {j} = {dan * j:2d}')  "
   ]
  },
  {
   "cell_type": "code",
   "execution_count": 27,
   "id": "247a917d-3546-4932-a9ff-3e73e949584b",
   "metadata": {},
   "outputs": [
    {
     "name": "stdout",
     "output_type": "stream",
     "text": [
      " -- 2단 -- -- 3단 -- -- 4단 -- -- 5단 -- -- 6단 -- -- 7단 -- -- 8단 -- -- 9단 --\n",
      " 2 x 2 =  4 3 x 2 =  6 4 x 2 =  8 5 x 2 = 10 6 x 2 = 12 7 x 2 = 14 8 x 2 = 16 9 x 2 = 18\n",
      " 2 x 3 =  6 3 x 3 =  9 4 x 3 = 12 5 x 3 = 15 6 x 3 = 18 7 x 3 = 21 8 x 3 = 24 9 x 3 = 27\n",
      " 2 x 4 =  8 3 x 4 = 12 4 x 4 = 16 5 x 4 = 20 6 x 4 = 24 7 x 4 = 28 8 x 4 = 32 9 x 4 = 36\n",
      " 2 x 5 = 10 3 x 5 = 15 4 x 5 = 20 5 x 5 = 25 6 x 5 = 30 7 x 5 = 35 8 x 5 = 40 9 x 5 = 45\n",
      " 2 x 6 = 12 3 x 6 = 18 4 x 6 = 24 5 x 6 = 30 6 x 6 = 36 7 x 6 = 42 8 x 6 = 48 9 x 6 = 54\n",
      " 2 x 7 = 14 3 x 7 = 21 4 x 7 = 28 5 x 7 = 35 6 x 7 = 42 7 x 7 = 49 8 x 7 = 56 9 x 7 = 63\n",
      " 2 x 8 = 16 3 x 8 = 24 4 x 8 = 32 5 x 8 = 40 6 x 8 = 48 7 x 8 = 56 8 x 8 = 64 9 x 8 = 72\n",
      " 2 x 9 = 18 3 x 9 = 27 4 x 9 = 36 5 x 9 = 45 6 x 9 = 54 7 x 9 = 63 8 x 9 = 72 9 x 9 = 81\n"
     ]
    }
   ],
   "source": [
    "# 실습3. 2단~9단까지 세로 출력하기\n",
    "# -- 2단 -- ....  -- 9단 --\n",
    "# 2 x 2 = 4       9 x 2 = 18\n",
    "#  ...\n",
    "# 2 x 9 = 18      9 x 9 = 81\n",
    "title = \"\"\n",
    "for dan in range(2, 10):\n",
    "    title = title + f' -- {dan}단 --'\n",
    "print(title)\n",
    "\n",
    "for j in range(2, 10):\n",
    "    gugudan = \"\"\n",
    "    for dan in range(2, 10):\n",
    "        gugudan = gugudan + f' {dan} x {j} = {dan*j:2d}'\n",
    "    print(gugudan)"
   ]
  },
  {
   "cell_type": "markdown",
   "id": "da3cf3ef-79f9-4916-b6c8-6fa9eeeaa6a9",
   "metadata": {},
   "source": [
    "##### list안에 for문 사용하기\n",
    "\n",
    "1. list안에 한 개의 for문 - 1차원\n",
    "```python\n",
    "[표현식 for 변수 in iterable]\n",
    "```\n",
    "\n",
    "2. list안에 여러 개의 for문 - n차원 즉, 중첩for문\n",
    "```python\n",
    "[\n",
    "    표현식 for 변수 in iterable if 조건\n",
    "           for 변수 in iterable if 조건\n",
    "           ...\n",
    "]\n",
    "```"
   ]
  },
  {
   "cell_type": "code",
   "execution_count": 34,
   "id": "e92c4cd3-89a5-434e-b55b-450b47bd869a",
   "metadata": {},
   "outputs": [
    {
     "name": "stdout",
     "output_type": "stream",
     "text": [
      "[1, 2, 3, 4, 5, 1, 2, 3, 4, 5, 1, 2, 3, 4, 5]\n",
      "1. 3의 배수 =  [3, 6, 9, 12, 15]\n",
      "2. 3의 배수 =  [3, 6, 9, 12, 15]\n",
      "\n",
      "1. 짝수 =  [2, 4]\n",
      "2. 짝수의 3의 배수 =  [6, 12]\n"
     ]
    }
   ],
   "source": [
    "# 1. list안에 1개의 for문 사용하기\n",
    "\n",
    "nums = [1,2,3,4,5]\n",
    "print(nums * 3) # 반복연산자\n",
    "\n",
    "# 1) [1,2,3,4,5] 3의 배수의 list를 생성\n",
    "# a. 일반for문\n",
    "result = []\n",
    "for num in nums:\n",
    "    result.append(num * 3)\n",
    "print('1. 3의 배수 = ', result)\n",
    "\n",
    "# b. list안에 for문 - for문안에 조건절이 없을 경우\n",
    "result = [num * 3 for num in nums]\n",
    "print('2. 3의 배수 = ', result)\n",
    "print()\n",
    "\n",
    "# 2) for문에 조건절이 있으 ㄹ경우\n",
    "# 짝수만 출력\n",
    "# a. 일반 for 문\n",
    "result = []\n",
    "for num in nums:\n",
    "    if(num%2==0):\n",
    "        result.append(num)\n",
    "print('1. 짝수 = ', result) \n",
    "\n",
    "# b. list안의 for문 - 조건절이 있을 경우\n",
    "# 짝수만 3의 배수로 처리\n",
    "result = [num * 3 for num in nums if num%2==0]\n",
    "print('2. 짝수의 3의 배수 = ', result) "
   ]
  },
  {
   "cell_type": "code",
   "execution_count": 36,
   "id": "dda7a4f2-2281-4e0c-b422-0a7876865a97",
   "metadata": {},
   "outputs": [
    {
     "name": "stdout",
     "output_type": "stream",
     "text": [
      "[4, 6, 8, 10, 12, 14, 16, 18, 6, 9, 12, 15, 18, 21, 24, 27, 8, 12, 16, 20, 24, 28, 32, 36, 10, 15, 20, 25, 30, 35, 40, 45, 12, 18, 24, 30, 36, 42, 48, 54, 14, 21, 28, 35, 42, 49, 56, 63, 16, 24, 32, 40, 48, 56, 64, 72, 18, 27, 36, 45, 54, 63, 72, 81]\n",
      "[4, 8, 12, 16, 8, 16, 24, 32, 12, 24, 36, 48, 16, 32, 48, 64]\n"
     ]
    }
   ],
   "source": [
    "# 2. list안에 중첩 for문 사용하기\n",
    "# 구구단의 결과를 한 개의 list에 저장하기\n",
    "# 1) list안에 조건이 없을 경우\n",
    "result = [dan * i for dan in range(2, 10)\n",
    "                  for i   in range(2, 10)\n",
    "         ]\n",
    "print(result)\n",
    "\n",
    "# 2) for문에 조건이 있을 경우\n",
    "# 짝수만 출력하기\n",
    "result = [dan * i for dan in range(2, 10) if dan%2==0\n",
    "                  for i   in range(2, 10) if i%2==0\n",
    "         ]\n",
    "print(result)"
   ]
  },
  {
   "cell_type": "markdown",
   "id": "6e27db15-6fdf-4b47-90c2-87c870d05d47",
   "metadata": {},
   "source": [
    "##### 실습문제"
   ]
  },
  {
   "cell_type": "code",
   "execution_count": 3,
   "id": "a9c08460-29fd-455b-8739-05ba64c5da90",
   "metadata": {},
   "outputs": [
    {
     "name": "stdout",
     "output_type": "stream",
     "text": [
      "1, 2, 3, 4, 5, 6, 7, 8, 9, 10, 11, 12, 13, 14, 15, 16, 17, 18, 19, 20, 21, 22, 23, 24, 25, 26, 27, 28, 29, 30, 31, 32, 33, 34, 35, 36, 37, 38, 39, 40, 41, 42, 43, 44, 45, 46, 47, 48, 49, 50, 51, 52, 53, 54, 55, 56, 57, 58, 59, 60, 61, 62, 63, 64, 65, 66, 67, 68, 69, 70, 71, 72, 73, 74, 75, 76, 77, 78, 79, 80, 81, 82, 83, 84, 85, 86, 87, 88, 89, 90, 91, 92, 93, 94, 95, 96, 97, 98, 99, 100, \n",
      "[1, 2, 3, 4, 5, 6, 7, 8, 9, 10, 11, 12, 13, 14, 15, 16, 17, 18, 19, 20, 21, 22, 23, 24, 25, 26, 27, 28, 29, 30, 31, 32, 33, 34, 35, 36, 37, 38, 39, 40, 41, 42, 43, 44, 45, 46, 47, 48, 49, 50, 51, 52, 53, 54, 55, 56, 57, 58, 59, 60, 61, 62, 63, 64, 65, 66, 67, 68, 69, 70, 71, 72, 73, 74, 75, 76, 77, 78, 79, 80, 81, 82, 83, 84, 85, 86, 87, 88, 89, 90, 91, 92, 93, 94, 95, 96, 97, 98, 99, 100]\n"
     ]
    }
   ],
   "source": [
    "# 문제1. 1~100까지의 숫자를 for문을 이용해서 출력\n",
    "# 1) 일반 for문과 \n",
    "for i in range(1, 101): print(i, end=\", \")\n",
    "print()\n",
    "\n",
    "# 2) list안에 for문을 이용\n",
    "print([i for i in range(1, 101)])"
   ]
  },
  {
   "cell_type": "code",
   "execution_count": 8,
   "id": "547b15cd-a322-44c4-aa26-dc65fd67d146",
   "metadata": {},
   "outputs": [
    {
     "name": "stdin",
     "output_type": "stream",
     "text": [
      "임의의 숫자를 입력하세요 ==>  1000\n"
     ]
    },
    {
     "name": "stdout",
     "output_type": "stream",
     "text": [
      "1부터 1000까지 5배수의 합 = 100500\n",
      "1부터 1000까지 5배수의 합 = 100500\n"
     ]
    }
   ],
   "source": [
    "# 문제2. 1~1000까지의 5의 배수의 총합\n",
    "# 1000을 입력 받아서 1~1000까지의 5의 배수의 합계를 구하기\n",
    "# 결과 100500\n",
    "tot = 0\n",
    "value = int(input(\"임의의 숫자를 입력하세요 ==> \"))\n",
    "for i in range(1, value+1):\n",
    "    if i%5==0:\n",
    "        tot += i\n",
    "print(f'1부터 {value}까지 5배수의 합 = {tot}')\n",
    "\n",
    "tot = 0\n",
    "for i in range(5, value+1, 5): tot += i\n",
    "print('1부터 %d까지 5배수의 합 = %d' % (value, tot))"
   ]
  },
  {
   "cell_type": "code",
   "execution_count": 15,
   "id": "75ecf923-acf8-4cb9-b260-08ae4961cf9f",
   "metadata": {},
   "outputs": [
    {
     "name": "stdout",
     "output_type": "stream",
     "text": [
      "학급평균 = 79.0\n"
     ]
    }
   ],
   "source": [
    "# 문제3 학급의 평균점수 수하기\n",
    "# 결과 79.0\n",
    "scores = [70, 60, 55, 75, 95, 90, 80, 80, 85, 100] \n",
    "tot = 0\n",
    "for score in scores: tot += score\n",
    "print(f'학급평균 = {tot / len(scores)}')"
   ]
  },
  {
   "cell_type": "code",
   "execution_count": 16,
   "id": "659a2ff4-0365-4b2f-acec-50656b81b17e",
   "metadata": {},
   "outputs": [
    {
     "name": "stdout",
     "output_type": "stream",
     "text": [
      "{'A': 3, 'B': 3, 'O': 3, 'AB': 3}\n"
     ]
    }
   ],
   "source": [
    "# 문제4. 혈액형별 학생수의 합계\n",
    "# ['A', 'B', 'A', 'O', 'AB', 'AB', 'O', 'A', 'B', 'O', 'B', 'AB']\n",
    "# 결과\n",
    "# {'A':3, 'B':3,'O':3, 'AB':3 }\n",
    "result = {}\n",
    "bloods = ['A', 'B', 'A', 'O', 'AB', 'AB', 'O', 'A', 'B', 'O', 'B', 'AB']\n",
    "for blood in bloods:\n",
    "    if blood in result:\n",
    "        result[blood] += 1\n",
    "    else:\n",
    "        result[blood] = 1\n",
    "\n",
    "print(result)"
   ]
  },
  {
   "cell_type": "code",
   "execution_count": 18,
   "id": "13addd3f-e81f-4e59-8525-1eed3ca67578",
   "metadata": {},
   "outputs": [
    {
     "name": "stdout",
     "output_type": "stream",
     "text": [
      "[2, 6, 10]\n",
      "[2, 6, 10]\n"
     ]
    }
   ],
   "source": [
    "# 문제5. 주어진 코드를 리스트내포for문으로 변환하기\n",
    "# [1, 2, 3, 4, 5] -> [2,6,10]\n",
    "numbers = [1, 2, 3, 4, 5]\n",
    "result = list()\n",
    "\n",
    "for num in numbers:\n",
    "    if num%2==1:\n",
    "        result.append(num*2)\n",
    "print(result)\n",
    "\n",
    "print([n*2 for n in numbers if n%2==1])"
   ]
  },
  {
   "cell_type": "code",
   "execution_count": 19,
   "id": "63fc2381-c30a-4d30-86e9-3f785b31da0e",
   "metadata": {},
   "outputs": [
    {
     "data": {
      "text/plain": [
       "'Lf s t shrt, y nd pythn'"
      ]
     },
     "execution_count": 19,
     "metadata": {},
     "output_type": "execute_result"
    }
   ],
   "source": [
    "# 문제6. 아래문장에서 모음('aeiou')을 제거 \n",
    "# Life is too short, you need python\n",
    "# 결과 : Lf s t shrt, y nd pythn\n",
    "vowels = 'aeiou'\n",
    "sentense = 'Life is too short, you need python'\n",
    "\n",
    "''.join([w for w in sentense if w not in vowels])"
   ]
  },
  {
   "cell_type": "markdown",
   "id": "a4766324-635e-4359-b887-ff78c0805055",
   "metadata": {},
   "source": [
    "###### 문제7\n",
    "<img src=\"./images/10.반복문_for_연습문제_01.jpg\">  "
   ]
  },
  {
   "cell_type": "code",
   "execution_count": 22,
   "id": "e2a38fb2-ae4d-421f-ab38-1e1741791014",
   "metadata": {},
   "outputs": [
    {
     "name": "stdin",
     "output_type": "stream",
     "text": [
      "짐의 무게를 입력하세요 =>  20\n"
     ]
    },
    {
     "name": "stdout",
     "output_type": "stream",
     "text": [
      "수수료는 10,000입니다!\n",
      "수수료는 10,000입니다!\n"
     ]
    }
   ],
   "source": [
    "# A형\n",
    "weight = int(input('짐의 무게를 입력하세요 => '))\n",
    "if weight >=10:\n",
    "    print(f'수수료는 {10000:3,d}입니다!')\n",
    "    print('수수료는 ' + format(10000, '3,d') + '입니다!')\n",
    "else:\n",
    "    print('수수료는 없습니다!')"
   ]
  },
  {
   "cell_type": "code",
   "execution_count": 27,
   "id": "098871b5-c630-44f4-8f34-27d1e5433bd7",
   "metadata": {},
   "outputs": [
    {
     "name": "stdin",
     "output_type": "stream",
     "text": [
      "짐의 무게를 입력하세요 =>  1000\n"
     ]
    },
    {
     "name": "stdout",
     "output_type": "stream",
     "text": [
      "수수료는 1,000,000.00입니다!\n"
     ]
    }
   ],
   "source": [
    "# B형\n",
    "weight = int(input('짐의 무게를 입력하세요 => '))\n",
    "if weight >=10:\n",
    "    price = weight / 10 * 10000\n",
    "    print(f'수수료는 {price:3,.2f}입니다!')\n",
    "else:\n",
    "    print('수수료는 없습니다!')    "
   ]
  },
  {
   "cell_type": "markdown",
   "id": "d2923b61-adf6-4a53-864d-fc4930a5a5d8",
   "metadata": {},
   "source": [
    "###### 문제8\n",
    "<img src=\"./images/10.반복문_for_연습문제_02.jpg\"> "
   ]
  },
  {
   "cell_type": "code",
   "execution_count": 62,
   "id": "08aae58d-0ac5-4871-9a18-319e1dff6661",
   "metadata": {},
   "outputs": [
    {
     "name": "stdout",
     "output_type": "stream",
     "text": [
      "<class 'float'> 0.5598702995651952\n",
      "<class 'int'> 539\n",
      "\n",
      "--- 숫자 맞히기 게임 v1.0 ---\n",
      "3\n"
     ]
    },
    {
     "name": "stdin",
     "output_type": "stream",
     "text": [
      "예상숫자를 입력하세요 ==>  10\n"
     ]
    },
    {
     "name": "stdout",
     "output_type": "stream",
     "text": [
      "입력한 숫자10는 예상숫자보다 큽니다!!\n"
     ]
    },
    {
     "name": "stdin",
     "output_type": "stream",
     "text": [
      "예상숫자를 입력하세요 ==>  2\n"
     ]
    },
    {
     "name": "stdout",
     "output_type": "stream",
     "text": [
      "입력한 숫자2는 예상숫자보다 작습니다!!\n"
     ]
    },
    {
     "name": "stdin",
     "output_type": "stream",
     "text": [
      "예상숫자를 입력하세요 ==>  3\n"
     ]
    },
    {
     "name": "stdout",
     "output_type": "stream",
     "text": [
      "숫자를 맞췄습니다! 예상숫자는 3 입니다!\n"
     ]
    }
   ],
   "source": [
    "# 숫자맛히기게임\n",
    "import random\n",
    "print(type(random.random()), random.random()) # 0<= 난수 < 1의 실수 한개를 리턴\n",
    "print(type(random.randint(1, 1000)), random.randint(1, 1000)) # start<= 난수 < end-1사이의 정수 한개를 리턴\n",
    "print()\n",
    "\n",
    "print('--- 숫자 맞히기 게임 v1.0 ---')\n",
    "computer = random.randint(1, 10)\n",
    "print(computer)\n",
    "\n",
    "while True:\n",
    "    me = int(input('예상숫자를 입력하세요 ==> '))\n",
    "    if computer == me:\n",
    "        print(f'숫자를 맞췄습니다! 예상숫자는 {computer} 입니다!')\n",
    "        break\n",
    "    elif computer > me:\n",
    "        print(f'입력한 숫자{me}는 예상숫자보다 작습니다!!')\n",
    "    elif computer < me:\n",
    "        print(f'입력한 숫자{me}는 예상숫자보다 큽니다!!')"
   ]
  },
  {
   "cell_type": "markdown",
   "id": "f75e32ba-b5b3-4503-886e-cee545c9cbf2",
   "metadata": {},
   "source": [
    "###### 문제9\n",
    "<img src=\"./images/10.반복문_for_연습문제_03.jpg\"> "
   ]
  },
  {
   "cell_type": "code",
   "execution_count": 64,
   "id": "09cad866-c832-4867-bc35-2290d139b27e",
   "metadata": {},
   "outputs": [
    {
     "name": "stdout",
     "output_type": "stream",
     "text": [
      "수열 = 3 9 15 21 27 33 39 45 51 57 63 69 75 81 87 93 99 \n",
      "수열의 누적합 = 867\n"
     ]
    }
   ],
   "source": [
    "# for문을 이용한 수열출력\n",
    "# 1~100사이에서 3배수이면서 2배수가아닌 수를 한줄에 출력하고 누적합을 출력\n",
    "# 결과출력\n",
    "# 수열 = 3 9 15 21 27 33 39 45 51 57 63 69 75 81 87 93 99 \n",
    "# 누적합 = 867\n",
    "tot = 0\n",
    "print('수열 =', end=\" \")\n",
    "\n",
    "for i in range(1, 101):\n",
    "    if i%3==0 and i%2!=0:\n",
    "        print(i, end=\" \")\n",
    "        tot += i\n",
    "print(f'\\n수열의 누적합 = {tot}')"
   ]
  },
  {
   "cell_type": "code",
   "execution_count": 68,
   "id": "4ab851b4-6075-4343-af03-e317153ceaf2",
   "metadata": {},
   "outputs": [
    {
     "name": "stdout",
     "output_type": "stream",
     "text": [
      "\n",
      "단어수 = 9\n",
      "\n",
      "['안녕하세요. 파이썬 세계로 오신걸', '환영합니다.', '파이썬은 비단뱀처럼 매력적인 언어입니다.']\n",
      "['안녕하세요.', '파이썬', '세계로', '오신걸', '환영합니다.', '파이썬은', '비단뱀처럼', '매력적인', '언어입니다.']\n"
     ]
    }
   ],
   "source": [
    "# wordcount : 중첩for문을 이용\n",
    "multiline=\"\"\"안녕하세요. 파이썬 세계로 오신걸\n",
    "환영합니다.\n",
    "파이썬은 비단뱀처럼 매력적인 언어입니다.\"\"\"\n",
    "\n",
    "# 공백문자를 기준으로 단어를 카운터\n",
    "cnt = 0\n",
    "doc = [] # 줄단위\n",
    "word = [] # 단어단위\n",
    "multiline.split('\\n')\n",
    "\n",
    "for line in multiline.split('\\n'):\n",
    "    doc.append(line)\n",
    "    # print(doc)\n",
    "    for w in line.split(' '):\n",
    "        word.append(w)\n",
    "        # print(word)\n",
    "        cnt += 1\n",
    "\n",
    "# 결과출력\n",
    "print(f'\\n단어수 = {cnt}\\n')\n",
    "print(doc)\n",
    "print(word)"
   ]
  }
 ],
 "metadata": {
  "kernelspec": {
   "display_name": "Python 3 (ipykernel)",
   "language": "python",
   "name": "python3"
  },
  "language_info": {
   "codemirror_mode": {
    "name": "ipython",
    "version": 3
   },
   "file_extension": ".py",
   "mimetype": "text/x-python",
   "name": "python",
   "nbconvert_exporter": "python",
   "pygments_lexer": "ipython3",
   "version": "3.11.7"
  }
 },
 "nbformat": 4,
 "nbformat_minor": 5
}
