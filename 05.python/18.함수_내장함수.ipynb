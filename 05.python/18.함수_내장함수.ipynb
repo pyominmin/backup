{
 "cells": [
  {
   "cell_type": "markdown",
   "id": "2b1e665a-fe57-4b2e-bd64-1f7d2bd98d4d",
   "metadata": {},
   "source": [
    "# 내장함수\n",
    "\n",
    "* https://docs.python.org/3/library/functions.html"
   ]
  },
  {
   "cell_type": "code",
   "execution_count": null,
   "id": "18013cfc-7812-44e3-aed5-1e40633cd605",
   "metadata": {},
   "outputs": [],
   "source": [
    "# 1. all(iterable)\n",
    "# iterable자료형을 전달 받아서 그 요소들의 값이 전부 True면 True를 리턴, 아니면 False를 리턴\n",
    "# all?\n",
    "# 1) list\n",
    "print(all([1,2,3,4,5]))  # True\n",
    "print(all([1,2,0,4,5]))  # False\n",
    "print(all([]))           # True\n",
    "print(all(['1','0']))    # True\n",
    "print(all(['1','']))     # False\n",
    "print()\n",
    "\n",
    "# 2) tuple\n",
    "print(all((1,2,3,4,5)))   # True\n",
    "print(all((1,2,0,4,5)))  # False\n",
    "print(all(()))           # True\n",
    "print(all(('1','0')))    # True\n",
    "print(all(('1','')))     # False\n",
    "print()"
   ]
  },
  {
   "cell_type": "code",
   "execution_count": null,
   "id": "e329339d-15de-40f2-ba7a-7d842c4f3413",
   "metadata": {},
   "outputs": [],
   "source": [
    "# 2. any(iterable)\n",
    "# 값중에 하나라도 True면 True, 전부 False면 False\n",
    "# 1) list\n",
    "print(any([1,2,3,4,5]))  # True\n",
    "print(any([1,2,0,4,5]))  # True\n",
    "print(any([]))           # False\n",
    "print(any(['1','0']))    # True\n",
    "print(any(['1','']))     # True\n",
    "print()\n",
    "\n",
    "# 2) tuple\n",
    "print(any((1,2,3,4,5)))  # True\n",
    "print(any((1,2,0,4,5)))  # True\n",
    "print(any(()))           # False\n",
    "print(any(('1','0')))    # True\n",
    "print(any(('1','')))     # True\n",
    "print()"
   ]
  },
  {
   "cell_type": "code",
   "execution_count": 4,
   "id": "2cb25c8e-0532-42d8-afdb-5e2587e6dfd7",
   "metadata": {},
   "outputs": [
    {
     "name": "stdout",
     "output_type": "stream",
     "text": [
      "A 65\n",
      "a 97\n",
      "0 48\n",
      "가 44032\n",
      "\n",
      "A=65,B=66,C=67,D=68,E=69,F=70,G=71,H=72,I=73,J=74,K=75,L=76,M=77,N=78,O=79,P=80,Q=81,R=82,S=83,T=84,U=85,V=86,W=87,X=88,Y=89,Z=90,\n",
      "a=97,b=98,c=99,d=100,e=101,f=102,g=103,h=104,i=105,j=106,k=107,l=108,m=109,n=110,o=111,p=112,q=113,r=114,s=115,t=116,u=117,v=118,w=119,x=120,y=121,z=122,\n",
      "0=48,1=49,2=50,3=51,4=52,5=53,6=54,7=55,8=56,9=57,\n",
      "가=44032,각=44033,갂=44034,갃=44035,간=44036,갅=44037,갆=44038,갇=44039,갈=44040,갉=44041,\n",
      "126\n",
      "~=126,=127,=128,=129,=130,=131,=132,",
      "=133,=134,=135,=136,=137,=138,=139,=140,=141,=142,=143,=144,=145,=146,=147,=148,=149,=150,=151,=152,=153,=154,=155,=156,=157,=158,=159, =160,¡=161,¢=162,£=163,¤=164,¥=165,¦=166,§=167,¨=168,©=169,ª=170,«=171,¬=172,­=173,®=174,¯=175,"
     ]
    }
   ],
   "source": [
    "# 3. chr(ascii), ord(문자)\n",
    "# ascii코드값을 전달 받아서 그 코드에 해당하는 문자나 코드값을 리턴하는 함수\n",
    "print(chr(65), ord('A'))\n",
    "print(chr(97), ord('a'))\n",
    "print(chr(48), ord('0'))\n",
    "print(chr(44032), ord('가'))\n",
    "print()\n",
    "\n",
    "# 대문자\n",
    "for i in range(26):\n",
    "    print(f'{chr(i+65)}={ord(chr(i+65))}', end=\",\")\n",
    "print()\n",
    "\n",
    "# 소문자\n",
    "for i in range(26):\n",
    "    print(f'{chr(i+97)}={ord(chr(i+97))}', end=\",\")\n",
    "print()\n",
    "\n",
    "# 숫자\n",
    "for i in range(10):\n",
    "    print(f'{chr(i+48)}={ord(chr(i+48))}', end=\",\")\n",
    "print()\n",
    "\n",
    "# 한글\n",
    "for i in range(10):\n",
    "    print(f'{chr(i+44032)}={ord(chr(i+44032))}', end=\",\")\n",
    "print()\n",
    "\n",
    "# 특수문자\n",
    "print(ord('~'))\n",
    "for i in range(50):\n",
    "    print(f'{chr(i+126)}={ord(chr(i+126))}', end=\",\")"
   ]
  },
  {
   "cell_type": "code",
   "execution_count": 5,
   "id": "5283a767-8d3a-4d13-b273-fb66b841c029",
   "metadata": {},
   "outputs": [
    {
     "name": "stdout",
     "output_type": "stream",
     "text": [
      "['__class__', '__class_getitem__', '__contains__', '__delattr__', '__delitem__', '__dir__', '__doc__', '__eq__', '__format__', '__ge__', '__getattribute__', '__getitem__', '__getstate__', '__gt__', '__hash__', '__init__', '__init_subclass__', '__ior__', '__iter__', '__le__', '__len__', '__lt__', '__ne__', '__new__', '__or__', '__reduce__', '__reduce_ex__', '__repr__', '__reversed__', '__ror__', '__setattr__', '__setitem__', '__sizeof__', '__str__', '__subclasshook__', 'clear', 'copy', 'fromkeys', 'get', 'items', 'keys', 'pop', 'popitem', 'setdefault', 'update', 'values']\n"
     ]
    }
   ],
   "source": [
    "# 4. dir()\n",
    "print(dir({}))"
   ]
  },
  {
   "cell_type": "code",
   "execution_count": 7,
   "id": "687ee132-ffe6-42a8-854d-d720f715e208",
   "metadata": {},
   "outputs": [
    {
     "name": "stdout",
     "output_type": "stream",
     "text": [
      "(2, 1)\n",
      "(6.0, 0.09999999999999998)\n"
     ]
    }
   ],
   "source": [
    "# 5. divmod(a, b)\n",
    "print(divmod(7,3))     # 몫과 나머지를 tuple로 리턴\n",
    "print(divmod(1.3,0.2)) # 실수계산 정밀도 문제"
   ]
  },
  {
   "cell_type": "code",
   "execution_count": 11,
   "id": "db0c0319-d69c-41c5-b81e-e8d299f53ee5",
   "metadata": {},
   "outputs": [
    {
     "name": "stdout",
     "output_type": "stream",
     "text": [
      "0=소향\n",
      "1=나얼\n",
      "2=손흥민\n",
      "3=김민재\n",
      "\n",
      "1000=소향\n",
      "1001=나얼\n",
      "1002=손흥민\n",
      "1003=김민재\n",
      "\n"
     ]
    }
   ],
   "source": [
    "# 6. enumetate(iterable)\n",
    "# \"열거하다\"라는 의미처럼 반복자를 전달받아서 인덱스값으로 포함하는 enumrate라는 객체로 리턴\n",
    "# 이 함수는 보톤 for문과 같이 사용\n",
    "# enumerate?\n",
    "names = ['소향', '나얼', '손흥민', '김민재']\n",
    "\n",
    "for idx, name in enumerate(names):\n",
    "    print(f'{idx}={name}')\n",
    "print()\n",
    "\n",
    "for idx, name in enumerate(names, 1000):\n",
    "    print(f'{idx}={name}')\n",
    "print()"
   ]
  },
  {
   "cell_type": "code",
   "execution_count": 19,
   "id": "8ebe4170-3b33-40ed-92f5-b258c1e44e76",
   "metadata": {},
   "outputs": [
    {
     "name": "stdout",
     "output_type": "stream",
     "text": [
      "1+1\n",
      "2\n",
      "Hello Python!!\n",
      "(6.0, 0.09999999999999998)\n"
     ]
    },
    {
     "ename": "NameError",
     "evalue": "name 'divmodxxxx' is not defined",
     "output_type": "error",
     "traceback": [
      "\u001b[1;31m---------------------------------------------------------------------------\u001b[0m",
      "\u001b[1;31mNameError\u001b[0m                                 Traceback (most recent call last)",
      "Cell \u001b[1;32mIn[19], line 8\u001b[0m\n\u001b[0;32m      6\u001b[0m \u001b[38;5;28meval\u001b[39m(\u001b[38;5;124m'\u001b[39m\u001b[38;5;124mprint(\u001b[39m\u001b[38;5;124m\"\u001b[39m\u001b[38;5;124mHello Python!!\u001b[39m\u001b[38;5;124m\"\u001b[39m\u001b[38;5;124m)\u001b[39m\u001b[38;5;124m'\u001b[39m)\n\u001b[0;32m      7\u001b[0m \u001b[38;5;28mprint\u001b[39m(\u001b[38;5;28meval\u001b[39m(\u001b[38;5;124m'\u001b[39m\u001b[38;5;124mdivmod(1.3,0.2)\u001b[39m\u001b[38;5;124m'\u001b[39m))\n\u001b[1;32m----> 8\u001b[0m \u001b[38;5;28mprint\u001b[39m(\u001b[38;5;28meval\u001b[39m(\u001b[38;5;124m'\u001b[39m\u001b[38;5;124mdivmodxxxx(1.3,0.2)\u001b[39m\u001b[38;5;124m'\u001b[39m))\n",
      "File \u001b[1;32m<string>:1\u001b[0m\n",
      "\u001b[1;31mNameError\u001b[0m: name 'divmodxxxx' is not defined"
     ]
    }
   ],
   "source": [
    "# 7. eval(expression)\n",
    "# 파이썬의 표현식을 문자열로 전달받아서 해당 표현식을 실행해 주는 함수\n",
    "# eval?\n",
    "print('1+1')\n",
    "print(eval('1+1'))\n",
    "eval('print(\"Hello Python!!\")')\n",
    "print(eval('divmod(1.3,0.2)'))\n",
    "# print(eval('divmodxxxx(1.3,0.2)')) # 실행명령이 없는 경우 에러"
   ]
  },
  {
   "cell_type": "code",
   "execution_count": 34,
   "id": "59036a87-1b0f-43a8-bfe9-fa55de7365d4",
   "metadata": {},
   "outputs": [
    {
     "name": "stdout",
     "output_type": "stream",
     "text": [
      "[1, 2, 3, 2, 3]\n",
      "<class 'filter'> <filter object at 0x0000011DBA9EED10>\n",
      "['__class__', '__delattr__', '__dir__', '__doc__', '__eq__', '__format__', '__ge__', '__getattribute__', '__getstate__', '__gt__', '__hash__', '__init__', '__init_subclass__', '__iter__', '__le__', '__lt__', '__ne__', '__new__', '__next__', '__reduce__', '__reduce_ex__', '__repr__', '__setattr__', '__sizeof__', '__str__', '__subclasshook__']\n",
      "\n",
      "[1, 2, 3, 2, 3]\n",
      "\n",
      "[1, 2, -1, 3, -4, 2, 3, -10]\n",
      "[1, 2, 3, 2, 3]\n",
      "[1, 2, 3, 2, 3]\n"
     ]
    }
   ],
   "source": [
    "# 8. filter(function, iterable)\n",
    "# 첫 번째인수가 실행할 함수, 두 번째인수가 반복자를 전달받아서\n",
    "# 반복자값을 하나씩 꺼내서 실행함수의 조건에 맞는 값만 리턴하는 함수\n",
    "# help(filter)\n",
    "\n",
    "# list자료형이 숫자일경우, 양수만 리턴하는 함수\n",
    "# 1) 사용자함수\n",
    "def positive(numbers):\n",
    "    result = []\n",
    "    for number in numbers:\n",
    "        if number > 0:\n",
    "            result.append(number)\n",
    "    return result\n",
    "\n",
    "print(positive([1,2,0,-1,3,-4,2,3,-10]))\n",
    "\n",
    "# 2) filter함수\n",
    "# [True,True,False,False,True,False,True,True,False] -> True \n",
    "def positive1(numbers):\n",
    "    return numbers > 0\n",
    "\n",
    "# 비교연산은 숫자형을 전달해야 한다. 아래와 같이 객체(list)를 전달하면 에러\n",
    "# print(positive1([1,2,0,-1,3,-4,2,3,-10])) \n",
    "numbers = [1,2,0,-1,3,-4,2,3,-10]\n",
    "f = filter(positive1, numbers) # [True,True,False,False,True,False,True,True,False] -> True \n",
    "print(type(f), f)\n",
    "print(dir(f))\n",
    "print()\n",
    "\n",
    "result = list(f) # filter객체는 list로 변환 \n",
    "print(result)\n",
    "print()\n",
    "\n",
    "# 3) lambda함수\n",
    "print(list(filter(None, numbers)))\n",
    "print(list(filter(positive1, numbers)))\n",
    "print(list(filter(lambda x:x>0, numbers)))"
   ]
  },
  {
   "cell_type": "code",
   "execution_count": 40,
   "id": "3706f937-8f8f-4074-8921-727dbfe2c661",
   "metadata": {},
   "outputs": [
    {
     "name": "stdout",
     "output_type": "stream",
     "text": [
      "True\n",
      "True\n",
      "\n",
      "True\n",
      "True\n",
      "False\n"
     ]
    }
   ],
   "source": [
    "# 9. isinstance(객체, class)\n",
    "# 1번째객체가 2번째인수인 class로 생성된 객체인지 여부를 리턴\n",
    "class Person: pass\n",
    "class Child(Person): pass\n",
    "class Human: pass\n",
    "\n",
    "p = Person()\n",
    "c = Child()\n",
    "h = Human()\n",
    "\n",
    "print(isinstance(p, Person))\n",
    "print(isinstance(c, Child))\n",
    "print()\n",
    "\n",
    "print(isinstance(c, Person))\n",
    "print(isinstance(c, Child))\n",
    "print(isinstance(c, Human))"
   ]
  },
  {
   "cell_type": "code",
   "execution_count": 49,
   "id": "75976e38-aaa1-4fd7-8ff6-e5f6d83b019a",
   "metadata": {},
   "outputs": [
    {
     "name": "stdout",
     "output_type": "stream",
     "text": [
      "True\n",
      "True\n",
      "\n",
      "False\n",
      "False\n",
      "False\n"
     ]
    }
   ],
   "source": [
    "# 10. issubclass(cls, tuple(class,...))\n",
    "# issubclass?\n",
    "print(issubclass(Child, (Person)))\n",
    "print(issubclass(Child, (Person, Human)))\n",
    "print()\n",
    "\n",
    "print(issubclass(Person, (Child)))\n",
    "print(issubclass(Human, (Person)))\n",
    "print(issubclass(Human, (Child)))"
   ]
  },
  {
   "cell_type": "code",
   "execution_count": 54,
   "id": "2e1624bb-6517-47d7-b448-9bf2a7e1daee",
   "metadata": {},
   "outputs": [
    {
     "name": "stdout",
     "output_type": "stream",
     "text": [
      "[2, 4, 6, 8, 10, 12, 14, 16, 18, 20]\n",
      "[2, 4, 6, 8, 10, 12, 14, 16, 18, 20]\n",
      "[2, 4, 6, 8, 10, 12, 14, 16, 18, 20]\n"
     ]
    }
   ],
   "source": [
    "# 11. map(function, iterable)\n",
    "# 반복자료형의 요소들에 각각 2배를 한 결과만들기\n",
    "t = 1,2,3,4,5,6,7,8,9,10\n",
    "\n",
    "# 1) 사용자함수\n",
    "def two_times(numbers):\n",
    "    result = []\n",
    "    for num in numbers:\n",
    "        result.append(num*2)\n",
    "    return result\n",
    "    \n",
    "print(two_times(t))\n",
    "\n",
    "# 2) map\n",
    "def two_times1(n):\n",
    "    return n*2\n",
    "print(list(map(two_times1, t)))\n",
    "\n",
    "# 3) lambda\n",
    "print(list(map(lambda n:n*2, t)))"
   ]
  },
  {
   "cell_type": "code",
   "execution_count": 57,
   "id": "3b3afba5-a2e0-4ffc-b131-931666620816",
   "metadata": {},
   "outputs": [
    {
     "name": "stdout",
     "output_type": "stream",
     "text": [
      "[False, True, False, True, False, True, False, True, False, True]\n",
      "[2, 4, 6, 8, 10]\n"
     ]
    }
   ],
   "source": [
    "# 12. filter\n",
    "print(list(map(lambda n:n%2==0, t)))\n",
    "print(list(filter(lambda n:n%2==0, t)))\n",
    "\n",
    "# map vs filter\n",
    "# map은 입력요소의 갯수 = 출력된 요소의 갯수 -> 각 요소가 변형\n",
    "# filter는 입력된 요소의 갯수 > 출력된 요소의 갯수 -> 입력요소를 추출해서 출력 "
   ]
  },
  {
   "cell_type": "code",
   "execution_count": 66,
   "id": "06725224-eefd-4784-8813-7d913c82b82c",
   "metadata": {},
   "outputs": [
    {
     "name": "stdout",
     "output_type": "stream",
     "text": [
      "cde\n",
      "<class 'slice'> slice(2, 5, None)\n",
      "cde\n"
     ]
    }
   ],
   "source": [
    "# 13. slice(stop), slice(start, stop[, step])\n",
    "alphabet = 'abcdefghijklmnopqrstuvwxyz'\n",
    "print(alphabet[2:5])\n",
    "print(type(slice(2,5)), slice(2,5))\n",
    "print(alphabet[slice(2,5)])"
   ]
  },
  {
   "cell_type": "code",
   "execution_count": 73,
   "id": "5832959d-9ff0-479c-ad82-96e6cdda7fe1",
   "metadata": {},
   "outputs": [
    {
     "name": "stdout",
     "output_type": "stream",
     "text": [
      "[1, 2, 3, 5, 6, 7, 8, 9]\n",
      "[9, 8, 7, 6, 5, 3, 2, 1]\n",
      "[' ', '!', '?', '갑', '녕', '니', '다', '반', '세', '습', '안', '요', '하']\n",
      "['a', 'b', 'c', 'x', 'y', 'z']\n"
     ]
    },
    {
     "ename": "TypeError",
     "evalue": "'<' not supported between instances of 'int' and 'str'",
     "output_type": "error",
     "traceback": [
      "\u001b[1;31m---------------------------------------------------------------------------\u001b[0m",
      "\u001b[1;31mTypeError\u001b[0m                                 Traceback (most recent call last)",
      "Cell \u001b[1;32mIn[73], line 8\u001b[0m\n\u001b[0;32m      6\u001b[0m \u001b[38;5;28mprint\u001b[39m(\u001b[38;5;28msorted\u001b[39m(\u001b[38;5;124m'\u001b[39m\u001b[38;5;124m안녕하세요? 반갑습니다!\u001b[39m\u001b[38;5;124m'\u001b[39m))\n\u001b[0;32m      7\u001b[0m \u001b[38;5;28mprint\u001b[39m(\u001b[38;5;28msorted\u001b[39m([\u001b[38;5;124m'\u001b[39m\u001b[38;5;124mx\u001b[39m\u001b[38;5;124m'\u001b[39m,\u001b[38;5;124m'\u001b[39m\u001b[38;5;124ma\u001b[39m\u001b[38;5;124m'\u001b[39m,\u001b[38;5;124m'\u001b[39m\u001b[38;5;124my\u001b[39m\u001b[38;5;124m'\u001b[39m,\u001b[38;5;124m'\u001b[39m\u001b[38;5;124mb\u001b[39m\u001b[38;5;124m'\u001b[39m,\u001b[38;5;124m'\u001b[39m\u001b[38;5;124mz\u001b[39m\u001b[38;5;124m'\u001b[39m,\u001b[38;5;124m'\u001b[39m\u001b[38;5;124mc\u001b[39m\u001b[38;5;124m'\u001b[39m]))\n\u001b[1;32m----> 8\u001b[0m \u001b[38;5;28mprint\u001b[39m(\u001b[38;5;28msorted\u001b[39m([\u001b[38;5;124m'\u001b[39m\u001b[38;5;124mx\u001b[39m\u001b[38;5;124m'\u001b[39m,\u001b[38;5;124m'\u001b[39m\u001b[38;5;124ma\u001b[39m\u001b[38;5;124m'\u001b[39m,\u001b[38;5;241m1\u001b[39m,\u001b[38;5;124m'\u001b[39m\u001b[38;5;124mb\u001b[39m\u001b[38;5;124m'\u001b[39m,\u001b[38;5;124m'\u001b[39m\u001b[38;5;124mz\u001b[39m\u001b[38;5;124m'\u001b[39m,\u001b[38;5;124m'\u001b[39m\u001b[38;5;124mc\u001b[39m\u001b[38;5;124m'\u001b[39m]))\n",
      "\u001b[1;31mTypeError\u001b[0m: '<' not supported between instances of 'int' and 'str'"
     ]
    }
   ],
   "source": [
    "# 14. sorted(iterable)\n",
    "# 제약사항 : iterable의 요소의 데이터형은 동일데이터형이어야 된다.\n",
    "# sorted?\n",
    "print(sorted([3,2,5,1,6,9,7,8]))\n",
    "print(sorted([3,2,5,1,6,9,7,8], reverse=True))\n",
    "print(sorted('안녕하세요? 반갑습니다!'))\n",
    "print(sorted(['x','a','y','b','z','c']))\n",
    "# print(sorted(['x','a',1,'b','z','c'])) TypeError"
   ]
  },
  {
   "cell_type": "code",
   "execution_count": 93,
   "id": "8c15de31-3f78-498a-9873-dd234409c8ca",
   "metadata": {},
   "outputs": [
    {
     "name": "stdout",
     "output_type": "stream",
     "text": [
      "<class 'zip'> <zip object at 0x0000011DBA7E6540> [(1, 4), (2, 5), (3, 6)]\n",
      "[(1, 4), (2, 5)]\n",
      "[(1, 4), (2, 5)]\n",
      "((1, 4), (2, 5), (3, 6))\n",
      "[('a', 4), ('b', 5), ('c', 6)]\n",
      "\n",
      "[('a', 'x'), ('b', 'y'), ('c', 'z')]\n",
      "[('a', 'xyz')]\n",
      "[('a', 'x'), ('b', 'y'), ('c', 'z')]\n",
      "\n",
      "[('a', 0, 10, 21), ('b', 1, 11, 22), ('c', 2, 12, 23)]\n"
     ]
    }
   ],
   "source": [
    "# 15. zip(iterable) - 동일한 자료형을 묶어서 tuple로 리턴\n",
    "# zip?\n",
    "# 1) 2개의 객체가 동수일 경우\n",
    "a = [1,2,3]\n",
    "b = [4,5,6]\n",
    "print(type(zip(a, b)), zip(a,b), list(zip(a,b)))\n",
    "\n",
    "# 2) 2개의 객체수가 동일하지 않을 경우\n",
    "print(list(zip([1,2], [4,5,6])))\n",
    "print(list(zip([1,2,3], [4,5])))\n",
    "\n",
    "# 3) 자료형이 다를 경우\n",
    "print(tuple(zip([1,2,3], (4,5,6))))\n",
    "print(list(zip('abcdefg', (4,5,6))))\n",
    "print()\n",
    "\n",
    "print(list(zip('abc', 'xyz')))\n",
    "print(list(zip('abc', ['xyz'])))\n",
    "print(list(zip('abc', ['x','y','z'])))\n",
    "print()\n",
    "\n",
    "# 4) 객체가 3개이상일 경우\n",
    "print(list(zip('abcdefg', range(3), range(10,21), range(21,41))))"
   ]
  }
 ],
 "metadata": {
  "kernelspec": {
   "display_name": "Python 3 (ipykernel)",
   "language": "python",
   "name": "python3"
  },
  "language_info": {
   "codemirror_mode": {
    "name": "ipython",
    "version": 3
   },
   "file_extension": ".py",
   "mimetype": "text/x-python",
   "name": "python",
   "nbconvert_exporter": "python",
   "pygments_lexer": "ipython3",
   "version": "3.11.7"
  }
 },
 "nbformat": 4,
 "nbformat_minor": 5
}
