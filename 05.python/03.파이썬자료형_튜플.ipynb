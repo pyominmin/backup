{
 "cells": [
  {
   "cell_type": "markdown",
   "id": "ac6b787c-5b2a-42be-8062-664c1de1a05f",
   "metadata": {},
   "source": [
    "# A. 튜플(tuple) 자료형\n",
    "\n",
    "* tuple은 수정이 불가능하며 순서가 있는 객체의 집합이다.\n",
    "* tuple은 list자료형과 비슷하지만 한번 생성이 되면 값을 변경할 수 없다.\n",
    "* 즉, list는 추가,수정,삭제가 가능하지만 tuple은 수정, 삭제를 할 수 없다.\n",
    "* 수정불가능한 자료형 `immutable자료형`이라고 한다. 이 점이 list와 다른 점이다.\n",
    "* list는 대괄호[]로 정의하지만 tuple `소괄호()`로 선언한다.\n",
    "* 순서가 있기 때문에 tuple요소에 대한 접근은 index로 접근한다.\n",
    "* tuple은 list와 동일하게 `더하기(연결하기, +), 곱하기(반복하기, *)`을 할 수 있다.\n",
    "* tuplple의 요소값은 파이썬에서 사용하는 모든 데이터타입의 객체를 저장할 수 있다.\n",
    "* `소괄호안에 1개값만 있을 경우에는 그 값의 자료형으로 선언`된다.\n",
    "* `소괄호안에 값이 없거나 1개의 요소뒤에 컴마로 정의하면 tuple자료형`이 된다.\n",
    "* 함수에서 값을 리턴할 때 tuple을 이용하면 변수에 값을 일괄로 할당할 수 있다."
   ]
  },
  {
   "cell_type": "code",
   "execution_count": 9,
   "id": "1a6bb0e2-c126-4804-8c5f-af71ecf4f584",
   "metadata": {},
   "outputs": [
    {
     "name": "stdout",
     "output_type": "stream",
     "text": [
      "<class 'list'> ['__add__', '__class__', '__class_getitem__', '__contains__', '__delattr__', '__delitem__', '__dir__', '__doc__', '__eq__', '__format__', '__ge__', '__getattribute__', '__getitem__', '__getstate__', '__gt__', '__hash__', '__iadd__', '__imul__', '__init__', '__init_subclass__', '__iter__', '__le__', '__len__', '__lt__', '__mul__', '__ne__', '__new__', '__reduce__', '__reduce_ex__', '__repr__', '__reversed__', '__rmul__', '__setattr__', '__setitem__', '__sizeof__', '__str__', '__subclasshook__', 'append', 'clear', 'copy', 'count', 'extend', 'index', 'insert', 'pop', 'remove', 'reverse', 'sort']\n",
      "\n",
      "<class 'tuple'> ['__add__', '__class__', '__class_getitem__', '__contains__', '__delattr__', '__dir__', '__doc__', '__eq__', '__format__', '__ge__', '__getattribute__', '__getitem__', '__getnewargs__', '__getstate__', '__gt__', '__hash__', '__init__', '__init_subclass__', '__iter__', '__le__', '__len__', '__lt__', '__mul__', '__ne__', '__new__', '__reduce__', '__reduce_ex__', '__repr__', '__rmul__', '__setattr__', '__sizeof__', '__str__', '__subclasshook__', 'count', 'index']\n"
     ]
    }
   ],
   "source": [
    "print(type([]), dir([]))\n",
    "print()\n",
    "\n",
    "print(type(()), dir(()))"
   ]
  },
  {
   "cell_type": "code",
   "execution_count": 21,
   "id": "cb06ed1e-4db2-4c17-baef-7f26cd4f9949",
   "metadata": {},
   "outputs": [
    {
     "name": "stdout",
     "output_type": "stream",
     "text": [
      "소괄호안에 값이 하나도 없을 경우 = <class 'tuple'>\n",
      "소괄호안에 값이 1개만 있을 경우 = <class 'int'>\n",
      "소괄호안에 값이 1개와 컴마만 있을 경우 = <class 'tuple'>\n",
      "\n",
      "a = 1 : <class 'int'>\n",
      "b = (1) : <class 'int'>\n",
      "c = 1,: <class 'tuple'>\n",
      "d = (1,): <class 'tuple'>\n",
      "e = 1,2,3,4: <class 'tuple'>\n"
     ]
    }
   ],
   "source": [
    "# ()로 정의할 때 자료형이 상이함에 주의할 것\n",
    "print('소괄호안에 값이 하나도 없을 경우 =', type(()))\n",
    "print('소괄호안에 값이 1개만 있을 경우 =', type((1)))\n",
    "print('소괄호안에 값이 1개와 컴마만 있을 경우 =', type((1,)))\n",
    "print()\n",
    "\n",
    "a = 1\n",
    "print('a = 1 :', type(a))\n",
    "\n",
    "b = (1)\n",
    "print('b = (1) :', type(b))\n",
    "\n",
    "c = 1,\n",
    "print('c = 1,:', type(c))\n",
    "\n",
    "d = (1,)\n",
    "print('d = (1,):', type(d))\n",
    "\n",
    "e = 1,2,3,4\n",
    "print('e = 1,2,3,4:', type(e))"
   ]
  },
  {
   "cell_type": "markdown",
   "id": "917c1baa-832b-4acd-ac51-9d3f6dc4c710",
   "metadata": {},
   "source": [
    "## 1. tuple 선언하기"
   ]
  },
  {
   "cell_type": "code",
   "execution_count": 29,
   "id": "ed0b7eae-868b-4140-b85c-899aa2206141",
   "metadata": {},
   "outputs": [
    {
     "name": "stdout",
     "output_type": "stream",
     "text": [
      "<class 'tuple'> <class 'tuple'>\n",
      "<class 'int'> <class 'str'> <class 'list'>\n",
      "<class 'tuple'> <class 'tuple'> <class 'tuple'> <class 'tuple'>\n",
      "<class 'tuple'> <class 'tuple'>\n",
      "<class 'tuple'> <class 'tuple'>\n"
     ]
    }
   ],
   "source": [
    "# 1. tuple 초기화 즉, 빈 tuple객체 선언하기\n",
    "t1 = ()\n",
    "t2 = tuple()\n",
    "print(type(t1), type(t2))\n",
    "\n",
    "# 2. 요소가 한개일 경우\n",
    "t3 = (6)\n",
    "t4 = ('a')\n",
    "t5 = ([])\n",
    "print(type(t3), type(t4), type(t5))\n",
    "\n",
    "# 3. 요소가 한개만 있지만 뒤에 컴마가 있을 경우\n",
    "t3 = (6,)\n",
    "t4 = ('a',)\n",
    "t5 = ([],)\n",
    "t6 = 6,\n",
    "print(type(t3), type(t4), type(t5), type(t6))\n",
    "\n",
    "# 3. 여러개의 요소가 있을 경우\n",
    "t3 = 1,2,3,4\n",
    "t4 = (1,2,3,4)\n",
    "print(type(t3), type(t4))\n",
    "\n",
    "# 4. tuple에는 모든 자료형을 저장할 수 있다.\n",
    "t3 = (1,2,'a',[4,5], (6,7,(8,9)), {}, {1}, print)\n",
    "t4 = 1,2,'a',[[],[[],[],()]], ((),((),()))\n",
    "print(type(t3), type(t4))"
   ]
  },
  {
   "cell_type": "markdown",
   "id": "905acdef-802e-43e1-8588-292cb89d7eea",
   "metadata": {},
   "source": [
    "### 2. tuple수정하기"
   ]
  },
  {
   "cell_type": "code",
   "execution_count": 40,
   "id": "22ee7b85-c53c-468e-a15e-85a64379eef0",
   "metadata": {},
   "outputs": [
    {
     "name": "stdout",
     "output_type": "stream",
     "text": [
      "1\n",
      "<class 'tuple'> (1, 2, 'a', 'b')\n"
     ]
    }
   ],
   "source": [
    "# 1. 삭제불가\n",
    "t = 1,2,'a','b'\n",
    "print(t[0])\n",
    "\n",
    "# del t[0]  # TypeError: 'tuple' object doesn't support item deletion\n",
    "print(type(t), t)"
   ]
  },
  {
   "cell_type": "code",
   "execution_count": 41,
   "id": "f5158eae-4bf0-4ca2-bd85-9c1e58143f9f",
   "metadata": {},
   "outputs": [
    {
     "ename": "TypeError",
     "evalue": "'tuple' object does not support item assignment",
     "output_type": "error",
     "traceback": [
      "\u001b[1;31m---------------------------------------------------------------------------\u001b[0m",
      "\u001b[1;31mTypeError\u001b[0m                                 Traceback (most recent call last)",
      "Cell \u001b[1;32mIn[41], line 2\u001b[0m\n\u001b[0;32m      1\u001b[0m \u001b[38;5;66;03m# 2. 수정불가\u001b[39;00m\n\u001b[1;32m----> 2\u001b[0m t[\u001b[38;5;241m0\u001b[39m] \u001b[38;5;241m=\u001b[39m \u001b[38;5;124m'\u001b[39m\u001b[38;5;124mhong\u001b[39m\u001b[38;5;124m'\u001b[39m\n\u001b[0;32m      3\u001b[0m \u001b[38;5;28mprint\u001b[39m(\u001b[38;5;28mtype\u001b[39m(t), t)\n",
      "\u001b[1;31mTypeError\u001b[0m: 'tuple' object does not support item assignment"
     ]
    }
   ],
   "source": [
    "# 2. 수정불가\n",
    "t[0] = 'hong'  # TypeError: 'tuple' object does not support item assignment\n",
    "print(type(t), t)"
   ]
  },
  {
   "cell_type": "markdown",
   "id": "cf53a128-967f-4fa9-b8b3-79971a5531ec",
   "metadata": {},
   "source": [
    "### tuple 연산하기"
   ]
  },
  {
   "cell_type": "code",
   "execution_count": 44,
   "id": "25e9e81f-96cb-4864-9728-dbbfa96f1e50",
   "metadata": {},
   "outputs": [
    {
     "name": "stdout",
     "output_type": "stream",
     "text": [
      "<class 'tuple'> (1, 2, 'a', 'b', 3, 4, 'x', 'y')\n"
     ]
    }
   ],
   "source": [
    "# 1. 연결하기(+)\n",
    "t1 = 1,2,'a','b'\n",
    "t2 = (3,4,'x','y')\n",
    "\n",
    "t0 = t1 + t2\n",
    "print(type(t0), t0)"
   ]
  },
  {
   "cell_type": "code",
   "execution_count": 45,
   "id": "23719c80-b271-428d-96db-73b025d62d00",
   "metadata": {},
   "outputs": [
    {
     "name": "stdout",
     "output_type": "stream",
     "text": [
      "(1, 2, 'a', 'b', 3, 4, 'x', 'y', 1, 2, 'a', 'b', 3, 4, 'x', 'y', 1, 2, 'a', 'b', 3, 4, 'x', 'y')\n"
     ]
    }
   ],
   "source": [
    "# 2. 반복하기(*)\n",
    "print(t0*3)"
   ]
  },
  {
   "cell_type": "code",
   "execution_count": 62,
   "id": "0c41f530-b05c-4b48-b504-5261d67741c7",
   "metadata": {},
   "outputs": [
    {
     "name": "stdout",
     "output_type": "stream",
     "text": [
      "<class 'tuple'> (1, 7)\n",
      "<class 'tuple'> ('a', 'z')\n",
      "<class 'int'> 1\n",
      "<class 'int'> 7\n",
      "\n",
      "4 3 2 1\n",
      "\n",
      "소향 나얼\n",
      "나얼 소향\n"
     ]
    }
   ],
   "source": [
    "# 3. tuple을 이용해서 변수에 일괄로 값을 할당하기\n",
    "# 파이썬에서 함수의 선언 키워드는 def\n",
    "# 내장함수인 min, max등을 사용할 경우 비교가 가능한 값을 전달해야 한다.\n",
    "# 즉, 자료형이 다를 경우에는 비교연산을 할 수가 없기 때문에 에러발생\n",
    "def minmax(values):\n",
    "    return min(values), max(values)\n",
    "\n",
    "result = minmax([4,5,2,3,1,6,7])\n",
    "print(type(result), result)\n",
    "\n",
    "# 1) 한 개의 변수에 일괄로 받기\n",
    "result = minmax(('x','z','a'))\n",
    "print(type(result), result)\n",
    "\n",
    "# 2) 여러개 변수로 각각의 값을 받기\n",
    "lower, upper = minmax([4,5,2,3,1,6,7])\n",
    "print(type(lower), lower)\n",
    "print(type(upper), upper)\n",
    "print()\n",
    "\n",
    "# 에러발생 : 전달되는 값의 갯수와 전달 받는 변수의 갯수가 다를 경우 에러\n",
    "# lower, upper, other = minmax([4,5,2,3,1,6,7]) ValueError: not enough values to unpack (expected 3, got 2)\n",
    "\n",
    "# 3) tuple을 이용한 일괄할당하기\n",
    "(a, (b, (c, d))) = (4,(3,(2,1)))\n",
    "print(a, b, c, d) \n",
    "\n",
    "# 동수가 아닐 경우에는 에러 발생\n",
    "# (a, (b, (c, d))) = (4,(3,(2,1,0))) ValueError: too many values to unpack (expected 2)\n",
    "# (a, (b, (c,))) = (4,(3,(2,1))) # ValueError: too many values to unpack (expected 1)\n",
    "print()\n",
    "\n",
    "# 4) 변수의 순서를 이용한 할당하기\n",
    "x = '소향'\n",
    "y = '나얼'\n",
    "print(x, y)\n",
    "\n",
    "x, y = y, x\n",
    "print(x, y)"
   ]
  },
  {
   "cell_type": "markdown",
   "id": "c00f8cff-a14c-42a9-9582-9546d14fa413",
   "metadata": {},
   "source": [
    "### 4. tuple의 indexing/sclicing"
   ]
  },
  {
   "cell_type": "code",
   "execution_count": 64,
   "id": "433e0010-d171-43cd-acc0-94f036078616",
   "metadata": {},
   "outputs": [
    {
     "name": "stdout",
     "output_type": "stream",
     "text": [
      "2\n",
      "b\n"
     ]
    }
   ],
   "source": [
    "# 1. indexing\n",
    "t = 1,2,'a','b'\n",
    "\n",
    "# print(t[]) # SyntaxError: invalid syntax. Perhaps you forgot a comma?\n",
    "print(t[1])\n",
    "print(t[-1])"
   ]
  },
  {
   "cell_type": "code",
   "execution_count": 65,
   "id": "4a6a5187-820f-424b-8462-e3e512aeb5fb",
   "metadata": {},
   "outputs": [
    {
     "name": "stdout",
     "output_type": "stream",
     "text": [
      "(1, 2, 'a', 'b')\n",
      "(2, 'a', 'b')\n",
      "('b',)\n",
      "(2, 'a')\n"
     ]
    }
   ],
   "source": [
    "# 2. slicing\n",
    "t = (1,2,'a','b')\n",
    "print(t[:])\n",
    "print(t[1:])\n",
    "print(t[3:4])\n",
    "print(t[1:-1])"
   ]
  },
  {
   "cell_type": "markdown",
   "id": "8daf4f4d-c7c9-4482-9cc8-9348cb06b956",
   "metadata": {},
   "source": [
    "### 5. 기타"
   ]
  },
  {
   "cell_type": "code",
   "execution_count": 76,
   "id": "3377310e-fc53-4a25-95a5-f25992534038",
   "metadata": {},
   "outputs": [
    {
     "name": "stdout",
     "output_type": "stream",
     "text": [
      "tuple의 갯수 = 7\n",
      "list의 갯수 = 7\n",
      "\n",
      "tuple의 1의 갯수 = 2\n",
      "list의 a의 갯수 = 1\n",
      "\n",
      "tuple의 1의 위치 = 0\n",
      "tuple의 두번째 1의 위치 = 6\n",
      "list의 a의 위치 = 2\n"
     ]
    }
   ],
   "source": [
    "# 1. len() : 문자열, list, tuple등의 요소의 갯수를 리턴\n",
    "t = (1,2,'a','b',3,4,1)\n",
    "l = [1,2,'a','b',3,4,1]\n",
    "print('tuple의 갯수 =', len(t))\n",
    "print('list의 갯수 =', len(l))\n",
    "print()\n",
    "\n",
    "# 2. count()함수\n",
    "print('tuple의 1의 갯수 =', t.count(1))\n",
    "print('list의 a의 갯수 =', l.count('a'))\n",
    "print()\n",
    "\n",
    "# 3. index()\n",
    "print('tuple의 1의 위치 =', t.index(1))\n",
    "print('tuple의 두번째 1의 위치 =', t.index(1, 3))\n",
    "print('list의 a의 위치 =', l.index('a'))\n",
    "# 없는 값의 index를 호출할 경우 에러 발생\n",
    "# print('tuple의 x의 위치 =', t.index('x')) # ValueError: tuple.index(x): x not in tuple\n"
   ]
  },
  {
   "cell_type": "markdown",
   "id": "6ff4329f-fe24-444f-8200-6445016c7e43",
   "metadata": {},
   "source": [
    "### 6. for loop"
   ]
  },
  {
   "cell_type": "code",
   "execution_count": 82,
   "id": "83ad6fd1-ec66-4d2e-bfc5-f8dcd29e60fc",
   "metadata": {},
   "outputs": [
    {
     "name": "stdout",
     "output_type": "stream",
     "text": [
      "1, 2, a, b, 3, 4, 1, <built-in function print>, \n",
      "1, 2, a, b, 3, 4, 1, <bound method Kernel.raw_input of <ipykernel.ipkernel.IPythonKernel object at 0x000001C1FE440290>>, \n"
     ]
    }
   ],
   "source": [
    "t = (1,2,'a','b',3,4,1, print)\n",
    "l = [1,2,'a','b',3,4,1, input]\n",
    "\n",
    "for i in t:\n",
    "    print(i, end=\", \")\n",
    "print()\n",
    "\n",
    "for i in l:\n",
    "    print(i, end=\", \")\n",
    "print()    "
   ]
  },
  {
   "cell_type": "code",
   "execution_count": 89,
   "id": "24f9f1c0-1ce8-408a-810f-1fdc73ff4618",
   "metadata": {},
   "outputs": [
    {
     "name": "stdout",
     "output_type": "stream",
     "text": [
      "True\n",
      "True\n",
      "False\n",
      "True\n",
      "\n",
      "False\n",
      "True\n"
     ]
    }
   ],
   "source": [
    "# in keyword\n",
    "print(1 in t)\n",
    "print(1 in l)\n",
    "print(input in t)\n",
    "print(input in l)\n",
    "print()\n",
    "\n",
    "print(\"usa\" in ('kor', 'chn'))\n",
    "print(\"usa\" in ['kor', 'chn', 'usa'])"
   ]
  },
  {
   "cell_type": "code",
   "execution_count": 96,
   "id": "01d9c4d1-bcb0-4c0a-9174-2bac8b0882c9",
   "metadata": {},
   "outputs": [
    {
     "name": "stdin",
     "output_type": "stream",
     "text": [
      "나이를 입력하세요!! 30\n"
     ]
    },
    {
     "name": "stdout",
     "output_type": "stream",
     "text": [
      "<class 'str'> 30\n",
      "<class 'method'>\n",
      "\n",
      "<class 'int'> 40\n",
      "\n"
     ]
    },
    {
     "name": "stdin",
     "output_type": "stream",
     "text": [
      "나이를 입력하세요 ==>  30\n"
     ]
    },
    {
     "name": "stdout",
     "output_type": "stream",
     "text": [
      "<class 'int'> 30\n"
     ]
    }
   ],
   "source": [
    "# input함수 : 외부에서 값을 전달받는 함수(only string)\n",
    "# input?\n",
    "age = input(\"나이를 입력하세요!!\")\n",
    "print(type(age), age)\n",
    "print(type(input))\n",
    "print()\n",
    "\n",
    "# result = age + 10 # TypeError\n",
    "# 형변환함수 int(), str(), float()....\n",
    "result = int(age) + 10\n",
    "print(type(result), result)\n",
    "print()\n",
    "\n",
    "result = int(input('나이를 입력하세요 ==> '))\n",
    "print(type(result), result)"
   ]
  },
  {
   "cell_type": "markdown",
   "id": "067b4012-93d8-408a-9b92-398c4a7786a4",
   "metadata": {},
   "source": [
    "### 연습문제\n",
    "\n",
    "<img src=\"./images/03.파이썬자료형_튜플_연습문제_01.jpg\" width=\"500\" height=\"400\"> \n",
    "<img src=\"./images/03.파이썬자료형_튜플_연습문제_02.jpg\" width=\"500\" height=\"400\"> "
   ]
  },
  {
   "cell_type": "code",
   "execution_count": 101,
   "id": "aa69031d-6c1a-4641-beea-04c7ee86da45",
   "metadata": {},
   "outputs": [
    {
     "name": "stdout",
     "output_type": "stream",
     "text": [
      "su의 메모리주소 = 140736665076648\n",
      "dan의 메모리주소 = 1932721966416\n",
      "price의 메모리주소 = 1932721966512\n",
      "su(5) * dan(800) = 4000\n"
     ]
    }
   ],
   "source": [
    "# 연습문제 1\n",
    "su = 5\n",
    "dan = 800\n",
    "price = su * dan\n",
    "print('su의 메모리주소 =', id(su))\n",
    "print('dan의 메모리주소 =', id(dan))\n",
    "print('price의 메모리주소 =', id(price))\n",
    "print('su(5) * dan(800) =', price)"
   ]
  },
  {
   "cell_type": "code",
   "execution_count": 102,
   "id": "8a560948-370e-44be-b3d3-a5aa880c8b55",
   "metadata": {},
   "outputs": [
    {
     "name": "stdout",
     "output_type": "stream",
     "text": [
      "이차방정식 (2.5 * x ** 2 + 3.3 * x + 6) = 22.6\n"
     ]
    }
   ],
   "source": [
    "# 연습문제 2\n",
    "x = 2\n",
    "y = 2.5 * x ** 2 + 3.3 * x + 6\n",
    "print(f'이차방정식 (2.5 * x ** 2 + 3.3 * x + 6) = {y}')"
   ]
  },
  {
   "cell_type": "code",
   "execution_count": 106,
   "id": "8ca92094-03db-4340-ba74-b64930cb8f3c",
   "metadata": {},
   "outputs": [
    {
     "name": "stdin",
     "output_type": "stream",
     "text": [
      "지방(g)을 입력하세요 ==>  545\n",
      "탄수화물을 입력하세요 ==>  3254\n",
      "단백질을 입력하세요 ==>  125\n"
     ]
    },
    {
     "name": "stdout",
     "output_type": "stream",
     "text": [
      "총칼로리는 18421\n",
      "총칼로리는  18,421 cal\n",
      "총칼로리는 18,421 cal\n"
     ]
    }
   ],
   "source": [
    "# 연습문제 3\n",
    "fat = int(input('지방(g)을 입력하세요 ==> '))\n",
    "carbonhydrate = int(input('탄수화물을 입력하세요 ==> '))\n",
    "protien = int(input('단백질을 입력하세요 ==> '))\n",
    "\n",
    "totalCalorie = fat * 9 + carbonhydrate * 4 + protien * 4\n",
    "print(f'총칼로리는 {totalCalorie}')\n",
    "print('총칼로리는 ', format(totalCalorie, '3,d'), 'cal')\n",
    "print(f'총칼로리는 {totalCalorie:3,d} cal')"
   ]
  },
  {
   "cell_type": "code",
   "execution_count": 109,
   "id": "41d75ee6-2cca-4721-a033-cdee70069407",
   "metadata": {},
   "outputs": [
    {
     "name": "stdin",
     "output_type": "stream",
     "text": [
      "1st 단어 ==>  korea\n",
      "2nd 단어 ==>  baseball\n",
      "3rd 단어 ==>  org\n"
     ]
    },
    {
     "name": "stdout",
     "output_type": "stream",
     "text": [
      "------------------------------------------------------------\n",
      "KBO\n"
     ]
    }
   ],
   "source": [
    "# 연습문제 4\n",
    "w1 = input('1st 단어 ==> ')\n",
    "w2 = input('2nd 단어 ==> ')\n",
    "w3 = input('3rd 단어 ==> ')\n",
    "\n",
    "abbr = w1[0] + w2[0] + w3[0]\n",
    "print('-'* 60)\n",
    "print(abbr.upper())"
   ]
  },
  {
   "cell_type": "code",
   "execution_count": 114,
   "id": "821fd4a5-2db2-4935-8223-e760223d6c41",
   "metadata": {},
   "outputs": [
    {
     "name": "stdin",
     "output_type": "stream",
     "text": [
      "x ==> 10\n",
      "y ==> 20\n"
     ]
    },
    {
     "name": "stdout",
     "output_type": "stream",
     "text": [
      "x + y =  30\n",
      "x - y =  -10\n",
      "x * y =  200\n",
      "x / y =  0.5\n",
      "x,y중에서 최대값 =  20\n",
      "x,y중에서 최소값 =  10\n"
     ]
    }
   ],
   "source": [
    "# 연습문제 5\n",
    "# 두수의 합,차,곱,평균,최대수,최소수 출력하기\n",
    "x = int(input('x ==>'))\n",
    "y = int(input('y ==>'))\n",
    "\n",
    "print('x + y = ', x+y)\n",
    "print('x - y = ', x-y)\n",
    "print('x * y = ', x*y)\n",
    "print('x / y = ', x/y)\n",
    "print('x,y중에서 최대값 = ', max(x,y))\n",
    "print('x,y중에서 최소값 = ', m(x,y))"
   ]
  },
  {
   "cell_type": "code",
   "execution_count": 126,
   "id": "37d81e87-ee22-4f91-a4d0-b5cc13520804",
   "metadata": {},
   "outputs": [
    {
     "name": "stdout",
     "output_type": "stream",
     "text": [
      "['__doc__', '__loader__', '__name__', '__package__', '__spec__', 'acos', 'acosh', 'asin', 'asinh', 'atan', 'atan2', 'atanh', 'cbrt', 'ceil', 'comb', 'copysign', 'cos', 'cosh', 'degrees', 'dist', 'e', 'erf', 'erfc', 'exp', 'exp2', 'expm1', 'fabs', 'factorial', 'floor', 'fmod', 'frexp', 'fsum', 'gamma', 'gcd', 'hypot', 'inf', 'isclose', 'isfinite', 'isinf', 'isnan', 'isqrt', 'lcm', 'ldexp', 'lgamma', 'log', 'log10', 'log1p', 'log2', 'modf', 'nan', 'nextafter', 'perm', 'pi', 'pow', 'prod', 'radians', 'remainder', 'sin', 'sinh', 'sqrt', 'tan', 'tanh', 'tau', 'trunc', 'ulp']\n"
     ]
    }
   ],
   "source": [
    "import math\n",
    "print(dir(math))"
   ]
  },
  {
   "cell_type": "code",
   "execution_count": 127,
   "id": "6757953f-1471-4e00-a7da-a9cf2ab107e1",
   "metadata": {},
   "outputs": [
    {
     "name": "stdin",
     "output_type": "stream",
     "text": [
      "반지름 ==>  321\n",
      "높이   ==>  524\n"
     ]
    },
    {
     "name": "stdout",
     "output_type": "stream",
     "text": [
      "원기둥의 부피 = 169643207.24928\n",
      "원기둥의 부피 = 169625532.67611802\n"
     ]
    }
   ],
   "source": [
    "# 연습문제 6\n",
    "# 원기둥의 부피를 구하시오\n",
    "\n",
    "r = float(input('반지름 ==> '))\n",
    "h = float(input('높이   ==> '))\n",
    "\n",
    "result = 3.14192 * r ** 2 * h\n",
    "print(f'원기둥의 부피 = {result}')\n",
    "\n",
    "result = math.pi * r ** 2 * h\n",
    "print(f'원기둥의 부피 = {result}')"
   ]
  }
 ],
 "metadata": {
  "kernelspec": {
   "display_name": "Python 3 (ipykernel)",
   "language": "python",
   "name": "python3"
  },
  "language_info": {
   "codemirror_mode": {
    "name": "ipython",
    "version": 3
   },
   "file_extension": ".py",
   "mimetype": "text/x-python",
   "name": "python",
   "nbconvert_exporter": "python",
   "pygments_lexer": "ipython3",
   "version": "3.11.7"
  }
 },
 "nbformat": 4,
 "nbformat_minor": 5
}
