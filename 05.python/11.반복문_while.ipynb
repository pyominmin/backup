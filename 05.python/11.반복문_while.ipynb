{
 "cells": [
  {
   "cell_type": "markdown",
   "id": "cc7f8b54-1b3b-48a9-963d-ad758695b13f",
   "metadata": {},
   "source": [
    "# 반복문 while\n",
    "```python\n",
    "i = 0         # 초기식\n",
    "while i<=10:  # 조건식\n",
    "    pass      # 실행문\n",
    "```"
   ]
  },
  {
   "cell_type": "code",
   "execution_count": 3,
   "id": "eac657de-3e26-4cef-9fa0-1701779e72eb",
   "metadata": {},
   "outputs": [
    {
     "name": "stdout",
     "output_type": "stream",
     "text": [
      "1~100까지의 합(for) = 5050\n",
      "1~100까지의 합(while) = 5050\n"
     ]
    }
   ],
   "source": [
    "# 1~100까지의 합\n",
    "# 1) for\n",
    "tot = 0\n",
    "for i in range(1, 101):\n",
    "    tot += i\n",
    "print(f'1~100까지의 합(for) = {tot}')\n",
    "\n",
    "# 2) while\n",
    "tot = 0\n",
    "i = 0\n",
    "while i<=100:\n",
    "    tot += i\n",
    "    i += 1\n",
    "print(f'1~100까지의 합(while) = {tot}')"
   ]
  },
  {
   "cell_type": "code",
   "execution_count": 8,
   "id": "16a09015-520b-40c5-a140-3afa0c9bf900",
   "metadata": {},
   "outputs": [
    {
     "name": "stdout",
     "output_type": "stream",
     "text": [
      "1 3 5 7 9 \n"
     ]
    }
   ],
   "source": [
    "# break and continue\n",
    "# break : while문에 탈출, continue : 반복처음로 되돌아가기\n",
    "# 1~10까지 홀수만 출력\n",
    "i = 0\n",
    "while i<10:\n",
    "    i += 1\n",
    "    if i%2 != 0:\n",
    "        print(i, end=\" \")\n",
    "    else:\n",
    "        pass\n",
    "print()\n",
    "\n",
    "# 1) break\n",
    "i = 0\n",
    "while i<10:\n",
    "    # break\n",
    "    i += 1\n",
    "    if i%2 != 0:\n",
    "        break\n",
    "        print(i, end=\" \")\n",
    "    else:\n",
    "        pass \n",
    "    print(i)\n",
    "\n"
   ]
  },
  {
   "cell_type": "code",
   "execution_count": 10,
   "id": "bb53e265-b1fc-43e5-8ef1-8ecfb94de036",
   "metadata": {},
   "outputs": [
    {
     "name": "stdout",
     "output_type": "stream",
     "text": [
      "커피캔의 재고는 10 현재 커피캔의 재고는 9개 입니다!\n",
      "500원짜리 동전을 투입하세요!\n",
      "커피캔의 재고는 9 현재 커피캔의 재고는 8개 입니다!\n",
      "500원짜리 동전을 투입하세요!\n",
      "커피캔의 재고는 8 현재 커피캔의 재고는 7개 입니다!\n",
      "500원짜리 동전을 투입하세요!\n",
      "커피캔의 재고는 7 현재 커피캔의 재고는 6개 입니다!\n",
      "500원짜리 동전을 투입하세요!\n",
      "커피캔의 재고는 6 현재 커피캔의 재고는 5개 입니다!\n",
      "500원짜리 동전을 투입하세요!\n",
      "커피캔의 재고는 5 현재 커피캔의 재고는 4개 입니다!\n",
      "500원짜리 동전을 투입하세요!\n",
      "커피캔의 재고는 4 현재 커피캔의 재고는 3개 입니다!\n",
      "500원짜리 동전을 투입하세요!\n",
      "커피캔의 재고는 3 현재 커피캔의 재고는 2개 입니다!\n",
      "500원짜리 동전을 투입하세요!\n",
      "커피캔의 재고는 2 현재 커피캔의 재고는 1개 입니다!\n",
      "500원짜리 동전을 투입하세요!\n",
      "커피캔의 재고는 1 현재 커피캔의 재고는 0개 입니다!\n",
      "커피캔 품절!!!, 판매중지!\n"
     ]
    }
   ],
   "source": [
    "# 실습. 자판기로직작성하기\n",
    "coffee_can = 10\n",
    "coin = 500\n",
    "\n",
    "while coin==500:\n",
    "    print(f'커피캔의 재고는 {coffee_can}', end=' ')\n",
    "    coffee_can -= 1\n",
    "    print(f'현재 커피캔의 재고는 {coffee_can}개 입니다!')\n",
    "    if not coffee_can:\n",
    "        print('커피캔 품절!!!, 판매중지!')\n",
    "        break\n",
    "    else:\n",
    "        print('500원짜리 동전을 투입하세요!')\n",
    "        continue"
   ]
  },
  {
   "cell_type": "code",
   "execution_count": 12,
   "id": "45a33d0a-2e8e-43bf-85f6-c37cd326f0e0",
   "metadata": {},
   "outputs": [
    {
     "name": "stdout",
     "output_type": "stream",
     "text": [
      "1~1000까지 3배수의 합 = 166833\n"
     ]
    }
   ],
   "source": [
    "# 1~1000까지 3배수의 합\n",
    "tot = 0\n",
    "i = 0\n",
    "while i<=1000:\n",
    "    i += 1\n",
    "    if i%3 != 0: continue\n",
    "    tot += i\n",
    "    \n",
    "print(f'1~1000까지 3배수의 합 = {tot}')"
   ]
  },
  {
   "cell_type": "code",
   "execution_count": 16,
   "id": "2c760bd7-094a-408e-b11e-c32582614ac1",
   "metadata": {},
   "outputs": [
    {
     "name": "stdout",
     "output_type": "stream",
     "text": [
      "60점이상의 합 = 471, 60점이상의 평균 = 47.1\n",
      "['__add__', '__class__', '__class_getitem__', '__contains__', '__delattr__', '__delitem__', '__dir__', '__doc__', '__eq__', '__format__', '__ge__', '__getattribute__', '__getitem__', '__getstate__', '__gt__', '__hash__', '__iadd__', '__imul__', '__init__', '__init_subclass__', '__iter__', '__le__', '__len__', '__lt__', '__mul__', '__ne__', '__new__', '__reduce__', '__reduce_ex__', '__repr__', '__reversed__', '__rmul__', '__setattr__', '__setitem__', '__sizeof__', '__str__', '__subclasshook__', 'append', 'clear', 'copy', 'count', 'extend', 'index', 'insert', 'pop', 'remove', 'reverse', 'sort']\n"
     ]
    }
   ],
   "source": [
    "# 실습. list에서 60점이상의 총합/평균 구하기\n",
    "# while문을 사용\n",
    "l = [50,65,63,59,80,40,82,90,91,55]\n",
    "len(l)\n",
    "\n",
    "tot = 0\n",
    "i = 0\n",
    "while i<len(l):\n",
    "    if l[i] >=60: tot += l[i]\n",
    "    i += 1\n",
    "print(f'60점이상의 합 = {tot}, 60점이상의 평균 = {tot/len(l)}')"
   ]
  },
  {
   "cell_type": "markdown",
   "id": "80f4959a-55b9-4e1a-ad82-2664cb073e1b",
   "metadata": {},
   "source": [
    "##### 연습문제\n",
    "* while문을 이용한 다양한 별표 출력하기\n",
    "* 별의 갯수를 입력받아서 해당 갯수의 별만큼 출력하기 "
   ]
  },
  {
   "cell_type": "code",
   "execution_count": 21,
   "id": "6e7ead2e-a5a1-4fd0-afb3-5745005f8468",
   "metadata": {},
   "outputs": [
    {
     "name": "stdin",
     "output_type": "stream",
     "text": [
      "별의 갯수를 입력하세요 =>  3\n"
     ]
    },
    {
     "name": "stdout",
     "output_type": "stream",
     "text": [
      "★\n",
      "★★\n",
      "★★★\n"
     ]
    }
   ],
   "source": [
    "# 1. 별표출력하기(1)\n",
    "# *\n",
    "# **\n",
    "# ***\n",
    "# ****\n",
    "# *****\n",
    "# print('\\u2605')\n",
    "# print('\\u2605'* 2)\n",
    "# print('\\u2605'* 3)\n",
    "count = int(input('별의 갯수를 입력하세요 => '))\n",
    "i = 0\n",
    "while True:\n",
    "    i += 1\n",
    "    if i>count: break\n",
    "    print('\\u2605'* i)       "
   ]
  },
  {
   "cell_type": "code",
   "execution_count": 26,
   "id": "30122321-d896-45d9-a1a6-e4affcf3bf62",
   "metadata": {},
   "outputs": [
    {
     "name": "stdin",
     "output_type": "stream",
     "text": [
      "별의 갯수를 입력하세요 =>  3\n"
     ]
    },
    {
     "name": "stdout",
     "output_type": "stream",
     "text": [
      "--★\n",
      "-★\n",
      "★\n",
      "\n",
      "  ★\n",
      " ★★★\n",
      "★★★★★\n"
     ]
    }
   ],
   "source": [
    "# 2. 별표출력하기(2)\n",
    "#     *\n",
    "#    ***\n",
    "#   *****\n",
    "#  *******\n",
    "# *********\n",
    "count = int(input('별의 갯수를 입력하세요 => '))\n",
    "\n",
    "space = count\n",
    "i = 0\n",
    "while i<space:\n",
    "    i += 1\n",
    "    print('-'*(space-i) + '\\u2605')\n",
    "print()\n",
    "\n",
    "star = 0\n",
    "space = count\n",
    "i = 0\n",
    "while i<space:\n",
    "    i += 1\n",
    "    print(' '*(space-i) + '\\u2605' * (star + i * 2 - 1))"
   ]
  },
  {
   "cell_type": "code",
   "execution_count": 34,
   "id": "45b54dc7-b406-47de-a20a-1b8f8c3a04e5",
   "metadata": {
    "scrolled": true
   },
   "outputs": [
    {
     "name": "stdin",
     "output_type": "stream",
     "text": [
      "별의 갯수를 입력하세요 =>  5\n"
     ]
    },
    {
     "name": "stdout",
     "output_type": "stream",
     "text": [
      "  ★  \n",
      " ★★★ \n",
      "★★★★★\n",
      " ★★★ \n",
      "  ★  \n"
     ]
    }
   ],
   "source": [
    "# 3. 별표출력하기(3)\n",
    "#     *\n",
    "#    ***\n",
    "#   *****\n",
    "#  *******\n",
    "# *********\n",
    "#  *******\n",
    "#   *****\n",
    "#    ***\n",
    "#     *\n",
    "\n",
    "# 1) for\n",
    "count = int(input('별의 갯수를 입력하세요 => '))\n",
    "i, j = 0, 0\n",
    "\n",
    "start, end = int(count/2), int(count/2) # 별의 시작과 끝의 index 구하기\n",
    "mid = int(count/2) # 중간값\n",
    "# print(star, end, mid)\n",
    "\n",
    "for i in range(0, count):\n",
    "    for j in range(0, count):\n",
    "        if(j>=start and j<=end):\n",
    "            print('\\u2605', end=\"\")\n",
    "        else:\n",
    "            print(' ', end='')\n",
    "    if i<mid: # 윗부분증감하기\n",
    "        star -= 1\n",
    "        end += 1\n",
    "    elif i>=mid: # 아랫부분증감하기\n",
    "        star += 1\n",
    "        end -= 1\n",
    "    print()"
   ]
  },
  {
   "cell_type": "code",
   "execution_count": 38,
   "id": "ec6ca47c-a5d2-4763-a814-88a3bf906bed",
   "metadata": {},
   "outputs": [
    {
     "name": "stdin",
     "output_type": "stream",
     "text": [
      "별의 갯수를 입력하세요 =>  5\n"
     ]
    },
    {
     "name": "stdout",
     "output_type": "stream",
     "text": [
      "  ★  \n",
      " ★★★ \n",
      "★★★★★\n",
      " ★★★ \n",
      "  ★  \n"
     ]
    }
   ],
   "source": [
    "# 2) while\n",
    "count = int(input('별의 갯수를 입력하세요 => '))\n",
    "i, j = 0, 0\n",
    "start, end = int(count/2), int(count/2) # 별의 시작과 끝의 index 구하기\n",
    "mid = int(count/2) # 중간값\n",
    "\n",
    "while i < count:\n",
    "    j = 0\n",
    "    while j < count:\n",
    "        if(j>=start and j<=end):\n",
    "            print('\\u2605', end=\"\")\n",
    "        else:\n",
    "            print(' ', end=\"\")\n",
    "        j += 1\n",
    "        \n",
    "    if i<mid:\n",
    "        start -= 1\n",
    "        end += 1\n",
    "    elif i>=mid:\n",
    "        start += 1\n",
    "        end -= 1\n",
    "    print()\n",
    "\n",
    "    i += 1"
   ]
  }
 ],
 "metadata": {
  "kernelspec": {
   "display_name": "Python 3 (ipykernel)",
   "language": "python",
   "name": "python3"
  },
  "language_info": {
   "codemirror_mode": {
    "name": "ipython",
    "version": 3
   },
   "file_extension": ".py",
   "mimetype": "text/x-python",
   "name": "python",
   "nbconvert_exporter": "python",
   "pygments_lexer": "ipython3",
   "version": "3.11.7"
  }
 },
 "nbformat": 4,
 "nbformat_minor": 5
}
