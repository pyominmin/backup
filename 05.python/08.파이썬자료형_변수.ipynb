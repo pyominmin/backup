{
 "cells": [
  {
   "cell_type": "markdown",
   "id": "d8c0420e-bff6-4733-82fb-13b440cfec41",
   "metadata": {},
   "source": [
    "# 변수\n",
    "\n",
    "* 파이썬에서 사용하는 `변수는 객체(object)의 메모리주소`를 가지고 있다.\n",
    "* 즉, `객체가 저장되어 있는 메모리주소를 참조`하는 것 이다.\n",
    "* 파이썬의 `모든 자료형은 객체(object)`이다.\n",
    "* 일반적으로 숫자 1은 상수형이다, 하지만 파이썬에서 `숫자 1은 정수형객체`이다.\n",
    "* 예를 들어 `print(type(1))의 결과는 <class 'int'>`로 출력된다.\n",
    "* 즉, `1은 int라는 class로 생성된 정수형 객체`임을 알 수 있다.\n",
    "\n",
    "##### 변수의 Naming Rule\n",
    "1. 영문자와 숫자를 사용할 수 있다.\n",
    "2. `대소문자를 구분`해야 한다.\n",
    "3. 변수명은 문자로 시작해야 한다. 즉, 숫자로 시작되는 변수명은 사용할 수 없다.\n",
    "4. `언더바(_)로 시작하는 변수명을 사용`할 수 있다.\n",
    "5. 언더바이외의 특수문자는 사용할 수 없다.\n",
    "6. 파이썬의 키워드(if, for...)사용할 수 없다."
   ]
  },
  {
   "cell_type": "code",
   "execution_count": 12,
   "id": "398209ba-9eb3-4ee5-8117-4b5253efcc02",
   "metadata": {},
   "outputs": [
    {
     "name": "stdout",
     "output_type": "stream",
     "text": [
      "<class 'list'> 파이썬에서 사용하는 키워드의 갯수 = 35\n",
      "['False', 'None', 'True', 'and', 'as', 'assert', 'async', 'await', 'break', 'class', 'continue', 'def', 'del', 'elif', 'else', 'except', 'finally', 'for', 'from', 'global', 'if', 'import', 'in', 'is', 'lambda', 'nonlocal', 'not', 'or', 'pass', 'raise', 'return', 'try', 'while', 'with', 'yield']\n"
     ]
    }
   ],
   "source": [
    "# 파이썬에 사용되는 키워드리스트\n",
    "import keyword\n",
    "# keyword?\n",
    "\n",
    "print(type(keyword.kwlist), f'파이썬에서 사용하는 키워드의 갯수 = {len(keyword.kwlist)}')\n",
    "print(keyword.kwlist)"
   ]
  },
  {
   "cell_type": "markdown",
   "id": "e39faf0a-3a1f-42b5-919d-bff896ecc743",
   "metadata": {},
   "source": [
    "# 1. 변수만드는 방법"
   ]
  },
  {
   "cell_type": "code",
   "execution_count": 15,
   "id": "f95804e4-8380-4503-a053-a4371e81fb49",
   "metadata": {},
   "outputs": [
    {
     "name": "stdout",
     "output_type": "stream",
     "text": [
      "<class 'int'>\n",
      "<class 'str'>\n",
      "<class 'str'>\n",
      "<class 'builtin_function_or_method'>\n",
      "함수라는 변수에 저장된 print함수를 호출!!!\n"
     ]
    }
   ],
   "source": [
    "# 1. 일반적인 방법\n",
    "a = 100;\n",
    "이름 = '소향'\n",
    "_string = '문자열'\n",
    "함수 = print\n",
    "print(type(a))\n",
    "print(type(이름))\n",
    "print(type(_string))\n",
    "print(type(함수))\n",
    "\n",
    "함수('함수라는 변수에 저장된 print함수를 호출!!!')"
   ]
  },
  {
   "cell_type": "code",
   "execution_count": 29,
   "id": "1c536bca-e160-4246-bcd0-27a8425874d9",
   "metadata": {},
   "outputs": [
    {
     "name": "stdout",
     "output_type": "stream",
     "text": [
      "<class 'str'> 문자열\n",
      "<class 'int'> 1000\n",
      "\n",
      "100 200 300\n",
      "300 200\n",
      "100 200 300\n",
      "300 200 300\n"
     ]
    }
   ],
   "source": [
    "# 2. tuple로 변수를 만드는 법(unpacking)\n",
    "# tuple로 변수를 만드는 경우 변수의 갯수와 값의 갯수가 동일해야 한다.\n",
    "# 다를 경우에서 ValueError가 발생한다.\n",
    "a, b = ('문자열', 1000)\n",
    "print(type(a), a)\n",
    "print(type(b), b)\n",
    "print()\n",
    "\n",
    "x, y, z = 100, 200, 300\n",
    "print(x, y, z)\n",
    "\n",
    "# a, b, c = 100, 200           # ValueError: not enough values to unpack (expected 3, got 2)\n",
    "# a, b, c, d = 100, 200, 300\n",
    "\n",
    "a, b, a = 100, 200, 300\n",
    "print(a, b)\n",
    "\n",
    "# tuple로 선언된 변수\n",
    "(a, b, c) = (100, 200, 300)\n",
    "print(a, b, c)\n",
    "\n",
    "# (a, b) = (100, 200, 300)\n",
    "# (a, b, c, d) = (100, 200, 300)\n",
    "\n",
    "(a, b, a) = (100, 200, 300)\n",
    "print(a, b, c)"
   ]
  },
  {
   "cell_type": "code",
   "execution_count": 34,
   "id": "0f85bf1d-4021-4221-b2ae-e34fad7ff3cf",
   "metadata": {},
   "outputs": [
    {
     "name": "stdout",
     "output_type": "stream",
     "text": [
      "100 200\n",
      "100 200 300\n",
      "100 200 300\n",
      "300 200\n"
     ]
    }
   ],
   "source": [
    "# 3. list로 변수를 만드는 법\n",
    "# 변수의 갯수 = 값의 갯수\n",
    "a, b = [100, 200]\n",
    "print(a, b)\n",
    "\n",
    "x, y, z = [100, 200, 300]\n",
    "print(x, y, z)\n",
    "\n",
    "[x, y, z] = [100, 200, 300]\n",
    "print(x, y, z)\n",
    "\n",
    "# a, b =  [100, 200, 300]\n",
    "# a, b, c, d = [100, 200, 300]\n",
    "a, b, a = [100, 200, 300]\n",
    "print(a, b)"
   ]
  },
  {
   "cell_type": "code",
   "execution_count": 35,
   "id": "5a85b2a2-2d9c-4929-96ab-38fafaec4d1b",
   "metadata": {},
   "outputs": [
    {
     "name": "stdout",
     "output_type": "stream",
     "text": [
      "1000 1000 1000\n"
     ]
    }
   ],
   "source": [
    "# 4. 일괄로 여러개의 변수에 동일 값을 대입하기\n",
    "a = b = c = 1000\n",
    "print(a, b, c)"
   ]
  },
  {
   "cell_type": "code",
   "execution_count": 36,
   "id": "194dffc7-2533-4225-96ac-2e58172e94a7",
   "metadata": {},
   "outputs": [
    {
     "name": "stdout",
     "output_type": "stream",
     "text": [
      "20 10\n"
     ]
    }
   ],
   "source": [
    "# 5. 2개의 값을 swapping하기\n",
    "a = 10\n",
    "b = 20\n",
    "a, b = b, a\n",
    "print(a, b)"
   ]
  }
 ],
 "metadata": {
  "kernelspec": {
   "display_name": "Python 3 (ipykernel)",
   "language": "python",
   "name": "python3"
  },
  "language_info": {
   "codemirror_mode": {
    "name": "ipython",
    "version": 3
   },
   "file_extension": ".py",
   "mimetype": "text/x-python",
   "name": "python",
   "nbconvert_exporter": "python",
   "pygments_lexer": "ipython3",
   "version": "3.11.7"
  }
 },
 "nbformat": 4,
 "nbformat_minor": 5
}
