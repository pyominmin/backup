{
 "cells": [
  {
   "cell_type": "markdown",
   "id": "5f9aaaba-fe49-4dbf-8a38-5bab6a32799f",
   "metadata": {},
   "source": [
    "# 집합자료형(set)\n",
    "\n",
    "* set자료형은 python버전 2.3부터 지원하기 시작한 자료형이다.\n",
    "* 이 자료형은 집합과 관련된 작업을 보다 쉽게 처리할 수 있게 만들어진 자료형이다.\n",
    "\n",
    "##### 집합자료형의 특징\n",
    "1. 중복을 허용하지 않고 집합의 요소는 unique한 값을 가진다.\n",
    "2. 순서가 없다.\n",
    "3. set자료형의 선언은 `중괄호{}`로 선언한다.\n",
    "4. 중괄호로 선언하는 것은 dict자료형과 동일하지만 dict는 키와 값의 한 쌍이 한 개의 요소이지만 set은 값만 가지고 있다.\n",
    "5. set자료형의 값(요소)은 다양한 값을 가질 수 있으나 `mutable한 자료는 저장할 수 없다`\n",
    "6. list나 tuple은 순서가 있기 때문에 index를 통해서 자료의 값을 읽을 수가 있지만 set은 순서가 없기 때문에 index를 사용할 수 없다.\n",
    "7. 따라서, set자료형의 값을 읽기 위해서는 list or tuple로 변환후에 index를 이용해서 자료를 가져올 수 있다.\n",
    "8. set자료형의 특징은 `집합관련 연산, 특히 중복제거를 위한 필터역할`로 종종 사용한다.\n",
    "9. set자료형은 `값이 없는 빈 객체({})로 선언할 수 없다.`\n",
    "10. set자료형으로 선언하려면 `중괄호{}안에 적어도 1개이상의 값이 존재`하는 객체로 선언하거나 `생성자함수인 set()`으로 선언한다.\n",
    "11. 생성자함수인 set()의 매개변수에 iterable한 객체를 전달하면 자동적으로 set자료형으로 변환해 준다.\n",
    "\n",
    "### 1. set자료형의 선언"
   ]
  },
  {
   "cell_type": "code",
   "execution_count": 4,
   "id": "5019efe4-6499-4ce4-a93b-59ba1d9a29b8",
   "metadata": {},
   "outputs": [
    {
     "name": "stdout",
     "output_type": "stream",
     "text": [
      "<class 'dict'> <class 'set'>\n",
      "['__class__', '__class_getitem__', '__contains__', '__delattr__', '__delitem__', '__dir__', '__doc__', '__eq__', '__format__', '__ge__', '__getattribute__', '__getitem__', '__getstate__', '__gt__', '__hash__', '__init__', '__init_subclass__', '__ior__', '__iter__', '__le__', '__len__', '__lt__', '__ne__', '__new__', '__or__', '__reduce__', '__reduce_ex__', '__repr__', '__reversed__', '__ror__', '__setattr__', '__setitem__', '__sizeof__', '__str__', '__subclasshook__', 'clear', 'copy', 'fromkeys', 'get', 'items', 'keys', 'pop', 'popitem', 'setdefault', 'update', 'values']\n",
      "\n",
      "['__and__', '__class__', '__class_getitem__', '__contains__', '__delattr__', '__dir__', '__doc__', '__eq__', '__format__', '__ge__', '__getattribute__', '__getstate__', '__gt__', '__hash__', '__iand__', '__init__', '__init_subclass__', '__ior__', '__isub__', '__iter__', '__ixor__', '__le__', '__len__', '__lt__', '__ne__', '__new__', '__or__', '__rand__', '__reduce__', '__reduce_ex__', '__repr__', '__ror__', '__rsub__', '__rxor__', '__setattr__', '__sizeof__', '__str__', '__sub__', '__subclasshook__', '__xor__', 'add', 'clear', 'copy', 'difference', 'difference_update', 'discard', 'intersection', 'intersection_update', 'isdisjoint', 'issubset', 'issuperset', 'pop', 'remove', 'symmetric_difference', 'symmetric_difference_update', 'union', 'update']\n"
     ]
    }
   ],
   "source": [
    "print(type({}), type({1}))\n",
    "\n",
    "print(dir({}))\n",
    "print()\n",
    "\n",
    "print(dir({1}))"
   ]
  },
  {
   "cell_type": "code",
   "execution_count": 15,
   "id": "54b14258-3f3f-4a9c-b8fd-fac7b0b55a7e",
   "metadata": {},
   "outputs": [
    {
     "name": "stdout",
     "output_type": "stream",
     "text": [
      "<class 'set'> 4 {1, 2, 3, 4}\n",
      "<class 'set'> 0 set()\n",
      "<class 'set'> 4 {1, 2, 3, 4}\n",
      "<class 'set'> 4 {1, 2, 3, 4}\n",
      "<class 'set'> 10 {0, 1, 2, 3, 4, 5, 6, 7, 8, 9}\n",
      "<class 'set'> 2 {1, 2}\n"
     ]
    }
   ],
   "source": [
    "# 1. set자료형의 선언\n",
    "\n",
    "# 1) 선언 : 중괄호 내부에 1개이상의 값을 가진 객체로 선언하기\n",
    "s1 = {1,2,3,4}\n",
    "print(type(s1), len(s1), s1)\n",
    "\n",
    "# 2) 생성자함수로 선언하기\n",
    "s2 = set()\n",
    "print(type(s2), len(s2), s2)\n",
    "\n",
    "# 3) 생성자함수에 반복가능한 객체로 전달해서 선언하기\n",
    "s3 = set([1,2,3,4])\n",
    "print(type(s3), len(s3), s3)\n",
    "\n",
    "s4 = set((1,2,3,4))\n",
    "print(type(s4), len(s4), s4)\n",
    "\n",
    "s5 = set(range(0,10))\n",
    "print(type(s5), len(s5), s5)\n",
    "\n",
    "s6 = set({1:'소향', 2:'나얼'})\n",
    "print(type(s6), len(s6), s6)"
   ]
  },
  {
   "cell_type": "code",
   "execution_count": 19,
   "id": "4cc796c3-a3f1-40e7-bcc5-3fd5221d0aa6",
   "metadata": {},
   "outputs": [
    {
     "name": "stdout",
     "output_type": "stream",
     "text": [
      "<class 'set'> 8 {1, 2, 3, 4, 5, 6, 'b', 'a'}\n"
     ]
    }
   ],
   "source": [
    "# 2. 중복제거\n",
    "# set자료형은 순서가 없기 때문에 값을 무작위로 출력\n",
    "s7 = {6, 1,3,4,5,1,'a', 'b', 3,2,4,5, 'b'}\n",
    "print(type(s7), len(s7), s7)"
   ]
  },
  {
   "cell_type": "markdown",
   "id": "24bcd8f7-ae35-44d2-8288-d94bdd43d006",
   "metadata": {},
   "source": [
    "### 2. set자료형 사용하기\n",
    "\n",
    "* set자료형은 집합연산 즉, `교집합, 합집합, 차집합`등의 연산에 많이 사용한다."
   ]
  },
  {
   "cell_type": "code",
   "execution_count": 20,
   "id": "6b68eef4-dcc7-4f7d-b4af-c09fe7c39bd8",
   "metadata": {},
   "outputs": [
    {
     "name": "stdout",
     "output_type": "stream",
     "text": [
      "<class 'set'> {1, 3, 4, 5, 6, 7}\n",
      "<class 'list'> [1, 3, 4, 5, 6, 7]\n",
      "<class 'tuple'> (1, 3, 4, 5, 6, 7)\n"
     ]
    }
   ],
   "source": [
    "s = set([1,5,3,4,6,7])\n",
    "l = list(s)\n",
    "t = tuple(s)\n",
    "\n",
    "print(type(s), s)\n",
    "print(type(l), l)\n",
    "print(type(t), t)"
   ]
  },
  {
   "cell_type": "code",
   "execution_count": 21,
   "id": "0de80228-e701-48cc-9879-e302dac42e07",
   "metadata": {},
   "outputs": [],
   "source": [
    "s1 = {1,2,3,4,5,6}\n",
    "s2 = {4,5,6,7,8,9}"
   ]
  },
  {
   "cell_type": "code",
   "execution_count": 24,
   "id": "58c586df-3855-4608-bea9-9b20d9b060f6",
   "metadata": {},
   "outputs": [
    {
     "name": "stdout",
     "output_type": "stream",
     "text": [
      "{4, 5, 6}\n",
      "{4, 5, 6}\n"
     ]
    }
   ],
   "source": [
    "# 1. 교집합(intersection() or &)\n",
    "print(s1 & s2)\n",
    "print(s1.intersection(s2))"
   ]
  },
  {
   "cell_type": "code",
   "execution_count": 26,
   "id": "9470cbf3-688e-4ee7-8035-8dcc8d49378b",
   "metadata": {},
   "outputs": [
    {
     "name": "stdout",
     "output_type": "stream",
     "text": [
      "{1, 2, 3, 4, 5, 6, 7, 8, 9}\n",
      "{1, 2, 3, 4, 5, 6, 7, 8, 9}\n"
     ]
    }
   ],
   "source": [
    "# 2. 합집합(union() or |)\n",
    "print(s1 | s2)\n",
    "print(s1.union(s2))"
   ]
  },
  {
   "cell_type": "code",
   "execution_count": 30,
   "id": "19e0bedf-de8c-48a3-a5cb-904d4d9c67aa",
   "metadata": {},
   "outputs": [
    {
     "name": "stdout",
     "output_type": "stream",
     "text": [
      "{1, 2, 3}\n",
      "{1, 2, 3}\n",
      "\n",
      "{8, 9, 7}\n",
      "{8, 9, 7}\n"
     ]
    }
   ],
   "source": [
    "# 3. 차집합(difference() or -)\n",
    "print(s1 - s2)\n",
    "print(s1.difference(s2))\n",
    "print()\n",
    "\n",
    "print(s2 - s1)\n",
    "print(s2.difference(s1))"
   ]
  },
  {
   "cell_type": "markdown",
   "id": "e80319cf-b6cb-44fd-99d4-1fe8e619f069",
   "metadata": {},
   "source": [
    "### 3. set자료형 관련함수\n",
    "\n",
    "* add()    : 1개의 값을 추가\n",
    "* update() : 여러개의 값을 추가\n",
    "* remove() : 특정값을 삭제\n",
    "* copy()   : 자료를 복사(얕은 복사)"
   ]
  },
  {
   "cell_type": "code",
   "execution_count": 45,
   "id": "a359998d-5b4d-497e-be41-33fdf87f0c40",
   "metadata": {},
   "outputs": [
    {
     "name": "stdout",
     "output_type": "stream",
     "text": [
      "{1, 2, 3, 'z', 4, 'y', 'x'}\n"
     ]
    }
   ],
   "source": [
    "# 1. add\n",
    "s = set([1,2,3])\n",
    "\n",
    "s.add('x'); s.add('y'); s.add('z'); s.add('x'); s.add(4); s.add(2);  \n",
    "print(s)"
   ]
  },
  {
   "cell_type": "code",
   "execution_count": 46,
   "id": "2172ec82-bd18-40aa-8d75-6f44fcaf317d",
   "metadata": {},
   "outputs": [
    {
     "name": "stdout",
     "output_type": "stream",
     "text": [
      "{1, 2, 3, 'z', 4, 5, 6, 7, 'y', 'x'}\n"
     ]
    }
   ],
   "source": [
    "# 2. update\n",
    "s.update([5,6,7,'x',2])\n",
    "print(s)"
   ]
  },
  {
   "cell_type": "code",
   "execution_count": 47,
   "id": "cad02c1c-b3fd-496a-a859-4d5cbe3af6fe",
   "metadata": {},
   "outputs": [
    {
     "name": "stdout",
     "output_type": "stream",
     "text": [
      "{1, 2, 3, 'z', 5, 6, 7, 'y', 'x'}\n"
     ]
    }
   ],
   "source": [
    "# 3. remove\n",
    "s.remove(4)\n",
    "print(s)\n",
    "# s.remove(4) # 4가 없음, KeyError: 4"
   ]
  },
  {
   "cell_type": "code",
   "execution_count": 53,
   "id": "19a2db35-ad28-492a-b1a9-5dce7544f0e4",
   "metadata": {},
   "outputs": [],
   "source": [
    "# 4. mutable한 자료 저장불가\n",
    "# s1 = {1,2,['x','y'],3,4} TypeError: unhashable type: 'list'\n",
    "# s1 = {{}} TypeError: unhashable type: 'dict'\n",
    "s1 = {1,2,('x','y'),3,4} # immutable자료형인 tuple은 저장가능"
   ]
  },
  {
   "cell_type": "code",
   "execution_count": 60,
   "id": "6e3cfc7d-a8bb-47da-9583-e956aace7da8",
   "metadata": {},
   "outputs": [
    {
     "name": "stdout",
     "output_type": "stream",
     "text": [
      "2250431653120 2250431654912\n",
      "{1, 2, 3, 4}\n",
      "{1, 2, 3, 4, ('x', 'y')}\n"
     ]
    }
   ],
   "source": [
    "# 5. copy() - 얕은 복사\n",
    "s1 = {1,2,('x','y'),3,4}\n",
    "s2 = s1.copy()\n",
    "\n",
    "print(id(s1), id(s2))\n",
    "\n",
    "s1.remove(('x','y'))\n",
    "print(s1)\n",
    "print(s2)"
   ]
  },
  {
   "cell_type": "code",
   "execution_count": 62,
   "id": "aaf86393-e7c1-4bbf-8037-84fe27e13be1",
   "metadata": {},
   "outputs": [
    {
     "name": "stdout",
     "output_type": "stream",
     "text": [
      "False\n",
      "True\n"
     ]
    }
   ],
   "source": [
    "# 6. issubset() : 부분집합여부를 리턴\n",
    "a = {1,2,3,4,5}\n",
    "b = {1,2,3}\n",
    "\n",
    "print(a.issubset(b))\n",
    "print(b.issubset(a))"
   ]
  },
  {
   "cell_type": "code",
   "execution_count": 63,
   "id": "8fca3d9b-1595-4ce3-832d-3d275c5def84",
   "metadata": {},
   "outputs": [
    {
     "name": "stdout",
     "output_type": "stream",
     "text": [
      "True\n",
      "False\n"
     ]
    }
   ],
   "source": [
    "# 7. issuperset() : issubset()과 반대, 모집여부를 리턴\n",
    "print(a.issuperset(b))\n",
    "print(b.issuperset(a))"
   ]
  },
  {
   "cell_type": "code",
   "execution_count": 67,
   "id": "fbd9cb18-6b50-4342-80c0-a2909dbd21ef",
   "metadata": {},
   "outputs": [
    {
     "name": "stdout",
     "output_type": "stream",
     "text": [
      "True\n",
      "True\n",
      "\n",
      "False\n",
      "False\n"
     ]
    }
   ],
   "source": [
    "# 8. isdijoint() : 교집합인지 여부를 리턴, 아니면 True, 교집합이면 False\n",
    "a = {1,2,3}\n",
    "b = {4,5,6}\n",
    "print(a.isdisjoint(b))\n",
    "print(b.isdisjoint(a))\n",
    "print()\n",
    "\n",
    "a = {1,2,3}\n",
    "b = {3,4,5}\n",
    "print(a.isdisjoint(b))\n",
    "print(b.isdisjoint(a))"
   ]
  }
 ],
 "metadata": {
  "kernelspec": {
   "display_name": "Python 3 (ipykernel)",
   "language": "python",
   "name": "python3"
  },
  "language_info": {
   "codemirror_mode": {
    "name": "ipython",
    "version": 3
   },
   "file_extension": ".py",
   "mimetype": "text/x-python",
   "name": "python",
   "nbconvert_exporter": "python",
   "pygments_lexer": "ipython3",
   "version": "3.11.7"
  }
 },
 "nbformat": 4,
 "nbformat_minor": 5
}
