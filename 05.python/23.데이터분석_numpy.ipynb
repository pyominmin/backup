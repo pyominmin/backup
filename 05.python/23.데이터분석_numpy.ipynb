{
 "cells": [
  {
   "cell_type": "markdown",
   "id": "12694e3a-442c-451a-aaa0-31e62fe65395",
   "metadata": {},
   "source": [
    "# numpy(Numerical Python)\n",
    ">* 벡터와 행렬연산에 특화된 라이브러리\n",
    ">* array(ndarray)단위로 데이터를 관리한다. 즉, array단위로 연산을 수행한다.\n",
    ">* 2차원 ndarray는 `행렬, matrix`와 유사하다.\n",
    ">* Pandas와 같이 데이터분석에 많이 사용한다.\n",
    ">* `수치해석용` python 라이브러리\n",
    ">\n",
    "##### 참고사이트\n",
    "* https://numpy.org\n",
    "* http://docs.scipy.org/doc\n",
    "* http://www.scipy-lectures.org/intro/numpy/index.html\n",
    "* http://docs.scipy.org/doc/numpy/user/quickstart.html\n",
    "\n",
    "### numpy cheatsheet\n",
    "\n",
    "<img src=\"./images/22.데이터분석_numpy_00.python_cheat_sheet.png\">"
   ]
  },
  {
   "cell_type": "code",
   "execution_count": 3,
   "id": "619b8767-e819-4628-9ce0-ea943614eec2",
   "metadata": {},
   "outputs": [
    {
     "name": "stdout",
     "output_type": "stream",
     "text": [
      "현재 numpy버전 : 1.26.4\n",
      "\n",
      "['ALLOW_THREADS', 'BUFSIZE', 'CLIP', 'DataSource', 'ERR_CALL', 'ERR_DEFAULT', 'ERR_IGNORE', 'ERR_LOG', 'ERR_PRINT', 'ERR_RAISE', 'ERR_WARN', 'FLOATING_POINT_SUPPORT', 'FPE_DIVIDEBYZERO', 'FPE_INVALID', 'FPE_OVERFLOW', 'FPE_UNDERFLOW', 'False_', 'Inf', 'Infinity', 'MAXDIMS', 'MAY_SHARE_BOUNDS', 'MAY_SHARE_EXACT', 'NAN', 'NINF', 'NZERO', 'NaN', 'PINF', 'PZERO', 'RAISE', 'RankWarning', 'SHIFT_DIVIDEBYZERO', 'SHIFT_INVALID', 'SHIFT_OVERFLOW', 'SHIFT_UNDERFLOW', 'ScalarType', 'True_', 'UFUNC_BUFSIZE_DEFAULT', 'UFUNC_PYVALS_NAME', 'WRAP', '_CopyMode', '_NoValue', '_UFUNC_API', '__NUMPY_SETUP__', '__all__', '__builtins__', '__cached__', '__config__', '__deprecated_attrs__', '__dir__', '__doc__', '__expired_functions__', '__file__', '__former_attrs__', '__future_scalars__', '__getattr__', '__loader__', '__name__', '__package__', '__path__', '__spec__', '__version__', '_add_newdoc_ufunc', '_builtins', '_distributor_init', '_financial_names', '_get_promotion_state', '_globals', '_int_extended_msg', '_mat', '_no_nep50_warning', '_pyinstaller_hooks_dir', '_pytesttester', '_set_promotion_state', '_specific_msg', '_typing', '_using_numpy2_behavior', '_utils', 'abs', 'absolute', 'add', 'add_docstring', 'add_newdoc', 'add_newdoc_ufunc', 'all', 'allclose', 'alltrue', 'amax', 'amin', 'angle', 'any', 'append', 'apply_along_axis', 'apply_over_axes', 'arange', 'arccos', 'arccosh', 'arcsin', 'arcsinh', 'arctan', 'arctan2', 'arctanh', 'argmax', 'argmin', 'argpartition', 'argsort', 'argwhere', 'around', 'array', 'array2string', 'array_equal', 'array_equiv', 'array_repr', 'array_split', 'array_str', 'asanyarray', 'asarray', 'asarray_chkfinite', 'ascontiguousarray', 'asfarray', 'asfortranarray', 'asmatrix', 'atleast_1d', 'atleast_2d', 'atleast_3d', 'average', 'bartlett', 'base_repr', 'binary_repr', 'bincount', 'bitwise_and', 'bitwise_not', 'bitwise_or', 'bitwise_xor', 'blackman', 'block', 'bmat', 'bool_', 'broadcast', 'broadcast_arrays', 'broadcast_shapes', 'broadcast_to', 'busday_count', 'busday_offset', 'busdaycalendar', 'byte', 'byte_bounds', 'bytes_', 'c_', 'can_cast', 'cast', 'cbrt', 'cdouble', 'ceil', 'cfloat', 'char', 'character', 'chararray', 'choose', 'clip', 'clongdouble', 'clongfloat', 'column_stack', 'common_type', 'compare_chararrays', 'compat', 'complex128', 'complex64', 'complex_', 'complexfloating', 'compress', 'concatenate', 'conj', 'conjugate', 'convolve', 'copy', 'copysign', 'copyto', 'corrcoef', 'correlate', 'cos', 'cosh', 'count_nonzero', 'cov', 'cross', 'csingle', 'ctypeslib', 'cumprod', 'cumproduct', 'cumsum', 'datetime64', 'datetime_as_string', 'datetime_data', 'deg2rad', 'degrees', 'delete', 'deprecate', 'deprecate_with_doc', 'diag', 'diag_indices', 'diag_indices_from', 'diagflat', 'diagonal', 'diff', 'digitize', 'disp', 'divide', 'divmod', 'dot', 'double', 'dsplit', 'dstack', 'dtype', 'dtypes', 'e', 'ediff1d', 'einsum', 'einsum_path', 'emath', 'empty', 'empty_like', 'equal', 'errstate', 'euler_gamma', 'exceptions', 'exp', 'exp2', 'expand_dims', 'expm1', 'extract', 'eye', 'fabs', 'fastCopyAndTranspose', 'fft', 'fill_diagonal', 'find_common_type', 'finfo', 'fix', 'flatiter', 'flatnonzero', 'flexible', 'flip', 'fliplr', 'flipud', 'float16', 'float32', 'float64', 'float_', 'float_power', 'floating', 'floor', 'floor_divide', 'fmax', 'fmin', 'fmod', 'format_float_positional', 'format_float_scientific', 'format_parser', 'frexp', 'from_dlpack', 'frombuffer', 'fromfile', 'fromfunction', 'fromiter', 'frompyfunc', 'fromregex', 'fromstring', 'full', 'full_like', 'gcd', 'generic', 'genfromtxt', 'geomspace', 'get_array_wrap', 'get_include', 'get_printoptions', 'getbufsize', 'geterr', 'geterrcall', 'geterrobj', 'gradient', 'greater', 'greater_equal', 'half', 'hamming', 'hanning', 'heaviside', 'histogram', 'histogram2d', 'histogram_bin_edges', 'histogramdd', 'hsplit', 'hstack', 'hypot', 'i0', 'identity', 'iinfo', 'imag', 'in1d', 'index_exp', 'indices', 'inexact', 'inf', 'info', 'infty', 'inner', 'insert', 'int16', 'int32', 'int64', 'int8', 'int_', 'intc', 'integer', 'interp', 'intersect1d', 'intp', 'invert', 'is_busday', 'isclose', 'iscomplex', 'iscomplexobj', 'isfinite', 'isfortran', 'isin', 'isinf', 'isnan', 'isnat', 'isneginf', 'isposinf', 'isreal', 'isrealobj', 'isscalar', 'issctype', 'issubclass_', 'issubdtype', 'issubsctype', 'iterable', 'ix_', 'kaiser', 'kron', 'lcm', 'ldexp', 'left_shift', 'less', 'less_equal', 'lexsort', 'lib', 'linalg', 'linspace', 'little_endian', 'load', 'loadtxt', 'log', 'log10', 'log1p', 'log2', 'logaddexp', 'logaddexp2', 'logical_and', 'logical_not', 'logical_or', 'logical_xor', 'logspace', 'longcomplex', 'longdouble', 'longfloat', 'longlong', 'lookfor', 'ma', 'mask_indices', 'mat', 'matmul', 'matrix', 'max', 'maximum', 'maximum_sctype', 'may_share_memory', 'mean', 'median', 'memmap', 'meshgrid', 'mgrid', 'min', 'min_scalar_type', 'minimum', 'mintypecode', 'mod', 'modf', 'moveaxis', 'msort', 'multiply', 'nan', 'nan_to_num', 'nanargmax', 'nanargmin', 'nancumprod', 'nancumsum', 'nanmax', 'nanmean', 'nanmedian', 'nanmin', 'nanpercentile', 'nanprod', 'nanquantile', 'nanstd', 'nansum', 'nanvar', 'nbytes', 'ndarray', 'ndenumerate', 'ndim', 'ndindex', 'nditer', 'negative', 'nested_iters', 'newaxis', 'nextafter', 'nonzero', 'not_equal', 'numarray', 'number', 'obj2sctype', 'object_', 'ogrid', 'oldnumeric', 'ones', 'ones_like', 'outer', 'packbits', 'pad', 'partition', 'percentile', 'pi', 'piecewise', 'place', 'poly', 'poly1d', 'polyadd', 'polyder', 'polydiv', 'polyfit', 'polyint', 'polymul', 'polynomial', 'polysub', 'polyval', 'positive', 'power', 'printoptions', 'prod', 'product', 'promote_types', 'ptp', 'put', 'put_along_axis', 'putmask', 'quantile', 'r_', 'rad2deg', 'radians', 'random', 'ravel', 'ravel_multi_index', 'real', 'real_if_close', 'rec', 'recarray', 'recfromcsv', 'recfromtxt', 'reciprocal', 'record', 'remainder', 'repeat', 'require', 'reshape', 'resize', 'result_type', 'right_shift', 'rint', 'roll', 'rollaxis', 'roots', 'rot90', 'round', 'round_', 'row_stack', 's_', 'safe_eval', 'save', 'savetxt', 'savez', 'savez_compressed', 'sctype2char', 'sctypeDict', 'sctypes', 'searchsorted', 'select', 'set_numeric_ops', 'set_printoptions', 'set_string_function', 'setbufsize', 'setdiff1d', 'seterr', 'seterrcall', 'seterrobj', 'setxor1d', 'shape', 'shares_memory', 'short', 'show_config', 'show_runtime', 'sign', 'signbit', 'signedinteger', 'sin', 'sinc', 'single', 'singlecomplex', 'sinh', 'size', 'sometrue', 'sort', 'sort_complex', 'source', 'spacing', 'split', 'sqrt', 'square', 'squeeze', 'stack', 'std', 'str_', 'string_', 'subtract', 'sum', 'swapaxes', 'take', 'take_along_axis', 'tan', 'tanh', 'tensordot', 'test', 'testing', 'tile', 'timedelta64', 'trace', 'tracemalloc_domain', 'transpose', 'trapz', 'tri', 'tril', 'tril_indices', 'tril_indices_from', 'trim_zeros', 'triu', 'triu_indices', 'triu_indices_from', 'true_divide', 'trunc', 'typecodes', 'typename', 'ubyte', 'ufunc', 'uint', 'uint16', 'uint32', 'uint64', 'uint8', 'uintc', 'uintp', 'ulonglong', 'unicode_', 'union1d', 'unique', 'unpackbits', 'unravel_index', 'unsignedinteger', 'unwrap', 'ushort', 'vander', 'var', 'vdot', 'vectorize', 'version', 'void', 'vsplit', 'vstack', 'where', 'who', 'zeros', 'zeros_like']\n"
     ]
    }
   ],
   "source": [
    "import numpy as np\n",
    "print(f'현재 numpy버전 : {np.__version__}')\n",
    "print()\n",
    "\n",
    "print(dir(np))"
   ]
  },
  {
   "cell_type": "markdown",
   "id": "0d2fca1d-6b37-47f9-935c-738a8b25858f",
   "metadata": {},
   "source": [
    "### 1. 1차원 array정의 및 사용하기"
   ]
  },
  {
   "cell_type": "code",
   "execution_count": 21,
   "id": "4618bdbb-4935-4900-9f4b-3a41e3f54bd6",
   "metadata": {},
   "outputs": [
    {
     "name": "stdout",
     "output_type": "stream",
     "text": [
      "<class 'list'> [1, 2, 3, 4, 5]\n",
      "<class 'numpy.ndarray'> [1 2 3 4 5]\n",
      "<class 'numpy.int32'> 1\n",
      "<class 'numpy.float64'> 1.0\n",
      "<class 'numpy.str_'> 1\n",
      "<class 'numpy.ndarray'> [1 2]\n",
      "<class 'numpy.int32'> 1\n"
     ]
    }
   ],
   "source": [
    "# 1. np.array() : 원시데이터를 numpy배열로 리턴\n",
    "# np.array?\n",
    "data = [1,2,3,4,5]\n",
    "print(type(data), data)\n",
    "\n",
    "arr = np.array(data)\n",
    "print(type(arr), arr)\n",
    "print(type(arr[0]), arr[0])\n",
    "\n",
    "# 원시데이터의 자료형이 다를 경우 강제형변환\n",
    "arr = np.array([1,2,3,4,5.0])\n",
    "print(type(arr[0]), arr[0])\n",
    "\n",
    "arr = np.array([1,2,3,'4',5.0])\n",
    "print(type(arr[0]), arr[0])\n",
    "\n",
    "# 원시데이터의 자료가 비동차(inhomogeneous)인 경우는 에러\n",
    "# arr = np.array([1,2,3,'4',5.0, [1,2]])\n",
    "# print(type(arr[0]), arr[0])\n",
    "\n",
    "\n",
    "arr = np.array([[1,2], [3,4]])\n",
    "print(type(arr[0]), arr[0])\n",
    "print(type(arr[0][0]), arr[0][0])"
   ]
  },
  {
   "cell_type": "code",
   "execution_count": 28,
   "id": "22ce2876-779c-4a63-a6d3-be181f8a8b0b",
   "metadata": {},
   "outputs": [
    {
     "name": "stdout",
     "output_type": "stream",
     "text": [
      "<class 'int'> <class 'tuple'> <class 'tuple'>\n",
      "배열의 속성 : <class 'tuple'> (5,)\n",
      "np의 메서드 : <class 'tuple'> (5,)\n"
     ]
    },
    {
     "data": {
      "text/plain": [
       "\u001b[1;31mType:\u001b[0m        tuple\n",
       "\u001b[1;31mString form:\u001b[0m (5,)\n",
       "\u001b[1;31mLength:\u001b[0m      1\n",
       "\u001b[1;31mDocstring:\u001b[0m  \n",
       "Built-in immutable sequence.\n",
       "\n",
       "If no argument is given, the constructor returns an empty tuple.\n",
       "If iterable is specified the tuple is initialized from iterable's items.\n",
       "\n",
       "If the argument is a tuple, the return value is the same object."
      ]
     },
     "metadata": {},
     "output_type": "display_data"
    }
   ],
   "source": [
    "# 2. np.shape() : ndarray크기(모양)를 리턴\n",
    "# np.shape?\n",
    "a = 4; b = 4,; c = (4,)\n",
    "print(type(a),type(b),type(c))\n",
    "\n",
    "arr1 = np.array([1,2,3,4,5])\n",
    "print('배열의 속성 :', type(arr1.shape), arr1.shape)\n",
    "print('np의 메서드 :', type(np.shape(arr1)), np.shape(arr1))\n",
    "# np.shape?\n",
    "# arr1.shape?"
   ]
  },
  {
   "cell_type": "markdown",
   "id": "1dd9fe95-ed20-46a3-a88a-7fa938d34d25",
   "metadata": {},
   "source": [
    "### 2차원 array(행렬, matrix)"
   ]
  },
  {
   "cell_type": "code",
   "execution_count": 34,
   "id": "c3d7a943-32b9-4155-aead-2ac572f8b0df",
   "metadata": {},
   "outputs": [
    {
     "name": "stdout",
     "output_type": "stream",
     "text": [
      "<class 'numpy.ndarray'> [[1. 2. 3.]\n",
      " [4. 5. 6.]]\n",
      "배열의 크기 : (2, 3)\n",
      "\n",
      "<class 'numpy.ndarray'> [['1' '2' '3']\n",
      " ['4' '5' '6.0']\n",
      " ['7' '8' '9']]\n",
      "배열의 크기 : (3, 3)\n"
     ]
    },
    {
     "ename": "ValueError",
     "evalue": "setting an array element with a sequence. The requested array has an inhomogeneous shape after 1 dimensions. The detected shape was (3,) + inhomogeneous part.",
     "output_type": "error",
     "traceback": [
      "\u001b[1;31m---------------------------------------------------------------------------\u001b[0m",
      "\u001b[1;31mValueError\u001b[0m                                Traceback (most recent call last)",
      "Cell \u001b[1;32mIn[34], line 18\u001b[0m\n\u001b[0;32m     16\u001b[0m \u001b[38;5;66;03m# c. 비동차일 경우(즉, 요소의 갯수가 다를 경우)에러\u001b[39;00m\n\u001b[0;32m     17\u001b[0m data \u001b[38;5;241m=\u001b[39m [[\u001b[38;5;241m1\u001b[39m,\u001b[38;5;241m2\u001b[39m,\u001b[38;5;241m3\u001b[39m],[\u001b[38;5;241m4\u001b[39m,\u001b[38;5;241m5\u001b[39m,\u001b[38;5;241m6.0\u001b[39m], [\u001b[38;5;241m8\u001b[39m,\u001b[38;5;124m'\u001b[39m\u001b[38;5;124m9\u001b[39m\u001b[38;5;124m'\u001b[39m]]\n\u001b[1;32m---> 18\u001b[0m arr \u001b[38;5;241m=\u001b[39m np\u001b[38;5;241m.\u001b[39marray(data)\n\u001b[0;32m     19\u001b[0m \u001b[38;5;28mprint\u001b[39m(\u001b[38;5;28mtype\u001b[39m(arr), arr)\n\u001b[0;32m     20\u001b[0m \u001b[38;5;28mprint\u001b[39m(\u001b[38;5;124mf\u001b[39m\u001b[38;5;124m'\u001b[39m\u001b[38;5;124m배열의 크기 : \u001b[39m\u001b[38;5;132;01m{\u001b[39;00marr\u001b[38;5;241m.\u001b[39mshape\u001b[38;5;132;01m}\u001b[39;00m\u001b[38;5;124m'\u001b[39m)\n",
      "\u001b[1;31mValueError\u001b[0m: setting an array element with a sequence. The requested array has an inhomogeneous shape after 1 dimensions. The detected shape was (3,) + inhomogeneous part."
     ]
    }
   ],
   "source": [
    "# 1. np.array()\n",
    "# 2차원 list를 2차원 ndarray로 변환(항상 동차가 되어야 한다. 아니면 에러)\n",
    "# a. 2x3\n",
    "data = [[1,2,3],[4,5,6.0]]\n",
    "arr = np.array(data)\n",
    "print(type(arr), arr)\n",
    "print(f'배열의 크기 : {arr.shape}')\n",
    "print()\n",
    "\n",
    "# b. 3x3\n",
    "data = [[1,2,3],[4,5,6.0], [7,8,'9']]\n",
    "arr = np.array(data)\n",
    "print(type(arr), arr)\n",
    "print(f'배열의 크기 : {arr.shape}')\n",
    "\n",
    "# c. 비동차일 경우(즉, 요소의 갯수가 다를 경우)에러\n",
    "data = [[1,2,3],[4,5,6.0], [8,'9']]\n",
    "arr = np.array(data)\n",
    "print(type(arr), arr)\n",
    "print(f'배열의 크기 : {arr.shape}')\n"
   ]
  },
  {
   "cell_type": "markdown",
   "id": "6c291e92-d08e-44fe-84ea-bad593183d25",
   "metadata": {},
   "source": [
    "### 3. numpy의 연산\n",
    "\n",
    ">* numpy의 배열은 list와 유사하지만 다음과 같은 점에서 다르다.\n",
    ">* `numpy는 모든 요소가 동일 자료형`이어야 한다.\n",
    ">* `numpy요소의 갯수는 변경할 수 없다`\n",
    "\n",
    "##### numpy에서 사용하는 data type이 있다.\n",
    "1. int(8,16,32,64)     : 부호가 있는 정수\n",
    "2. uint(8,16,32,64)    : 부호가 없는 정수\n",
    "3. float(16,32,64,128) : 실수\n",
    "4. complex(64,128,256) : 복소수\n",
    "5. bool\n",
    "6. string(str_)\n",
    "7. object\n",
    "8. unicode"
   ]
  },
  {
   "cell_type": "code",
   "execution_count": 39,
   "id": "474e1234-c4ba-46e1-885d-339f0c287f7d",
   "metadata": {},
   "outputs": [
    {
     "name": "stdout",
     "output_type": "stream",
     "text": [
      "numpy 더하기 =\n",
      " [[ 8 10 12]\n",
      " [14 16 18]]\n",
      "numpy 빼기   =\n",
      " [[-6 -6 -6]\n",
      " [-6 -6 -6]]\n",
      "numpy 곱하기 =\n",
      " [[ 7 16 27]\n",
      " [40 55 72]]\n",
      "numpy 나누기 =\n",
      " [[0.14285714 0.25       0.33333333]\n",
      " [0.4        0.45454545 0.5       ]]\n",
      "arr1에 제곱 =\n",
      " [[ 2  4  6]\n",
      " [ 8 10 12]]\n",
      "arr1에 제곱근 =\n",
      " [[ 1  4  9]\n",
      " [16 25 36]]\n"
     ]
    }
   ],
   "source": [
    "# 1. numpy의 연산\n",
    "arr1 = np.array([[1,2,3],[4,5,6]])\n",
    "arr2 = np.array([[7,8,9],[10,11,12]])\n",
    "\n",
    "# a. numpy의 사칙연산\n",
    "print(f'numpy 더하기 =\\n {arr1 + arr2}')\n",
    "print(f'numpy 빼기   =\\n {arr1 - arr2}')\n",
    "print(f'numpy 곱하기 =\\n {arr1 * arr2}')\n",
    "print(f'numpy 나누기 =\\n {arr1 / arr2}')\n",
    "\n",
    "# b. 제곱, 제곱근\n",
    "print(f'arr1에 제곱 =\\n {arr1 * 2}')\n",
    "print(f'arr1에 제곱근 =\\n {arr1 ** 2}')"
   ]
  },
  {
   "cell_type": "markdown",
   "id": "3d56b59c-e67f-43c6-a203-d9fd39d94d2c",
   "metadata": {},
   "source": [
    "### numpy array의 broadcasting\n",
    "* numpy는 기본적으로 동일 크기를 가져야 연산이 가능다.\n",
    "* 하지만 배열의 크기가 다를 경우에는 numpy가 `broadcasting`이라는 기능을 제공한다.\n",
    "* 즉, broadcasting은 서로 다른 크기의 numpy배열을 연산이 가능하도록 지원하는 기능이다.\n",
    " \n",
    "<img src=\"./images/22.데이터분석_numpy_01_broadcasting.png\">\n",
    "<img src=\"./images/22.데이터분석_numpy_02_broadcasting.png\"> "
   ]
  },
  {
   "cell_type": "code",
   "execution_count": 48,
   "id": "f40449ac-59f0-43f5-ab43-c0fcb4268d7c",
   "metadata": {},
   "outputs": [
    {
     "name": "stdout",
     "output_type": "stream",
     "text": [
      "<class 'numpy.ndarray'> [0 1 2]\n",
      "[ 0  5 10]\n",
      "[ 0  5 10]\n",
      "더하기 = \n",
      " [[11 13 15]\n",
      " [14 16 18]]\n",
      "빼기   = \n",
      " [[-9 -9 -9]\n",
      " [-6 -6 -6]]\n",
      "곱하기 = \n",
      " [[10 22 36]\n",
      " [40 55 72]]\n",
      "나누기 = \n",
      " [[0.1        0.18181818 0.25      ]\n",
      " [0.4        0.45454545 0.5       ]]\n",
      "제곱   = \n",
      " [[ 2  4  6]\n",
      " [ 8 10 12]]\n",
      "제곱근 = \n",
      " [[ 1  4  9]\n",
      " [16 25 36]]\n"
     ]
    }
   ],
   "source": [
    "# 2. broadcasting\n",
    "# a. 1차원\n",
    "data1 = np.arange(3)\n",
    "data2 = np.array([5,5,5])\n",
    "print(type(data1), data1)\n",
    "print(data1*data2)\n",
    "print(data1 * 5)\n",
    "\n",
    "# b. 2차원\n",
    "arr1 = np.array([[1,2,3],[4,5,6]])  # 2차원 3,3\n",
    "arr2 = np.array([10,11,12])         # 1차원 (3,)\n",
    "print(f'더하기 = \\n {arr1+arr2}')   # arr2 = [[10,11,12],[10,11,12]]확장\n",
    "print(f'빼기   = \\n {arr1-arr2}') \n",
    "print(f'곱하기 = \\n {arr1*arr2}') \n",
    "print(f'나누기 = \\n {arr1/arr2}') \n",
    "print(f'제곱   = \\n {arr1 * 2}') \n",
    "print(f'제곱근 = \\n {arr1 ** 2}') "
   ]
  },
  {
   "cell_type": "markdown",
   "id": "faf07bbf-e8a9-49d9-a0ac-5d46091f1d8a",
   "metadata": {},
   "source": [
    "### 4. numpy array의 slicing과 indexing\n",
    "\n",
    "* numpy에서 사용되는 indexing은 python의 indexing과 동일하다."
   ]
  },
  {
   "cell_type": "code",
   "execution_count": 51,
   "id": "189b924e-14ca-493d-aa83-6e0762e02526",
   "metadata": {},
   "outputs": [
    {
     "data": {
      "image/png": "[encoded data removed]",
      "text/plain": [
       "<IPython.core.display.Image object>"
      ]
     },
     "metadata": {
      "image/png": {
       "height": 300,
       "width": 500
      }
     },
     "output_type": "display_data"
    }
   ],
   "source": [
    "# 1. np.arange([start,] stop[, step,], dtype=None)함수\n",
    "# ndarray를 생성해주는 함수, range함수와 유사한 함수\n",
    "# np.arange?\n",
    "from IPython.display import Image\n",
    "display(Image(\"./images/22.데이터분석_numpy_03_arange.png\", width=500, height=300))"
   ]
  },
  {
   "cell_type": "code",
   "execution_count": 62,
   "id": "2bba54ad-0e0f-4113-8110-b48375d154e1",
   "metadata": {},
   "outputs": [
    {
     "name": "stdout",
     "output_type": "stream",
     "text": [
      "<class 'numpy.ndarray'> \n",
      " [10. 12. 14. 16. 18.] <class 'numpy.float64'>\n",
      "<class 'numpy.ndarray'> [0 1 2 3 4 5 6 7 8 9]\n",
      "<class 'numpy.int32'> 9\n",
      "<class 'numpy.ndarray'> [0 1 2]\n",
      "<class 'numpy.ndarray'> [3 4 5 6 7 8 9]\n",
      "<class 'numpy.ndarray'> [0 1 2 3 4 5 6]\n",
      "<class 'numpy.ndarray'> [0 1 2 3 4 5 6]\n",
      "<class 'numpy.ndarray'> [0 1 2 3 4 5 6 7 8 9]\n"
     ]
    }
   ],
   "source": [
    "arr1 = np.arange(10, 20, 2, dtype='float64') # 기본값 dtype=None -> int32\n",
    "print(type(arr1), '\\n', arr1, type(arr1[0]))\n",
    "\n",
    "# 1) 1차원 ndarray의 indexing, slicing\n",
    "arr1 = np.arange(10)\n",
    "print(type(arr1), arr1)\n",
    "print(type(arr1[9]), arr1[9])\n",
    "# 0,1,2 추출하기\n",
    "print(type(arr1[:3]), arr1[:3])\n",
    "# 3 4 5 6 7 8 9 추출하기\n",
    "print(type(arr1[3:]), arr1[3:])\n",
    "# 0 1 2 3 4 5 6 추출하기\n",
    "print(type(arr1[:7]), arr1[:7])\n",
    "print(type(arr1[:-3]), arr1[:-3])\n",
    "# 0 1 2 3 4 5 6 7 8 9 slicing으로 추출\n",
    "print(type(arr1[:]), arr1[:])"
   ]
  },
  {
   "cell_type": "code",
   "execution_count": 85,
   "id": "0163a5eb-e25f-4544-8593-1fab745e0871",
   "metadata": {},
   "outputs": [
    {
     "name": "stdout",
     "output_type": "stream",
     "text": [
      "[1, 2]\n",
      "1 2 3\n",
      "4 5 6\n",
      "7 8 9\n",
      "\n",
      "[1 2 3] [1 2 3]\n",
      "[4 5 6] [4 5 6]\n",
      "[7 8 9] [7 8 9]\n",
      "\n",
      "[[1 2 3]\n",
      " [4 5 6]\n",
      " [7 8 9]]\n",
      "[4 5 6] 5\n",
      "[[1 2 3]\n",
      " [4 5 6]] [[1 2]\n",
      " [4 5]]\n",
      "\n",
      "[[1 2 3]\n",
      " [4 5 6]\n",
      " [7 8 9]] \n",
      "= [[1 2 3]\n",
      " [4 5 6]\n",
      " [7 8 9]] \n",
      "= [[1 2 3]\n",
      " [4 5 6]\n",
      " [7 8 9]]\n",
      "\n",
      "[[7 8 9]]\n",
      "[7 8 9]\n"
     ]
    }
   ],
   "source": [
    "# 2) 2차원 ndarray의 indexing, slicing\n",
    "# a. list의 인덱싱과 슬라이싱\n",
    "l = [[1,2,3],[4,5,6]]\n",
    "print(l[0][0:2])\n",
    "\n",
    "arr2 = np.array([[1,2,3],[4,5,6],[7,8,9]])\n",
    "# b. numpy의 인덱싱과 슬라이싱 : 2차원[행,요소]의 형태로 처리\n",
    "# indexing\n",
    "print(arr2[0,0], arr2[0,1], arr2[0,2]) \n",
    "print(arr2[1,0], arr2[1,1], arr2[1,2]) \n",
    "print(arr2[2,0], arr2[2,1], arr2[2,2]) \n",
    "print()\n",
    "\n",
    "# c. 2차원의 slicing[:,:]\n",
    "# 요소꺼내기 : 다차원배열에서 복수개의 요소를 추출하려면 slicing과 함께 컴마를 사용해야 한다.\n",
    "print(arr2[0,], arr2[0,:]) \n",
    "print(arr2[1,], arr2[1,:]) \n",
    "print(arr2[2,], arr2[2,:]) \n",
    "print()\n",
    "\n",
    "# 전체행의 전체열을 슬라이싱\n",
    "print(arr2[:,:]) \n",
    "\n",
    "# 실습1. 2번째행의 2번째요소 추출\n",
    "print(arr2[1,:], arr2[1,1])\n",
    "\n",
    "# 실습2. 1~2번째행의 1~2번째요소(열)을 추출\n",
    "print(arr2[:2,:], arr2[:2,:2])\n",
    "print()\n",
    "\n",
    "# 전체요소추출\n",
    "print(arr2, '\\n=', arr2[:], '\\n=', arr2[:,:])\n",
    "print()\n",
    "\n",
    "# 컴마로 추출하는 결과와 없이 추출하는 경우의 차이\n",
    "print(arr2[2:]) # 2차원\n",
    "print(arr2[2,]) # 1차원"
   ]
  },
  {
   "cell_type": "code",
   "execution_count": 86,
   "id": "6e322ce5-b964-42fa-b8b5-62649095b04c",
   "metadata": {},
   "outputs": [
    {
     "data": {
      "image/png": "[encoded data removed]",
      "text/plain": [
       "<IPython.core.display.Image object>"
      ]
     },
     "metadata": {
      "image/png": {
       "height": 300,
       "width": 500
      }
     },
     "output_type": "display_data"
    }
   ],
   "source": [
    "display(Image(\"./images/22.데이터분석_numpy_04_slicing.png\", width=500, height=300))"
   ]
  },
  {
   "cell_type": "code",
   "execution_count": 100,
   "id": "65c83770-6081-4499-b50d-154d6c0966e6",
   "metadata": {},
   "outputs": [
    {
     "name": "stdout",
     "output_type": "stream",
     "text": [
      "[9] = [9]\n",
      "[3 6 9]\n",
      "[[1 2]\n",
      " [4 5]]\n",
      "[[5 6]\n",
      " [8 9]]\n"
     ]
    }
   ],
   "source": [
    "# 실습문제\n",
    "arr2 = np.array([[1,2,3],[4,5,6],[7,8,9]])\n",
    "\n",
    "# 1. arr2에서 9를 꺼내기 : 세 번째 행의 세 번째 요소\n",
    "print(arr2[2:,2], '=', arr2[-1:,-1])\n",
    "\n",
    "# 2. arr2에서 모든열의 세번째 요소 [3,6,9] 출력\n",
    "print(arr2[:,2])\n",
    "\n",
    "# 3. arr2에서 [[1,2], [4,5]] 출력\n",
    "print(arr2[:2,:2])\n",
    "\n",
    "# 4. arr2에서 [[5,6], [8,9]] 출력\n",
    "print(arr2[1:,1:])"
   ]
  },
  {
   "cell_type": "code",
   "execution_count": 108,
   "id": "74121243-050a-4ff6-8e44-f0e87ce8b992",
   "metadata": {},
   "outputs": [
    {
     "name": "stdout",
     "output_type": "stream",
     "text": [
      "7\n",
      "[6 7]\n",
      "[ 7 12]\n",
      "[[3 4]\n",
      " [8 9]]\n"
     ]
    }
   ],
   "source": [
    "m = np.array([[ 0,  1,  2,  3,  4],\n",
    "              [ 5,  6,  7,  8,  9],\n",
    "              [10, 11, 12, 13, 14]])\n",
    "\n",
    "# 5. m 행렬에서 값 7 을 인덱싱한다.\n",
    "print(m[1,2])\n",
    "\n",
    "# 6. m 행렬에서 배열 [6, 7] 을 슬라이싱한다.\n",
    "print(m[1,1:3])\n",
    "\n",
    "# 7. m 행렬에서 배열 [7, 12] 을 슬라이싱한다.\n",
    "print(m[1:3,2])\n",
    "\n",
    "# 8. m 행렬에서 배열 [[3, 4], [8, 9]] 을 슬라이싱한다.\n",
    "print(m[:2,3:])"
   ]
  },
  {
   "cell_type": "markdown",
   "id": "425337e9-2e1a-40d2-8050-2dc4b218a509",
   "metadata": {},
   "source": [
    "#### 배열인덱싱\n",
    "\n",
    "* numpy에서 강력한 기능은 `fancy indexing이라 블리는 배열인덱싱`이다.\n",
    "* indexing이란 이름이 부여 됐지만 사실은 `Database의 SQL기능을 수행`한다.\n",
    "* 배열인덱싱은 2가지가 있다.\n",
    "  1. 정수배열인덱싱\n",
    "  2. 블리언배열인덱싱\n",
    "* 블리언인덱싱방식은 `배열의 원소가 True or False 2가지 값으로만 구성`되면 인덱스배열의 크기가 원본배열의 크기와 동일해야 한다."
   ]
  },
  {
   "cell_type": "code",
   "execution_count": 116,
   "id": "4541d0a2-6721-4c1d-9c60-09bddd0e30d0",
   "metadata": {},
   "outputs": [
    {
     "name": "stdout",
     "output_type": "stream",
     "text": [
      "[ 1  2  3  4  5  6  7  8  9 10] \n",
      " [False  True False  True False  True False  True False  True]\n",
      "\n",
      "[ 2  4  6  8 10]\n",
      "[1 2 4 6 8]\n",
      "[ 7 10]\n",
      "[False  True False  True False  True False  True False  True False  True\n",
      " False  True False  True False  True False  True]\n",
      "[ 2  4  6  8 10  2  4  6  8 10]\n",
      "[3 6 9 3 6 9]\n"
     ]
    }
   ],
   "source": [
    "# 1차원 배열인덱싱(블리언)\n",
    "a = np.array([1,2,3,4,5,6,7,8,9,10])\n",
    "idx = np.array([False, True, False, True, False, True, False, True, False, True])\n",
    "print(a, '\\n', idx)\n",
    "print()\n",
    "\n",
    "print(a[idx])\n",
    "\n",
    "idx = np.array([True, True, False, True, False, True, False, True, False, False])\n",
    "print(a[idx])\n",
    "\n",
    "# 7과 10만 추출\n",
    "idx = np.array([False, False, False, False, False, False, True, False, False, True])\n",
    "print(a[idx])\n",
    "\n",
    "# 짝수만 추출 : a[ 표현식 ]\n",
    "a = np.array([1,2,3,4,5,6,7,8,9,10,1,2,3,4,5,6,7,8,9,10])\n",
    "print(a%2==0)\n",
    "print(a[a%2==0])\n",
    "\n",
    "# 홀수만 추출\n",
    "print(a[a%3==0])"
   ]
  },
  {
   "cell_type": "code",
   "execution_count": 122,
   "id": "3d6bcd38-39c8-48a9-a83f-8082b56eaee7",
   "metadata": {},
   "outputs": [
    {
     "name": "stdout",
     "output_type": "stream",
     "text": [
      "[[ 1  2  3  4]\n",
      " [ 5  6  7  8]\n",
      " [ 9 10 11 12]]\n",
      "[[ 1  4]\n",
      " [ 5  8]\n",
      " [ 9 12]]\n",
      "[ 2  5  7 10]\n",
      "[ 2  4  6  8 10 12]\n"
     ]
    }
   ],
   "source": [
    "# 2차원 배열인덱싱(블리언)\n",
    "a = np.array([\n",
    "    [1, 2, 3, 4],\n",
    "    [5, 6, 7, 8],\n",
    "    [9,10,11,12]\n",
    "])\n",
    "print(a)\n",
    "\n",
    "# 실습1. 1,5,9,4,8,12만 추출\n",
    "print(a[:,[True, False, False, True]])\n",
    "\n",
    "# 실습2. 2,5,7,10만 추출하기\n",
    "idx = np.array([\n",
    "    [False, True, False, False],\n",
    "    [True, False, True, False],\n",
    "    [False,True,False,False]\n",
    "])\n",
    "print(a[idx])\n",
    "\n",
    "# 실습3. 짝수만 추출하기\n",
    "print(a[a%2==0])"
   ]
  },
  {
   "cell_type": "markdown",
   "id": "1edcece4-3646-4478-8da9-05ab9238caf7",
   "metadata": {},
   "source": [
    "### numpy관련함수\n",
    "\n",
    "#### 1. 한 개의 array에 적용되는 함수"
   ]
  },
  {
   "cell_type": "code",
   "execution_count": 138,
   "id": "daabdad2-d98a-4ae3-8073-0a6fa64c9a1b",
   "metadata": {},
   "outputs": [
    {
     "name": "stdout",
     "output_type": "stream",
     "text": [
      "[0. 0. 0. 0. 0. 0. 0. 0. 0. 0.]\n",
      "[[0. 0. 0.]\n",
      " [0. 0. 0.]\n",
      " [0. 0. 0.]]\n",
      "[[0. 0. 0. 0. 0. 0. 0. 0.]\n",
      " [0. 0. 0. 0. 0. 0. 0. 0.]\n",
      " [0. 0. 0. 0. 0. 0. 0. 0.]]\n"
     ]
    }
   ],
   "source": [
    "# 1. np.zeros() : 배열의 모든 요소의 값을 0으로 초기화하는 함수\n",
    "z1 = np.zeros(10)\n",
    "print(z1)\n",
    "\n",
    "z2 = np.zeros((3,3))\n",
    "print(z2)\n",
    "\n",
    "z3 = np.zeros([3,8])\n",
    "print(z3)"
   ]
  },
  {
   "cell_type": "code",
   "execution_count": 137,
   "id": "e34d2517-c175-4540-92f4-8a08443a8570",
   "metadata": {},
   "outputs": [
    {
     "name": "stdout",
     "output_type": "stream",
     "text": [
      "[1. 1. 1. 1. 1. 1. 1. 1. 1. 1.]\n",
      "[[1. 1. 1.]\n",
      " [1. 1. 1.]\n",
      " [1. 1. 1.]]\n",
      "[[1. 1. 1. 1. 1. 1. 1. 1.]\n",
      " [1. 1. 1. 1. 1. 1. 1. 1.]\n",
      " [1. 1. 1. 1. 1. 1. 1. 1.]]\n"
     ]
    }
   ],
   "source": [
    "# 2. np.ones() : 배열의 모든 요소의 값을 1으로 초기화하는 함수\n",
    "z1 = np.ones(10)\n",
    "print(z1)\n",
    "\n",
    "z2 = np.ones((3,3))\n",
    "print(z2)\n",
    "\n",
    "z3 = np.ones([3,8])\n",
    "print(z3)"
   ]
  },
  {
   "cell_type": "code",
   "execution_count": 139,
   "id": "4b427c20-250f-4639-8b8b-885abeb7b6c6",
   "metadata": {},
   "outputs": [
    {
     "name": "stdout",
     "output_type": "stream",
     "text": [
      "[[1. 0. 0.]\n",
      " [0. 1. 0.]\n",
      " [0. 0. 1.]]\n",
      "[[0. 0. 1.]\n",
      " [0. 0. 0.]\n",
      " [0. 0. 0.]]\n"
     ]
    }
   ],
   "source": [
    "# 3. np.eye()\n",
    "z1 = np.eye(3)\n",
    "print(z1)\n",
    "\n",
    "z2 = np.eye(3, k=2)\n",
    "print(z2)"
   ]
  },
  {
   "cell_type": "code",
   "execution_count": 142,
   "id": "b30b9433-77e3-4e43-9b87-39aa9d97a3a9",
   "metadata": {},
   "outputs": [
    {
     "name": "stdout",
     "output_type": "stream",
     "text": [
      "[[10 10]\n",
      " [10 10]]\n",
      "[[1 2]\n",
      " [1 2]]\n"
     ]
    }
   ],
   "source": [
    "# 4. np.full() : 특정 값으로 초기화\n",
    "z1 = np.full((2,2), 10)\n",
    "print(z1)\n",
    "\n",
    "z2 = np.full((2,2), [1,2])\n",
    "print(z2)"
   ]
  },
  {
   "cell_type": "code",
   "execution_count": 146,
   "id": "2c62e41d-7430-4de1-88f1-cf7cc09761ef",
   "metadata": {},
   "outputs": [
    {
     "data": {
      "text/plain": [
       "array([10., 12., 14., 16., 18., 20.])"
      ]
     },
     "execution_count": 146,
     "metadata": {},
     "output_type": "execute_result"
    }
   ],
   "source": [
    "# 5. np.arange()\n",
    "np.arange(10,21,2, dtype='float64')"
   ]
  },
  {
   "cell_type": "code",
   "execution_count": 154,
   "id": "9370baa9-96f6-4c96-aaf4-c6807dc49bc9",
   "metadata": {},
   "outputs": [
    {
     "name": "stdout",
     "output_type": "stream",
     "text": [
      "[0.37454012 0.95071431 0.73199394 0.59865848 0.15601864]\n",
      "\n",
      "[0.15599452 0.05808361 0.86617615 0.60111501 0.70807258 0.02058449\n",
      " 0.96990985 0.83244264 0.21233911 0.18182497]\n",
      "[[0.18340451 0.30424224 0.52475643 0.43194502 0.29122914]\n",
      " [0.61185289 0.13949386 0.29214465 0.36636184 0.45606998]\n",
      " [0.78517596 0.19967378 0.51423444 0.59241457 0.04645041]]\n",
      "\n",
      "[-1.15099358  0.37569802 -0.60063869 -0.29169375 -0.60170661  1.85227818\n",
      " -0.01349722 -1.05771093  0.82254491 -1.22084365]\n",
      "[[ 0.2088636  -1.95967012 -1.32818605  0.19686124  0.73846658]\n",
      " [ 0.17136828 -0.11564828 -0.3011037  -1.47852199 -0.71984421]\n",
      " [-0.46063877  1.05712223  0.34361829 -1.76304016  0.32408397]]\n",
      "\n",
      "0\n",
      "[8 6 8 7 0 7 7 2 0 7]\n",
      "[[2 2 0 4 9]\n",
      " [6 9 8 6 8]\n",
      " [7 1 0 6 6]]\n",
      "\n"
     ]
    }
   ],
   "source": [
    "# 5. np.random()\n",
    "# 1) seed\n",
    "np.random.seed(42)\n",
    "print(np.random.rand(5))\n",
    "print()\n",
    "\n",
    "# 2) 난수를 발생시키는 3가지 방법\n",
    "# a. rand() : 0~1사이의 균등분포를 가진 난수를 발생\n",
    "print(np.random.rand(10))\n",
    "print(np.random.rand(3,5))\n",
    "print()\n",
    "\n",
    "# b. randn() : 표준정규분포(가우시안)\n",
    "print(np.random.randn(10))\n",
    "print(np.random.randn(3,5))\n",
    "print()\n",
    "\n",
    "# c. randint() : 균일분포의 정수값의 난수\n",
    "print(np.random.randint(10))\n",
    "print(np.random.randint(10, size=10))   # 0~10사이의 1차원(10)배열\n",
    "print(np.random.randint(10, size=(3,5))) # 0~10사이의 2차원(3x5)배열\n",
    "print()"
   ]
  },
  {
   "cell_type": "code",
   "execution_count": 162,
   "id": "2ffa04a8-d23a-4eb6-a9de-e2c0879f3cca",
   "metadata": {},
   "outputs": [
    {
     "name": "stdout",
     "output_type": "stream",
     "text": [
      "[[ 1. -1.  1.  1. -1.]\n",
      " [-1.  1.  1. -1.  1.]\n",
      " [-1. -1.  1. -1. -1.]]\n"
     ]
    }
   ],
   "source": [
    "# 6. np.sign() : 배열의 요소값이 음수=-1, 0=0, 양수=1\n",
    "np.random.seed(42)\n",
    "arr1 = np.random.randn(3,5)\n",
    "print(np.sign(arr1))"
   ]
  },
  {
   "cell_type": "code",
   "execution_count": 164,
   "id": "8129a4e2-9703-420d-b26c-b3f4b7bdabc4",
   "metadata": {},
   "outputs": [
    {
     "name": "stdout",
     "output_type": "stream",
     "text": [
      "[[ 0.49671415 -0.1382643   0.64768854  1.52302986 -0.23415337]\n",
      " [-0.23413696  1.57921282  0.76743473 -0.46947439  0.54256004]\n",
      " [-0.46341769 -0.46572975  0.24196227 -1.91328024 -1.72491783]]\n",
      "[[ 1. -0.  1.  2. -0.]\n",
      " [-0.  2.  1. -0.  1.]\n",
      " [-0. -0.  1. -1. -1.]]\n"
     ]
    }
   ],
   "source": [
    "# 7. np.ceil()\n",
    "print(arr1)\n",
    "print(np.ceil(arr1))"
   ]
  },
  {
   "cell_type": "code",
   "execution_count": 165,
   "id": "b2b7450a-05cb-408a-b1f8-6ff6ce58bcf6",
   "metadata": {},
   "outputs": [
    {
     "name": "stdout",
     "output_type": "stream",
     "text": [
      "[[ 0. -1.  0.  1. -1.]\n",
      " [-1.  1.  0. -1.  0.]\n",
      " [-1. -1.  0. -2. -2.]]\n"
     ]
    }
   ],
   "source": [
    "# 8. np.floor()\n",
    "print(np.floor(arr1))"
   ]
  },
  {
   "cell_type": "code",
   "execution_count": 169,
   "id": "ee5877e2-ff17-4b32-8047-7c5e9efe143f",
   "metadata": {},
   "outputs": [
    {
     "name": "stdout",
     "output_type": "stream",
     "text": [
      "[[False False False False False]\n",
      " [False False False False False]\n",
      " [False False False False False]]\n",
      "[[False  True False False  True]\n",
      " [ True False False  True False]\n",
      " [ True  True False  True  True]]\n"
     ]
    },
    {
     "name": "stderr",
     "output_type": "stream",
     "text": [
      "C:\\Users\\EZEN\\AppData\\Local\\Temp\\ipykernel_1740\\2249731079.py:3: RuntimeWarning: invalid value encountered in log\n",
      "  np.log(arr1)\n",
      "C:\\Users\\EZEN\\AppData\\Local\\Temp\\ipykernel_1740\\2249731079.py:4: RuntimeWarning: invalid value encountered in log\n",
      "  print(np.isnan(np.log(arr1)))\n"
     ]
    }
   ],
   "source": [
    "# 9. np.isnan()\n",
    "print(np.isnan(arr1))\n",
    "np.log(arr1)\n",
    "print(np.isnan(np.log(arr1)))"
   ]
  },
  {
   "cell_type": "markdown",
   "id": "fb41b319-8d23-4d2e-ac49-17d9b17064c7",
   "metadata": {},
   "source": [
    "#### 2. 두 개의 array에 적용되는 함수"
   ]
  },
  {
   "cell_type": "code",
   "execution_count": 171,
   "id": "6f83cbd0-c51d-4268-9ea3-e60123837be9",
   "metadata": {},
   "outputs": [
    {
     "name": "stdout",
     "output_type": "stream",
     "text": [
      "[[ 0.49671415 -0.1382643   0.64768854]\n",
      " [ 1.52302986 -0.23415337 -0.23413696]\n",
      " [ 1.57921282  0.76743473 -0.46947439]\n",
      " [ 0.54256004 -0.46341769 -0.46572975]\n",
      " [ 0.24196227 -1.91328024 -1.72491783]] \n",
      " [[-0.56228753 -1.01283112  0.31424733]\n",
      " [-0.90802408 -1.4123037   1.46564877]\n",
      " [-0.2257763   0.0675282  -1.42474819]\n",
      " [-0.54438272  0.11092259 -1.15099358]\n",
      " [ 0.37569802 -0.60063869 -0.29169375]]\n"
     ]
    }
   ],
   "source": [
    "np.random.seed(42)\n",
    "arr1 = np.random.randn(5,3)\n",
    "arr2 = np.random.randn(5,3)\n",
    "print(arr1, '\\n',  arr2)"
   ]
  },
  {
   "cell_type": "code",
   "execution_count": 176,
   "id": "e2f97499-b479-4edd-b434-8973736502d5",
   "metadata": {},
   "outputs": [
    {
     "name": "stdout",
     "output_type": "stream",
     "text": [
      "np.add = [[-6.55733762e-02 -1.15109542e+00  9.61935871e-01]\n",
      " [ 6.15005781e-01 -1.64645708e+00  1.23151181e+00]\n",
      " [ 1.35343652e+00  8.34962934e-01 -1.89422257e+00]\n",
      " [-1.82268094e-03 -3.52495103e-01 -1.61672333e+00]\n",
      " [ 6.17660290e-01 -2.51391893e+00 -2.01661158e+00]]\n",
      "np.subtract = [[ 1.05900168  0.87456682  0.33344121]\n",
      " [ 2.43105393  1.17815033 -1.69978573]\n",
      " [ 1.80498912  0.69990652  0.9552738 ]\n",
      " [ 1.08694277 -0.57434028  0.68526382]\n",
      " [-0.13373575 -1.31264155 -1.43322408]]\n",
      "np.multiply = [[-0.27929617  0.14003839  0.2035344 ]\n",
      " [-1.38294778  0.33069568 -0.34316254]\n",
      " [-0.35654883  0.05182349  0.66888278]\n",
      " [-0.29536031 -0.05140349  0.53605196]\n",
      " [ 0.09090475  1.14919014  0.50314775]]\n",
      "np.divide = [[-0.88338106  0.13651269  2.06107887]\n",
      " [-1.67730118  0.16579534 -0.1597497 ]\n",
      " [-6.99459072 11.36465471  0.32951394]\n",
      " [-0.99665184 -4.17784776  0.4046328 ]\n",
      " [ 0.64403393  3.18540959  5.91345489]]\n"
     ]
    }
   ],
   "source": [
    "# 1. 4칙연산함수(add, subtract, multiply, divide)\n",
    "print(f'np.add = {np.add(arr1, arr2)}')\n",
    "print(f'np.subtract = {np.subtract(arr1, arr2)}')\n",
    "print(f'np.multiply = {np.multiply(arr1, arr2)}')\n",
    "print(f'np.divide = {np.divide(arr1, arr2)}')"
   ]
  },
  {
   "cell_type": "code",
   "execution_count": 180,
   "id": "46dd8c9f-82de-4ea2-9c89-a3b660bb01fb",
   "metadata": {},
   "outputs": [
    {
     "name": "stdout",
     "output_type": "stream",
     "text": [
      "numpy배열에서 최소값 = [[-0.56228753 -1.01283112  0.31424733]\n",
      " [-0.90802408 -1.4123037  -0.23413696]\n",
      " [-0.2257763   0.0675282  -1.42474819]\n",
      " [-0.54438272 -0.46341769 -1.15099358]\n",
      " [ 0.24196227 -1.91328024 -1.72491783]]\n",
      "numpy배열에서 최대값 = [[ 0.49671415 -0.1382643   0.64768854]\n",
      " [ 1.52302986 -0.23415337  1.46564877]\n",
      " [ 1.57921282  0.76743473 -0.46947439]\n",
      " [ 0.54256004  0.11092259 -0.46572975]\n",
      " [ 0.37569802 -0.60063869 -0.29169375]]\n"
     ]
    }
   ],
   "source": [
    "# 2. minimum/maximum\n",
    "print(f'numpy배열에서 최소값 = {np.minimum(arr1, arr2)}')\n",
    "print(f'numpy배열에서 최대값 = {np.maximum(arr1, arr2)}')"
   ]
  },
  {
   "cell_type": "markdown",
   "id": "67e05dbf-742b-4dba-8fac-676e604e200b",
   "metadata": {},
   "source": [
    "#### 3. 통계함수"
   ]
  },
  {
   "cell_type": "code",
   "execution_count": 191,
   "id": "c9b1f955-ec32-486e-b40d-1b6c983e07c4",
   "metadata": {},
   "outputs": [
    {
     "name": "stdout",
     "output_type": "stream",
     "text": [
      "(2, 3)\n",
      "[[1, 2, 3], [4, 5, 6]]\n",
      "numpy 배열의 전체합(axis=None) = 21\n",
      "numpy 배열의 열의합(axis=0) = [5 7 9]\n",
      "numpy 배열의 행의합(axis=1) = [ 6 15]\n"
     ]
    }
   ],
   "source": [
    "# 1. sum()\n",
    "# np.sum?\n",
    "arr1 = [[1,2,3],[4,5,6]]\n",
    "print(np.shape(arr1))\n",
    "print(arr1)\n",
    "print(f'numpy 배열의 전체합(axis=None) = {np.sum(arr1)}')\n",
    "print(f'numpy 배열의 열의합(axis=0) = {np.sum(arr1, axis=0)}')\n",
    "print(f'numpy 배열의 행의합(axis=1) = {np.sum(arr1, axis=1)}')"
   ]
  },
  {
   "cell_type": "code",
   "execution_count": 192,
   "id": "f9d3326c-ceb4-4d70-825e-c751fbf1d29f",
   "metadata": {},
   "outputs": [
    {
     "name": "stdout",
     "output_type": "stream",
     "text": [
      "numpy 배열의 전체 평균(axis=None) = 3.5\n",
      "numpy 배열의 열의 평균(axis=0) = [2.5 3.5 4.5]\n",
      "numpy 배열의 행의 평균(axis=1) = [2. 5.]\n"
     ]
    }
   ],
   "source": [
    "# 2. mean()\n",
    "print(f'numpy 배열의 전체 평균(axis=None) = {np.mean(arr1)}')\n",
    "print(f'numpy 배열의 열의 평균(axis=0) = {np.mean(arr1, axis=0)}')\n",
    "print(f'numpy 배열의 행의 평균(axis=1) = {np.mean(arr1, axis=1)}')"
   ]
  },
  {
   "cell_type": "code",
   "execution_count": 193,
   "id": "a300c6c0-8580-4509-9759-bb10bb1b3d82",
   "metadata": {},
   "outputs": [
    {
     "data": {
      "image/png": "[encoded data removed]",
      "text/plain": [
       "<IPython.core.display.Image object>"
      ]
     },
     "metadata": {
      "image/png": {
       "height": 300,
       "width": 500
      }
     },
     "output_type": "display_data"
    },
    {
     "data": {
      "image/png": "[encoded data removed]",
      "text/plain": [
       "<IPython.core.display.Image object>"
      ]
     },
     "metadata": {
      "image/png": {
       "height": 300,
       "width": 500
      }
     },
     "output_type": "display_data"
    }
   ],
   "source": [
    "# 3. std(), var(), min(), max(), median(), percentil()\n",
    "display(Image(\"./images/22.데이터분석_numpy_05_statistic.png\", width=500, height=300))\n",
    "display(Image(\"./images/22.데이터분석_numpy_06_statistic.png\", width=500, height=300))"
   ]
  },
  {
   "cell_type": "code",
   "execution_count": 196,
   "id": "96385a0c-62e1-48dc-8401-6f77a095b02d",
   "metadata": {},
   "outputs": [
    {
     "name": "stdout",
     "output_type": "stream",
     "text": [
      "numpy 배열의 전체 표준편차(axis=None) = 1.707825127659933\n",
      "numpy 배열의 열의 표준편차(axis=0) = [1.5 1.5 1.5]\n",
      "numpy 배열의 행의 표준편차(axis=1) = [0.81649658 0.81649658]\n"
     ]
    }
   ],
   "source": [
    "# std()\n",
    "arr1 = [[1,2,3],[4,5,6]]\n",
    "print(f'numpy 배열의 전체 표준편차(axis=None) = {np.std(arr1)}')\n",
    "print(f'numpy 배열의 열의 표준편차(axis=0) = {np.std(arr1, axis=0)}')\n",
    "print(f'numpy 배열의 행의 표준편차(axis=1) = {np.std(arr1, axis=1)}')"
   ]
  },
  {
   "cell_type": "code",
   "execution_count": 197,
   "id": "56e32ed5-cd9c-4208-82ce-d4662646fe9b",
   "metadata": {},
   "outputs": [
    {
     "name": "stdout",
     "output_type": "stream",
     "text": [
      "numpy 배열의 전체 분산(axis=None) = 2.9166666666666665\n",
      "numpy 배열의 열의 분산(axis=0) = [2.25 2.25 2.25]\n",
      "numpy 배열의 행의 분산(axis=1) = [0.66666667 0.66666667]\n"
     ]
    }
   ],
   "source": [
    "# var()\n",
    "print(f'numpy 배열의 전체 분산(axis=None) = {np.var(arr1)}')\n",
    "print(f'numpy 배열의 열의 분산(axis=0) = {np.var(arr1, axis=0)}')\n",
    "print(f'numpy 배열의 행의 분산(axis=1) = {np.var(arr1, axis=1)}')"
   ]
  },
  {
   "cell_type": "code",
   "execution_count": 198,
   "id": "9b83dcb2-5add-476d-aab0-e5f09e799ea5",
   "metadata": {},
   "outputs": [
    {
     "name": "stdout",
     "output_type": "stream",
     "text": [
      "numpy 배열의 전체 최소값(axis=None) = 1\n",
      "numpy 배열의 열의 최소값(axis=0) = [1 2 3]\n",
      "numpy 배열의 행의 최소값(axis=1) = [1 4]\n"
     ]
    }
   ],
   "source": [
    "# min()\n",
    "print(f'numpy 배열의 전체 최소값(axis=None) = {np.min(arr1)}')\n",
    "print(f'numpy 배열의 열의 최소값(axis=0) = {np.min(arr1, axis=0)}')\n",
    "print(f'numpy 배열의 행의 최소값(axis=1) = {np.min(arr1, axis=1)}')"
   ]
  },
  {
   "cell_type": "code",
   "execution_count": 199,
   "id": "5cf29292-4305-4dbc-a1bf-1848ca87eb8c",
   "metadata": {},
   "outputs": [
    {
     "name": "stdout",
     "output_type": "stream",
     "text": [
      "numpy 배열의 전체 최대값(axis=None) = 6\n",
      "numpy 배열의 열의 최대값(axis=0) = [4 5 6]\n",
      "numpy 배열의 행의 최대값(axis=1) = [3 6]\n"
     ]
    }
   ],
   "source": [
    "# max()\n",
    "print(f'numpy 배열의 전체 최대값(axis=None) = {np.max(arr1)}')\n",
    "print(f'numpy 배열의 열의 최대값(axis=0) = {np.max(arr1, axis=0)}')\n",
    "print(f'numpy 배열의 행의 최대값(axis=1) = {np.max(arr1, axis=1)}')"
   ]
  },
  {
   "cell_type": "code",
   "execution_count": 200,
   "id": "d2716e05-9c64-4cc4-bab8-8018b9f82897",
   "metadata": {},
   "outputs": [
    {
     "name": "stdout",
     "output_type": "stream",
     "text": [
      "numpy 배열의 전체 중앙값(axis=None) = 3.5\n",
      "numpy 배열의 열의 중앙값(axis=0) = [2.5 3.5 4.5]\n",
      "numpy 배열의 행의 중앙값(axis=1) = [2. 5.]\n"
     ]
    }
   ],
   "source": [
    "# median()\n",
    "print(f'numpy 배열의 전체 중앙값(axis=None) = {np.median(arr1)}')\n",
    "print(f'numpy 배열의 열의 중앙값(axis=0) = {np.median(arr1, axis=0)}')\n",
    "print(f'numpy 배열의 행의 중앙값(axis=1) = {np.median(arr1, axis=1)}')"
   ]
  },
  {
   "cell_type": "code",
   "execution_count": 201,
   "id": "79ec6928-6ccf-4b4a-837c-7aa66eb4ef71",
   "metadata": {},
   "outputs": [
    {
     "name": "stdout",
     "output_type": "stream",
     "text": [
      "numpy 배열의 전체 1사분위수(array, 사분위수) = 2.25\n",
      "numpy 배열의 전체 2사분위수(array, 사분위수) = 3.5\n",
      "numpy 배열의 전체 3사분위수(array, 사분위수) = 4.75\n"
     ]
    }
   ],
   "source": [
    "# percentile()\n",
    "print(f'numpy 배열의 전체 1사분위수(array, 사분위수) = {np.percentile(arr1, 25)}')\n",
    "print(f'numpy 배열의 전체 2사분위수(array, 사분위수) = {np.percentile(arr1, 50)}')\n",
    "print(f'numpy 배열의 전체 3사분위수(array, 사분위수) = {np.percentile(arr1, 75)}')"
   ]
  },
  {
   "cell_type": "code",
   "execution_count": 204,
   "id": "9ac7b6f3-d8a7-44cc-a265-23e6c1db278b",
   "metadata": {},
   "outputs": [
    {
     "name": "stdout",
     "output_type": "stream",
     "text": [
      "numpy 배열의 최소값의 위치 = 0\n",
      "numpy 배열의 최대값의 위치 = 5\n",
      "numpy 배열의 최소값의 위치(axis=0) = [0 0 0]\n",
      "numpy 배열의 최대값의 위치(axis=0) = [1 1 1]\n",
      "numpy 배열의 최소값의 위치(axis=1) = [0 0]\n",
      "numpy 배열의 최대값의 위치(axis=1) = [2 2]\n"
     ]
    }
   ],
   "source": [
    "# 4. 위치함수 argmin(), argmax()\n",
    "# 배열의 최소/최대값의 위치\n",
    "arr1 = [[1,2,3],[4,5,6]]\n",
    "\n",
    "# a. 전체요소\n",
    "print(f'numpy 배열의 최소값의 위치 = {np.argmin(arr1)}')\n",
    "print(f'numpy 배열의 최대값의 위치 = {np.argmax(arr1)}')\n",
    "\n",
    "# b. 열의 요소\n",
    "print(f'numpy 배열의 최소값의 위치(axis=0) = {np.argmin(arr1, axis=0)}')\n",
    "print(f'numpy 배열의 최대값의 위치(axis=0) = {np.argmax(arr1, axis=0)}')\n",
    "\n",
    "# c. 행의 요소\n",
    "print(f'numpy 배열의 최소값의 위치(axis=1) = {np.argmin(arr1, axis=1)}')\n",
    "print(f'numpy 배열의 최대값의 위치(axis=1) = {np.argmax(arr1, axis=1)}')"
   ]
  },
  {
   "cell_type": "code",
   "execution_count": 206,
   "id": "c5d0fde3-4831-4849-93fe-4221b44ce6d6",
   "metadata": {},
   "outputs": [
    {
     "name": "stdout",
     "output_type": "stream",
     "text": [
      "numpy 배열의 누적합 = [ 1  3  6 10 15 21]\n",
      "numpy 배열의 누적곱 = [  1   2   6  24 120 720]\n",
      "numpy 배열의 누적합(axis=0) = [[1 2 3]\n",
      " [5 7 9]]\n",
      "numpy 배열의 누적곱(axis=0) = [[ 1  2  3]\n",
      " [ 4 10 18]]\n",
      "numpy 배열의 누적합(axis=1) = [[ 1  3  6]\n",
      " [ 4  9 15]]\n",
      "numpy 배열의 누적곱(axis=1) = [[  1   2   6]\n",
      " [  4  20 120]]\n"
     ]
    }
   ],
   "source": [
    "# 5. np.cumsum() : 누적합 / np.cumprod() : 누적곱\n",
    "\n",
    "# a. 전체요소\n",
    "print(f'numpy 배열의 누적합 = {np.cumsum(arr1)}')\n",
    "print(f'numpy 배열의 누적곱 = {np.cumprod(arr1)}')\n",
    "\n",
    "# b. 열의 요소\n",
    "print(f'numpy 배열의 누적합(axis=0) = {np.cumsum(arr1, axis=0)}')\n",
    "print(f'numpy 배열의 누적곱(axis=0) = {np.cumprod(arr1, axis=0)}')\n",
    "\n",
    "# c. 행의 요소\n",
    "print(f'numpy 배열의 누적합(axis=1) = {np.cumsum(arr1, axis=1)}')\n",
    "print(f'numpy 배열의 누적곱(axis=1) = {np.cumprod(arr1, axis=1)}')"
   ]
  },
  {
   "cell_type": "markdown",
   "id": "64c80f35-c418-4f35-9f9a-ba554295998f",
   "metadata": {},
   "source": [
    "#### 4. 기타함수"
   ]
  },
  {
   "cell_type": "code",
   "execution_count": 212,
   "id": "961c8660-37c4-403a-b1dc-0a11480a1ddd",
   "metadata": {},
   "outputs": [
    {
     "name": "stdout",
     "output_type": "stream",
     "text": [
      "numpy 배열의 정렬 = [1 2 3 4 5 6]\n",
      "numpy 배열의 원본 = [5 4 3 1 2 6]\n",
      "\n",
      "numpy 배열의 정렬 = [['1' '2' '3' '4' '5' '6']\n",
      " ['a' 'b' 'c' 'x' 'y' 'z']]\n",
      "numpy 배열의 특정행만 정렬 = ['a' 'b' 'c' 'x' 'y' 'z']\n",
      "numpy 배열의 특정행만 정렬 = ['a' 'b' 'c' 'x' 'y' 'z']\n",
      "numpy 배열의 정렬(axis=0) = [['5' '4' '3' '1' '2' '6']\n",
      " ['x' 'a' 'y' 'b' 'z' 'c']]\n",
      "numpy 배열의 정렬(axis=1) = [['a' 'b' 'c' 'x' 'y' 'z']\n",
      " ['1' '2' '3' '4' '5' '6']]\n"
     ]
    }
   ],
   "source": [
    "# 1. sort()\n",
    "arr = np.array([5,4,3,1,2,6])\n",
    "# np.sort?\n",
    "print(f'numpy 배열의 정렬 = {np.sort(arr)}')\n",
    "print(f'numpy 배열의 원본 = {arr}')\n",
    "print()\n",
    "\n",
    "arr = np.array([[5,4,3,1,2,6],['x','a','y','b','z','c']])\n",
    "# a. 행정렬\n",
    "print(f'numpy 배열의 정렬 = {np.sort(arr)}')\n",
    "\n",
    "# b. 특정행만 정렬\n",
    "print(f'numpy 배열의 특정행만 정렬 = {np.sort(arr[1])}')\n",
    "print(f'numpy 배열의 특정행만 정렬 = {np.sort(arr)[1]}')\n",
    "\n",
    "# c. 열 또는 행정렬\n",
    "arr = np.array([['x','a','y','b','z','c'], [5,4,3,1,2,6]])\n",
    "print(f'numpy 배열의 정렬(axis=0) = {np.sort(arr, axis=0)}')\n",
    "print(f'numpy 배열의 정렬(axis=1) = {np.sort(arr, axis=1)}')"
   ]
  },
  {
   "cell_type": "code",
   "execution_count": 216,
   "id": "3d6d5b9c-65b1-4ca3-81cb-b0dcb2545a22",
   "metadata": {},
   "outputs": [
    {
     "name": "stdout",
     "output_type": "stream",
     "text": [
      "1차원배열 중복제거 = ['김민재' '나얼' '소향' '손흥민' '이강인']\n",
      "1차원배열 원본확인 = ['손흥민' '이강인' '김민재' '소향' '나얼' '이강인' '손흥민']\n",
      "\n",
      "2차원배열 중복제거(전체) = [1 2 3]\n",
      "2차원배열 중복제거(열:axis=0) = [[1 2]\n",
      " [2 3]]\n",
      "2차원배열 중복제거(행:axis=1) = [[1 2]\n",
      " [1 2]\n",
      " [2 3]]\n"
     ]
    }
   ],
   "source": [
    "# 2. unique()\n",
    "students = np.array(['손흥민','이강인','김민재','소향','나얼','이강인', '손흥민'])\n",
    "\n",
    "# 1) 1차원배열 중복제거\n",
    "print(f'1차원배열 중복제거 = {np.unique(students)}')\n",
    "print(f'1차원배열 원본확인 = {students}')\n",
    "print()\n",
    "\n",
    "# 2) 2차원중복제거\n",
    "values = [[1,2],[1,2],[2,3]]\n",
    "print(f'2차원배열 중복제거(전체) = {np.unique(values)}')\n",
    "print(f'2차원배열 중복제거(열:axis=0) = {np.unique(values, axis=0)}')\n",
    "print(f'2차원배열 중복제거(행:axis=1) = {np.unique(values, axis=1)}')"
   ]
  },
  {
   "cell_type": "markdown",
   "id": "a0fe5801-1e94-4604-95f8-66ca22049f1d",
   "metadata": {},
   "source": [
    "#### 5. 파일입출력\n",
    "\n",
    "* np.savetxt()\n",
    "* np.loadtxt() - numpy version 1.24.3이후는 genfromtxt()를 사용"
   ]
  },
  {
   "cell_type": "code",
   "execution_count": 222,
   "id": "caac02b6-f987-4f4b-96c5-2a872ac65646",
   "metadata": {},
   "outputs": [
    {
     "name": "stdout",
     "output_type": "stream",
     "text": [
      "[[1870. 3842. 1392. 1206.]\n",
      " [2038. 2881. 3939. 2484.]\n",
      " [1863. 3790. 1563. 2020.]\n",
      " [1095. 2923. 2757. 3532.]\n",
      " [3278. 3796. 2678. 1540.]\n",
      " [2059. 3572. 2183. 2722.]\n",
      " [2819. 3625. 3729. 3604.]\n",
      " [2597. 3693. 1795. 2051.]\n",
      " [2643. 2363. 2981. 2354.]\n",
      " [2663. 2529. 3038. 2496.]]\n"
     ]
    }
   ],
   "source": [
    "# 1. savetxt(filename, data, fmt, delimiter)\n",
    "numbers = np.zeros([10,4])\n",
    "numbers\n",
    "\n",
    "for i in range(10):\n",
    "    for j in range(4):\n",
    "        numbers[i][j] = np.random.randint(1000, 4000)\n",
    "print(numbers)\n",
    "\n",
    "np.savetxt('./data/np_save.csv', numbers, fmt=\"%2d\", delimiter=',')"
   ]
  },
  {
   "cell_type": "code",
   "execution_count": 223,
   "id": "ee110010-74dd-480f-aaad-b9344fd11293",
   "metadata": {},
   "outputs": [
    {
     "name": "stdout",
     "output_type": "stream",
     "text": [
      "<class 'numpy.ndarray'> \n",
      " [[1870. 3842. 1392. 1206.]\n",
      " [2038. 2881. 3939. 2484.]\n",
      " [1863. 3790. 1563. 2020.]\n",
      " [1095. 2923. 2757. 3532.]\n",
      " [3278. 3796. 2678. 1540.]\n",
      " [2059. 3572. 2183. 2722.]\n",
      " [2819. 3625. 3729. 3604.]\n",
      " [2597. 3693. 1795. 2051.]\n",
      " [2643. 2363. 2981. 2354.]\n",
      " [2663. 2529. 3038. 2496.]]\n"
     ]
    }
   ],
   "source": [
    "# 2. loadtxt()\n",
    "f = np.loadtxt('./data/np_save.csv',  delimiter=',')\n",
    "print(type(f), '\\n', f)"
   ]
  },
  {
   "cell_type": "markdown",
   "id": "b68a0a11-8fb0-43bb-b28a-ad277c63799e",
   "metadata": {},
   "source": [
    "### 데이터분석실습 - 영화평점데이터\n",
    "* https://grouplens.org/datasets/movielens\n",
    "* older datasets중에 `m1-1m.zip`다운 후 `./data/ml-1m`폴더에 압축해제\n",
    "* np.loadtxt()"
   ]
  },
  {
   "cell_type": "code",
   "execution_count": 225,
   "id": "17c173e7-4ba9-40e2-9e11-eb08e57f0a23",
   "metadata": {},
   "outputs": [],
   "source": [
    "# 1. 영화평점데이터로드 : ratings.dat\n",
    "data = np.genfromtxt('./data/ml-1m/ratings.dat', delimiter='::', dtype=np.int64)"
   ]
  },
  {
   "cell_type": "code",
   "execution_count": 231,
   "id": "fc56065a-9c9e-444d-8806-953c8e9cad60",
   "metadata": {},
   "outputs": [
    {
     "name": "stdout",
     "output_type": "stream",
     "text": [
      "ratings.dat의 크기 = (1000209, 4)\n",
      "<class 'numpy.ndarray'>\n",
      "첫 5행 = [[        1      1193         5 978300760]\n",
      " [        1       661         3 978302109]\n",
      " [        1       914         3 978301968]\n",
      " [        1      3408         4 978300275]\n",
      " [        1      2355         5 978824291]]\n",
      "끝 5행 = [[     6040      1091         1 956716541]\n",
      " [     6040      1094         5 956704887]\n",
      " [     6040       562         5 956704746]\n",
      " [     6040      1096         4 956715648]\n",
      " [     6040      1097         4 956715569]]\n"
     ]
    }
   ],
   "source": [
    "# 5행만 읽어오기\n",
    "print(f'ratings.dat의 크기 = {data.shape}')\n",
    "print(type(data))\n",
    "\n",
    "print(f'첫 5행 = {data[:5]}')\n",
    "print(f'끝 5행 = {data[-5:]}')"
   ]
  },
  {
   "cell_type": "code",
   "execution_count": 247,
   "id": "e44a1ffc-8c6c-4097-8a51-2c0cdecd1416",
   "metadata": {},
   "outputs": [
    {
     "name": "stdout",
     "output_type": "stream",
     "text": [
      "영화전제평점의 평균 = 3.581564453029317\n",
      "전체사용자의 건수 = (6040,)\n",
      "1000번사용자의 평점건수 = (84, 4)\n",
      "1000번사용자의 평점의 평균 = 4.130952380952381\n"
     ]
    },
    {
     "data": {
      "text/plain": [
       "[[1000, 4.130952380952381]]"
      ]
     },
     "execution_count": 247,
     "metadata": {},
     "output_type": "execute_result"
    }
   ],
   "source": [
    "# 실습\n",
    "# 1. 전체평점의 평균(mean)은?\n",
    "mean_ratings_total = data[:,2].mean()\n",
    "print(f'영화전제평점의 평균 = {mean_ratings_total}')\n",
    "\n",
    "# 2. 사용자ID만 추출(중복제거) - 사용자건수?\n",
    "user_ids = np.unique(data[:,0])\n",
    "print(f'전체사용자의 건수 = {user_ids.shape}')\n",
    "\n",
    "# 3. userid = 1000인 사용자의 데이터만 추출\n",
    "data_for_user = data[ data[:,0]==1000]\n",
    "print(f'1000번사용자의 평점건수 = {data_for_user.shape}')\n",
    "\n",
    "# 4. 1000인 사용자의 전체평점의 평균?\n",
    "mean_for_user = data_for_user[:,2].mean()\n",
    "print(f'1000번사용자의 평점의 평균 = {mean_for_user}')\n",
    "\n",
    "mean_values = []\n",
    "mean_values.append([1000, mean_for_user])\n",
    "mean_values"
   ]
  },
  {
   "cell_type": "code",
   "execution_count": null,
   "id": "2f5a1019-76de-410b-a7c0-d46238e39ad2",
   "metadata": {},
   "outputs": [],
   "source": [
    "# 5. 사용자별 평점평균구하기(list저장)\n",
    "mean_values = []\n",
    "\n",
    "for user_id in user_ids:\n",
    "    # 1. 사용자별데이터\n",
    "    # if user_id == 1000:\n",
    "    #     print(data_for_user)\n",
    "    #     break\n",
    "    data_for_user = data[ data[:,0]==user_id]\n",
    "\n",
    "    # 2. 사용자별 전체평균\n",
    "    mean_for_user = data_for_user[:,2].mean()\n",
    "    # print(mean_for_user)\n",
    "    # break\n",
    "    \n",
    "    # 3. 사용자별평균을 mean_values[user_id, 평균]에 추가\n",
    "    mean_values.append([user_id, mean_for_user])\n",
    "    # if user_id == 3:\n",
    "    #     print(mean_values)\n",
    "    #     break"
   ]
  },
  {
   "cell_type": "code",
   "execution_count": 266,
   "id": "485f0377-d456-4d92-80c1-ee7d6a233e89",
   "metadata": {},
   "outputs": [
    {
     "name": "stdout",
     "output_type": "stream",
     "text": [
      "[[1, 4.188679245283019], [2, 3.7131782945736433], [3, 3.9019607843137254], [4, 4.190476190476191], [5, 3.1464646464646466]]\n",
      "[[6036, 3.3029279279279278], [6037, 3.717821782178218], [6038, 3.8], [6039, 3.8780487804878048], [6040, 3.5777126099706744]]\n"
     ]
    }
   ],
   "source": [
    "print(mean_values[:5])\n",
    "print(mean_values[-5:])"
   ]
  },
  {
   "cell_type": "code",
   "execution_count": 273,
   "id": "9e73c58a-dd72-4cd7-a8b8-218d3a9fa1a1",
   "metadata": {},
   "outputs": [
    {
     "name": "stdout",
     "output_type": "stream",
     "text": [
      "전체처리결과건수 = (6040, 2)\n",
      "<class 'numpy.ndarray'> [[1.0000000e+00 4.1886792e+00]\n",
      " [2.0000000e+00 3.7131784e+00]\n",
      " [3.0000000e+00 3.9019608e+00]\n",
      " ...\n",
      " [6.0380000e+03 3.8000000e+00]\n",
      " [6.0390000e+03 3.8780489e+00]\n",
      " [6.0400000e+03 3.5777125e+00]]\n"
     ]
    },
    {
     "data": {
      "text/plain": [
       "(array([[1.       , 4.188679 ],\n",
       "        [2.       , 3.7131784],\n",
       "        [3.       , 3.9019608],\n",
       "        [4.       , 4.1904764],\n",
       "        [5.       , 3.1464646]], dtype=float32),\n",
       " array([[6.0360000e+03, 3.3029280e+00],\n",
       "        [6.0370000e+03, 3.7178218e+00],\n",
       "        [6.0380000e+03, 3.8000000e+00],\n",
       "        [6.0390000e+03, 3.8780489e+00],\n",
       "        [6.0400000e+03, 3.5777125e+00]], dtype=float32))"
      ]
     },
     "execution_count": 273,
     "metadata": {},
     "output_type": "execute_result"
    }
   ],
   "source": [
    "# 6. list자료형을 ndarray로 변환\n",
    "mean_array = np.array(mean_values, dtype=np.float32)\n",
    "print(f'전체처리결과건수 = {mean_array.shape}')\n",
    "print(type(mean_array), mean_array)\n",
    "mean_array[:5], mean_array[-5:]"
   ]
  },
  {
   "cell_type": "code",
   "execution_count": 274,
   "id": "d8cd0f3c-62c8-438d-8fe2-2536809f8d6b",
   "metadata": {},
   "outputs": [],
   "source": [
    "# 7. 처리결과를 csv로 저장 : ./data/ml-1m/user_ratings_mean.csv\n",
    "np.savetxt('./data/ml-1m/user_ratings_mean.csv'\n",
    "          , mean_array\n",
    "          , fmt = '%.2f'\n",
    "          , delimiter=',')"
   ]
  },
  {
   "cell_type": "code",
   "execution_count": null,
   "id": "d05635ee-f121-412a-9994-b001bba187f1",
   "metadata": {},
   "outputs": [],
   "source": []
  }
 ],
 "metadata": {
  "kernelspec": {
   "display_name": "Python 3 (ipykernel)",
   "language": "python",
   "name": "python3"
  },
  "language_info": {
   "codemirror_mode": {
    "name": "ipython",
    "version": 3
   },
   "file_extension": ".py",
   "mimetype": "text/x-python",
   "name": "python",
   "nbconvert_exporter": "python",
   "pygments_lexer": "ipython3",
   "version": "3.11.7"
  }
 },
 "nbformat": 4,
 "nbformat_minor": 5
}
