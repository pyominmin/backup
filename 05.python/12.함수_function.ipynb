{
 "cells": [
  {
   "cell_type": "markdown",
   "id": "b5ce0a8c-71c9-421d-b0cf-590cdd8d1317",
   "metadata": {},
   "source": [
    "# 함수(function)\n",
    "\n",
    "* 함수란? 반복적인 코드를 함수로 선언하고 필요시 재사용을 할 수 있도록 한다.\n",
    "* 파이썬은 내장함수(input, print)와 사용자정의함수가 있다.\n",
    "\n",
    "##### 1. 함수선언하기\n",
    "* 파이썬에서 함수는 `def`라는 예약어로 정의한다.\n",
    "```python\n",
    "def 함수명(arg1,...argn):\n",
    "    pass\n",
    "```\n",
    "##### 2. 함수호출 및 매개변수 전달방법\n",
    "><img src=\"./images/12.함수_function_01.png\" width=\"300\" height=\"150\" />\n",
    "><img src=\"./images/12.함수_function_02.png\" width=\"300\" height=\"150\" />\n",
    "\n",
    "##### 3. 반환값이 있는 함수(return)\n",
    "><img src=\"./images/12.함수_function_02_01.png\" width=\"300\" height=\"150\" />"
   ]
  },
  {
   "cell_type": "code",
   "execution_count": 5,
   "id": "ec8ccc7e-15c3-4223-b34b-9bac74683f60",
   "metadata": {},
   "outputs": [
    {
     "name": "stdout",
     "output_type": "stream",
     "text": [
      "Hello Python!!\n",
      "Variable   Type        Data/Info\n",
      "--------------------------------\n",
      "hello      function    <function hello at 0x0000021A69889DA0>\n",
      "<class 'function'>\n",
      "\n",
      "['__annotations__', '__builtins__', '__call__', '__class__', '__closure__', '__code__', '__defaults__', '__delattr__', '__dict__', '__dir__', '__doc__', '__eq__', '__format__', '__ge__', '__get__', '__getattribute__', '__getstate__', '__globals__', '__gt__', '__hash__', '__init__', '__init_subclass__', '__kwdefaults__', '__le__', '__lt__', '__module__', '__name__', '__ne__', '__new__', '__qualname__', '__reduce__', '__reduce_ex__', '__repr__', '__setattr__', '__sizeof__', '__str__', '__subclasshook__']\n"
     ]
    }
   ],
   "source": [
    "# 1. 함수선언하기\n",
    "# Hello World라는 문자열을 출력하는 함수 만들기\n",
    "def hello():\n",
    "    print('Hello Python!!')\n",
    "\n",
    "hello() # 함수호출하기\n",
    "\n",
    "%whos\n",
    "print(type(hello))\n",
    "print()\n",
    "\n",
    "print(dir(hello))"
   ]
  },
  {
   "cell_type": "code",
   "execution_count": 14,
   "id": "ce8ffc9a-07b3-41e4-b6dc-546e1bdaabaf",
   "metadata": {},
   "outputs": [
    {
     "name": "stdout",
     "output_type": "stream",
     "text": [
      "10 + 20 = 30\n",
      "10 + 20 = 30\n",
      "None\n",
      "\n",
      "10 + 10 = 20\n",
      "\n",
      "안녕하세요?\n",
      "소향님 환영합니다!!\n"
     ]
    }
   ],
   "source": [
    "# 2. 함수사용하기\n",
    "# 1) 반환값이 없는 경우\n",
    "def add(a, b):\n",
    "    print(f'{a} + {b} = {a+b}')\n",
    "add(10,20)\n",
    "result = add(10,20)\n",
    "print(result)\n",
    "print()\n",
    "\n",
    "# 2) 반환값이 있는 경우\n",
    "def add_return(a,b):\n",
    "    return a+b\n",
    "\n",
    "x = y = 10\n",
    "result = add_return(x, y)\n",
    "print(f'{x} + {y} = {result}')\n",
    "print()\n",
    "\n",
    "# 3) 전달값(매개값)이 없는 경우\n",
    "def say():\n",
    "    print('안녕하세요?')\n",
    "say()\n",
    "\n",
    "# 4) 전달값(매개값)이 있는 경우\n",
    "def say_hello(name):\n",
    "    print(f'{name}님 환영합니다!!')\n",
    "say_hello('소향')\n",
    "# say_hello() #TypeError: say_hello() missing 1 required positional argument: 'name'"
   ]
  },
  {
   "cell_type": "code",
   "execution_count": 28,
   "id": "d2ff2f7a-a814-43f3-950f-ed85e612185b",
   "metadata": {},
   "outputs": [
    {
     "name": "stdout",
     "output_type": "stream",
     "text": [
      "20 - 10 = 10\n",
      "\n",
      "200 - 100 = 100\n",
      "매개변수에 기본값을 설정한 함수 호출결과 = 80\n",
      "\n",
      "매개변수에 기본값을 설정한 함수 호출결과 = 80\n",
      "매개변수에 기본값을 설정한 함수 호출결과 = 100\n",
      "매개변수의 이름으로 호출결과(1) = -400\n",
      "매개변수의 이름으로 호출결과(2) = -400\n",
      "매개변수의 이름으로 호출결과(3) = 100\n"
     ]
    }
   ],
   "source": [
    "# 매개변수에 이름을 부여할 수 있고 매개값을 전달하지 않을 경우 기본값을 정의할 수 있다.\n",
    "# 장점 : 매개변수의 순서와 상관없이 자유롭게 호출이 가능\n",
    "def sub(a, b):\n",
    "    return a-b\n",
    "\n",
    "x, y = 20, 10\n",
    "result = sub(x, y)\n",
    "print(f'{x} - {y} = {result}')\n",
    "print()\n",
    "\n",
    "# result = sub() 에러\n",
    "# 1) 매개값에 기본값을 설정하는 경우\n",
    "def sub_name(a=100, b=20):\n",
    "    return a-b\n",
    "    \n",
    "x, y = 200, 100    \n",
    "result = sub_name(x, y)\n",
    "print(f'{x} - {y} = {result}')\n",
    "result = sub_name()\n",
    "print(f'매개변수에 기본값을 설정한 함수 호출결과 = {result}')\n",
    "print()\n",
    "\n",
    "# 2) 매개변수에 이름을 지정해서 호출하기\n",
    "print(f'매개변수에 기본값을 설정한 함수 호출결과 = {sub_name()}')\n",
    "print(f'매개변수에 기본값을 설정한 함수 호출결과 = {sub_name(x, y)}')\n",
    "print(f'매개변수의 이름으로 호출결과(1) = {sub_name(a=100, b=500)}')\n",
    "print(f'매개변수의 이름으로 호출결과(2) = {sub_name(b=500, a=100)}')\n",
    "print(f'매개변수의 이름으로 호출결과(3) = {sub_name(b=y, a=x)}')\n",
    "\n",
    "# 매개변수이름을 사용할 경우 매개변수이름과 매칭되지 않을 경우에는 에러가 발생\n",
    "# TypeError: sub_name() got an unexpected keyword argument 'bbb'\n",
    "# print(f'매개변수의 이름으로 호출결과(4) = {sub_name(bbb=y, a=x)}')"
   ]
  },
  {
   "cell_type": "code",
   "execution_count": 38,
   "id": "3ec6c992-c550-4734-a3b4-8223d1fb7338",
   "metadata": {},
   "outputs": [
    {
     "name": "stdout",
     "output_type": "stream",
     "text": [
      "Prints the values to a stream, or to sys.stdout by default.\n",
      "\n",
      "  sep\n",
      "    string inserted between values, default a space.\n",
      "  end\n",
      "    string appended after the last value, default a newline.\n",
      "  file\n",
      "    a file-like object (stream); defaults to the current sys.stdout.\n",
      "  flush\n",
      "    whether to forcibly flush the stream.\n",
      "['__annotations__', '__builtins__', '__call__', '__class__', '__closure__', '__code__', '__defaults__', '__delattr__', '__dict__', '__dir__', '__doc__', '__eq__', '__format__', '__ge__', '__get__', '__getattribute__', '__getstate__', '__globals__', '__gt__', '__hash__', '__init__', '__init_subclass__', '__kwdefaults__', '__le__', '__lt__', '__module__', '__name__', '__ne__', '__new__', '__qualname__', '__reduce__', '__reduce_ex__', '__repr__', '__setattr__', '__sizeof__', '__str__', '__subclasshook__']\n",
      "\n",
      "None\n"
     ]
    }
   ],
   "source": [
    "# print?\n",
    "# print(dir(print))\n",
    "# print.__doc__\n",
    "print(print.__doc__)\n",
    "print(dir(sub_name))\n",
    "print()\n",
    "\n",
    "print(sub_name.__doc__)"
   ]
  },
  {
   "cell_type": "markdown",
   "id": "e8bfc56e-d9d1-457d-ac65-a9726b2b19de",
   "metadata": {},
   "source": [
    "##### 4. docstring\n",
    "\n",
    "* 파이썬에서 함수를 정의할 때 함수명바로 뒤에 나오는 콜론의 `다음줄에 큰 따옴표3개의 문자열`로 정의된 문자열이다.\n",
    "* docstring을 이용하면 사용자함수에 주석(설명)을 정의할 수 있다.\n",
    "* 이런 방식의 문자열을 파이썬에서는 `DocString, Documentation String, 문서화문자열`이라고 한다.\n",
    "* docstring은 함수의 맨 첫줄에 정의가 되어야 한다. 아니면 주석(comment)로 인식이 된다.\n",
    "* docstring위에는 다른 코드를 정의할 수 없다.\n",
    "* docstring은 작은/큰 따옴표로 정의할 수 있지만 `PEP8, 파이썬코딩스타일가이드`에서는 큰 따옴로 작성하는 것을 권고한다.\n",
    "* docstring은 함수의 사용방법 즉, 설명만 정의할 뿐이고 함수를 호출해도 출력되지 않는다.\n",
    "* docstring을 출력하려면 `함수명.__doc__`와 같이 은닉화된 doc변수의 값이 출력된다.\n",
    "* 또는, help(), ?함수명을 사용하면 도움말형태로 출력이 된다."
   ]
  },
  {
   "cell_type": "code",
   "execution_count": 44,
   "id": "19067a46-2282-46e6-84e4-ee79fc45ae41",
   "metadata": {},
   "outputs": [
    {
     "data": {
      "text/plain": [
       "\u001b[1;31mSignature:\u001b[0m \u001b[0madd_docstring\u001b[0m\u001b[1;33m(\u001b[0m\u001b[0mnum1\u001b[0m\u001b[1;33m,\u001b[0m \u001b[0mnum2\u001b[0m\u001b[1;33m)\u001b[0m\u001b[1;33m\u001b[0m\u001b[1;33m\u001b[0m\u001b[0m\n",
       "\u001b[1;31mDocstring:\u001b[0m\n",
       "이 함수는 2개의 변수를 전달 받아서\n",
       "그 값의 합을 전달해주는 함수입니다!\n",
       "호출방법은\n",
       "\n",
       "a, b = 10\n",
       "result = add_docstring(a, b)\n",
       "print(result)\n",
       "\u001b[1;31mFile:\u001b[0m      c:\\users\\ezen\\appdata\\local\\temp\\ipykernel_7124\\4060458211.py\n",
       "\u001b[1;31mType:\u001b[0m      function"
      ]
     },
     "metadata": {},
     "output_type": "display_data"
    }
   ],
   "source": [
    "# 1. docstring 정의하기\n",
    "def add_docstring(num1, num2):\n",
    "    # num1 += 100\n",
    "    \"\"\"\n",
    "        이 함수는 2개의 변수를 전달 받아서\n",
    "        그 값의 합을 전달해주는 함수입니다!\n",
    "        호출방법은\n",
    "\n",
    "        a, b = 10\n",
    "        result = add_docstring(a, b)\n",
    "        print(result)\n",
    "    \"\"\"    \n",
    "    return a + b;\n",
    "    \n",
    "?add_docstring"
   ]
  },
  {
   "cell_type": "code",
   "execution_count": 50,
   "id": "8a5554aa-0514-4a44-962b-e9f1b0f28baa",
   "metadata": {},
   "outputs": [
    {
     "name": "stdout",
     "output_type": "stream",
     "text": [
      "\n",
      "        이 함수는 2개의 변수를 전달 받아서\n",
      "        그 값의 합을 전달해주는 함수입니다!\n",
      "        호출방법은\n",
      "\n",
      "        a, b = 10\n",
      "        result = add_docstring(a, b)\n",
      "        print(result)\n",
      "    \n",
      "['__annotations__', '__builtins__', '__call__', '__class__', '__closure__', '__code__', '__defaults__', '__delattr__', '__dict__', '__dir__', '__doc__', '__eq__', '__format__', '__ge__', '__get__', '__getattribute__', '__getstate__', '__globals__', '__gt__', '__hash__', '__init__', '__init_subclass__', '__kwdefaults__', '__le__', '__lt__', '__module__', '__name__', '__ne__', '__new__', '__qualname__', '__reduce__', '__reduce_ex__', '__repr__', '__setattr__', '__sizeof__', '__str__', '__subclasshook__']\n",
      "\n",
      "<class 'str'>\n",
      "<class 'builtin_function_or_method'>\n"
     ]
    }
   ],
   "source": [
    "print(add_docstring.__doc__)\n",
    "print(dir(add_docstring))\n",
    "print()\n",
    "\n",
    "print(type(add_docstring.__doc__))\n",
    "print(type(add_docstring.__dir__))"
   ]
  },
  {
   "cell_type": "code",
   "execution_count": 52,
   "id": "0d0f5608-f6f2-40fa-a95a-60d487e6a7ad",
   "metadata": {},
   "outputs": [
    {
     "name": "stdout",
     "output_type": "stream",
     "text": [
      "\n",
      "        이 함수는 2개의 변수를 전달 받아서\n",
      "        그 값의 합을 전달해주는 함수입니다!\n",
      "        호출방법은\n",
      "\n",
      "        a, b = 10\n",
      "        result = add_docstring(a, b)\n",
      "        print(result)\n",
      "    \n",
      "['__new__', '__repr__', '__call__', '__get__', '__closure__', '__doc__', '__globals__', '__module__', '__builtins__', '__code__', '__defaults__', '__kwdefaults__', '__annotations__', '__dict__', '__name__', '__qualname__', '__hash__', '__str__', '__getattribute__', '__setattr__', '__delattr__', '__lt__', '__le__', '__eq__', '__ne__', '__gt__', '__ge__', '__init__', '__reduce_ex__', '__reduce__', '__getstate__', '__subclasshook__', '__init_subclass__', '__format__', '__sizeof__', '__dir__', '__class__']\n",
      "<built-in method __new__ of type object at 0x00007FFFE6B63D80>\n"
     ]
    }
   ],
   "source": [
    "print(add_docstring.__doc__)\n",
    "print(add_docstring.__dir__()) # dir(add_docstring)와 동일하다.\n",
    "\n",
    "print(add_docstring.__new__) # new Class() 즉, 생성자"
   ]
  },
  {
   "cell_type": "code",
   "execution_count": 56,
   "id": "40498b88-ec3c-4e97-9ec2-7ebb5d56082f",
   "metadata": {},
   "outputs": [
    {
     "data": {
      "text/plain": [
       "\u001b[1;31mType:\u001b[0m        str\n",
       "\u001b[1;31mString form:\u001b[0m\n",
       "        이 함수는 2개의 변수를 전달 받아서\n",
       "        그 값의 합을 전달해주는 함수입니다!\n",
       "        호출방법은\n",
       "\n",
       "        a, b = 10\n",
       "        result = add_docstring(a, b)\n",
       "        print(result)\n",
       "    \n",
       "\u001b[1;31mLength:\u001b[0m      155\n",
       "\u001b[1;31mDocstring:\u001b[0m  \n",
       "str(object='') -> str\n",
       "str(bytes_or_buffer[, encoding[, errors]]) -> str\n",
       "\n",
       "Create a new string object from the given object. If encoding or\n",
       "errors is specified, then the object must expose a data buffer\n",
       "that will be decoded using the given encoding and error handler.\n",
       "Otherwise, returns the result of object.__str__() (if defined)\n",
       "or repr(object).\n",
       "encoding defaults to sys.getdefaultencoding().\n",
       "errors defaults to 'strict'."
      ]
     },
     "metadata": {},
     "output_type": "display_data"
    }
   ],
   "source": [
    "add_docstring.__doc__?"
   ]
  },
  {
   "cell_type": "markdown",
   "id": "bcf950fe-a70f-48e1-988c-28e0f7d00c71",
   "metadata": {},
   "source": [
    "##### 5. 파이썬의 함수는 여러개의 값을 전달할 수 있다."
   ]
  },
  {
   "cell_type": "code",
   "execution_count": 68,
   "id": "c35aaae3-ad9d-4813-835b-011f973eaedf",
   "metadata": {},
   "outputs": [
    {
     "name": "stdout",
     "output_type": "stream",
     "text": [
      "<class 'tuple'> (30, 10, 200, 2.0)\n",
      "\n",
      "<class 'int'> 30\n",
      "<class 'int'> 10\n",
      "<class 'int'> 200\n",
      "<class 'float'> 2.0\n",
      "\n",
      "<class 'float'> 2.0\n",
      "<class 'int'> 10\n",
      "<class 'int'> 200\n"
     ]
    }
   ],
   "source": [
    "# 1. 함수에서 여러개의 값을 동시에 전달하기\n",
    "def multi_return(a, b):\n",
    "    return a+b, a-b, a*b, a/b\n",
    "\n",
    "result = multi_return(20,10)\n",
    "print(type(result), result)\n",
    "print()\n",
    "\n",
    "# unpacking하기\n",
    "# 1) 변수갯수와 리턴갯수가 동수일 경우\n",
    "a, b, c, d = multi_return(20,10)\n",
    "print(type(a), a)\n",
    "print(type(b), b)\n",
    "print(type(c), c)\n",
    "print(type(d), d)\n",
    "print()\n",
    "\n",
    "# 2) 변수갯수와 리턴갯수가 다를 경우\n",
    "# a, b, c = multi_return(20,10)  ValueError: too many values to unpack (expected 3)\n",
    "# a, b, c, d, e = multi_return(20,10) # ValueError: not enough values to unpack (expected 5, got 4)\n",
    "a, b, c, a =  multi_return(20,10)\n",
    "print(type(a), a)\n",
    "print(type(b), b)\n",
    "print(type(c), c)"
   ]
  },
  {
   "cell_type": "markdown",
   "id": "719f0e54-0e83-4e36-a39a-d8550d92cd62",
   "metadata": {},
   "source": [
    "##### 6. 전달되는 매개변수의 갯수가 유동적일 경우\n",
    "```python\n",
    "def 함수명(*args):\n",
    "    pass\n",
    "\n",
    "def 함수명(**kwargs):\n",
    "    pass\n",
    "```\n",
    "\n",
    "* `*args의 데이터타입은 tuple`\n",
    "* 예약어가 아닌 변수로 처리되기 때문에 `*임의변수명`으로 정의\n",
    "* `**kwargs의 데이터타입은 dict`이다.\n",
    "* kwargs는 keyword arguments의 약어이다.\n",
    "* kwargs는 별표(**)로 정의한다. 이 의미는 `key와 value의 한쌍`으로 전달된다."
   ]
  },
  {
   "cell_type": "code",
   "execution_count": 81,
   "id": "509c3ea3-adac-4a98-a1c7-3ce77f52dd53",
   "metadata": {},
   "outputs": [
    {
     "name": "stdout",
     "output_type": "stream",
     "text": [
      "<class 'tuple'> 1 (1,)\n",
      "<class 'tuple'> 10 (1, 2, 3, 4, 5, 6, 7, 8, 9, 10)\n",
      "<class 'dict'> 3 {'name': '소향', 'age': 10, 'ardd': '서울'}\n"
     ]
    }
   ],
   "source": [
    "# *args와 **kwargs의 기본개념\n",
    "def 함수A(*x):\n",
    "    print(type(x), len(x), x)\n",
    "\n",
    "함수A(1)          \n",
    "함수A(1,2,3,4,5,6,7,8,9,10)    \n",
    "\n",
    "def 함수B(**x):\n",
    "    print(type(x), len(x), x)\n",
    "\n",
    "함수B(name='소향', age=10, ardd=\"서울\")"
   ]
  },
  {
   "cell_type": "code",
   "execution_count": 88,
   "id": "ccdd7d54-b4b7-4587-a453-fbce98afb70c",
   "metadata": {},
   "outputs": [
    {
     "name": "stdout",
     "output_type": "stream",
     "text": [
      "55\n",
      "1~5까지의 합 = 15\n",
      "1~10까지의 합 = 55\n"
     ]
    }
   ],
   "source": [
    "# 1. *args : 전달되는 값이 여러개일 경우 정의하는 매개변수이다.\n",
    "# 1~10, 1~100...의 합을 구할 때처럼 매개변수의 갯수가 가변적일 떄 사용한다.\n",
    "def my_sum(*args):\n",
    "    tot = 0\n",
    "    for i in args:\n",
    "        tot += i\n",
    "    return tot\n",
    "\n",
    "result = my_sum(1,2,3,4,5,6,7,8,9,10)\n",
    "print(f'{result}')\n",
    "print(f'1~5까지의 합 = {my_sum(1,2,3,4,5)}')\n",
    "print(f'1~10까지의 합 = {my_sum(1,2,3,4,5,6,7,8,9,10)}')"
   ]
  },
  {
   "cell_type": "code",
   "execution_count": 95,
   "id": "fd1608e6-baee-4f14-85ff-0786f5b6e2ac",
   "metadata": {},
   "outputs": [
    {
     "name": "stdout",
     "output_type": "stream",
     "text": [
      "55\n",
      "-28\n",
      "0\n",
      "0.0\n",
      "4칙연산자가 아닙니다!!\n"
     ]
    }
   ],
   "source": [
    "# 실습. 가변적으로 작동되는 계산기 함수 만들기\n",
    "# 사칙연산을 하는 함수 calculator(op, *args)\n",
    "# op가 +이면 더하기 연산을... /면 나누기연산결과를 리턴하는 계산기 만들기\n",
    "def calculator(op, *args):\n",
    "    result = 0\n",
    "    \n",
    "    if op=='+':\n",
    "        for i in args:\n",
    "            result += i\n",
    "    elif op=='-':\n",
    "        for i in args:\n",
    "            result -= i        \n",
    "    elif op=='*':\n",
    "        for i in args:\n",
    "            result *= i  \n",
    "    elif op=='/':\n",
    "        for i in args:\n",
    "            result /= i  \n",
    "    else:\n",
    "        result = '4칙연산자가 아닙니다!!'\n",
    "        \n",
    "    return result\n",
    "\n",
    "print(calculator('+', 1,2,3,4,5,6,7,8,9,10))\n",
    "print(calculator('-', 1,2,3,4,5,6,7,))\n",
    "print(calculator('*', 1,2,3))\n",
    "print(calculator('/', 1,2,3,4,5,))\n",
    "print(calculator('%', 9,10))"
   ]
  },
  {
   "cell_type": "code",
   "execution_count": 100,
   "id": "e1e0a846-2c0a-4334-ba9b-479f4ed1ea97",
   "metadata": {},
   "outputs": [
    {
     "name": "stdout",
     "output_type": "stream",
     "text": [
      "<class 'dict'> {'a': 1}\n",
      "<class 'dict'> {'a': 1, 'b': 2}\n",
      "<class 'dict'> {'name': '소향', 'age': 43}\n"
     ]
    }
   ],
   "source": [
    "# 2. *kwargs \n",
    "def kw_func(**kwargs):\n",
    "    print(type(kwargs), kwargs)\n",
    "\n",
    "kw_func(a=1)\n",
    "kw_func(a=1, b=2)\n",
    "kw_func(name='소향', age=43)\n",
    "# kw_func(1) # TypeError: kw_func() takes 0 positional arguments but 1 was given"
   ]
  },
  {
   "cell_type": "code",
   "execution_count": 119,
   "id": "bdf8fefc-83a0-4e56-884d-ba1e24a0816b",
   "metadata": {},
   "outputs": [
    {
     "ename": "SyntaxError",
     "evalue": "arguments cannot follow var-keyword argument (696028998.py, line 15)",
     "output_type": "error",
     "traceback": [
      "\u001b[1;36m  Cell \u001b[1;32mIn[119], line 15\u001b[1;36m\u001b[0m\n\u001b[1;33m    def mix_finc2(**kwargs, *args):\u001b[0m\n\u001b[1;37m                            ^\u001b[0m\n\u001b[1;31mSyntaxError\u001b[0m\u001b[1;31m:\u001b[0m arguments cannot follow var-keyword argument\n"
     ]
    }
   ],
   "source": [
    "# 3. *args, **kwargs를 같이 사용할 경우\n",
    "# 값만 있는 경우(*args)와 **kwargs로 전달하는 경우에는 정의된 순서에 맞게 전달해야 한다.\n",
    "def mix_finc(*args, **kwargs):\n",
    "    print(args, kwargs)\n",
    "\n",
    "mix_finc(1, name=\"소향\")\n",
    "mix_finc(1,2,3,4,5,6,7,8,9,10, name=\"소향\", age=43, addr=\"송도\")\n",
    "\n",
    "# 에러인 경우\n",
    "# mix_finc(1,2,3,4,5, name=\"소향\", 6,7,8,9,10, age=43, addr=\"송도\")\n",
    "# mix_finc(name=\"소향\", age=43, addr=\"송도\", 1,2,3,4,5,6,7,8,9,10)\n",
    "\n",
    "# args와 kwargs를 동시에 정의할 경우, *args를 먼저 정의한 후에 **kwargs를 정의해야 한다.\n",
    "# SyntaxError: arguments cannot follow var-keyword argument\n",
    "def mix_finc2(**kwargs, *args):\n",
    "    print(args, kwargs)"
   ]
  },
  {
   "cell_type": "markdown",
   "id": "9fff5158-077d-4f8f-afe8-db3237e2412c",
   "metadata": {},
   "source": [
    "##### 7. 이름으로 매개변수를 정의하기"
   ]
  },
  {
   "cell_type": "code",
   "execution_count": 125,
   "id": "efcb0241-dfd5-4c3d-a0e0-27e1fea2879f",
   "metadata": {},
   "outputs": [
    {
     "name": "stdout",
     "output_type": "stream",
     "text": [
      "이름=소향, 나이=45, 주소=송도\n",
      "\n",
      "이름=소향, 나이=45, 주소=송도\n"
     ]
    }
   ],
   "source": [
    "# 개인정보를 출력하기\n",
    "def personal_intro(name, age, addr):\n",
    "    print(f'이름={name}, 나이={age+1}, 주소={addr}')\n",
    "\n",
    "personal_intro('소향', 44, '송도')\n",
    "# personal_intro(44, '소향', '송도')\n",
    "print()\n",
    "\n",
    "personal_intro(age=44, addr='송도', name='소향')"
   ]
  },
  {
   "cell_type": "markdown",
   "id": "0061e0de-1c57-49f4-8633-5979aa6eefc9",
   "metadata": {},
   "source": [
    "##### 8. dictionary의 unpacking\n",
    "\n",
    "><img src='./images/12.함수_function_04.png' width=\"300\" height=\"200\" />\n",
    "\n",
    "* unpacking할 경우에는 변수의 갯수와 값의 갯수가 동수이어야 한다."
   ]
  },
  {
   "cell_type": "code",
   "execution_count": 135,
   "id": "19a81728-c416-48e4-9605-d2eb358df181",
   "metadata": {},
   "outputs": [
    {
     "name": "stdout",
     "output_type": "stream",
     "text": [
      "이름={'name': '소향', 'age': 45, 'addr': '송도'}, 나이={'name': '소향', 'age': 45, 'addr': '송도'}, 주소={'name': '소향', 'age': 45, 'addr': '송도'}\n",
      "이름=name, 나이=xxx, 주소=addr\n",
      "이름=소향, 나이=45, 주소=송도\n",
      "이름=소향, 나이=45, 주소=송도\n"
     ]
    }
   ],
   "source": [
    "def personal_intro(name, age, addr):\n",
    "    print(f'이름={name}, 나이={age}, 주소={addr}')\n",
    "\n",
    "x = {'name':'소향', 'age':45, 'addr':'송도'}\n",
    "personal_intro(x,x,x)\n",
    "x = {'name':'소향', 'xxx':45, 'addr':'송도'}\n",
    "personal_intro(*x) # tuple에서 dict로 형변환, 즉, key만 전달된다.\n",
    "\n",
    "x = {'name':'소향', 'age':45, 'addr':'송도'}\n",
    "personal_intro(**x) # unpacking\n",
    "\n",
    "y = {'age':45, 'addr':'송도', 'name':'소향'}\n",
    "personal_intro(**y)"
   ]
  },
  {
   "cell_type": "code",
   "execution_count": 138,
   "id": "274a1dc6-81c9-46cb-a67c-1076ee21b064",
   "metadata": {},
   "outputs": [
    {
     "name": "stdout",
     "output_type": "stream",
     "text": [
      "(30, 10, 200, 2.0)\n",
      "30\n"
     ]
    }
   ],
   "source": [
    "# return문이 여러개 있을 경우\n",
    "def cal1(a, b):\n",
    "    return a+b, a-b, a*b, a/b\n",
    "\n",
    "print(cal1(20,10))\n",
    "\n",
    "def cal2(a, b):\n",
    "    return a+b\n",
    "    return a-b\n",
    "    return a*b\n",
    "    return a/b\n",
    "    \n",
    "print(cal2(20,10))"
   ]
  },
  {
   "cell_type": "markdown",
   "id": "a8e71e59-1816-4934-9cfe-3bcee6758ffb",
   "metadata": {},
   "source": [
    "##### 9. 매개변수에 초기값을 설정하기"
   ]
  },
  {
   "cell_type": "code",
   "execution_count": 142,
   "id": "796916c5-f216-478f-ad2c-8f578a4ee125",
   "metadata": {},
   "outputs": [
    {
     "name": "stdout",
     "output_type": "stream",
     "text": [
      "이름은 소향이고 나이는 45살 입니다!! 여자입니다\n",
      "이름은 소향이고 나이는 45살 입니다!! 여자입니다\n",
      "이름은 나얼이고 나이는 47살 입니다!! 남자입니다\n"
     ]
    }
   ],
   "source": [
    "# 1. 매개변수에 초기값 설정\n",
    "def selfIntro(name, age, gender):\n",
    "    print(f'이름은 {name}이고 나이는 {age}살 입니다!!', end=' ')\n",
    "    if gender:\n",
    "        print('남자입니다')\n",
    "    else:\n",
    "        print('여자입니다')\n",
    "        \n",
    "selfIntro('소향', 45, False) \n",
    "# selfIntro('소향', 45) # TypeError: selfIntro() missing 1 required positional argument: 'gender'\n",
    "\n",
    "def selfIntro1(name, age, gender=False):\n",
    "    print(f'이름은 {name}이고 나이는 {age}살 입니다!!', end=' ')\n",
    "    if gender:\n",
    "        print('남자입니다')\n",
    "    else:\n",
    "        print('여자입니다')\n",
    "\n",
    "selfIntro1('소향', 45)\n",
    "selfIntro1('나얼', 47, True)"
   ]
  },
  {
   "cell_type": "code",
   "execution_count": 146,
   "id": "d7341b8a-1173-4eb8-bd01-beeb2e4bb536",
   "metadata": {},
   "outputs": [
    {
     "ename": "SyntaxError",
     "evalue": "non-default argument follows default argument (1199208384.py, line 17)",
     "output_type": "error",
     "traceback": [
      "\u001b[1;36m  Cell \u001b[1;32mIn[146], line 17\u001b[1;36m\u001b[0m\n\u001b[1;33m    def selfIntro3(name, gender=False, age):\u001b[0m\n\u001b[1;37m                                       ^\u001b[0m\n\u001b[1;31mSyntaxError\u001b[0m\u001b[1;31m:\u001b[0m non-default argument follows default argument\n"
     ]
    }
   ],
   "source": [
    "# 2. 매개변수의 기본값을 설정할 때 주의할 점\n",
    "# 기본값(초기화)이 있는 매개변수는 맨 뒤에 정의해 한다.\n",
    "# default argument\n",
    "def selfIntro2(name, age, gender=False):\n",
    "    print(f'이름은 {name}이고 나이는 {age}살 입니다!!', end=' ')\n",
    "    if gender:\n",
    "        print('남자입니다')\n",
    "    else:\n",
    "        print('여자입니다')\n",
    "\n",
    "selfIntro1('소향', 45)\n",
    "selfIntro1('나얼', 47, True)\n",
    "\n",
    "# 기본값이 설정되지 않은 매개변수는 기본값이 설정된 매개변수 뒤에 올 수 없다.\n",
    "# 즉, 기본값설정매개변수는 맨 뒤에 위치해야 한다.\n",
    "# SyntaxError: non-default argument follows default argument\n",
    "def selfIntro3(name, gender=False, age):\n",
    "    print(f'이름은 {name}이고 나이는 {age}살 입니다!!', end=' ')\n",
    "    if gender:\n",
    "        print('남자입니다')\n",
    "    else:\n",
    "        print('여자입니다')"
   ]
  },
  {
   "cell_type": "code",
   "execution_count": null,
   "id": "ce331a17-0176-4731-907a-533e59528536",
   "metadata": {},
   "outputs": [],
   "source": [
    "# 실습문제. 초보자를 위한 파이썬 300제 - 101~240\n",
    "# lambda함수는 제외하고 실습하기, lambda함수는 다음주월요일 "
   ]
  },
  {
   "cell_type": "markdown",
   "id": "5c543369-7fb7-4ceb-93b8-6b5d717606a1",
   "metadata": {},
   "source": [
    "##### 10. lambda함수\n",
    "\n",
    "* 파이썬에서 `lambda함수란? 런타임시에 사용할 수 있는 익명함수`이다.\n",
    "* lambda함수를 생성할 때 사용하는 예약어 def로 함수를 정의한다는 점에서는 동일하지만 일반함수는 함수명을 가져야 한다.\n",
    "* 하지만, `lambda로 생성되는 함수는 이름이 없다.` 이름이 없기 때문에 익명함수라 한다.\n",
    "* lambda함수를 사용하는 가장 큰 이유는 수행할 명령이 한 문장만 있는 함수와 같이\n",
    "  1. def로 선언할 정도로 복잡하지 않거나\n",
    "  2. def를 사용할 수 없는 곳에서 사용이 가능\n",
    "  3. lambda사용법\n",
    "     - lambda arg,... : 매개변수를 이용한 한 줄의 실행문\n",
    "     - lambda식이 나오게 된 가장 큰 이유는 `def보다 간결하게 사용`할 수 있다."
   ]
  },
  {
   "cell_type": "code",
   "execution_count": 10,
   "id": "06ac6001-9b14-4664-96d8-22c8ccffb425",
   "metadata": {},
   "outputs": [
    {
     "name": "stdout",
     "output_type": "stream",
     "text": [
      "10 + 10 = 20\n",
      "<class 'function'>\n",
      "<class 'function'>\n",
      "\n",
      "일반함수 : 10 + 10 = 20\n",
      "람다함수 : 10 + 10 = 20\n",
      "\n",
      "나의 이름은 소향입니다\n",
      "나의 이름은 소향입니다\n"
     ]
    }
   ],
   "source": [
    "# 1. def로 선언할 정도로 복잡하지 않은 경우\n",
    "def add(a,b):\n",
    "    return a + b\n",
    "\n",
    "print(f'{10} + {10} = {add(10,10)}')\n",
    "print(type(add))\n",
    "\n",
    "# lambda함수 즉, 익명함수로 선언\n",
    "# 전달되는 값이 2개이면서 그 결과를 return하는 경우\n",
    "add_lambda = lambda a,b:a+b\n",
    "print(type(add_lambda))\n",
    "print()\n",
    "\n",
    "print(f'일반함수 : {10} + {10} = {add(10,10)}')\n",
    "print(f'람다함수 : {10} + {10} = {add_lambda(10,10)}')\n",
    "print()\n",
    "\n",
    "# 전달되는 값이 1개인 경우\n",
    "a = lambda name: print(f'나의 이름은 {name}입니다')\n",
    "a('소향')\n",
    "\n",
    "# 전달되는 매개변수가 없을 경우\n",
    "b = lambda : print(f'나의 이름은 소향입니다')\n",
    "b()"
   ]
  },
  {
   "cell_type": "code",
   "execution_count": 20,
   "id": "892afff6-bbdd-40bc-a83c-219ac52ce44a",
   "metadata": {},
   "outputs": [
    {
     "name": "stdout",
     "output_type": "stream",
     "text": [
      "더하기=20, 곱하기=100\n",
      "더하기=20, 곱하기=100\n",
      "\n",
      "<class 'function'> <class 'function'>\n",
      "<function <lambda> at 0x0000020B518FE0C0> <function <lambda> at 0x0000020B518FE200>\n",
      "\n",
      "더하기=20, 곱하기=100\n"
     ]
    }
   ],
   "source": [
    "# 2. def를 사용할 수 없느 곳(list)에서 사용할 경우\n",
    "def add(a, b): return a+b\n",
    "def mul(a, b): return a*b\n",
    "\n",
    "x = add(10,10)\n",
    "y = mul(10,10)\n",
    "l1 = [x, y]\n",
    "print(f'더하기={l1[0]}, 곱하기={l1[1]}')\n",
    "\n",
    "l2 = [ add(10,10), mul(10,10)]\n",
    "print(f'더하기={l2[0]}, 곱하기={l2[1]}')\n",
    "print()\n",
    "\n",
    "# l3 = [def add(a, b): return a+b, def mul(a, b): return a*b] SyntaxError: invalid syntax\n",
    "l3 = [lambda x,y:x+y, lambda a,b:a*b]\n",
    "print(type(l3[0]), type(l3[1]))\n",
    "print(l3[0], l3[1])\n",
    "print()\n",
    "\n",
    "print(f'더하기={l3[0](10,10)}, 곱하기={l3[1](10,10)}')"
   ]
  },
  {
   "cell_type": "code",
   "execution_count": 23,
   "id": "916fb008-0abb-4699-8ef9-dd512c442651",
   "metadata": {},
   "outputs": [
    {
     "name": "stdout",
     "output_type": "stream",
     "text": [
      "짝수입니다!!\n",
      "홀수입니다!!\n",
      "\n",
      "짝수입니다!!\n",
      "홀수입니다!!\n",
      "\n",
      "짝수입니다!!\n",
      "홀수입니다!!\n"
     ]
    }
   ],
   "source": [
    "# 실습1. 홀수, 짝수를 구변하는 is_odd()함수를 작성\n",
    "# 주어진 숫자가 홀수인지 짝수인지를 구별해서\n",
    "# '짝수입니다' or '홀수입니다'를 출력하세요\n",
    "# 1) 일반함수 is_odd(number)\n",
    "def is_odd(number):\n",
    "    if number%2 == 0:\n",
    "        print('짝수입니다!!')\n",
    "    else:\n",
    "        print('홀수입니다!!')        \n",
    "is_odd(2)\n",
    "is_odd(1)\n",
    "print()\n",
    "\n",
    "# 2) lambda함수 - return이 없는 경우\n",
    "is_odd_lambda_1 = lambda n: print('짝수입니다!!') if n%2 == 0 else print('홀수입니다!!') \n",
    "is_odd_lambda_1(2)\n",
    "is_odd_lambda_1(1)\n",
    "print()\n",
    "\n",
    "# 3) lambda함수 - return이 생략된 경우\n",
    "is_odd_lambda_2 = lambda n: '짝수입니다!!' if n%2 == 0 else '홀수입니다!!' \n",
    "print(is_odd_lambda_2(2))\n",
    "print(is_odd_lambda_2(1))"
   ]
  },
  {
   "cell_type": "code",
   "execution_count": 25,
   "id": "130baf4e-7662-4379-a932-63a067bf0481",
   "metadata": {},
   "outputs": [
    {
     "name": "stdout",
     "output_type": "stream",
     "text": [
      "[6, 7, 8]\n",
      "[6, 7, 8]\n"
     ]
    }
   ],
   "source": [
    "# 실습2. 리스트 [2,3,4,5,6,7,8]에서 5보다 큰 수만 리턴하는 \n",
    "# 1) funcReturn()함수작성\n",
    "def funcReturn(numbers):\n",
    "    l = []\n",
    "    for num in numbers:\n",
    "        if num > 5:\n",
    "            l.append(num)\n",
    "    return l\n",
    "print(funcReturn([2,3,4,5,6,7,8]))\n",
    "           \n",
    "# 2) lambda식으로 작성, 이름은 funcReturnLambda\n",
    "funcReturnLambda = lambda numbers: [num for num in numbers if num > 5]\n",
    "print(funcReturnLambda([2,3,4,5,6,7,8]))"
   ]
  }
 ],
 "metadata": {
  "kernelspec": {
   "display_name": "Python 3 (ipykernel)",
   "language": "python",
   "name": "python3"
  },
  "language_info": {
   "codemirror_mode": {
    "name": "ipython",
    "version": 3
   },
   "file_extension": ".py",
   "mimetype": "text/x-python",
   "name": "python",
   "nbconvert_exporter": "python",
   "pygments_lexer": "ipython3",
   "version": "3.11.7"
  }
 },
 "nbformat": 4,
 "nbformat_minor": 5
}
