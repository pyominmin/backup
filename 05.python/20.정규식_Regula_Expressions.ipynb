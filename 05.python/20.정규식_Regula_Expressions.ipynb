{
 "cells": [
  {
   "cell_type": "markdown",
   "id": "b8884e11-d58e-4cfb-b625-eace475f0d29",
   "metadata": {},
   "source": [
    "# 정규식(Regular Expressions)?\n",
    "\n",
    "* `정규식은 정규표현식의 약칭`이다.\n",
    "* 정규식은 문자열을 처리할 때 사용하는데 파이썬뿐만아니라 문자열을 처리하는 모든 곳에서 사용한다.\n",
    "* 정규식은 `프로그램작성없이 특정 패턴을 정의해서 그 패턴과 일치하는 문자열을 추출하는 기능`을 지원한다.\n",
    "* 예를들어서 `주민번호는 '6자리숫자-7자리숫자의 패턴`을 가지고 있는데 이 패턴과 일치여부를 확인할 수 있다.\n",
    "* 즉, 주민번호의 블라인딩처리 or email형식의 검증등 프로그램작성없이도 검증할 수가 있다.\n",
    "* 파이썬에서는 이런 정규식을 처리하기 위해서 `내장모듈 re`를 지원한다."
   ]
  },
  {
   "cell_type": "code",
   "execution_count": 3,
   "id": "f895b1bd-7fda-464a-8b0b-449d1b47f5ea",
   "metadata": {},
   "outputs": [
    {
     "name": "stdout",
     "output_type": "stream",
     "text": [
      "['A', 'ASCII', 'DEBUG', 'DOTALL', 'I', 'IGNORECASE', 'L', 'LOCALE', 'M', 'MULTILINE', 'Match', 'NOFLAG', 'Pattern', 'RegexFlag', 'S', 'Scanner', 'T', 'TEMPLATE', 'U', 'UNICODE', 'VERBOSE', 'X', '_MAXCACHE', '__all__', '__builtins__', '__cached__', '__doc__', '__file__', '__loader__', '__name__', '__package__', '__path__', '__spec__', '__version__', '_cache', '_casefix', '_compile', '_compile_repl', '_compiler', '_constants', '_expand', '_parser', '_pickle', '_special_chars_map', '_subx', 'compile', 'copyreg', 'enum', 'error', 'escape', 'findall', 'finditer', 'fullmatch', 'functools', 'match', 'purge', 'search', 'split', 'sub', 'subn', 'template']\n"
     ]
    }
   ],
   "source": [
    "import re\n",
    "# help(re)\n",
    "print(dir(re))"
   ]
  },
  {
   "cell_type": "code",
   "execution_count": 13,
   "id": "3f878fbf-db0d-4e41-8d95-ce5b169da262",
   "metadata": {},
   "outputs": [
    {
     "name": "stdout",
     "output_type": "stream",
     "text": [
      "<class 'list'> []\n",
      "<class 'list'> ['o', 'o', 'o']\n",
      "<class 'list'> ['short']\n",
      "<class 'list'> ['Life']\n",
      "<class 'list'> []\n",
      "<class 'list'> ['ife']\n"
     ]
    }
   ],
   "source": [
    "# 1. findall(패턴, 문자열)\n",
    "# re.findall?\n",
    "sentence = 'Life is too short'\n",
    "\n",
    "# 1) 기본사용법\n",
    "a = re.findall('a', sentence)\n",
    "print(type(a), a)\n",
    "\n",
    "a = re.findall('o', sentence)\n",
    "print(type(a), a)\n",
    "\n",
    "a = re.findall('short', sentence)\n",
    "print(type(a), a)\n",
    "\n",
    "a = re.findall('Life', sentence)\n",
    "print(type(a), a)\n",
    "\n",
    "a = re.findall('life', sentence)\n",
    "print(type(a), a)\n",
    "\n",
    "a = re.findall('ife', sentence)\n",
    "print(type(a), a)"
   ]
  },
  {
   "cell_type": "code",
   "execution_count": 30,
   "id": "5ef19d05-cb49-4d08-93d4-bac449d0cd1c",
   "metadata": {},
   "outputs": [
    {
     "name": "stdout",
     "output_type": "stream",
     "text": [
      "['y', 'i', 'd', 'u', 'm', 'b', 'e', 'r', 'i', 's']\n",
      "[]\n",
      "['y', 'i', 'i', 's']\n",
      "['y', 'i', 'd', 'u', 'm', 'b', 'e', 'r', 'i', 's']\n",
      "['a', 'e', 'i', 'o', 'u']\n",
      "['y', 'i', 'd', 'u', 'm', 'b', 'e', 'r', 'i', 's']\n",
      "['y', 'id', 'umber', 'is']\n"
     ]
    }
   ],
   "source": [
    "# 2) 특정문자열에서 대/소문자 추출하기\n",
    "sentence = 'My id Number is KIM1118_$'\n",
    "\n",
    "# a. 소문자만 추출하기\n",
    "# 실습. sentence에서 소문자추출해서 list로 리턴하는 프로그램 작성하기\n",
    "result = []\n",
    "for s in sentence:\n",
    "    if s>='a' and s<='z':\n",
    "        result.append(s)\n",
    "print(result)\n",
    "\n",
    "# 정규식을 이용해서 소문자추출하기\n",
    "# 단어단위\n",
    "a = re.findall('yi', sentence)\n",
    "print(a)\n",
    "\n",
    "# []는 문자단위\n",
    "a = re.findall('[yis]', sentence)\n",
    "print(a)\n",
    "a = re.findall('[abcdefghinklmnopqrstuvwxyz]', sentence)\n",
    "print(a)\n",
    "\n",
    "# 실습. [abcdefghinklmnopqrstuvwxyz]에서 모음(aieou)만 추출하기\n",
    "a = re.findall('[aieou]', 'abcdefghinklmnopqrstuvwxyz')\n",
    "print(a)\n",
    "\n",
    "# -: from~to라는 의미\n",
    "a = re.findall('[a-z]', sentence)\n",
    "print(a)\n",
    "\n",
    "# + : 단어단위\n",
    "a = re.findall('[a-z]+', sentence)\n",
    "print(a)"
   ]
  },
  {
   "cell_type": "code",
   "execution_count": 36,
   "id": "51ee6336-d3bd-4798-97c5-e4aeb148b734",
   "metadata": {},
   "outputs": [
    {
     "name": "stdout",
     "output_type": "stream",
     "text": [
      "['M', 'N', 'K', 'I', 'M']\n",
      "['M', 'N', 'KIM']\n",
      "['M', 'y', 'i', 'd', 'N', 'u', 'm', 'b', 'e', 'r', 'i', 's', 'K', 'I', 'M']\n",
      "['My', 'id', 'Number', 'is', 'KIM']\n"
     ]
    }
   ],
   "source": [
    "# b. 대문자만 추출하기\n",
    "# 실습. sentence에서 대문자추출하기\n",
    "sentence = 'My id Number is KIM1118_$'\n",
    "\n",
    "result = re.findall('[A-Z]', sentence)\n",
    "print(result)\n",
    "\n",
    "result = re.findall('[A-Z]+', sentence)\n",
    "print(result)\n",
    "\n",
    "# 실습. sentence에서 대/소문자추출하기\n",
    "result = re.findall('[a-zA-Z]', sentence)\n",
    "print(result)\n",
    "\n",
    "result = re.findall('[a-zA-Z]+', sentence)\n",
    "print(result)"
   ]
  },
  {
   "cell_type": "code",
   "execution_count": 40,
   "id": "2a0a2f83-8079-47a9-a359-8b74818724a1",
   "metadata": {},
   "outputs": [
    {
     "name": "stdout",
     "output_type": "stream",
     "text": [
      "['1', '1', '1', '8']\n",
      "['1118']\n",
      "['M', 'y', 'i', 'd', 'N', 'u', 'm', 'b', 'e', 'r', 'i', 's', 'K', 'I', 'M', '1', '1', '1', '8']\n",
      "['My', 'id', 'Number', 'is', 'KIM1118']\n"
     ]
    }
   ],
   "source": [
    "# c. 숫자 추출하기\n",
    "sentence = 'My id Number is KIM1118_$'\n",
    "# 실습. sentence에서 숫자만 추출하기\n",
    "result = re.findall('[0-9]', sentence)\n",
    "print(result)\n",
    "result = re.findall('[0-9]+', sentence)\n",
    "print(result)\n",
    "\n",
    "# 실습. 숫자와 대소문자 추출(문자단위, 단어단위각각)\n",
    "result = re.findall('[0-9a-zA-Z]', sentence)\n",
    "print(result)\n",
    "result = re.findall('[0-9a-zA-Z]+', sentence)\n",
    "print(result)"
   ]
  },
  {
   "cell_type": "code",
   "execution_count": 49,
   "id": "eea7b50e-c159-48f7-aaed-2cbe9b926f77",
   "metadata": {},
   "outputs": [
    {
     "name": "stdout",
     "output_type": "stream",
     "text": [
      "['_', '$']\n",
      "['_$']\n",
      "['$']\n",
      "[' ', ' ', ' ', ' ', '_', '$'] [' ', ' ', ' ', ' ', '_$']\n"
     ]
    }
   ],
   "source": [
    "# d. 특수문자추출하기\n",
    "sentence = 'My id Number is KIM1118_$'\n",
    "\n",
    "# 실습. 특수문자만추출하기\n",
    "result = re.findall('[_$]', sentence)\n",
    "print(result)\n",
    "result = re.findall('[_$]+', sentence)\n",
    "print(result)\n",
    "result = re.findall('[@$%^&*()=!~]', sentence)\n",
    "print(result)\n",
    "\n",
    "# ^(not)의미\n",
    "a = re.findall('[^0-9a-zA-Z]', sentence)\n",
    "b = re.findall('[^0-9a-zA-Z]+', sentence)\n",
    "print(a, b)"
   ]
  },
  {
   "cell_type": "code",
   "execution_count": 54,
   "id": "1eb1dcbe-f584-4f4e-b6b1-67dac49257df",
   "metadata": {},
   "outputs": [
    {
     "name": "stdout",
     "output_type": "stream",
     "text": [
      "['M', 'y', 'i', 'd', 'N', 'u', 'm', 'b', 'e', 'r', 'i', 's', 'K', 'I', 'M', '1', '1', '1', '8', '_'] ['My', 'id', 'Number', 'is', 'KIM1118_']\n",
      "['M', 'y', 'i', 'd', 'N', 'u', 'm', 'b', 'e', 'r', 'i', 's', 'K', 'I', 'M', '1', '1', '1', '8', '_'] ['My', 'id', 'Number', 'is', 'KIM1118_']\n",
      "[' ', ' ', ' ', ' ', '$'] [' ', ' ', ' ', ' ', '$']\n",
      "[' ', ' ', ' ', ' ', '$'] [' ', ' ', ' ', ' ', '$']\n"
     ]
    }
   ],
   "source": [
    "# 실습. 숫자,대소문자,_문자만추출하기\n",
    "sentence = 'My id Number is KIM1118_$'\n",
    "a = re.findall('[0-9a-zA-Z_]', sentence)\n",
    "b = re.findall('[0-9a-zA-Z_]+', sentence)\n",
    "print(a, b)\n",
    "\n",
    "# \\w: whitespace문자를 의미하는 패턴 즉, '[0-9a-zA-Z_]'와 동일\n",
    "a = re.findall('[\\w]', sentence)\n",
    "b = re.findall('[\\w]+', sentence)\n",
    "print(a, b)\n",
    "\n",
    "# \\W: ^\\w의미\n",
    "a = re.findall('[\\W]', sentence)\n",
    "b = re.findall('[\\W]+', sentence)\n",
    "print(a, b)\n",
    "a = re.findall('[^\\w]', sentence)\n",
    "b = re.findall('[^\\w]+', sentence)\n",
    "print(a, b)"
   ]
  },
  {
   "cell_type": "code",
   "execution_count": 56,
   "id": "2c5a9288-6de8-4f33-bb93-52d88d8cfe78",
   "metadata": {},
   "outputs": [
    {
     "name": "stdout",
     "output_type": "stream",
     "text": [
      "['1', '1', '1', '8'] ['1118']\n",
      "['1', '1', '1', '8'] ['M', 'y', ' ', 'i', 'd', ' ', 'N', 'u', 'm', 'b', 'e', 'r', ' ', 'i', 's', ' ', 'K', 'I', 'M', '_', '$']\n"
     ]
    }
   ],
   "source": [
    "# 패턴문자열\n",
    "# [0-9] = \\d, [^0-9] = \\D\n",
    "\n",
    "# 실습. 패턴문자열\n",
    "sentence = 'My id Number is KIM1118_$'\n",
    "a = re.findall('[0-9]', sentence)\n",
    "b = re.findall('[0-9]+', sentence)\n",
    "print(a, b)\n",
    "\n",
    "a = re.findall('[\\d]', sentence)\n",
    "b = re.findall('[\\D]', sentence)\n",
    "print(a, b)"
   ]
  },
  {
   "cell_type": "markdown",
   "id": "5cce35b8-d373-47d6-844d-a020ef5346f1",
   "metadata": {},
   "source": [
    "#### 실습\n",
    "\n",
    "* {} : 몇개의 문자가 반복되는지의 패턴\n",
    "* () : 그룹 \\g"
   ]
  },
  {
   "cell_type": "code",
   "execution_count": 66,
   "id": "e3edcc4b-ef74-4008-ad78-3b8738bd1cfc",
   "metadata": {},
   "outputs": [
    {
     "name": "stdout",
     "output_type": "stream",
     "text": [
      "['', 'hong 910915-*******', 'park 951118-*******', '']\n",
      "\n",
      "hong 910915-*******\n",
      "park 951118-*******\n",
      "\n"
     ]
    }
   ],
   "source": [
    "# 실습(1) \n",
    "# 주민번호 뒷 7자리를 *로 블라인딩처리 단, 정규식을 사용하지 말것\n",
    "# hong 910915-*******\n",
    "data = '''\n",
    "    hong 910915-1234567\n",
    "    park 951118-2345678\n",
    "'''\n",
    "result = []\n",
    "\n",
    "for line in data.split('\\n'):\n",
    "     # print(line.split())\n",
    "    w_result = []\n",
    "    for word in line.split():\n",
    "        # print(word)\n",
    "        if len(word) == 14 and word[:6].isdigit() and word[7:].isdigit():\n",
    "            # print(word)\n",
    "            word = word[:7] + '*******'\n",
    "        w_result.append(word)\n",
    "    result.append(' '.join(w_result))\n",
    "\n",
    "print(result)\n",
    "print('\\n'.join(result))"
   ]
  },
  {
   "cell_type": "code",
   "execution_count": 77,
   "id": "8bf72f98-cc33-4ba9-9db3-db161f31595f",
   "metadata": {},
   "outputs": [
    {
     "name": "stdout",
     "output_type": "stream",
     "text": [
      "\n",
      "    hong 910915-*******\n",
      "    park 951118-*******\n",
      "\n"
     ]
    }
   ],
   "source": [
    "# 실습(2) \n",
    "# 주민번호 뒷 7자리를 *로 블라인딩처리 단, 정규식을 사용할 것\n",
    "# re.compile : 사용자가 패턴규칙을 만드는 함수\n",
    "# 그룹패턴 소괄호 (), 반복(길이)의미의 중괄호 {}\n",
    "# 패턴문자 \\d(숫자), \\g(그룹)\n",
    "import re\n",
    "data = '''\n",
    "    hong 910915-1234567\n",
    "    park 951118-2345678\n",
    "'''\n",
    "# re.compile() - 사용자가 패턴을 만들어 주는 함수\n",
    "# 910915-1234567 : (\\d{6})[-](\\d{7}) -> \\g<n>, \n",
    "# ptrn = re.compile('(\\d{6})[-](\\d{7})')\n",
    "# print(type(ptrn), ptrn)\n",
    "# print(dir(ptrn))\n",
    "# # ptrn.sub?\n",
    "# print(ptrn.sub('\\g<1>', data))\n",
    "# print(ptrn.sub('\\g<2>', data))\n",
    "# print(ptrn.sub('\\g<1>-\\g<2>', data))\n",
    "print(re.compile('(\\d{6})[-](\\d{7})').sub('\\g<1>-*******', data))"
   ]
  },
  {
   "cell_type": "markdown",
   "id": "73eb404c-82e1-4ad1-a02a-f3263047a376",
   "metadata": {},
   "source": [
    "#### 정규표현식\n",
    "##### 1. 메타문자(정규식의 기초)\n",
    "   >공란 dot(.) ^ $ * + ? {}, \\ | ()\n",
    "##### 2. 메타문자의 의미\n",
    "1. `[]` : `[0-9a-zA-Z]`와 같이 문자단위로 만들어진 정규식, `[와 ]사이의 문자와 일치여부`\n",
    "   - `\\d` : 숫자와 매치여부 `[0-9]`와 동일한 패턴\n",
    "   - `\\D` : 숫자가 아닌 문자열과 매치여부,  `[^0-9]`와 동일한 패턴\n",
    "   - `\\s` : whitespace문자와 매치여부, `[공란\\t\\n\\r]`등의 패턴과 동일\n",
    "   - `\\S` : whitespace문자와 불일치여부, `[^공란\\t\\n\\r]`등의 패턴과 동일\n",
    "   - `\\w` : 영문자,숫자,_와 매치여부 `[0-9a-zA-Z_]`와 동일 패턴\n",
    "   - `\\W` : 영문자,숫자,_와 불일치여부 `[^0-9a-zA-Z_]`와 동일 패턴\n",
    "2. `dot(.)` : 줄바꿈문자(\\n)를 제외한 모든 한 개의 문자와 매치하는지 여부\n",
    "   - 예 : `a.b` -> a와 b사이에 1개의 문자와 매치하는지 여부\n",
    "   - a.b : axb(O), a\\nb(O), axyzb(X), a1b(O)...\n",
    "4. `*(반복)`: 별표 바로 앞에 있는 문자가 무한대로 반복되는 문자열과 매치여부\n",
    "   - 예 : ca*t\n",
    "   - cat(O), caaaaaaaaaat(O), ct(O), cbt(X)\n",
    "5. `+(반복)`: + 바로 앞에 있는 문자가 무한대로 반복되는 문자열과 매치여부, *(반복)와 동일하지만 최소한 1개의 문자가 있어야 한다.\n",
    "   - 예 : ca+t\n",
    "   - cat(O), caaaaaaaaaat(O), ct(X), cbt(X)\n",
    "6. `반복 : {n}, {m,n}, ?`: 반복횟수를 지정, `m~n까지의 문자열과 매치여부`, m,n은 생략할 수 있다.\n",
    "   - {3,} : 반복횟수가 3번이상인 문자열과 매치여부, 반복횟수가 3번이하를 의미\n",
    "   - m이 생략되면 0과 동일, n이 생략되면 무한을 의미\n",
    "     - `{0,}는 *와 동일패턴`\n",
    "     - `{1,}는 +와 동일패턴`\n",
    "   - 예 : {m}  : ca{2}t -> a가 2번 반복하는 문자열과 매치여부 즉, cat(X), caat(O)\n",
    "   -      {m,n}: ca{2,5}t -> a가 2~5번 반복하는 문자열과 매치여부 즉, caat(O), caaaaat(O), caaaaaat(X)\n",
    "7. `소괄호()` : 문자열을 한 개의 그룹으로 설정하는 메타문자\n",
    "\n",
    "##### 3. 정규식과 관련함수\n",
    "1. findall() : 정규식과 매치되는 모든 문자열을 list로 리턴\n",
    "2. match() : 문자열의 처음부터 정규식패턴과 매치여부를 확인후 `객체를 리턴`\n",
    "3. search(): 문자열의 전체를 검색한 후 정규식패턴과 매치여부를 확인후 `객체를 리턴`\n",
    "4. finditer(): 정규식패턴과 매치되는 모든 문자열을 iterable객체로 리턴"
   ]
  },
  {
   "cell_type": "code",
   "execution_count": 88,
   "id": "05bd09e1-4203-488e-83e0-675e2b14b113",
   "metadata": {},
   "outputs": [
    {
     "name": "stdout",
     "output_type": "stream",
     "text": [
      "<class 're.Pattern'> re.compile('[a-z]+')\n",
      "<class 'NoneType'> None\n",
      "<class 'NoneType'> None\n",
      "<class 're.Match'> <re.Match object; span=(0, 6), match='python'>\n",
      "<class 'builtin_function_or_method'> <re.Match object; span=(0, 6), match='python'>\n",
      "0\n",
      "6\n",
      "(0, 6)\n"
     ]
    }
   ],
   "source": [
    "# 1. match\n",
    "p = re.compile('[a-z]+')\n",
    "print(type(p), p)\n",
    "\n",
    "# p.match?\n",
    "m = p.match('Python')\n",
    "print(type(m), m)\n",
    "\n",
    "m = p.match('3 Python')\n",
    "print(type(m), m)\n",
    "\n",
    "m = p.match('python')\n",
    "print(type(m), m)\n",
    "\n",
    "print(type(m.group), m)\n",
    "print(m.start())\n",
    "print(m.end())\n",
    "print(m.span())"
   ]
  },
  {
   "cell_type": "code",
   "execution_count": 95,
   "id": "4acf24f1-83e9-4a0b-b6ae-c5dfd3a4248d",
   "metadata": {},
   "outputs": [
    {
     "name": "stdout",
     "output_type": "stream",
     "text": [
      "<class 're.Match'> <re.Match object; span=(1, 6), match='ython'>\n",
      "<class 'builtin_function_or_method'> <re.Match object; span=(1, 6), match='ython'>\n",
      "1 6 (1, 6)\n",
      "\n",
      "<class 're.Match'> <re.Match object; span=(3, 8), match='ython'>\n",
      "<class 'builtin_function_or_method'> <re.Match object; span=(3, 8), match='ython'>\n",
      "3 8 (3, 8)\n",
      "\n",
      "<class 're.Match'> <re.Match object; span=(0, 6), match='python'>\n",
      "<class 'builtin_function_or_method'> <re.Match object; span=(0, 6), match='python'>\n",
      "0 6 (0, 6)\n",
      "\n"
     ]
    }
   ],
   "source": [
    "# 2. search\n",
    "p = re.compile('[a-z]+')\n",
    "\n",
    "m = p.search('Python')\n",
    "print(type(m), m)\n",
    "print(type(m.group), m)\n",
    "print(m.start(), m.end(), m.span())\n",
    "print()\n",
    "\n",
    "m = p.search('3 Python')\n",
    "print(type(m), m)\n",
    "print(type(m.group), m)\n",
    "print(m.start(), m.end(), m.span())\n",
    "print()\n",
    "\n",
    "m = p.search('python')\n",
    "print(type(m), m)\n",
    "print(type(m.group), m)\n",
    "print(m.start(), m.end(), m.span())\n",
    "print()"
   ]
  },
  {
   "cell_type": "code",
   "execution_count": 102,
   "id": "87717579-1459-48e0-9360-bf19eaeeea16",
   "metadata": {},
   "outputs": [
    {
     "name": "stdout",
     "output_type": "stream",
     "text": [
      "<class 'list'> ['ife', 'is', 'too', 'short']\n",
      "<class 'list'> ['i', 'f', 'e', 'i', 's', 't', 'o', 'o', 's', 'h', 'o', 'r', 't']\n",
      "<class 'list'> ['L']\n",
      "<class 'list'> [('991118', '1234567'), ('991225', '1234567')]\n",
      "<class 'list'> ['991118', '123456', '799122', '123456']\n"
     ]
    }
   ],
   "source": [
    "# 3. findall()\n",
    "p = re.compile('[a-z]+')\n",
    "result = p.findall('Life is too short')\n",
    "print(type(result), result)\n",
    "\n",
    "p = re.compile('[a-z]')\n",
    "result = p.findall('Life is too short')\n",
    "print(type(result), result)\n",
    "\n",
    "p = re.compile('[A-Z]')\n",
    "result = p.findall('Life is too short')\n",
    "print(type(result), result)\n",
    "\n",
    "p = re.compile('(\\d{6})[-](\\d{7})')\n",
    "result = p.findall('991118-1234567991225-1234567')\n",
    "print(type(result), result)\n",
    "\n",
    "p = re.compile('(\\d{6})')\n",
    "result = p.findall('991118-1234567991225-1234567')\n",
    "print(type(result), result)"
   ]
  },
  {
   "cell_type": "code",
   "execution_count": 104,
   "id": "0375c928-860a-4280-8fae-84ce421dc7d6",
   "metadata": {},
   "outputs": [
    {
     "name": "stdout",
     "output_type": "stream",
     "text": [
      "<class 'list'> ['ife', 'is', 'too', 'short']\n",
      "\n",
      "<class 'callable_iterator'> <callable_iterator object at 0x000002AB05797640>\n",
      "<class 're.Match'> <re.Match object; span=(1, 4), match='ife'>\n",
      "<class 're.Match'> <re.Match object; span=(5, 7), match='is'>\n",
      "<class 're.Match'> <re.Match object; span=(8, 11), match='too'>\n",
      "<class 're.Match'> <re.Match object; span=(12, 17), match='short'>\n"
     ]
    }
   ],
   "source": [
    "# 4. finditer\n",
    "p = re.compile('[a-z]+')\n",
    "result = p.findall('Life is too short')\n",
    "print(type(result), result)\n",
    "print()\n",
    "\n",
    "result = p.finditer('Life is too short')\n",
    "print(type(result), result)\n",
    "\n",
    "for i in result:\n",
    "    print(type(i), i)"
   ]
  },
  {
   "cell_type": "markdown",
   "id": "3f41e7bd-3a51-446a-8eee-fa886ff0d8b2",
   "metadata": {},
   "source": [
    "#### 정규식 컴파일 옵션\n",
    "1. DOTALL(or S) : dot(.)이 줄바꿈문자를 포함한 모든 문자열과 매치할 수 있도록 하는 옵션\n",
    "2. IGNORECASE(or I) : 대소문자 구분없이 매치할 수 있도록 하는 옵션\n",
    "3. MULTILINE(or M) : 정규식안에 여러줄로 매치할 수 있도록 하는 옵션(`시작 ^,  끝 $`)\n",
    "4. VERBOSE(or X) : 정규식안에 주석처리 여부를 지정하는 옵션\n",
    "\n",
    "* 정규식관련문서 : https://docs.python.org/ko/3/howto/regex.html"
   ]
  },
  {
   "cell_type": "code",
   "execution_count": 110,
   "id": "cec92690-b7f7-4668-90b6-c5b38f7c7733",
   "metadata": {},
   "outputs": [
    {
     "name": "stdout",
     "output_type": "stream",
     "text": [
      "<re.Match object; span=(0, 3), match='aab'>\n",
      "None\n",
      "<re.Match object; span=(0, 3), match='a\\nb'>\n",
      "<re.Match object; span=(0, 3), match='a\\nb'>\n"
     ]
    }
   ],
   "source": [
    "# 1. DOTALL or S\n",
    "p = re.compile('a.b')\n",
    "m = p.match('aab')\n",
    "print(m)\n",
    "\n",
    "m = p.match('a\\nb')\n",
    "print(m)\n",
    "\n",
    "p = re.compile('a.b', re.DOTALL)\n",
    "m = p.match('a\\nb')\n",
    "print(m)\n",
    "\n",
    "p = re.compile('a.b', re.S)\n",
    "m = p.match('a\\nb')\n",
    "print(m)"
   ]
  },
  {
   "cell_type": "code",
   "execution_count": 114,
   "id": "2726339c-36ee-4ac3-ba28-9c05b25c15c6",
   "metadata": {},
   "outputs": [
    {
     "name": "stdout",
     "output_type": "stream",
     "text": [
      "<re.Match object; span=(0, 6), match='python'>\n",
      "None\n",
      "<re.Match object; span=(0, 6), match='Python'>\n",
      "<re.Match object; span=(0, 6), match='python'>\n"
     ]
    }
   ],
   "source": [
    "# 2. IGNORECASE(or I)\n",
    "p = re.compile('[a-z]+')\n",
    "m = p.match('python')\n",
    "print(m)\n",
    "m = p.match('Python')\n",
    "print(m)\n",
    "\n",
    "p = re.compile('[a-z]+', re.IGNORECASE)\n",
    "m = p.match('Python')\n",
    "print(m)\n",
    "\n",
    "p = re.compile('[a-z]+', re.I)\n",
    "m = p.match('python')\n",
    "print(m)"
   ]
  },
  {
   "cell_type": "code",
   "execution_count": 117,
   "id": "5fcc50ef-4a4c-41fe-847d-f701591768d4",
   "metadata": {},
   "outputs": [
    {
     "name": "stdout",
     "output_type": "stream",
     "text": [
      "['python one']\n",
      "['python one', 'python two', 'python three']\n",
      "['python one', 'python two', 'python three']\n"
     ]
    }
   ],
   "source": [
    "# 3. MULTILINE(or M)\n",
    "# '^python\\s\\w+' \n",
    "# 1) ^ : python으로 시작해야 되고\n",
    "# 2) \\s : python뒤에 whitespace문자가 와야 되고\n",
    "# 3) \\w : 그 뒤에 영문자(대소문자), 숫자와 _가 되고\n",
    "# 4) + : 단어단위\n",
    "p = re.compile('^python\\s\\w+')\n",
    "data = '''python one\n",
    "Life is too short\n",
    "python two\n",
    "you need python\n",
    "python three\n",
    "'''\n",
    "result = p.findall(data)\n",
    "print(result)\n",
    "\n",
    "p = re.compile('^python\\s\\w+', re.MULTILINE)\n",
    "result = p.findall(data)\n",
    "print(result)\n",
    "\n",
    "p = re.compile('^python\\s\\w+', re.M)\n",
    "result = p.findall(data)\n",
    "print(result)"
   ]
  },
  {
   "cell_type": "code",
   "execution_count": 120,
   "id": "9b7c77dd-b62c-4910-89b9-9e30b3eaefb8",
   "metadata": {},
   "outputs": [
    {
     "name": "stdout",
     "output_type": "stream",
     "text": [
      "['06', '10', 'xf']\n"
     ]
    }
   ],
   "source": [
    "# 4. VERBOSE(or X)\n",
    "# 지금까지 실습한 정규식은 매우 간단한 정규식이다. 하지만, 정규식전문가가 만든 정규식은 거의 암호화수준이다.\n",
    "# 그래서 정규식에 주석처리 or 라인단위로 구분해야 되는데 이 것을 가능해 주는 옵션이 VERBOSE(or X)옵션이다.\n",
    "r = re.compile('0[0-7]+|[0-9]+|x[0-9a-fA-F]+')\n",
    "result = r.findall('06;10;xf')\n",
    "print(result)"
   ]
  },
  {
   "cell_type": "code",
   "execution_count": 121,
   "id": "504193f4-3830-46dd-944f-5ff308a5a009",
   "metadata": {},
   "outputs": [
    {
     "name": "stdout",
     "output_type": "stream",
     "text": [
      "['06', '10', 'xf']\n"
     ]
    }
   ],
   "source": [
    "r = re.compile('''\n",
    "#&[#]                # 숫자로 시작해야 한다.\n",
    "(\n",
    "   0[0-7]+  |        # 8진수 \n",
    "   [0-9]+   |        # 10진수\n",
    "   x[0-9a-fA-F]+     # 16진수\n",
    ")\n",
    "''',  re.X)\n",
    "result = r.findall('06;10;xf')\n",
    "print(result)"
   ]
  },
  {
   "cell_type": "code",
   "execution_count": 126,
   "id": "ebf4d1b1-4ef5-44dc-83ac-6c0f29c4377e",
   "metadata": {},
   "outputs": [
    {
     "name": "stdout",
     "output_type": "stream",
     "text": [
      "<re.Match object; span=(0, 3), match='홍길동'>\n",
      "<re.Match object; span=(0, 3), match='손흥민'>\n",
      "None\n",
      "None\n"
     ]
    }
   ],
   "source": [
    "# 5. 정규식 메타문자 : or(|), start(^), end($)\n",
    "import re\n",
    "p = re.compile('홍길동|손흥민')\n",
    "m = p.match('홍길동')\n",
    "print(m)\n",
    "m = p.match('손흥민')\n",
    "print(m)\n",
    "\n",
    "p = re.compile('홍길동손흥민')\n",
    "m = p.match('홍길동')\n",
    "print(m)\n",
    "m = p.match('손흥민')\n",
    "print(m)"
   ]
  },
  {
   "cell_type": "code",
   "execution_count": 133,
   "id": "c71d0d92-4cd2-4470-a1c9-ebba39516e56",
   "metadata": {},
   "outputs": [
    {
     "name": "stdout",
     "output_type": "stream",
     "text": [
      "<re.Match object; span=(0, 4), match='Life'>\n",
      "<re.Match object; span=(0, 4), match='Life'>\n",
      "None\n",
      "<re.Match object; span=(3, 7), match='Life'>\n",
      "<re.Match object; span=(0, 7), match='My Life'>\n",
      "<re.Match object; span=(0, 7), match='My Life'>\n"
     ]
    }
   ],
   "source": [
    "# 2. start\n",
    "sentence = 'Life is too short'\n",
    "print(re.search('Life', sentence))\n",
    "print(re.search('^Life', sentence))\n",
    "print(re.search('^Life', 'My Life is too short'))\n",
    "print(re.search('Life', 'My Life is too short'))\n",
    "print(re.search('My Life', 'My Life is too short'))\n",
    "print(re.search('^My Life', 'My Life is too short'))"
   ]
  },
  {
   "cell_type": "code",
   "execution_count": 139,
   "id": "06faaa84-3902-4ca2-908a-01ce96996d3b",
   "metadata": {},
   "outputs": [
    {
     "name": "stdout",
     "output_type": "stream",
     "text": [
      "<re.Match object; span=(15, 20), match='short'>\n",
      "None\n",
      "None\n",
      "<re.Match object; span=(15, 20), match='short'>\n",
      "None\n"
     ]
    }
   ],
   "source": [
    "# 3. end\n",
    "print(re.search('short', 'My Life is too short'))\n",
    "print(re.search('^short', 'My Life is too short'))\n",
    "print(re.search('$short', 'My Life is too short'))\n",
    "print(re.search('short$', 'My Life is too short'))\n",
    "print(re.search('short$', 'My Life is too short.'))"
   ]
  },
  {
   "cell_type": "markdown",
   "id": "92a92760-9441-4a79-b9be-ad03bef28f19",
   "metadata": {},
   "source": [
    "#### 실습문제"
   ]
  },
  {
   "cell_type": "code",
   "execution_count": 156,
   "id": "addd81b1-1330-44af-b861-d7ef2d3f2b49",
   "metadata": {},
   "outputs": [
    {
     "name": "stdout",
     "output_type": "stream",
     "text": [
      "error : 12abc(길이:5)의 길이는 6~12자리 이어야 합니다.\n",
      "error : 12abc123456789012(길이:17)의 길이는 6~12자리 이어야 합니다.\n",
      "abcdef는 정상적인 비밀번호입니다!\n",
      "123ABc는 정상적인 비밀번호입니다!\n"
     ]
    },
    {
     "data": {
      "text/plain": [
       "True"
      ]
     },
     "execution_count": 156,
     "metadata": {},
     "output_type": "execute_result"
    }
   ],
   "source": [
    "# 1. 비밀번호정합성\n",
    "# 1) 비밀번호의 길이 : 6~12\n",
    "# 2) 숫자와 영문자로 구성\n",
    "# 3) 소문자와 대문자로 구성\n",
    "# 4) 특수문자 사용불가\n",
    "def pwd_check(pwd):\n",
    "    # 1. 비밀번호길이\n",
    "    if len(pwd) < 6 or len(pwd) > 12:\n",
    "        print(f'error : {pwd}(길이:{len(pwd)})의 길이는 6~12자리 이어야 합니다.')\n",
    "        return\n",
    "\n",
    "    # 2. 숫자, 문자 구성, 특수문자는 제외\n",
    "    if re.findall('[0-9a-zA-Z]+', pwd)[0] != pwd:\n",
    "        print(f'error : {pwd} 비밀번호는 숫자와 영대소문자로 구성되어야 합니다!')\n",
    "        return False\n",
    "\n",
    "    # 3. 대소문자구분\n",
    "    if re.findall('[a-z]', pwd) == 0 or re.findall('[A-Z]', pwd) == 0 or re.findall('[0-9]', pwd) == 0:\n",
    "        print(f'error : {pwd} 비밀번호는 대소문자로 구성되어야 합니다!')\n",
    "        return False      \n",
    "\n",
    "    print(f'{pwd}는 정상적인 비밀번호입니다!')\n",
    "    return True\n",
    "    \n",
    "pwd_check('12abc') # ng\n",
    "pwd_check('12abc123456789012') # ng\n",
    "pwd_check('abcdef') # ng\n",
    "pwd_check('123ABc') # OK\n",
    "\n",
    "# 12abc(5)의는 6~12자리 이어야 합니다.\n",
    "# 123abc  : 비밀번호는 대소문자로 구성되어야 합니다\n",
    "# 123abc% : 비밀번호는 숫자와 영문자로 구성되어야 합니다!\n",
    "# 123ABc  : 정상적인 비밀번호 입니다"
   ]
  },
  {
   "cell_type": "code",
   "execution_count": 159,
   "id": "23f6f0ad-c9c1-4a67-862c-e813f9897149",
   "metadata": {},
   "outputs": [
    {
     "name": "stdout",
     "output_type": "stream",
     "text": [
      "kim@gmail -> 이메일주소가 잘못 되었습니다.\n",
      "kim_gmail.com -> 이메일주소가 잘못 되었습니다.\n",
      "kim -> 이메일주소가 잘못 되었습니다.\n",
      "kim@gmail.com -> 정상적인 이메일주소입니다!.\n"
     ]
    },
    {
     "data": {
      "text/plain": [
       "True"
      ]
     },
     "execution_count": 159,
     "metadata": {},
     "output_type": "execute_result"
    }
   ],
   "source": [
    "# 2. 이메일정합성\n",
    "def email_check(email):\n",
    "    exp = re.findall('^[a-z0-9]{2,}@[a-z0-9]{2,}\\.[a-z]{2,}$', email)\n",
    "    if len(exp) == 0:\n",
    "        print(f'{email} -> 이메일주소가 잘못 되었습니다.')\n",
    "        return False\n",
    "\n",
    "    print(f'{email} -> 정상적인 이메일주소입니다!.')\n",
    "    return True\n",
    "\n",
    "email_check('kim@gmail')\n",
    "email_check('kim_gmail.com')\n",
    "email_check('kim')\n",
    "email_check('kim@gmail.com')\n",
    "\n",
    "# kim@gmail --> 이메일주소가 잘못 되었습니다.\n",
    "# kim_gmail.com --> 이메일주소가 잘못 되었습니다.\n",
    "# kim --> 이메일주소가 잘못 되었습니다.\n",
    "# kim@gmail.com --> 정상적인 이메일 주소 입니다!"
   ]
  },
  {
   "cell_type": "markdown",
   "id": "0dad957f-fa3b-448a-b94b-a066821df133",
   "metadata": {},
   "source": [
    "##### 정규식. 전방탐색과 후방탐색\n",
    "\n",
    "1. 전방탐색\n",
    "   * 긍정전방탐색 : `A(?=...)` -> A뒤에 ...패턴이 있는 경우 True\n",
    "   * 부정전방탐색 : `A(?!...)` -> A뒤에 ...패턴이 없는 경우 True\n",
    "3. 후방탐색\n",
    "   * 긍정후방탐색 : `A(?<=...)` -> A앞에 ...패턴이 있는 경우 True\n",
    "   * 부정후방탐색 : `A(?<!...)` -> A앞에 ...패턴이 없는 경우 True\n",
    "  \n",
    "|정규식표현|설명|\n",
    "|:----------:|:-------------------|\n",
    "|`(?=.*[a-zA-Z])`|영문|\n",
    "|`(?=.*[a-z])`|최소 한 개의 소문자|\n",
    "|`(?=.*[A-Z])`|최소 한 개의 대문자|\n",
    "|`(?=.*[0-9])`|최소 한 개의 숫자|\n",
    "|`(?=.*[#?!@$%^&*-])`|최소 한 개의 특수문자|\n",
    "|`{8,16}`|최소 8자 ~ 최대 16자의 길이|\n"
   ]
  },
  {
   "cell_type": "code",
   "execution_count": null,
   "id": "152c8a17-3a78-4512-94eb-e561ef221e67",
   "metadata": {},
   "outputs": [],
   "source": [
    "# 1. 비밀번호검증 정규식\n",
    "# 최소 1개의 대/소문자로 시작 : ^(?=.*[a-zA-Z])\n",
    "# 최소 1개의 숫자 : (?=.*[0-9]) or (?=.*\\d)\n",
    "# 최소 1개의 특수문자 (?=.[@!%*&-#])\n",
    "# 문자와 숫자와 특수문자가 조합 [a-zA-Z\\d@!%*&-#]\n",
    "# 비밀번호의 길이 8~16 : {8,16}\n",
    "pwd_pattern = r'^(?=.*[a-zA-Z])(?=.*\\d)(?=.[@!%*&-#])[a-zA-Z\\d@!%*&-#]{8,16}'"
   ]
  },
  {
   "cell_type": "code",
   "execution_count": 161,
   "id": "c946e8d3-75a7-43fd-aaee-2d1f17086b1e",
   "metadata": {},
   "outputs": [],
   "source": [
    "# 2. email정규식\n",
    "# 단어단위호 대소문자,숫자, +, _, .로 시작 : ^[a-zA-Z0-9+-\\_.]+\n",
    "# @\n",
    "# @뒤에 [a-zA-Z0-9-]\n",
    "# \\.\n",
    "# . 뒤에 단어단위로 숫자,영문자,-. : [a-zA-A0-9-.]+$\n",
    "email_pattern = r'^[a-zA-Z0-9+-\\_.]+@[a-zA-Z0-9-]\\.[a-zA-A0-9-.]+$'"
   ]
  }
 ],
 "metadata": {
  "kernelspec": {
   "display_name": "Python 3 (ipykernel)",
   "language": "python",
   "name": "python3"
  },
  "language_info": {
   "codemirror_mode": {
    "name": "ipython",
    "version": 3
   },
   "file_extension": ".py",
   "mimetype": "text/x-python",
   "name": "python",
   "nbconvert_exporter": "python",
   "pygments_lexer": "ipython3",
   "version": "3.11.7"
  }
 },
 "nbformat": 4,
 "nbformat_minor": 5
}
