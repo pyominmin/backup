{
 "cells": [
  {
   "cell_type": "markdown",
   "id": "eec8d87c-c033-4ed6-94ce-a780843ed8f6",
   "metadata": {},
   "source": [
    "# 불(bool, boolean)자료형\n",
    "\n",
    "* `참은 True, 거짓은 False의 값`만 가지는 자료형\n",
    "* boolean자료형은 첫 글자는 반드시 대문자이어야 한다.(Java, JavaScript와는 다른점)\n",
    "* 생성자함수 bool()를 이용하여 True, False를 반환할 수 있다."
   ]
  },
  {
   "cell_type": "code",
   "execution_count": 5,
   "id": "088c1a16-97ee-4e71-8cbb-efbdb3b8b6b9",
   "metadata": {},
   "outputs": [
    {
     "name": "stdout",
     "output_type": "stream",
     "text": [
      "['__abs__', '__add__', '__and__', '__bool__', '__ceil__', '__class__', '__delattr__', '__dir__', '__divmod__', '__doc__', '__eq__', '__float__', '__floor__', '__floordiv__', '__format__', '__ge__', '__getattribute__', '__getnewargs__', '__getstate__', '__gt__', '__hash__', '__index__', '__init__', '__init_subclass__', '__int__', '__invert__', '__le__', '__lshift__', '__lt__', '__mod__', '__mul__', '__ne__', '__neg__', '__new__', '__or__', '__pos__', '__pow__', '__radd__', '__rand__', '__rdivmod__', '__reduce__', '__reduce_ex__', '__repr__', '__rfloordiv__', '__rlshift__', '__rmod__', '__rmul__', '__ror__', '__round__', '__rpow__', '__rrshift__', '__rshift__', '__rsub__', '__rtruediv__', '__rxor__', '__setattr__', '__sizeof__', '__str__', '__sub__', '__subclasshook__', '__truediv__', '__trunc__', '__xor__', 'as_integer_ratio', 'bit_count', 'bit_length', 'conjugate', 'denominator', 'from_bytes', 'imag', 'numerator', 'real', 'to_bytes']\n"
     ]
    }
   ],
   "source": [
    "print(dir(a))"
   ]
  },
  {
   "cell_type": "code",
   "execution_count": 7,
   "id": "01b518a2-7ec0-494e-b07f-4668218eaf1d",
   "metadata": {},
   "outputs": [
    {
     "name": "stdout",
     "output_type": "stream",
     "text": [
      "False\n",
      "True\n",
      "False\n"
     ]
    }
   ],
   "source": [
    "a = True\n",
    "# a = true NameError: name 'true' is not defined\n",
    "\n",
    "b = False\n",
    "\n",
    "print(a==b)\n",
    "print(1==1)\n",
    "print(1==2)"
   ]
  },
  {
   "cell_type": "code",
   "execution_count": 11,
   "id": "ebe1bf71-c738-4834-b20f-59beab355be9",
   "metadata": {},
   "outputs": [
    {
     "name": "stdout",
     "output_type": "stream",
     "text": [
      "True\n",
      "True\n",
      "False\n",
      "\n"
     ]
    }
   ],
   "source": [
    "# 각 자료형의 값에 따라 True와 False가 리턴\n",
    "\n",
    "# 1. 문자열 : 값이 있으면 True 없으면 False\n",
    "print(bool('문자열'))\n",
    "print(bool('0'))\n",
    "print(bool(''))\n",
    "print()"
   ]
  },
  {
   "cell_type": "code",
   "execution_count": 17,
   "id": "10206808-74fb-4d1a-83b4-45dd56ad4b8e",
   "metadata": {},
   "outputs": [
    {
     "name": "stdout",
     "output_type": "stream",
     "text": [
      "True\n",
      "True\n",
      "True\n",
      "True\n",
      "\n",
      "False\n",
      "False\n",
      "False\n",
      "False\n"
     ]
    }
   ],
   "source": [
    "# 2. list, tuple, dict, set: 값이 있으면 True 없으면 False\n",
    "print(bool([1,2,3]))\n",
    "print(bool((1,2,3)))\n",
    "print(bool({1,2,3}))\n",
    "print(bool({1:'홍길동',2:'소향',3:'나얼'}))\n",
    "print()\n",
    "\n",
    "print(bool([]))\n",
    "print(bool(()))\n",
    "print(bool({}))\n",
    "print(bool(set()))\n"
   ]
  },
  {
   "cell_type": "code",
   "execution_count": 20,
   "id": "69bcf05d-65f1-47bc-9087-8eafae68596e",
   "metadata": {},
   "outputs": [
    {
     "name": "stdout",
     "output_type": "stream",
     "text": [
      "True\n",
      "False\n",
      "True\n",
      "True\n"
     ]
    }
   ],
   "source": [
    "# 3. 숫자일경우 0이면 False, 음수를 포함한 0이외의 값은 True\n",
    "print(bool(1))\n",
    "print(bool(0))\n",
    "print(bool(-1))\n",
    "print(bool(10000))"
   ]
  },
  {
   "cell_type": "code",
   "execution_count": 23,
   "id": "30e96d1c-1bc9-4d9d-a8c0-11cf05171ee3",
   "metadata": {},
   "outputs": [
    {
     "name": "stdout",
     "output_type": "stream",
     "text": [
      "False\n",
      "<class 'NoneType'>\n"
     ]
    }
   ],
   "source": [
    "# 4. None자료형 (JavaScript의 undefined자료형과 유사)\n",
    "# None은 NoneType이라는 객체이다.\n",
    "print(bool(None))\n",
    "print(type(None)) "
   ]
  },
  {
   "cell_type": "code",
   "execution_count": 24,
   "id": "ac3b1a84-6efd-4ca9-bcac-0202f440043b",
   "metadata": {},
   "outputs": [
    {
     "name": "stdout",
     "output_type": "stream",
     "text": [
      "Help on NoneType object:\n",
      "\n",
      "class NoneType(object)\n",
      " |  Methods defined here:\n",
      " |  \n",
      " |  __bool__(self, /)\n",
      " |      True if self else False\n",
      " |  \n",
      " |  __repr__(self, /)\n",
      " |      Return repr(self).\n",
      " |  \n",
      " |  ----------------------------------------------------------------------\n",
      " |  Static methods defined here:\n",
      " |  \n",
      " |  __new__(*args, **kwargs) from builtins.type\n",
      " |      Create and return a new object.  See help(type) for accurate signature.\n",
      "\n"
     ]
    }
   ],
   "source": [
    "help(None)"
   ]
  }
 ],
 "metadata": {
  "kernelspec": {
   "display_name": "Python 3 (ipykernel)",
   "language": "python",
   "name": "python3"
  },
  "language_info": {
   "codemirror_mode": {
    "name": "ipython",
    "version": 3
   },
   "file_extension": ".py",
   "mimetype": "text/x-python",
   "name": "python",
   "nbconvert_exporter": "python",
   "pygments_lexer": "ipython3",
   "version": "3.11.7"
  }
 },
 "nbformat": 4,
 "nbformat_minor": 5
}
