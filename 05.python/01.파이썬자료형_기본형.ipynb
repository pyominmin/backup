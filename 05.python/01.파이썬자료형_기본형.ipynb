{
 "cells": [
  {
   "cell_type": "markdown",
   "id": "bf4d700a-63ee-4bf8-9d06-31924c474052",
   "metadata": {},
   "source": [
    "# A. 파이썬의 개요\n",
    "\n",
    "## 1. 파이썬의 개요\n",
    "\n",
    "1. 1989.12월에 네덜란드 출신의 개발자 `귀도 반 로섬(Guido Van Rossum)`이 성탄절을 의미있게 보내기 위해 취미로 만든 `인터프리터(스크립트)언어`이다.\n",
    "2. 파이썬이라는 이름은 자신이 좋아 하는 코미디쇼인 `몬티 파이썬의 날아 다니는 써커스`에서 따왔다고 한다.\n",
    "3. 파이썬의 사전적의미는 고대신화에 나오는 `파르나소스산의 동굴에 살던 큰 뱀`이라는 뜻이며 아폴로 신이 파이썬을 퇴치했다는 이야기도 있다.\n",
    "4. 파이썬이 사용된 대표적인 사례\n",
    "   - 구글: C++, Java, Python을 사용해서 구글 내부시스템과 많은 구글API들이 Python으로 작성\n",
    "   - 유트브\n",
    "   - 드롭박스\n",
    "   - 페이스북\n",
    "   - 인스타그램\n",
    "\n",
    " ## 2. 파이썬 라이브러리(패키지)\n",
    "\n",
    " 1. numpy : 수치계산용 라이브러리, https://numpy.org\n",
    " 2. pandas : 데이터분석용 라이브러리, https://pandas.pydata.org \n",
    " 3. matplotlib : 시각화(그래프출력용) 라이브러기, https://matplotlib.org\n",
    " 4. 기타 : scipy, sickit-learn, tensorflow, kears 등등...\n",
    "\n",
    "## 3. 파이썬의 특징\n",
    "\n",
    "1. 파이썬은 인간적인 언어이다.\n",
    "2. 파이썬은 문법이 쉬워서 빠르게 배울 수 있다.\n",
    "3. 파이썬은 무료이지만 강력한 언어이다.\n",
    "4. 파이썬은 간결하다.\n",
    "5. 파이썬은 개발속도가 빠르다.\n",
    "\n",
    "## 4. 참고 사이트\n",
    "\n",
    "1. 파이썬의 순위 : https://tiobe.com/tiobe-index\n",
    "\n",
    "## 5. Jupyter Notebook 단축키\n",
    "\n",
    "1. 셀나누기   : ctrl+shift+-\n",
    "2. 셀실행하기 : ctrl+enter, shift+enter, alt+enter\n",
    "3. 한줄주석   : ctrt+/\n",
    "\n",
    "# B. 파이썬의 기본문법\n",
    "\n",
    "## 1. 세미콜론\n",
    "\n",
    "- 파이썬은 기본적으로 세미콜론을 사용하지 않는다.\n",
    "- 단, 세미콜론을 붙여도 문법에러는 발생하지 않는다.\n",
    "- 보통은 한줄에 여러개의 실행문을 사용할 때 세미콜론으로 구분한다."
   ]
  },
  {
   "cell_type": "code",
   "execution_count": null,
   "id": "dad51625-13b1-401f-9437-a4b75ea629a4",
   "metadata": {},
   "outputs": [],
   "source": [
    "print('Hello Python!!'); print(\"Hello World!!\")"
   ]
  },
  {
   "cell_type": "markdown",
   "id": "d3221659-2659-4f60-860d-f163aabe0475",
   "metadata": {},
   "source": [
    "## 2. 주석\n",
    "\n",
    "1. 한줄 주석은 `#`로 시작하고 여러줄 주석은 `''' or \"\"\"로 시작하고 닫는다`.\n",
    "2. 파이썬에서 문자열은 `작은 따옴표와 큰 따옴표를 구분없이 사용`한다."
   ]
  },
  {
   "cell_type": "code",
   "execution_count": null,
   "id": "5d1100d6-285a-467b-803b-c285f7cdd2be",
   "metadata": {},
   "outputs": [],
   "source": [
    "# 파이썬의 문자열은 작은 따옴표와 큰 따옴표를 구분없이 사용한다.\n",
    "# 1) 한줄 주석\n",
    "# 더하기\n",
    "# 1+2\n",
    "# print(\"Hello World!!\"); print('hello world!!')\n",
    "\n",
    "# 2) 여러줄 주석\n",
    "'''\n",
    "a = 1 + 2\n",
    "print('1 + 2 = ', a)\n",
    "'''\n",
    "\n",
    "\"\"\"\n",
    "a = 1 + 2\n",
    "print('1 + 2 = ', a)\n",
    "\"\"\""
   ]
  },
  {
   "cell_type": "markdown",
   "id": "5ca943bd-a977-4c94-af70-2df1bf3f8fe8",
   "metadata": {},
   "source": [
    "## 3. 들여쓰기\n",
    "<img src=\"./images/01.파이썬자료형_기본형_01.png\" width=\"300\" height=\"200\">\n",
    "\n",
    "* 파이썬은 공백2칸, 4칸, 탭1칸등을 사용해서 블럭을 구분한다.\n",
    "* 들여쓰기의 레벨에 맞춰 코딩블럭을 구분해도 되지만 `파이썬 코딩스타일 가이드(PEP8)`에서는\n",
    "* 공백4칸으로 권장하고 있다. 따라서 `블럭을 구분하려면 공백4칸을 사용`하는 것을 관례로 한다.\n",
    "\n",
    "<img src=\"./images/01.파이썬자료형_기본형_02.png\" width=\"300\" height=\"200\">\n",
    "\n",
    "* 코드블럭은 특정한 동작을 수행하기 위해 코드를 그룹화한 상태를 말한다.\n",
    "* 파이썬은 `들여쓰기를 기준으로 코드블럭을 구성`한다.\n",
    "* 단, 같은 블럭은 들여쓰기 레벨(칸수)이 같아야 하고 공백과 탭을 섞어서 쓰면 않된다."
   ]
  },
  {
   "cell_type": "code",
   "execution_count": null,
   "id": "1b44df36-6cde-490e-9d2a-5b83aee06253",
   "metadata": {},
   "outputs": [],
   "source": [
    "if(True):\n",
    "    print('Hello World!!');\n",
    "    print('Hello Python!!');"
   ]
  },
  {
   "cell_type": "markdown",
   "id": "0c7922b8-50db-4f2f-977f-dc178f5ad12e",
   "metadata": {},
   "source": [
    "# C. 자료형\n",
    "\n",
    "# 1. 숫자형\n",
    "\n",
    "* 파이썬에서는 숫자의 자료형에 따라 결과가 달라질 수 있기 때문에 이 부분을 정확하게 구분해야 한다.\n",
    "* 다음과 같이 파이썬에서는 숫자를 `정수형(int)과 실수형(float), 복소수(complex)`로 구분한다.\n",
    "\n",
    "<img src=\"./images/01.파이썬자료형_기본형_03_숫자자료형.png\" width=\"300\" height=\"200\">\n",
    "\n",
    "### 1) int\n",
    "* 정수형(Integer)으로서 양의 정수, 음의 정수 그리고 0으로 정의할 수 있다."
   ]
  },
  {
   "cell_type": "code",
   "execution_count": null,
   "id": "f4927a92-2e7f-4224-9f1d-abd14dc05c2a",
   "metadata": {},
   "outputs": [],
   "source": [
    "a = 1\n",
    "b = 0\n",
    "c = -1\n",
    "a\n",
    "b\n",
    "c\n",
    "print(a)\n",
    "print(b)\n",
    "print(c)\n",
    "\n",
    "# type() : 자료형확인함수\n",
    "print(type(a))\n",
    "print(type(b))\n",
    "print(type(c))"
   ]
  },
  {
   "cell_type": "code",
   "execution_count": null,
   "id": "877ee735-09f6-4738-baf4-0a57a15ac972",
   "metadata": {},
   "outputs": [],
   "source": [
    "# 매직명령어(%) - 파이썬명령이 아니라 Jupyter Notebook에서 사용하는 명령어\n",
    "# 윈도우명령(!) - 파이썬멸영이 아니라 windows(dos)명령어\n",
    "# 1. 현재 디렉토리(폴더) 목록 출력하기\n",
    "%ls *.ipynb\n",
    "%ls\n",
    "!dir"
   ]
  },
  {
   "cell_type": "code",
   "execution_count": null,
   "id": "34924d44",
   "metadata": {},
   "outputs": [],
   "source": [
    "# 2. 현재 세션(namespace)에서 사용중인 변수를 출력하기\n",
    "# who(변수명만 출력), whos(변수명, 타입, 값)을 출력\n",
    "%whos"
   ]
  },
  {
   "cell_type": "code",
   "execution_count": null,
   "id": "c7642feb-9d0f-475a-b032-f79e8585b8cb",
   "metadata": {},
   "outputs": [],
   "source": [
    "# 3. 한 줄에 여러구분, 여러변수를 한번에 출력하기\n",
    "print(a); print(b); print(c)\n",
    "print(a, b, c)"
   ]
  },
  {
   "cell_type": "code",
   "execution_count": null,
   "id": "0e214124-ac7f-4a0a-9784-041e1e396cc1",
   "metadata": {},
   "outputs": [],
   "source": [
    "# 4. 함수 : 함수명() -> print(), type() \n",
    "print('==================================')\n",
    "print('-'*60)  # 파이썬에서 문자열 연산은 연결(+), 반복(*)연산이 가능하다.\n",
    "print('+'*10 + '99999')"
   ]
  },
  {
   "cell_type": "code",
   "execution_count": null,
   "id": "579939b4-5a03-4fb0-b3cd-7887e2fc37c7",
   "metadata": {},
   "outputs": [],
   "source": [
    "a = '싱글로 정의한 문자열'\n",
    "b = \"더블로 정의한 문자열\"\n",
    "\n",
    "%whos"
   ]
  },
  {
   "cell_type": "code",
   "execution_count": 3,
   "id": "78d306e8-ae79-4903-a53a-88ecfaa79334",
   "metadata": {},
   "outputs": [
    {
     "name": "stdout",
     "output_type": "stream",
     "text": [
      "Variable   Type                          Data/Info\n",
      "--------------------------------------------------\n",
      "a          builtin_function_or_method    <built-in function print>\n",
      "Variable   Type                          Data/Info\n",
      "--------------------------------------------------\n",
      "a          builtin_function_or_method    <built-in function print>\n",
      "print      int                           10\n"
     ]
    },
    {
     "ename": "TypeError",
     "evalue": "'int' object is not callable",
     "output_type": "error",
     "traceback": [
      "\u001b[1;31m---------------------------------------------------------------------------\u001b[0m",
      "\u001b[1;31mTypeError\u001b[0m                                 Traceback (most recent call last)",
      "Cell \u001b[1;32mIn[3], line 8\u001b[0m\n\u001b[0;32m      5\u001b[0m \u001b[38;5;28mprint\u001b[39m \u001b[38;5;241m=\u001b[39m \u001b[38;5;241m10\u001b[39m;\n\u001b[0;32m      6\u001b[0m get_ipython()\u001b[38;5;241m.\u001b[39mrun_line_magic(\u001b[38;5;124m'\u001b[39m\u001b[38;5;124mwhos\u001b[39m\u001b[38;5;124m'\u001b[39m, \u001b[38;5;124m'\u001b[39m\u001b[38;5;124m'\u001b[39m)\n\u001b[1;32m----> 8\u001b[0m \u001b[38;5;28mprint\u001b[39m(\u001b[38;5;241m101010\u001b[39m)\n",
      "\u001b[1;31mTypeError\u001b[0m: 'int' object is not callable"
     ]
    }
   ],
   "source": [
    "# 주의할 점\n",
    "a = print\n",
    "%whos\n",
    "\n",
    "print = 10;\n",
    "%whos\n",
    "\n",
    "print(101010)"
   ]
  },
  {
   "cell_type": "code",
   "execution_count": 7,
   "id": "16b48727-3567-4a70-8fb0-cd4c13857cef",
   "metadata": {},
   "outputs": [
    {
     "name": "stdout",
     "output_type": "stream",
     "text": [
      "Variable   Type                          Data/Info\n",
      "--------------------------------------------------\n",
      "a          builtin_function_or_method    <built-in function print>\n",
      "print      int                           10\n",
      "10\n",
      "Variable   Type                          Data/Info\n",
      "--------------------------------------------------\n",
      "a          builtin_function_or_method    <built-in function print>\n",
      "print      builtin_function_or_method    <built-in function print>\n"
     ]
    }
   ],
   "source": [
    "%whos\n",
    "type(print)\n",
    "a(10)\n",
    "\n",
    "print = a\n",
    "%whos"
   ]
  },
  {
   "cell_type": "markdown",
   "id": "9f97a7d6-108c-4919-a9d6-fb4601cf7e1e",
   "metadata": {},
   "source": [
    "### 2) float\n",
    "\n",
    "* 실수형으로서 소수점을 가지는 숫자를 정의한다.\n",
    "* 실수와 정수를 함께 사용하면 표현범위가 다 큰 실수타입으로 계산된다.\n",
    "* 즉, 실수가 정수보다 표현범위가 넓기 때문에 실수와 정의 연산결과는 실수로 처리된다."
   ]
  },
  {
   "cell_type": "code",
   "execution_count": 9,
   "id": "9d2c624e-15e2-47d8-9b02-7c5cf6ed50b0",
   "metadata": {},
   "outputs": [
    {
     "name": "stdout",
     "output_type": "stream",
     "text": [
      "<class 'float'>\n",
      "['__abs__', '__add__', '__bool__', '__ceil__', '__class__', '__delattr__', '__dir__', '__divmod__', '__doc__', '__eq__', '__float__', '__floor__', '__floordiv__', '__format__', '__ge__', '__getattribute__', '__getformat__', '__getnewargs__', '__getstate__', '__gt__', '__hash__', '__init__', '__init_subclass__', '__int__', '__le__', '__lt__', '__mod__', '__mul__', '__ne__', '__neg__', '__new__', '__pos__', '__pow__', '__radd__', '__rdivmod__', '__reduce__', '__reduce_ex__', '__repr__', '__rfloordiv__', '__rmod__', '__rmul__', '__round__', '__rpow__', '__rsub__', '__rtruediv__', '__setattr__', '__sizeof__', '__str__', '__sub__', '__subclasshook__', '__truediv__', '__trunc__', 'as_integer_ratio', 'conjugate', 'fromhex', 'hex', 'imag', 'is_integer', 'real']\n",
      "['__abs__', '__add__', '__and__', '__bool__', '__ceil__', '__class__', '__delattr__', '__dir__', '__divmod__', '__doc__', '__eq__', '__float__', '__floor__', '__floordiv__', '__format__', '__ge__', '__getattribute__', '__getnewargs__', '__getstate__', '__gt__', '__hash__', '__index__', '__init__', '__init_subclass__', '__int__', '__invert__', '__le__', '__lshift__', '__lt__', '__mod__', '__mul__', '__ne__', '__neg__', '__new__', '__or__', '__pos__', '__pow__', '__radd__', '__rand__', '__rdivmod__', '__reduce__', '__reduce_ex__', '__repr__', '__rfloordiv__', '__rlshift__', '__rmod__', '__rmul__', '__ror__', '__round__', '__rpow__', '__rrshift__', '__rshift__', '__rsub__', '__rtruediv__', '__rxor__', '__setattr__', '__sizeof__', '__str__', '__sub__', '__subclasshook__', '__truediv__', '__trunc__', '__xor__', 'as_integer_ratio', 'bit_count', 'bit_length', 'conjugate', 'denominator', 'from_bytes', 'imag', 'numerator', 'real', 'to_bytes']\n"
     ]
    }
   ],
   "source": [
    "d = 1.2\n",
    "e = 10\n",
    "f = d + e\n",
    "print(type(f))\n",
    "\n",
    "print(dir(d))\n",
    "print(dir(e))"
   ]
  },
  {
   "cell_type": "markdown",
   "id": "205d0464-1a80-4cf4-9496-a4c4be02312d",
   "metadata": {},
   "source": []
  },
  {
   "cell_type": "code",
   "execution_count": 12,
   "id": "83c50781-c2d3-4c0b-9a9a-b2b77dd1da7b",
   "metadata": {},
   "outputs": [
    {
     "data": {
      "text/plain": [
       "\u001b[1;31mType:\u001b[0m        float\n",
       "\u001b[1;31mString form:\u001b[0m 1.2\n",
       "\u001b[1;31mDocstring:\u001b[0m   Convert a string or number to a floating point number, if possible."
      ]
     },
     "metadata": {},
     "output_type": "display_data"
    }
   ],
   "source": [
    "# 변수의 자료형을 간단하게 확인할 경우에 변수명 앞 or 뒤에 ?을 붙여서 실행한다\n",
    "?d"
   ]
  },
  {
   "cell_type": "code",
   "execution_count": 13,
   "id": "bbf28b96-c7b4-4f15-9ff6-7215448b81b1",
   "metadata": {},
   "outputs": [
    {
     "name": "stdout",
     "output_type": "stream",
     "text": [
      "Help on float object:\n",
      "\n",
      "class float(object)\n",
      " |  float(x=0, /)\n",
      " |  \n",
      " |  Convert a string or number to a floating point number, if possible.\n",
      " |  \n",
      " |  Methods defined here:\n",
      " |  \n",
      " |  __abs__(self, /)\n",
      " |      abs(self)\n",
      " |  \n",
      " |  __add__(self, value, /)\n",
      " |      Return self+value.\n",
      " |  \n",
      " |  __bool__(self, /)\n",
      " |      True if self else False\n",
      " |  \n",
      " |  __ceil__(self, /)\n",
      " |      Return the ceiling as an Integral.\n",
      " |  \n",
      " |  __divmod__(self, value, /)\n",
      " |      Return divmod(self, value).\n",
      " |  \n",
      " |  __eq__(self, value, /)\n",
      " |      Return self==value.\n",
      " |  \n",
      " |  __float__(self, /)\n",
      " |      float(self)\n",
      " |  \n",
      " |  __floor__(self, /)\n",
      " |      Return the floor as an Integral.\n",
      " |  \n",
      " |  __floordiv__(self, value, /)\n",
      " |      Return self//value.\n",
      " |  \n",
      " |  __format__(self, format_spec, /)\n",
      " |      Formats the float according to format_spec.\n",
      " |  \n",
      " |  __ge__(self, value, /)\n",
      " |      Return self>=value.\n",
      " |  \n",
      " |  __getattribute__(self, name, /)\n",
      " |      Return getattr(self, name).\n",
      " |  \n",
      " |  __getnewargs__(self, /)\n",
      " |  \n",
      " |  __gt__(self, value, /)\n",
      " |      Return self>value.\n",
      " |  \n",
      " |  __hash__(self, /)\n",
      " |      Return hash(self).\n",
      " |  \n",
      " |  __int__(self, /)\n",
      " |      int(self)\n",
      " |  \n",
      " |  __le__(self, value, /)\n",
      " |      Return self<=value.\n",
      " |  \n",
      " |  __lt__(self, value, /)\n",
      " |      Return self<value.\n",
      " |  \n",
      " |  __mod__(self, value, /)\n",
      " |      Return self%value.\n",
      " |  \n",
      " |  __mul__(self, value, /)\n",
      " |      Return self*value.\n",
      " |  \n",
      " |  __ne__(self, value, /)\n",
      " |      Return self!=value.\n",
      " |  \n",
      " |  __neg__(self, /)\n",
      " |      -self\n",
      " |  \n",
      " |  __pos__(self, /)\n",
      " |      +self\n",
      " |  \n",
      " |  __pow__(self, value, mod=None, /)\n",
      " |      Return pow(self, value, mod).\n",
      " |  \n",
      " |  __radd__(self, value, /)\n",
      " |      Return value+self.\n",
      " |  \n",
      " |  __rdivmod__(self, value, /)\n",
      " |      Return divmod(value, self).\n",
      " |  \n",
      " |  __repr__(self, /)\n",
      " |      Return repr(self).\n",
      " |  \n",
      " |  __rfloordiv__(self, value, /)\n",
      " |      Return value//self.\n",
      " |  \n",
      " |  __rmod__(self, value, /)\n",
      " |      Return value%self.\n",
      " |  \n",
      " |  __rmul__(self, value, /)\n",
      " |      Return value*self.\n",
      " |  \n",
      " |  __round__(self, ndigits=None, /)\n",
      " |      Return the Integral closest to x, rounding half toward even.\n",
      " |      \n",
      " |      When an argument is passed, work like built-in round(x, ndigits).\n",
      " |  \n",
      " |  __rpow__(self, value, mod=None, /)\n",
      " |      Return pow(value, self, mod).\n",
      " |  \n",
      " |  __rsub__(self, value, /)\n",
      " |      Return value-self.\n",
      " |  \n",
      " |  __rtruediv__(self, value, /)\n",
      " |      Return value/self.\n",
      " |  \n",
      " |  __sub__(self, value, /)\n",
      " |      Return self-value.\n",
      " |  \n",
      " |  __truediv__(self, value, /)\n",
      " |      Return self/value.\n",
      " |  \n",
      " |  __trunc__(self, /)\n",
      " |      Return the Integral closest to x between 0 and x.\n",
      " |  \n",
      " |  as_integer_ratio(self, /)\n",
      " |      Return integer ratio.\n",
      " |      \n",
      " |      Return a pair of integers, whose ratio is exactly equal to the original float\n",
      " |      and with a positive denominator.\n",
      " |      \n",
      " |      Raise OverflowError on infinities and a ValueError on NaNs.\n",
      " |      \n",
      " |      >>> (10.0).as_integer_ratio()\n",
      " |      (10, 1)\n",
      " |      >>> (0.0).as_integer_ratio()\n",
      " |      (0, 1)\n",
      " |      >>> (-.25).as_integer_ratio()\n",
      " |      (-1, 4)\n",
      " |  \n",
      " |  conjugate(self, /)\n",
      " |      Return self, the complex conjugate of any float.\n",
      " |  \n",
      " |  hex(self, /)\n",
      " |      Return a hexadecimal representation of a floating-point number.\n",
      " |      \n",
      " |      >>> (-0.1).hex()\n",
      " |      '-0x1.999999999999ap-4'\n",
      " |      >>> 3.14159.hex()\n",
      " |      '0x1.921f9f01b866ep+1'\n",
      " |  \n",
      " |  is_integer(self, /)\n",
      " |      Return True if the float is an integer.\n",
      " |  \n",
      " |  ----------------------------------------------------------------------\n",
      " |  Class methods defined here:\n",
      " |  \n",
      " |  __getformat__(typestr, /) from builtins.type\n",
      " |      You probably don't want to use this function.\n",
      " |      \n",
      " |        typestr\n",
      " |          Must be 'double' or 'float'.\n",
      " |      \n",
      " |      It exists mainly to be used in Python's test suite.\n",
      " |      \n",
      " |      This function returns whichever of 'unknown', 'IEEE, big-endian' or 'IEEE,\n",
      " |      little-endian' best describes the format of floating point numbers used by the\n",
      " |      C type named by typestr.\n",
      " |  \n",
      " |  fromhex(string, /) from builtins.type\n",
      " |      Create a floating-point number from a hexadecimal string.\n",
      " |      \n",
      " |      >>> float.fromhex('0x1.ffffp10')\n",
      " |      2047.984375\n",
      " |      >>> float.fromhex('-0x1p-1074')\n",
      " |      -5e-324\n",
      " |  \n",
      " |  ----------------------------------------------------------------------\n",
      " |  Static methods defined here:\n",
      " |  \n",
      " |  __new__(*args, **kwargs) from builtins.type\n",
      " |      Create and return a new object.  See help(type) for accurate signature.\n",
      " |  \n",
      " |  ----------------------------------------------------------------------\n",
      " |  Data descriptors defined here:\n",
      " |  \n",
      " |  imag\n",
      " |      the imaginary part of a complex number\n",
      " |  \n",
      " |  real\n",
      " |      the real part of a complex number\n",
      "\n"
     ]
    }
   ],
   "source": [
    "# 또한 보다 자세한 변수의 상세내용을 보려면 help()함수를 사용한다.\n",
    "help(d)"
   ]
  },
  {
   "cell_type": "code",
   "execution_count": 29,
   "id": "6176be3c-3a4b-409c-8401-6c20cece7c74",
   "metadata": {},
   "outputs": [
    {
     "name": "stdout",
     "output_type": "stream",
     "text": [
      "7, 15\n",
      "7, 15\n",
      "\n",
      "pi의 값은 3.141592 입니다!!\n"
     ]
    }
   ],
   "source": [
    "# 진법처리하기\n",
    "# 8진수 : 0o or 0O로 시작\n",
    "# 16진수: 0x or 0X로 시작\n",
    "g = 0o7\n",
    "h = 0xf\n",
    "print(g, h, sep=\", \" , end=\"\\n\")\n",
    "print(g, h, sep=\", \")\n",
    "print()\n",
    "\n",
    "pi = 3.141592\n",
    "print('pi의 값은', pi, '입니다!!')"
   ]
  },
  {
   "cell_type": "markdown",
   "id": "24997dd5-2202-4110-a8bf-cb18d7c337b2",
   "metadata": {},
   "source": [
    "### 3) complex\n",
    "* 복소수형으로서 복소소를 정의하는데에 2가지 방법으로 정의할 수 있다.\n",
    "  1. 복소수란? `a+bi`로 나타낼 수 있는 숫자로 a는 실수부, b는 허수부로 표현\n",
    "  2. 수학교과서에서는 허수단위를 i로 표시하지만 파이썬에서는 `소문자 j or 대문자 J로 표시`한다."
   ]
  },
  {
   "cell_type": "code",
   "execution_count": 31,
   "id": "6410d8fd-497d-478b-aaa0-a127dd0ed6db",
   "metadata": {},
   "outputs": [
    {
     "name": "stdout",
     "output_type": "stream",
     "text": [
      "Help on class complex in module builtins:\n",
      "\n",
      "class complex(object)\n",
      " |  complex(real=0, imag=0)\n",
      " |  \n",
      " |  Create a complex number from a real part and an optional imaginary part.\n",
      " |  \n",
      " |  This is equivalent to (real + imag*1j) where imag defaults to 0.\n",
      " |  \n",
      " |  Methods defined here:\n",
      " |  \n",
      " |  __abs__(self, /)\n",
      " |      abs(self)\n",
      " |  \n",
      " |  __add__(self, value, /)\n",
      " |      Return self+value.\n",
      " |  \n",
      " |  __bool__(self, /)\n",
      " |      True if self else False\n",
      " |  \n",
      " |  __complex__(self, /)\n",
      " |      Convert this value to exact type complex.\n",
      " |  \n",
      " |  __eq__(self, value, /)\n",
      " |      Return self==value.\n",
      " |  \n",
      " |  __format__(self, format_spec, /)\n",
      " |      Convert to a string according to format_spec.\n",
      " |  \n",
      " |  __ge__(self, value, /)\n",
      " |      Return self>=value.\n",
      " |  \n",
      " |  __getattribute__(self, name, /)\n",
      " |      Return getattr(self, name).\n",
      " |  \n",
      " |  __getnewargs__(self, /)\n",
      " |  \n",
      " |  __gt__(self, value, /)\n",
      " |      Return self>value.\n",
      " |  \n",
      " |  __hash__(self, /)\n",
      " |      Return hash(self).\n",
      " |  \n",
      " |  __le__(self, value, /)\n",
      " |      Return self<=value.\n",
      " |  \n",
      " |  __lt__(self, value, /)\n",
      " |      Return self<value.\n",
      " |  \n",
      " |  __mul__(self, value, /)\n",
      " |      Return self*value.\n",
      " |  \n",
      " |  __ne__(self, value, /)\n",
      " |      Return self!=value.\n",
      " |  \n",
      " |  __neg__(self, /)\n",
      " |      -self\n",
      " |  \n",
      " |  __pos__(self, /)\n",
      " |      +self\n",
      " |  \n",
      " |  __pow__(self, value, mod=None, /)\n",
      " |      Return pow(self, value, mod).\n",
      " |  \n",
      " |  __radd__(self, value, /)\n",
      " |      Return value+self.\n",
      " |  \n",
      " |  __repr__(self, /)\n",
      " |      Return repr(self).\n",
      " |  \n",
      " |  __rmul__(self, value, /)\n",
      " |      Return value*self.\n",
      " |  \n",
      " |  __rpow__(self, value, mod=None, /)\n",
      " |      Return pow(value, self, mod).\n",
      " |  \n",
      " |  __rsub__(self, value, /)\n",
      " |      Return value-self.\n",
      " |  \n",
      " |  __rtruediv__(self, value, /)\n",
      " |      Return value/self.\n",
      " |  \n",
      " |  __sub__(self, value, /)\n",
      " |      Return self-value.\n",
      " |  \n",
      " |  __truediv__(self, value, /)\n",
      " |      Return self/value.\n",
      " |  \n",
      " |  conjugate(self, /)\n",
      " |      Return the complex conjugate of its argument. (3-4j).conjugate() == 3+4j.\n",
      " |  \n",
      " |  ----------------------------------------------------------------------\n",
      " |  Static methods defined here:\n",
      " |  \n",
      " |  __new__(*args, **kwargs) from builtins.type\n",
      " |      Create and return a new object.  See help(type) for accurate signature.\n",
      " |  \n",
      " |  ----------------------------------------------------------------------\n",
      " |  Data descriptors defined here:\n",
      " |  \n",
      " |  imag\n",
      " |      the imaginary part of a complex number\n",
      " |  \n",
      " |  real\n",
      " |      the real part of a complex number\n",
      "\n"
     ]
    },
    {
     "data": {
      "text/plain": [
       "\u001b[1;31mInit signature:\u001b[0m \u001b[0mcomplex\u001b[0m\u001b[1;33m(\u001b[0m\u001b[0mreal\u001b[0m\u001b[1;33m=\u001b[0m\u001b[1;36m0\u001b[0m\u001b[1;33m,\u001b[0m \u001b[0mimag\u001b[0m\u001b[1;33m=\u001b[0m\u001b[1;36m0\u001b[0m\u001b[1;33m)\u001b[0m\u001b[1;33m\u001b[0m\u001b[1;33m\u001b[0m\u001b[0m\n",
       "\u001b[1;31mDocstring:\u001b[0m     \n",
       "Create a complex number from a real part and an optional imaginary part.\n",
       "\n",
       "This is equivalent to (real + imag*1j) where imag defaults to 0.\n",
       "\u001b[1;31mType:\u001b[0m           type\n",
       "\u001b[1;31mSubclasses:\u001b[0m     "
      ]
     },
     "metadata": {},
     "output_type": "display_data"
    }
   ],
   "source": [
    "# complex(실수부, 허수부)함수 : 복소수를 정의하는 함수\n",
    "complex?\n",
    "help(complex)"
   ]
  },
  {
   "cell_type": "markdown",
   "id": "008cc47e-ca1f-4034-abea-490c4ad2e0b0",
   "metadata": {},
   "source": [
    "### 4) 숫자형을 활용하기 위한 연산자\n",
    "\n",
    "* 숫자에 대한 연산은 `+, -, *, /, **, %, //`연산자를 활용하여 연산을 수행한다.\n",
    "  1. 사칙연산자 : +, -, *, /\n",
    "  2. 제곱연산자 : **\n",
    "  3. 나머지연산 : %\n",
    "  4. 나머지절삭 : //연산자는 나눗셈결과(몫)와 나머지를 버리는 연산자,\n",
    "     - 주의할 점은 정수형, 실수형결과 상이함에 주의할 것"
   ]
  },
  {
   "cell_type": "code",
   "execution_count": 41,
   "id": "709192f9-80c5-4bc7-9391-1bce4147328c",
   "metadata": {},
   "outputs": [
    {
     "name": "stdout",
     "output_type": "stream",
     "text": [
      "더하기 = 2\n",
      "빼기   = 0\n",
      "곱하기 = 4\n",
      "나누기 = 3.3333333333333335\n",
      "\n",
      "제곱연산 = 8\n",
      "\n",
      "나머지연산 = 3\n",
      "몫만 반환하는 연산 = 1\n",
      "몫만 반환하는 연산 = 1.0\n",
      "몫만 반환하는 연산 = 1.0\n",
      "\n",
      "부호연산 = -1\n",
      "부호연산 = 1\n"
     ]
    }
   ],
   "source": [
    "# 1) 4칙연산\n",
    "print(\"더하기 =\", 1 + 1)\n",
    "print(\"빼기   =\", 1 - 1)\n",
    "print(\"곱하기 =\", 2 + 2)\n",
    "print(\"나누기 =\", 10 / 3)\n",
    "print()\n",
    "\n",
    "# 2) 제곱연산\n",
    "print(\"제곱연산 =\", 2 ** 3)\n",
    "print()\n",
    "\n",
    "# 3) 나머지연산\n",
    "print(\"나머지연산 =\", 7 % 4)\n",
    "print(\"몫만 반환하는 연산 =\", 7 // 4)\n",
    "print(\"몫만 반환하는 연산 =\", 7.0 // 4.0)\n",
    "print(\"몫만 반환하는 연산 =\", 7.0 // 4)\n",
    "print()\n",
    "\n",
    "# 4) 부호연산(-, +)\n",
    "x = 1\n",
    "print('부호연산 =', -x)\n",
    "print('부호연산 =', +x)"
   ]
  },
  {
   "cell_type": "markdown",
   "id": "aa6548f6-b5c6-4a58-86f1-c9a8243b1384",
   "metadata": {},
   "source": [
    "### 5) 숫자자료형의 함수\n",
    "\n",
    "1. abs()\n",
    "2. int()\n",
    "3. float()\n",
    "4. divmod(x, y) : x%y와 x//y의 결과를 한쌍으로 반환해주는 함수\n",
    "5. pow(x, y) : x ** y의 결과를 반환\n",
    "6. 그외..."
   ]
  },
  {
   "cell_type": "code",
   "execution_count": 56,
   "id": "269c4218-0bb5-499f-8a53-1a509df658c5",
   "metadata": {},
   "outputs": [
    {
     "name": "stdout",
     "output_type": "stream",
     "text": [
      "['__abs__', '__add__', '__bool__', '__ceil__', '__class__', '__delattr__', '__dir__', '__divmod__', '__doc__', '__eq__', '__float__', '__floor__', '__floordiv__', '__format__', '__ge__', '__getattribute__', '__getformat__', '__getnewargs__', '__getstate__', '__gt__', '__hash__', '__init__', '__init_subclass__', '__int__', '__le__', '__lt__', '__mod__', '__mul__', '__ne__', '__neg__', '__new__', '__pos__', '__pow__', '__radd__', '__rdivmod__', '__reduce__', '__reduce_ex__', '__repr__', '__rfloordiv__', '__rmod__', '__rmul__', '__round__', '__rpow__', '__rsub__', '__rtruediv__', '__setattr__', '__sizeof__', '__str__', '__sub__', '__subclasshook__', '__truediv__', '__trunc__', 'as_integer_ratio', 'conjugate', 'fromhex', 'hex', 'imag', 'is_integer', 'real']\n",
      "<class 'int'>\n",
      "<class 'builtin_function_or_method'>\n"
     ]
    }
   ],
   "source": [
    "print(dir(1.0))\n",
    "print(type(f.__int__()))\n",
    "print(type(f.as_integer_ratio))"
   ]
  },
  {
   "cell_type": "code",
   "execution_count": 63,
   "id": "057b9761-b28d-499d-9f96-a81c9b205d72",
   "metadata": {},
   "outputs": [
    {
     "data": {
      "text/plain": [
       "112.0"
      ]
     },
     "execution_count": 63,
     "metadata": {},
     "output_type": "execute_result"
    },
    {
     "data": {
      "text/plain": [
       "\u001b[1;31mSignature:\u001b[0m      \u001b[0mf\u001b[0m\u001b[1;33m.\u001b[0m\u001b[0m__abs__\u001b[0m\u001b[1;33m(\u001b[0m\u001b[1;33m)\u001b[0m\u001b[1;33m\u001b[0m\u001b[1;33m\u001b[0m\u001b[0m\n",
       "\u001b[1;31mCall signature:\u001b[0m \u001b[0mf\u001b[0m\u001b[1;33m.\u001b[0m\u001b[0m__abs__\u001b[0m\u001b[1;33m(\u001b[0m\u001b[1;33m*\u001b[0m\u001b[0margs\u001b[0m\u001b[1;33m,\u001b[0m \u001b[1;33m**\u001b[0m\u001b[0mkwargs\u001b[0m\u001b[1;33m)\u001b[0m\u001b[1;33m\u001b[0m\u001b[1;33m\u001b[0m\u001b[0m\n",
       "\u001b[1;31mType:\u001b[0m           method-wrapper\n",
       "\u001b[1;31mString form:\u001b[0m    <method-wrapper '__abs__' of float object at 0x000001F2EDF346F0>\n",
       "\u001b[1;31mDocstring:\u001b[0m      abs(self)"
      ]
     },
     "metadata": {},
     "output_type": "display_data"
    }
   ],
   "source": [
    "f.__abs__\n",
    "f.__abs__?\n",
    "f = -f\n",
    "f.__abs__() # 호출"
   ]
  },
  {
   "cell_type": "code",
   "execution_count": 73,
   "id": "d4aa230d-a5a3-473d-94d2-1e619bdfdd91",
   "metadata": {},
   "outputs": [
    {
     "name": "stdout",
     "output_type": "stream",
     "text": [
      "절대값 = 1\n",
      "정수변환 = 3 3141592\n",
      "실수변환 = 3.0 3.0\n",
      "몫과 나머지 = (1, 3) <class 'tuple'>\n",
      "제곱근 =  8\n"
     ]
    }
   ],
   "source": [
    "# 숫자관련함수\n",
    "print('절대값 =', abs(-1))\n",
    "print('정수변환 =', int(3.141592), int('3141592'))\n",
    "print('실수변환 =', float(3), float('3'))\n",
    "print('몫과 나머지 =', divmod(7, 4), type(divmod(7, 4))) #(1, 3) 자료형(tuple)으로 리턴\n",
    "print('제곱근 = ', pow(2,3)) "
   ]
  },
  {
   "cell_type": "markdown",
   "id": "d9dbd975-3968-43a4-adb5-2f145b00e081",
   "metadata": {},
   "source": [
    "## 2. 문자형(문자열)\n",
    "\n",
    "* 문자열(string, str)이란 문자의 집합을 의미한다.\n",
    "* 파이썬에서는 문자열을 작은/큰 따옴표를 구분없이 사용한다.\n",
    "* 또한, 여러줄로 문자열을 정의할 경우 작은/큰 따옴표 3개를 연속해서 감싸서 정의한다.\n",
    "\n",
    "### 1) 문자열을 정의하는 방법\n"
   ]
  },
  {
   "cell_type": "code",
   "execution_count": 74,
   "id": "c99a3e60-17ef-4cef-a958-39932bf6473a",
   "metadata": {},
   "outputs": [
    {
     "name": "stdout",
     "output_type": "stream",
     "text": [
      "<class 'str'> 문자열 정의방법(1) - 작은 따옴표\n",
      "<class 'str'> 문자열 정의방법(2) - 큰 따옴표\n",
      "<class 'str'> 문자열 정의방법(3)\n",
      "1\n",
      "2\n",
      "3\n",
      "\n"
     ]
    }
   ],
   "source": [
    "a = '문자열 정의방법(1) - 작은 따옴표'\n",
    "b = \"문자열 정의방법(2) - 큰 따옴표\"\n",
    "c = \"\"\"문자열 정의방법(3)\n",
    "1\n",
    "2\n",
    "3\n",
    "\"\"\"\n",
    "print(type(a), a)\n",
    "print(type(b), b)\n",
    "print(type(c), c)"
   ]
  },
  {
   "cell_type": "markdown",
   "id": "acc4d4cc-9bb5-488c-b963-585f06584fb1",
   "metadata": {},
   "source": [
    "### 2) 문자열에 작은/큰 따옴표를 혼합해서 정의하는 방법\n"
   ]
  },
  {
   "cell_type": "code",
   "execution_count": 81,
   "id": "76a1de13-6326-470f-87e6-853959388714",
   "metadata": {},
   "outputs": [
    {
     "name": "stdout",
     "output_type": "stream",
     "text": [
      "Python\"s simple program language.\n",
      "Python's simple program language.\n",
      "Python's simple program language.\n",
      "Python\"s simple program language.\n"
     ]
    }
   ],
   "source": [
    "a = 'Python\"s simple program language.'\n",
    "b = \"Python's simple program language.\"\n",
    "c = 'Python\\'s simple program language.'\n",
    "d = \"Python\\\"s simple program language.\"\n",
    "\n",
    "print(a)\n",
    "print(b)\n",
    "print(c)\n",
    "print(d)"
   ]
  },
  {
   "cell_type": "markdown",
   "id": "a7c3fab1-13c4-49d6-af89-77ed9fe95b36",
   "metadata": {},
   "source": [
    "### 3) 문자열 연산하기\n",
    "* 파이썬에서는 문자열을 연산할 때 자료형이 틀릴 경우에는 에러가 발생한다."
   ]
  },
  {
   "cell_type": "code",
   "execution_count": 85,
   "id": "35e638c6-dc08-4183-9a70-73d518249811",
   "metadata": {},
   "outputs": [
    {
     "name": "stdout",
     "output_type": "stream",
     "text": [
      "<class 'str'> 문자열10\n",
      "Python is a simple program language\n"
     ]
    }
   ],
   "source": [
    "# 1. 문자열연결하기(+)\n",
    "a = '문자열' + '10';\n",
    "print(type(a), a)\n",
    "\n",
    "# b = '문자열' + 10; # TypeError, 파이썬에서는 자료형이 다른 경우에 에러가 발생한다.\n",
    "\n",
    "head = 'Python '\n",
    "tail = 'is a simple program language'\n",
    "print(head + tail)"
   ]
  },
  {
   "cell_type": "code",
   "execution_count": 88,
   "id": "186c1e8c-2c37-459d-8f4c-bc1baf1edd0c",
   "metadata": {},
   "outputs": [
    {
     "name": "stdout",
     "output_type": "stream",
     "text": [
      "Python \n",
      "Python Python Python Python Python Python Python Python Python Python \n",
      "==================================================\n"
     ]
    }
   ],
   "source": [
    "# 2. 문자열반복하기(*)\n",
    "print(head)\n",
    "print(head * 10)\n",
    "print('=' * 50)"
   ]
  },
  {
   "cell_type": "markdown",
   "id": "9214ae71-620b-4913-97bb-76bbad12290e",
   "metadata": {},
   "source": [
    "### 4) 문자열의 인덱싱과 슬라이싱\n",
    "\n",
    "1. 인덱싱이란? `문자열의 특정위치를 가리키는 것`이다.\n",
    "2. 슬라이싱이란? `문자열의 특정위치의 문자(열)을 추출`하는 행위\n",
    "3. 인덱싱의 설정은 `대괄호 []`로 구분한다."
   ]
  },
  {
   "cell_type": "code",
   "execution_count": 99,
   "id": "ef19a7a2-54f5-4a98-9e39-ebf0c3eb86a8",
   "metadata": {},
   "outputs": [
    {
     "name": "stdout",
     "output_type": "stream",
     "text": [
      "안녕하세요 파이썬\n",
      "안\n",
      "썬\n",
      "\n",
      "썬 = 썬\n",
      "요 = 요\n",
      "\n",
      "썬 = 썬\n",
      "요 = 요\n",
      "\n"
     ]
    }
   ],
   "source": [
    "# 1. 문자열인덱싱\n",
    "# 인덱스가 양수일 경우는 앞에서 부터, 음수일 경우에는 뒤에서 부터 인덱싱이 된다.\n",
    "a = '안녕하세요 파이썬'\n",
    "print(a)\n",
    "print(a[0]); print(a[-1])\n",
    "print()\n",
    "\n",
    "print(a[-1], '=', a[8])\n",
    "print(a[-5], '=', a[4])\n",
    "print()\n",
    "\n",
    "print('안녕하세요 파이썬'[-1], '=', '안녕하세요 파이썬'[8])\n",
    "print('안녕하세요 파이썬'[-5], '=', '안녕하세요 파이썬'[4])\n",
    "print()\n",
    "\n",
    "# 인덱스범위를 초과할 경우에는 에러가 발생\n",
    "# print('안녕하세요 파이썬'[-100]) #IndexError \n",
    "# print('안녕하세요 파이썬'[100]) #IndexError "
   ]
  },
  {
   "cell_type": "code",
   "execution_count": 109,
   "id": "a365c172-4297-49ba-80aa-1e8555eccd32",
   "metadata": {},
   "outputs": [
    {
     "name": "stdout",
     "output_type": "stream",
     "text": [
      "2024\n",
      "2024 = 2024\n",
      "20240311파이썬 = 20240311파이썬 = 20240311파이썬\n",
      "파이썬 = 파이썬\n"
     ]
    }
   ],
   "source": [
    "# 2. 문자열 슬라이싱\n",
    "# 주어진 문자열에서 특정의 문자열을 추출하는 것을 의미한다.\n",
    "\n",
    "a = '20240311파이썬'\n",
    "\n",
    "# 1) 년도추출\n",
    "print(a[0]+a[1]+a[2]+a[3])  # 슬라이싱이 아니라 인덱싱\n",
    "\n",
    "# 슬라이싱은 대괄호 즉 [start, [: end-1 [,step]]형식으로 정의한다.\n",
    "print(a[0:4] ,'=', a[:4]) # 슬라이싱\n",
    "print(a[:], '=', a[0:], '=', a)\n",
    "\n",
    "# 2) 파이썬문자을 slicing으로 추출\n",
    "print(a[8:], '=', a[-3:])"
   ]
  },
  {
   "cell_type": "code",
   "execution_count": 113,
   "id": "d500507f-942f-4da5-bc39-7f20d035a3ed",
   "metadata": {},
   "outputs": [
    {
     "name": "stdout",
     "output_type": "stream",
     "text": [
      "['__add__', '__class__', '__contains__', '__delattr__', '__dir__', '__doc__', '__eq__', '__format__', '__ge__', '__getattribute__', '__getitem__', '__getnewargs__', '__getstate__', '__gt__', '__hash__', '__init__', '__init_subclass__', '__iter__', '__le__', '__len__', '__lt__', '__mod__', '__mul__', '__ne__', '__new__', '__reduce__', '__reduce_ex__', '__repr__', '__rmod__', '__rmul__', '__setattr__', '__sizeof__', '__str__', '__subclasshook__', 'capitalize', 'casefold', 'center', 'count', 'encode', 'endswith', 'expandtabs', 'find', 'format', 'format_map', 'index', 'isalnum', 'isalpha', 'isascii', 'isdecimal', 'isdigit', 'isidentifier', 'islower', 'isnumeric', 'isprintable', 'isspace', 'istitle', 'isupper', 'join', 'ljust', 'lower', 'lstrip', 'maketrans', 'partition', 'removeprefix', 'removesuffix', 'replace', 'rfind', 'rindex', 'rjust', 'rpartition', 'rsplit', 'rstrip', 'split', 'splitlines', 'startswith', 'strip', 'swapcase', 'title', 'translate', 'upper', 'zfill']\n",
      "\n",
      "문자열의 길이 = 11\n",
      "파이썬 = 파이썬 = 파이썬\n"
     ]
    }
   ],
   "source": [
    "# 3. 문자열관련함수\n",
    "print(dir(''))\n",
    "print()\n",
    "\n",
    "# 1) len() : 문자열의 길이확인 함수\n",
    "print('문자열의 길이 =', len(a))\n",
    "print(a[8:], '=', a[-3:], '=', a[-3:len(a)] )"
   ]
  },
  {
   "cell_type": "code",
   "execution_count": 116,
   "id": "0bb39dd4-2d1f-4b9b-9015-21d8eb73ffc7",
   "metadata": {},
   "outputs": [
    {
     "name": "stdout",
     "output_type": "stream",
     "text": [
      "2024 년 03 월 11 일\n",
      "월일 = 0311\n"
     ]
    }
   ],
   "source": [
    "# 실습1\n",
    "a = '20240311파이썬'\n",
    "\n",
    "# 1) 년월일을 추출해서 '년=2024, 월=03, 일=11' 형식으로 출력하기\n",
    "year = a[:4]\n",
    "month = a[4:6]\n",
    "day = a[6:8]\n",
    "print(year, '년', month, '월', day, '일')\n",
    "      \n",
    "# 2) 월일만 추출하기\n",
    "print('월일 =', a[4:8])"
   ]
  },
  {
   "cell_type": "markdown",
   "id": "e0f7a434-eafa-4521-bcfe-442227726913",
   "metadata": {},
   "source": [
    "### 5) 문자열 바꾸기\n",
    "\n",
    "* 파이썬에서는 문자열과 tuple자료형은 값을 직접 변경할 수 없다.\n",
    "* 변경할 수 없는 자료형을 `immutable자료형`이라고 한다."
   ]
  },
  {
   "cell_type": "code",
   "execution_count": 119,
   "id": "34b30129-c1e3-4854-b986-dd92780f0771",
   "metadata": {},
   "outputs": [
    {
     "name": "stdout",
     "output_type": "stream",
     "text": [
      "Python\n",
      "Python\n"
     ]
    }
   ],
   "source": [
    "a = 'Pithon'\n",
    "# a[1] = 'y'; # TypeError: 'str' object does not support item assignment\n",
    "print(a[:1] + 'y' + a[2:])\n",
    "\n",
    "a = a[:1] + 'y' + a[2:]\n",
    "print(a)"
   ]
  },
  {
   "cell_type": "markdown",
   "id": "2c23274b-bb63-4f20-aa66-1351cf5f221c",
   "metadata": {},
   "source": [
    "### 6) 문자열포매팅\n",
    "\n",
    "|포맷코드|설명|\n",
    "|:-----:|--------|\n",
    "|%s|문자열(string)|\n",
    "|%c|한개의 문자(Character)|\n",
    "|%d|정수(Integer)|\n",
    "|%f|실수(Float)|\n",
    "|%o|8진수|\n",
    "|%x|16진수|\n",
    "|%%|percent(%)문자|"
   ]
  },
  {
   "cell_type": "code",
   "execution_count": 125,
   "id": "f104d078-8b73-4748-81c8-795c31cb386a",
   "metadata": {},
   "outputs": [
    {
     "name": "stdout",
     "output_type": "stream",
     "text": [
      "오늘의 날씨는 영상 5도입니다!!\n",
      "오늘의 날씨는 영하 5도입니다!!\n",
      "\n",
      "오늘의 날씨는 영상 5도입니다!!\n",
      "오늘의 날씨는 영상 -5도입니다!!\n",
      "오늘의 날씨는 영하 -5도입니다!!\n",
      "\n",
      "오늘의 날씨는 영하 5도입니다!!\n",
      "오늘의 날씨는 영하 5.000000도입니다!!\n",
      "오늘의 날씨는 영하 5.000000도입니다!!\n"
     ]
    }
   ],
   "source": [
    "# 오늘의 날씨는 -5도 입니다!\n",
    "print('오늘의 날씨는 영상 5도입니다!!')\n",
    "print('오늘의 날씨는 영하 5도입니다!!')\n",
    "print()\n",
    "\n",
    "# 1) %d : 숫자형 포매팅\n",
    "degree = 5\n",
    "print('오늘의 날씨는 영상 %d도입니다!!' % degree)\n",
    "degree = -5\n",
    "print('오늘의 날씨는 영상 %d도입니다!!' % degree)\n",
    "\n",
    "# 주의해야할 점\n",
    "degree = \"-5\"\n",
    "# print('오늘의 날씨는 영하 %d도입니다!!' % degree)\n",
    "print('오늘의 날씨는 영하 %s도입니다!!' % degree)\n",
    "print()\n",
    "\n",
    "print('오늘의 날씨는 영하 %d도입니다!!' % 5.0)\n",
    "print('오늘의 날씨는 영하 %f도입니다!!' % 5)\n",
    "print('오늘의 날씨는 영하 %f도입니다!!' % 5.0)"
   ]
  },
  {
   "cell_type": "code",
   "execution_count": 127,
   "id": "1f0d7ad2-854a-491a-9e5d-3bb5af009960",
   "metadata": {},
   "outputs": [
    {
     "name": "stdout",
     "output_type": "stream",
     "text": [
      "오늘의 날씨는 영상 5도입니다!!\n",
      "오늘의 날씨는 영상 10도입니다!!\n",
      "오늘의 날씨는 영상 10도입니다!!\n"
     ]
    }
   ],
   "source": [
    "# 2) %s : 문자열포맷코드\n",
    "degree = 5\n",
    "print('오늘의 날씨는 영상 %s도입니다!!' % degree) \n",
    "print('오늘의 날씨는 영상 %s도입니다!!' % \"10\")\n",
    "print('오늘의 날씨는 영상 %s도입니다!!' % 10)"
   ]
  },
  {
   "cell_type": "code",
   "execution_count": 129,
   "id": "291a81f2-9492-4774-ba6c-140974292403",
   "metadata": {},
   "outputs": [
    {
     "name": "stdout",
     "output_type": "stream",
     "text": [
      "내 나이는 32살입니다. 근무는 오일동안 했습니다!\n"
     ]
    },
    {
     "ename": "TypeError",
     "evalue": "%d format: a real number is required, not str",
     "output_type": "error",
     "traceback": [
      "\u001b[1;31m---------------------------------------------------------------------------\u001b[0m",
      "\u001b[1;31mTypeError\u001b[0m                                 Traceback (most recent call last)",
      "Cell \u001b[1;32mIn[129], line 5\u001b[0m\n\u001b[0;32m      3\u001b[0m day \u001b[38;5;241m=\u001b[39m \u001b[38;5;124m\"\u001b[39m\u001b[38;5;124m오\u001b[39m\u001b[38;5;124m\"\u001b[39m\n\u001b[0;32m      4\u001b[0m \u001b[38;5;28mprint\u001b[39m(\u001b[38;5;124m'\u001b[39m\u001b[38;5;124m내 나이는 \u001b[39m\u001b[38;5;132;01m%d\u001b[39;00m\u001b[38;5;124m살입니다. 근무는 \u001b[39m\u001b[38;5;132;01m%s\u001b[39;00m\u001b[38;5;124m일동안 했습니다!\u001b[39m\u001b[38;5;124m'\u001b[39m \u001b[38;5;241m%\u001b[39m (age, day))\n\u001b[1;32m----> 5\u001b[0m \u001b[38;5;28mprint\u001b[39m(\u001b[38;5;124m'\u001b[39m\u001b[38;5;124m내 나이는 \u001b[39m\u001b[38;5;132;01m%d\u001b[39;00m\u001b[38;5;124m살입니다. 근무는 \u001b[39m\u001b[38;5;132;01m%s\u001b[39;00m\u001b[38;5;124m일동안 했습니다!\u001b[39m\u001b[38;5;124m'\u001b[39m \u001b[38;5;241m%\u001b[39m (day, age))\n",
      "\u001b[1;31mTypeError\u001b[0m: %d format: a real number is required, not str"
     ]
    }
   ],
   "source": [
    "# 3) 한 개이상의 값을 포매팅\n",
    "age = 32\n",
    "day = \"오\"\n",
    "print('내 나이는 %d살입니다. 근무는 %s일동안 했습니다!' % (age, day))\n",
    "print('내 나이는 %d살입니다. 근무는 %s일동안 했습니다!' % (day, age))"
   ]
  },
  {
   "cell_type": "markdown",
   "id": "6e6a5e8b-7ebd-46e9-bce6-c28522541966",
   "metadata": {},
   "source": [
    "### 7) 포맷코드와 숫자를 함께 사용하기"
   ]
  },
  {
   "cell_type": "code",
   "execution_count": 132,
   "id": "bbcf90e1-c619-439e-9c26-a1e7e93f8351",
   "metadata": {},
   "outputs": [
    {
     "name": "stdout",
     "output_type": "stream",
     "text": [
      "        Hi 10\n",
      "        Hi 10\n",
      "Hi         10\n"
     ]
    }
   ],
   "source": [
    "# 1. 정렬과 공백\n",
    "# %10s -> 문자열의 길이가 10보다 작을 경우에는 앞에 공백으로 채워지고 오른 쪽 정렬이 된다.\n",
    "# 오른 쪽 정렬\n",
    "a = '%10s' % 'Hi'\n",
    "print(a, len(a))\n",
    "print('%10s' % 'Hi', len(a))\n",
    "\n",
    "# 왼 쪽 정렬\n",
    "print('%-10s' % 'Hi', len(a))"
   ]
  },
  {
   "cell_type": "code",
   "execution_count": 135,
   "id": "bebdc522-23a9-4f1f-bf14-8d79c0552f8d",
   "metadata": {},
   "outputs": [
    {
     "name": "stdout",
     "output_type": "stream",
     "text": [
      "3.141592\n",
      "3.141592\n",
      "3.1416\n"
     ]
    }
   ],
   "source": [
    "# 2. 소수점표현하기\n",
    "print('%f' % 3.141592)\n",
    "print('%4f' % 3.141592)\n",
    "print('%0.4f' % 3.141592)"
   ]
  },
  {
   "cell_type": "code",
   "execution_count": 142,
   "id": "2f40a589-9428-4bec-ad5a-a9da59fd1da4",
   "metadata": {},
   "outputs": [
    {
     "name": "stdout",
     "output_type": "stream",
     "text": [
      "Help on built-in function format in module builtins:\n",
      "\n",
      "format(value, format_spec='', /)\n",
      "    Return value.__format__(format_spec)\n",
      "    \n",
      "    format_spec defaults to the empty string.\n",
      "    See the Format Specification Mini-Language section of help('FORMATTING') for\n",
      "    details.\n",
      "\n",
      "오늘의 날씨는 10도 입니다\n",
      "오늘의 날씨는 %d도 입니다\n",
      "오늘의 날씨는 10도 입니다\n",
      "\n",
      "내 나이는 오살입니다. 근무는 32일동안 했습니다!\n",
      "내 나이는 32살입니다. 근무는 오일동안 했습니다!\n"
     ]
    }
   ],
   "source": [
    "# 3. 문자열.format()함수 사용하기(1) - 순서를 정의\n",
    "help(format)\n",
    "\n",
    "print('오늘의 날씨는 %d도 입니다' % 10)\n",
    "print('오늘의 날씨는 %d도 입니다'.format(10))\n",
    "print('오늘의 날씨는 {0}도 입니다'.format(10))\n",
    "print()\n",
    "\n",
    "# print('내 나이는 %d살입니다. 근무는 %s일동안 했습니다!' % (day, age))\n",
    "print('내 나이는 {0}살입니다. 근무는 {1}일동안 했습니다!'.format(day, age))\n",
    "print('내 나이는 {1}살입니다. 근무는 {0}일동안 했습니다!'.format(day, age))"
   ]
  },
  {
   "cell_type": "code",
   "execution_count": 144,
   "id": "09b5a882-2075-4377-8b44-7e06ac3a13ef",
   "metadata": {},
   "outputs": [
    {
     "name": "stdout",
     "output_type": "stream",
     "text": [
      "내 나이는 32살입니다. 근무는 오일동안 했습니다!\n",
      "내 나이는 32살입니다. 근무는 오일동안 했습니다!\n"
     ]
    }
   ],
   "source": [
    "# 4. 문자열.format()함수 사용하기(2) - 이름을 부여해서 사용하기\n",
    "print('내 나이는 {age}살입니다. 근무는 {study}일동안 했습니다!'.format(age=age, study=day))\n",
    "print('내 나이는 {age}살입니다. 근무는 {study}일동안 했습니다!'.format(study=day, age=age))"
   ]
  },
  {
   "cell_type": "code",
   "execution_count": 159,
   "id": "d1f924d4-a5f8-43dc-bf75-f38591e447a1",
   "metadata": {},
   "outputs": [
    {
     "name": "stdout",
     "output_type": "stream",
     "text": [
      "....+....+....+\n",
      "Hi        \n",
      "Hi        \n",
      "Hi        \n",
      "        Hi\n",
      "    Hi    \n",
      "Hi@@@@@@@@\n",
      "********Hi\n",
      "####Hi####\n"
     ]
    }
   ],
   "source": [
    "# 5. 문자열.format()함수 사용하기(3) - 정렬하기\n",
    "print('....+....+....+')\n",
    "# 1) 왼 쪽 정렬\n",
    "print('%-10s' % 'Hi')\n",
    "print('{0:10}'.format('Hi'))\n",
    "print('{0:<10}'.format('Hi'))\n",
    "\n",
    "# 2) 오른 쪽 정렬\n",
    "print('{0:>10}'.format('Hi'))\n",
    "\n",
    "# 3) 가운데 정렬\n",
    "print('{0:^10}'.format('Hi'))\n",
    "\n",
    "# 4) 공백채우기\n",
    "print('{0:@<10}'.format('Hi'))\n",
    "print('{0:*>10}'.format('Hi'))\n",
    "print('{0:#^10}'.format('Hi'))"
   ]
  },
  {
   "cell_type": "code",
   "execution_count": 163,
   "id": "e94cde35-9320-4b05-b4cb-24cc9cadc43f",
   "metadata": {},
   "outputs": [
    {
     "name": "stdout",
     "output_type": "stream",
     "text": [
      "  3.141592 8\n",
      "    3.1416\n"
     ]
    }
   ],
   "source": [
    "# 6. 문자열.format()함수 사용하기(4) - 소수점 표현하기\n",
    "pi = 3.141592\n",
    "print('{0:10}'.format(pi), len(str(pi)))\n",
    "print('{0:10.4f}'.format(pi))"
   ]
  },
  {
   "cell_type": "code",
   "execution_count": 166,
   "id": "f636852a-96a0-4e95-b8c1-77f8c89edf0e",
   "metadata": {},
   "outputs": [
    {
     "name": "stdout",
     "output_type": "stream",
     "text": [
      "갑순이 {and} 갑돌이\n",
      "갑순이 {and} 갑돌이\n"
     ]
    }
   ],
   "source": [
    "# 7. 문자열.format()함수 사용하기(5) - 중괄호출력하기\n",
    "print('갑순이 {and} 갑돌이')\n",
    "# print('갑순이 {and} 갑돌이'.format()) # 에러\n",
    "print('갑순이 {{and}} 갑돌이'.format())"
   ]
  },
  {
   "cell_type": "markdown",
   "id": "05473eac-cf56-47fa-b854-1327582ba18a",
   "metadata": {},
   "source": [
    "### 8) f문자열 포매팅\n",
    "\n",
    "* python 2.x버전에서는 사용불가, python 3.x버전 부터 사용가능하다.\n",
    "* 사용방법 : 문자열앞에 f접두사를 붙이면 사용할 수 있다. "
   ]
  },
  {
   "cell_type": "code",
   "execution_count": 167,
   "id": "4763b6f9-551b-484c-814a-d09a8b430adf",
   "metadata": {},
   "outputs": [
    {
     "name": "stdout",
     "output_type": "stream",
     "text": [
      "Python 3.11.7\n"
     ]
    }
   ],
   "source": [
    "!python --version"
   ]
  },
  {
   "cell_type": "code",
   "execution_count": 171,
   "id": "645d9ae7-bd65-4e14-b6b0-fb2dc6aa3f20",
   "metadata": {},
   "outputs": [
    {
     "name": "stdout",
     "output_type": "stream",
     "text": [
      "내 이름은 소향입니다. 나이는 42살 입니다.\n",
      "내 이름은 {name}입니다. 나이는 {age}살 입니다.\n",
      "내 이름은 소향입니다. 나이는 42살 입니다.\n"
     ]
    }
   ],
   "source": [
    "# 1) f접두사 사용하기(1)\n",
    "name = '소향'\n",
    "age = 42\n",
    "print('내 이름은 {name}입니다. 나이는 {age}살 입니다.'.format(name=name, age=age))\n",
    "print('내 이름은 {name}입니다. 나이는 {age}살 입니다.')\n",
    "print(f'내 이름은 {name}입니다. 나이는 {age}살 입니다.')"
   ]
  },
  {
   "cell_type": "code",
   "execution_count": 176,
   "id": "f90013da-6e1f-4a59-b464-dc936fe0247c",
   "metadata": {},
   "outputs": [
    {
     "name": "stdout",
     "output_type": "stream",
     "text": [
      "{\"Hi\":<10}\n",
      "Hi********\n",
      "@@@@@@@@Hi\n",
      "####Hi####\n"
     ]
    }
   ],
   "source": [
    "# 2) f접두사 사용하기(2) - 정렬하기\n",
    "print('{\"Hi\":<10}')\n",
    "print(f'{\"Hi\":*<10}')\n",
    "print(f'{\"Hi\":@>10}')\n",
    "print(f'{\"Hi\":#^10}')"
   ]
  },
  {
   "cell_type": "code",
   "execution_count": 179,
   "id": "fb71e95d-1b7f-4254-a17c-137d021786ee",
   "metadata": {},
   "outputs": [
    {
     "name": "stdout",
     "output_type": "stream",
     "text": [
      "{pi:0.4f}\n",
      "3.1416\n"
     ]
    }
   ],
   "source": [
    "# 3) f접두사 사용하기(3) - 소수점\n",
    "pi = 3.141592\n",
    "print('{pi:0.4f}')\n",
    "print(f'{pi:0.4f}')"
   ]
  },
  {
   "cell_type": "code",
   "execution_count": 180,
   "id": "6ac5a56d-3c72-4ddf-a53d-b1cfd9364066",
   "metadata": {},
   "outputs": [
    {
     "name": "stdout",
     "output_type": "stream",
     "text": [
      "{and}\n"
     ]
    }
   ],
   "source": [
    "# 4) f접두사 사용하기(4) - 중괄호\n",
    "print(f'{{and}}')"
   ]
  },
  {
   "cell_type": "code",
   "execution_count": 197,
   "id": "5658cf30-8eda-404a-b528-2dbce31635bb",
   "metadata": {},
   "outputs": [
    {
     "name": "stdout",
     "output_type": "stream",
     "text": [
      "<class 'dict'> {'name': '홍길동', 'age': 1000, 'addr': '조선한양'}\n",
      "내 이름은 홍길동입니다. 나이는 1000살 입니다. 주소는 조선한양 입니다.\n"
     ]
    }
   ],
   "source": [
    "# 5) f접두사 사용하기(4) - dictionary자료형과 함께 사용하기, dict타입은 key와 값을 한쌍으로 갖는 데이터타입\n",
    "hong = {'name': '홍길동', 'age': 1000, 'addr': '조선한양'}\n",
    "print(type(hong), hong)\n",
    "\n",
    "# hong?\n",
    "# print(type(hong), type({}), type({1}))\n",
    "# print(dir({}))\n",
    "# print()\n",
    "\n",
    "# print(f'내 이름은 {hong.name}입니다. 나이는 {hong.age}살 입니다.')\n",
    "print(f'내 이름은 {hong[\"name\"]}입니다. 나이는 {hong[\"age\"]}살 입니다. 주소는 {hong[\"addr\"]} 입니다.')\n",
    "\n",
    "# 참고\n",
    "# 파이썬자료형에서 list -> [] (배열과 유사) tuple -> ()(list와 유사하지만 수정할 수 없는 데이터)\n",
    "# dict -> { key: 값}, set -> {값만 가지고 있는 자료형}"
   ]
  },
  {
   "cell_type": "code",
   "execution_count": null,
   "id": "e1439c4e-d25e-4860-97ff-ea92a148d3f8",
   "metadata": {},
   "outputs": [],
   "source": [
    "# 실습. https://wikidocs.net/book/922\n",
    "# 1~50번문제까지 풀이하기"
   ]
  },
  {
   "cell_type": "markdown",
   "id": "ca53f629-41d6-4815-9c78-9acfaf5ae3e6",
   "metadata": {},
   "source": [
    "### 9) 문자열관련함수\n",
    "\n",
    "* count()\n",
    "* find()\n",
    "* index()\n",
    "* join()\n",
    "* upper()\n",
    "* lower()\n",
    "* lstrip() : 왼 쪽 공백을 제거\n",
    "* rstrip() : 오른 쪽 공백을 제거\n",
    "* strip()  : 양 쪽 공백을 제거\n",
    "* replace()\n",
    "* split()"
   ]
  },
  {
   "cell_type": "code",
   "execution_count": 1,
   "id": "39416387-03c3-4937-aeff-ea58cff2a651",
   "metadata": {},
   "outputs": [
    {
     "name": "stdout",
     "output_type": "stream",
     "text": [
      "['__add__', '__class__', '__contains__', '__delattr__', '__dir__', '__doc__', '__eq__', '__format__', '__ge__', '__getattribute__', '__getitem__', '__getnewargs__', '__getstate__', '__gt__', '__hash__', '__init__', '__init_subclass__', '__iter__', '__le__', '__len__', '__lt__', '__mod__', '__mul__', '__ne__', '__new__', '__reduce__', '__reduce_ex__', '__repr__', '__rmod__', '__rmul__', '__setattr__', '__sizeof__', '__str__', '__subclasshook__', 'capitalize', 'casefold', 'center', 'count', 'encode', 'endswith', 'expandtabs', 'find', 'format', 'format_map', 'index', 'isalnum', 'isalpha', 'isascii', 'isdecimal', 'isdigit', 'isidentifier', 'islower', 'isnumeric', 'isprintable', 'isspace', 'istitle', 'isupper', 'join', 'ljust', 'lower', 'lstrip', 'maketrans', 'partition', 'removeprefix', 'removesuffix', 'replace', 'rfind', 'rindex', 'rjust', 'rpartition', 'rsplit', 'rstrip', 'split', 'splitlines', 'startswith', 'strip', 'swapcase', 'title', 'translate', 'upper', 'zfill']\n"
     ]
    }
   ],
   "source": [
    "print(dir(''))"
   ]
  },
  {
   "cell_type": "code",
   "execution_count": 11,
   "id": "d4cd3661-dfa8-4407-925d-71f00170d8b9",
   "metadata": {},
   "outputs": [
    {
     "name": "stdout",
     "output_type": "stream",
     "text": [
      "문자 o의 갯수 = 3\n",
      "문자 o의 갯수 = 3\n",
      "문자열 Life의 갯수 = 1\n",
      "문자열 life의 갯수 = 0\n",
      "문자열 short의 갯수 = 1\n",
      "문자열 short의 갯수 = 1\n",
      "문자열 short의 갯수 = 0\n"
     ]
    }
   ],
   "source": [
    "# 1. count(문자열) : 문자열의 갯수를 리턴\n",
    "a = 'Life is too short'\n",
    "print('문자 o의 갯수 =', a.count('o'))\n",
    "print('문자 o의 갯수 =', 'Life is too short'.count('o'))\n",
    "print('문자열 Life의 갯수 =', a.count('Life'))\n",
    "print('문자열 life의 갯수 =', a.count('life'))\n",
    "print('문자열 short의 갯수 =', a.count('short'))\n",
    "print('문자열 short의 갯수 =', a[:].count('short'))\n",
    "print('문자열 short의 갯수 =', a[:10].count('short'))"
   ]
  },
  {
   "cell_type": "code",
   "execution_count": 13,
   "id": "08380c67-392b-4ab0-b7e1-1598d00f0f0d",
   "metadata": {},
   "outputs": [
    {
     "name": "stdout",
     "output_type": "stream",
     "text": [
      "문자 a의 위치 = 10\n",
      "문자 i의 위치 = 7\n",
      "문자 l의 위치 = 16\n",
      "문자 x의 위치 = -1\n"
     ]
    }
   ],
   "source": [
    "# 2. find(문자열) : 해당 문자열의 위치를 리턴, 여러개 있을 경우 맨 처음의 문자열 위치를 리턴\n",
    "# 찾는 문자열이 없을 경우에는 -1을 리턴\n",
    "a = 'Python is a simple program language';\n",
    "print('문자 a의 위치 =', a.find('a'))\n",
    "print('문자 i의 위치 =', a.find('i'))\n",
    "print('문자 l의 위치 =', a.find('l'))\n",
    "print('문자 x의 위치 =', a.find('x'))"
   ]
  },
  {
   "cell_type": "code",
   "execution_count": 16,
   "id": "eb87b739-abc1-4b1f-9a8b-c22ea97cb222",
   "metadata": {},
   "outputs": [
    {
     "name": "stdout",
     "output_type": "stream",
     "text": [
      "문자 program의 위치 = 19\n",
      "문자 language의 위치 = 27\n",
      "문자 .의 위치 = 35\n"
     ]
    },
    {
     "ename": "ValueError",
     "evalue": "substring not found",
     "output_type": "error",
     "traceback": [
      "\u001b[1;31m---------------------------------------------------------------------------\u001b[0m",
      "\u001b[1;31mValueError\u001b[0m                                Traceback (most recent call last)",
      "Cell \u001b[1;32mIn[16], line 7\u001b[0m\n\u001b[0;32m      5\u001b[0m \u001b[38;5;28mprint\u001b[39m(\u001b[38;5;124m'\u001b[39m\u001b[38;5;124m문자 language의 위치 =\u001b[39m\u001b[38;5;124m'\u001b[39m, a\u001b[38;5;241m.\u001b[39mindex(\u001b[38;5;124m'\u001b[39m\u001b[38;5;124mlanguage\u001b[39m\u001b[38;5;124m'\u001b[39m))\n\u001b[0;32m      6\u001b[0m \u001b[38;5;28mprint\u001b[39m(\u001b[38;5;124m'\u001b[39m\u001b[38;5;124m문자 .의 위치 =\u001b[39m\u001b[38;5;124m'\u001b[39m, a\u001b[38;5;241m.\u001b[39mindex(\u001b[38;5;124m'\u001b[39m\u001b[38;5;124m.\u001b[39m\u001b[38;5;124m'\u001b[39m))\n\u001b[1;32m----> 7\u001b[0m \u001b[38;5;28mprint\u001b[39m(\u001b[38;5;124m'\u001b[39m\u001b[38;5;124m문자 x의 위치 =\u001b[39m\u001b[38;5;124m'\u001b[39m, a\u001b[38;5;241m.\u001b[39mindex(\u001b[38;5;124m'\u001b[39m\u001b[38;5;124mx\u001b[39m\u001b[38;5;124m'\u001b[39m))\n",
      "\u001b[1;31mValueError\u001b[0m: substring not found"
     ]
    }
   ],
   "source": [
    "# 3. index(문자열)  : 해당 문자열의 위치를 리턴, 여러개 있을 경우 맨 처음의 문자열 위치를 리턴\n",
    "# find와 동일한 기능을 하지만 찾는 문자열이 없을 경우에는 에러발생\n",
    "a = 'Python is a simple program language.';\n",
    "print('문자 program의 위치 =', a.index('program'))\n",
    "print('문자 language의 위치 =', a.index('language'))\n",
    "print('문자 .의 위치 =', a.index('.'))\n",
    "print('문자 x의 위치 =', a.index('x'))"
   ]
  },
  {
   "cell_type": "code",
   "execution_count": 25,
   "id": "d7bbd888-69de-4f21-b72f-a1a8c0e4c5ee",
   "metadata": {},
   "outputs": [
    {
     "name": "stdout",
     "output_type": "stream",
     "text": [
      "abcd / a / a,b,c,d\n",
      "a,b,c,d\n",
      "a,b,c,d\n",
      "a-@@@@@@@@@@@@@@@-b-@@@@@@@@@@@@@@@-c-@@@@@@@@@@@@@@@-d\n"
     ]
    }
   ],
   "source": [
    "# 4. 문자열.join(iterable) : 전달된 문자열(iterable)을 문자열과 연결\n",
    "a = ','\n",
    "# a.join?\n",
    "print('abcd', 'abcd'[0], 'a,b,c,d', sep=\" / \")\n",
    "\n",
    "print(a.join('abcd'))\n",
    "print(','.join('abcd'))\n",
    "print('-@@@@@@@@@@@@@@@-'.join('abcd'))"
   ]
  },
  {
   "cell_type": "code",
   "execution_count": 29,
   "id": "ac533243-78d3-47f7-b98b-98adc3daaa1b",
   "metadata": {},
   "outputs": [
    {
     "name": "stdout",
     "output_type": "stream",
     "text": [
      "PYTHON IS A SIMPLE PROGRAM LANGUAGE.\n",
      "python is a simple program language.\n",
      "PYTHON IS A SIMPLE PROGRAM LANGUAGE.\n",
      "7\n"
     ]
    }
   ],
   "source": [
    "# 5. upper/lower\n",
    "a = 'Python is a simple program language.';\n",
    "print(a.upper())\n",
    "print(a.lower())\n",
    "print(a.upper().lower().upper())\n",
    "print((a.upper().lower().upper()).index('IS'))"
   ]
  },
  {
   "cell_type": "code",
   "execution_count": 35,
   "id": "d012245c-a5b3-4c86-8eba-6ed36759034f",
   "metadata": {},
   "outputs": [
    {
     "name": "stdout",
     "output_type": "stream",
     "text": [
      "HI 10 2\n",
      "HI 10 2\n",
      "HI 10 2\n",
      "H I 11 3\n"
     ]
    }
   ],
   "source": [
    "# 6. lstrip / rstrip / strip : 공백제거\n",
    "a = '        HI'\n",
    "b = 'HI        '\n",
    "c = '    HI    '\n",
    "d = '    H I    '\n",
    "\n",
    "print(a.lstrip(), len(a), len(a.lstrip()))\n",
    "print(b.rstrip(), len(b), len(b.rstrip()))\n",
    "print(c.strip(), len(c), len(c.strip()))\n",
    "print(d.strip(), len(d), len(d.strip()))"
   ]
  },
  {
   "cell_type": "code",
   "execution_count": 48,
   "id": "af88d37c-7546-4e41-9c87-6f9033d83f5d",
   "metadata": {},
   "outputs": [
    {
     "name": "stdout",
     "output_type": "stream",
     "text": [
      "Python is a simple program language.\n",
      "Pithon is a simple program language.\n",
      "Python is a simple program language.\n",
      "\n",
      "Python #s a s#mple program language.\n",
      "Python #s @ s#mple progr@m language.\n",
      "Java #s @ diffcult progr@m language.\n"
     ]
    }
   ],
   "source": [
    "# 7. replace(old, new, count=1) \n",
    "# 문자열은 immutable자료형이기 때문에 직접 변경할 수 없다.\n",
    "# 변경된 문자는 변경된 값만 리턴하고 원본 문자열은 변경되지 않기 때문에\n",
    "# 최종적으로 변경하려면 변경된 문자열을 최종으로 저장해야 변경된 문자열이 저장된다.\n",
    "# count=-1:이면 문자열에서 전부변경, 지정된 숫자일 경우 지정된 숫자만큼 맨 처음부터 변경\n",
    "a = 'Pithon is a simple program language.';\n",
    "# a.replace?\n",
    "\n",
    "# 1) 영구적변경하기\n",
    "print(a.replace('Pithon', 'Python'))\n",
    "print(a)\n",
    "a = a.replace('Pithon', 'Python')\n",
    "print(a)\n",
    "print()\n",
    "\n",
    "# 2) 반복변경하기\n",
    "a = a.replace('i', '#', -1) # 전부변경, -1은 기본값으로 생략가능\n",
    "print(a)\n",
    "\n",
    "a = a.replace('a', '@', 2) # 처음부터 검색해서 2번째까지만 변경\n",
    "print(a)\n",
    "\n",
    "a = a.replace('Python', 'Java').replace('s#mple', 'diffcult')\n",
    "print(a)"
   ]
  },
  {
   "cell_type": "code",
   "execution_count": 65,
   "id": "4145caa4-f2ca-4bb4-aad6-9d27cec59e30",
   "metadata": {},
   "outputs": [
    {
     "name": "stdout",
     "output_type": "stream",
     "text": [
      "<class 'str'> ['Python', 'is', 'a', 'simple', 'program', 'language.'] Python is a simple program language.\n",
      "<class 'list'> ['Python', 'is', 'a', 'simple', 'program', 'language.']\n",
      "\n",
      "['Python', 'is', 'a', 'simple', 'program', 'language.']\n",
      "['Python', 'is', 'a simple program language.']\n",
      "\n",
      "['홍길동', '홍길순', '손흥민', '김민재', '황희찬', '김하성', '이정후']\n",
      "['홍길동', '홍길순,손흥민,김민재,황희찬,김하성,이정후']\n",
      "['홍길동', '홍길순', '손흥민,김민재,황희찬,김하성,이정후']\n",
      "\n",
      "['홍길동', '홍길순', '손흥민', '김민재', '황희찬', '김하성', '이정후']\n",
      "['홍길동', '홍길순', '손흥민', '김민재', '황희찬', '김하성', '이정후']\n"
     ]
    }
   ],
   "source": [
    "# 8. split(step, maxaplit) : 문자열나누기, list자료형으로 결과만 리턴\n",
    "# 최종변경하려면 결과를 저장해야 한다.\n",
    "# a.split?\n",
    "a = 'Python is a simple program language.';\n",
    "print(type(a), a.split(), a)\n",
    "\n",
    "l = a.split()\n",
    "print(type(l), l)\n",
    "print()\n",
    "\n",
    "print(a.split(None))\n",
    "print(a.split(None, 2))\n",
    "print()\n",
    "\n",
    "# 구분자\n",
    "a = '홍길동,홍길순,손흥민,김민재,황희찬,김하성,이정후'\n",
    "print(a.split(',', -1))\n",
    "print(a.split(',', 1))\n",
    "print(a.split(',', 2))\n",
    "print()\n",
    "\n",
    "a = '홍길동:홍길순:손흥민:김민재:황희찬:김하성:이정후'\n",
    "print(a.split(':'))\n",
    "\n",
    "a = '홍길동::홍길순::손흥민::김민재::황희찬::김하성::이정후'\n",
    "print(a.split('::'))"
   ]
  },
  {
   "cell_type": "code",
   "execution_count": 69,
   "id": "dd995e5c-da0b-4cb8-ab11-85dc0d64115b",
   "metadata": {},
   "outputs": [
    {
     "name": "stdout",
     "output_type": "stream",
     "text": [
      "Hello world\n",
      "hello world\n"
     ]
    },
    {
     "data": {
      "text/plain": [
       "\u001b[1;31mSignature:\u001b[0m \u001b[0ma\u001b[0m\u001b[1;33m.\u001b[0m\u001b[0mcapitalize\u001b[0m\u001b[1;33m(\u001b[0m\u001b[1;33m)\u001b[0m\u001b[1;33m\u001b[0m\u001b[1;33m\u001b[0m\u001b[0m\n",
       "\u001b[1;31mDocstring:\u001b[0m\n",
       "Return a capitalized version of the string.\n",
       "\n",
       "More specifically, make the first character have upper case and the rest lower\n",
       "case.\n",
       "\u001b[1;31mType:\u001b[0m      builtin_function_or_method"
      ]
     },
     "metadata": {},
     "output_type": "display_data"
    }
   ],
   "source": [
    "# 9. capitalize() : 첫 문자만 대문자로 변경\n",
    "a = 'hello world'\n",
    "a.capitalize?\n",
    "print(a.capitalize())\n",
    "print(a)"
   ]
  },
  {
   "cell_type": "markdown",
   "id": "f4601cec-8709-4e28-8773-f3463ea535a8",
   "metadata": {},
   "source": [
    "##### 실습"
   ]
  },
  {
   "cell_type": "code",
   "execution_count": 74,
   "id": "87265ebf-0696-4ff3-8f51-f387919debd4",
   "metadata": {},
   "outputs": [
    {
     "name": "stdout",
     "output_type": "stream",
     "text": [
      "3\n"
     ]
    },
    {
     "data": {
      "text/plain": [
       "'3'"
      ]
     },
     "metadata": {},
     "output_type": "display_data"
    },
    {
     "name": "stdout",
     "output_type": "stream",
     "text": [
      "3\n"
     ]
    }
   ],
   "source": [
    "# 1. 주민번호에서 성별을 나타내는 숫자 출력하기\n",
    "a = '881120-3234567'\n",
    "print(a[7])\n",
    "display(a[7])\n",
    "print(a[a.find('-')+1])"
   ]
  },
  {
   "cell_type": "code",
   "execution_count": 81,
   "id": "835d65fe-6277-47df-8245-d6ccfc5f0237",
   "metadata": {},
   "outputs": [
    {
     "name": "stdout",
     "output_type": "stream",
     "text": [
      "12\n",
      "12\n",
      "short\n"
     ]
    }
   ],
   "source": [
    "# 2. 문자열찾기 : find()\n",
    "# 변수 a에서 short가 시작된 위치를 출력하기\n",
    "a = 'Life is too short, you need python'\n",
    "print(a.find('short'))\n",
    "print(a.index('short'))\n",
    "\n",
    "s = a[a.index('short'):a.index('short')+len('short')] \n",
    "print(s)"
   ]
  },
  {
   "cell_type": "code",
   "execution_count": 85,
   "id": "e98dc107-073e-4de1-aefe-1eacd1af823f",
   "metadata": {},
   "outputs": [
    {
     "name": "stdout",
     "output_type": "stream",
     "text": [
      "a#b#c#d\n",
      "b= ['a', 'b', 'c', 'd']\n",
      "c= a#b#c#d\n"
     ]
    }
   ],
   "source": [
    "# 3. 문자열 바꾸기 : split()와 join(iterable)\n",
    "# a:b:c:d -> a#b#c#d로 변경\n",
    "a = 'a:b:c:d'\n",
    "print(a.replace(':', '#'))\n",
    "\n",
    "b = a.split(':')\n",
    "print('b =', b)\n",
    "c = '#'.join(b)\n",
    "print('c =', c)"
   ]
  },
  {
   "cell_type": "code",
   "execution_count": 87,
   "id": "790c450f-5d02-4b2f-9264-bf15da723724",
   "metadata": {},
   "outputs": [
    {
     "name": "stdout",
     "output_type": "stream",
     "text": [
      "보유주식의 합 = 23920000\n"
     ]
    }
   ],
   "source": [
    "# 4. 삼성(samsung)주가 89,000이고 LG주가가 751,000원일경우\n",
    "# 특정 사람이 삼성주식 1000주와 LG주식 20주를 가지고 있을 경우\n",
    "# 주식의 총액을 계산하기\n",
    "# 변수명은 samsung, LG, total로 하기\n",
    "samsung = 89000\n",
    "LG = 751000\n",
    "\n",
    "total = samsung * 100 + LG * 20\n",
    "print(f'보유주식의 합 = {total}') "
   ]
  },
  {
   "cell_type": "code",
   "execution_count": 88,
   "id": "6624701d-c6ee-42a0-bd0e-4b29c3ac14c6",
   "metadata": {},
   "outputs": [
    {
     "name": "stdout",
     "output_type": "stream",
     "text": [
      "보유주식 평가금액 = 5952000.0\n"
     ]
    }
   ],
   "source": [
    "# 5. 4번문제에서 삼성과 LG의 주가각 각각 5%, 10%하락한 경우에 손실액 구하기\n",
    "loss = (samsung * 0.05 * 1000) + (LG * 0.1 * 20)\n",
    "print(f'보유주식 평가금액 = {loss}')"
   ]
  },
  {
   "cell_type": "code",
   "execution_count": 91,
   "id": "c3a570a7-9570-4aba-bc85-77c765169eef",
   "metadata": {},
   "outputs": [
    {
     "name": "stdout",
     "output_type": "stream",
     "text": [
      "Python\n",
      "Python\n",
      "Python\n",
      "Python\n",
      "Python\n",
      "Python\n",
      "Python\n",
      "Python\n",
      "Python\n",
      "Python\n",
      "\n",
      "PythonPythonPythonPythonPythonPythonPythonPythonPythonPython\n"
     ]
    }
   ],
   "source": [
    "# 6. Python이란 문자를 10번 출력하기 단, 각 줄을 바꿔서 출력(10줄)\n",
    "print('Python\\n' * 10)\n",
    "print('Python' * 10)"
   ]
  },
  {
   "cell_type": "code",
   "execution_count": 93,
   "id": "aa090b6a-96f5-4797-ad11-40c747d8826d",
   "metadata": {},
   "outputs": [
    {
     "name": "stdout",
     "output_type": "stream",
     "text": [
      "hi python\n",
      "안녕? python\n"
     ]
    }
   ],
   "source": [
    "# 7. a라는 변수에 'hello python'일 경우 a값을 'hi python'으로 변경하기\n",
    "a = 'hello python'\n",
    "a = 'hi ' + 'python'\n",
    "print(a)\n",
    "\n",
    "print(a.replace('hi', '안녕?'))"
   ]
  },
  {
   "cell_type": "code",
   "execution_count": 95,
   "id": "1d17f0cc-6e8e-4bc3-8f33-0daad2aaf7a3",
   "metadata": {},
   "outputs": [
    {
     "name": "stdout",
     "output_type": "stream",
     "text": [
      "bcdefa\n"
     ]
    }
   ],
   "source": [
    "# 8. x라는 변수에 'abcdef'일 경우 x의 값을 'bcdefa'로 변경하기\n",
    "x = 'abcdef'\n",
    "\n",
    "print(x[1:]+x[0])"
   ]
  }
 ],
 "metadata": {
  "kernelspec": {
   "display_name": "Python 3 (ipykernel)",
   "language": "python",
   "name": "python3"
  },
  "language_info": {
   "codemirror_mode": {
    "name": "ipython",
    "version": 3
   },
   "file_extension": ".py",
   "mimetype": "text/x-python",
   "name": "python",
   "nbconvert_exporter": "python",
   "pygments_lexer": "ipython3",
   "version": "3.11.7"
  }
 },
 "nbformat": 4,
 "nbformat_minor": 5
}
