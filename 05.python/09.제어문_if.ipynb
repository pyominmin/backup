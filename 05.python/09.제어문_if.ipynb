{
 "cells": [
  {
   "cell_type": "markdown",
   "id": "d2d3536a-6c69-4cf9-bc3f-6c661fc8e273",
   "metadata": {},
   "source": [
    "# 제어문(if)\n",
    "\n",
    "1. 단순if문\n",
    "><img src=\"./images/09.제어문_if_01_단순if문.png\" width=\"400\" height=\"200\" />\n",
    "1. if~else문\n",
    "><img src=\"./images/09.제어문_if_02_단순if_else문.png\" width=\"400\" height=\"200\" />\n",
    "1. if ~ elif ~ else문"
   ]
  },
  {
   "cell_type": "code",
   "execution_count": 20,
   "id": "85570424-5ee3-4bf1-b2ae-296e2ec94996",
   "metadata": {},
   "outputs": [
    {
     "name": "stdout",
     "output_type": "stream",
     "text": [
      "10\n",
      "100\n",
      "10\n",
      "\n",
      "10\n",
      "10\n"
     ]
    }
   ],
   "source": [
    "# 1. 단순if\n",
    "x = 10\n",
    "\n",
    "if x==10:\n",
    "    print(x)\n",
    "    print(x*10)\n",
    "\n",
    "if x==10:\n",
    "  print(x)  # 에러는 아니지만 PEP 코딩가이드의 관례(기본공백 4칸)에 어긋난다.\n",
    "    # print(x*10) # IndentationError: unexpected indent\n",
    "print()\n",
    "\n",
    "if x==10:\n",
    "    print(x) # tab\n",
    "\n",
    "# 실행문이 한 줄일 경우에는 한줄로 선언할 수 있다.\n",
    "if x==10: print(x)\n",
    "\n",
    "# 실행문장이 하나도 없다면 에러가 발생\n",
    "# if x==10: SyntaxError: incomplete input\n",
    "\n",
    "# 실행문장이 하나도 없을 경우에는 pass키워드 사용\n",
    "if x==10: pass\n",
    "if x==10:\n",
    "    pass"
   ]
  },
  {
   "cell_type": "code",
   "execution_count": 28,
   "id": "af298ee7-c6f9-43e4-aaf9-6ccd50c2438f",
   "metadata": {},
   "outputs": [
    {
     "name": "stdout",
     "output_type": "stream",
     "text": [
      "True\n",
      "10원을 가지고 있어요 ㅎㅎ\n",
      "불합격이니다!! ㅠㅠ\n"
     ]
    }
   ],
   "source": [
    "# 2. if ~ else\n",
    "money = 10\n",
    "print(bool(money))\n",
    "\n",
    "if money:\n",
    "    print(f'{money}원을 가지고 있어요 ㅎㅎ')\n",
    "else:\n",
    "    print('돈이 하나도 없어요 ㅠㅠ')\n",
    "\n",
    "국어점수 = 50\n",
    "if 국어점수 >=60:\n",
    "    print(\"합격입니다!! ㅎㅎ\")\n",
    "else:\n",
    "    print('불합격입니다!! ㅠㅠ')   "
   ]
  },
  {
   "cell_type": "code",
   "execution_count": 29,
   "id": "b4bfc26d-51b8-44b4-a02b-ce92fea1a656",
   "metadata": {},
   "outputs": [
    {
     "name": "stdout",
     "output_type": "stream",
     "text": [
      "낙제입니다!!\n"
     ]
    }
   ],
   "source": [
    "# 3. if ~ elif ~ else\n",
    "수학점수 = 40\n",
    "\n",
    "if 수학점수>=90:\n",
    "    print('A학점입니다!')\n",
    "elif 수학점수>=80:\n",
    "    print('B학점입니다!')\n",
    "elif 수학점수>=70:\n",
    "    print('C학점입니다!')\n",
    "elif 수학점수>=60:\n",
    "    print('D학점입니다!')\n",
    "else:\n",
    "    print(\"낙제입니다!!\")"
   ]
  },
  {
   "cell_type": "code",
   "execution_count": 31,
   "id": "29683f5e-ef72-43de-84fe-c1c679d20f99",
   "metadata": {},
   "outputs": [
    {
     "name": "stdout",
     "output_type": "stream",
     "text": [
      "자동차로 은행에 갑니당~~\n"
     ]
    }
   ],
   "source": [
    "# 4. 중첩if\n",
    "호주머니 = ['핸드폰', '자동차키']\n",
    "\n",
    "if '돈' in 호주머니:\n",
    "    print('점심을 먹습니다!!')\n",
    "else:\n",
    "    if '핸드폰' in 호주머니:\n",
    "        print(\"엄마 송금 좀 해주삼~~\")\n",
    "    else:\n",
    "        print(\"자동차로 은행에 갑니당~~\")"
   ]
  },
  {
   "cell_type": "code",
   "execution_count": null,
   "id": "263da62c-332c-4b31-8507-628adf02bb5e",
   "metadata": {},
   "outputs": [],
   "source": [
    "# 5. pass 키워드\n",
    "if 1:\n",
    "    pass\n",
    "else:\n",
    "    pass"
   ]
  },
  {
   "cell_type": "code",
   "execution_count": 44,
   "id": "3460a322-175a-4de1-9873-c9c35a525800",
   "metadata": {},
   "outputs": [
    {
     "name": "stdout",
     "output_type": "stream",
     "text": [
      "True\n",
      "False\n",
      "\n",
      "True\n",
      "False\n",
      "\n",
      "True\n",
      "False\n",
      "\n",
      "True\n",
      "False\n",
      "False\n",
      "True\n",
      "\n",
      "책장에 파이썬책이 없습니다! 서점에서 구입하세요!\n"
     ]
    }
   ],
   "source": [
    "# 6. 파이썬의 제어문(if)이 다른 프로그램언어와 다른 점중 하나는 비교연산자로 in, not in을\n",
    "# 사용할 수 있다는 점이다. in, not in을 사용해 iterable자료형(list, tuple, dict)등을 쉽게\n",
    "# 비교할 수 있게 if문을 사용할 수 있다.\n",
    "# 사용문법 : if 비교값 in[not in] [list|tuple|dict]: pass\n",
    "# 비교결과는 True, False\n",
    "print(1 in [1,2,3])\n",
    "print(100 in [1,2,3])\n",
    "print()\n",
    "\n",
    "print(1 in (1,2,3))\n",
    "print(100 in (1,2,3))\n",
    "print()\n",
    "\n",
    "print('안' in '안녕하세요')\n",
    "print('반' in '안녕하세요')\n",
    "print()\n",
    "\n",
    "# dict의 in[not in]은 key의 존재여부를 확인\n",
    "print(1 in {1:'소향', 2:'나얼'})\n",
    "print(10 in {1:'소향', 2:'나얼'})\n",
    "print('소향' in {1:'소향', 2:'나얼'})  # '소향'이라는 키를 의미\n",
    "print('소향' in {1:'소향', 2:'나얼', '소향':'가수'}) \n",
    "print()\n",
    "\n",
    "책장 = 'Java', 'JavaScript', 'SQL', 'Python'\n",
    "\n",
    "if 'Python' in 책장:\n",
    "    print('책장에 파이썬책이 있습니다! 열심히 공부하삼')\n",
    "else:\n",
    "     print('책장에 파이썬책이 없습니다! 서점에서 구입하세요!')   "
   ]
  },
  {
   "cell_type": "markdown",
   "id": "cdb75636-7a03-4466-aed1-7ccc06966af8",
   "metadata": {},
   "source": [
    "##### 삼항연산자\n",
    ">\"True일 경우 실행할 문장\" if 조건문 else \"False일 경우 실행할 문장\""
   ]
  },
  {
   "cell_type": "code",
   "execution_count": 46,
   "id": "ba81018d-faaf-436a-8bff-b03fefbc996e",
   "metadata": {},
   "outputs": [
    {
     "name": "stdout",
     "output_type": "stream",
     "text": [
      "불합격입니다!!\n",
      "불합격입니다!!\n"
     ]
    }
   ],
   "source": [
    "# 1. 일반비교\n",
    "score = 50\n",
    "\n",
    "if score>=60:\n",
    "    print(\"합격입니다!!!\")\n",
    "else:\n",
    "    print(\"불합격입니다!!\")\n",
    "\n",
    "# 삼항연산자\n",
    "print(\"합격입니다!!!\") if score>=60 else print(\"불합격입니다!!\")"
   ]
  },
  {
   "cell_type": "markdown",
   "id": "8fee4b75-9dc4-4495-a3e4-386ff18785c4",
   "metadata": {},
   "source": [
    "##### 관계연산자\n",
    "1. 비교연산자\n",
    "2. and, or, not\n",
    "3. in, not in"
   ]
  },
  {
   "cell_type": "code",
   "execution_count": 49,
   "id": "85139e3f-63b3-4f86-942f-f9d510f7aa3c",
   "metadata": {},
   "outputs": [
    {
     "name": "stdin",
     "output_type": "stream",
     "text": [
      "임의의 수를 입력하세요 ==>  11\n"
     ]
    },
    {
     "name": "stdout",
     "output_type": "stream",
     "text": [
      "11는 홀수입니다!!\n",
      "11는 홀수입니다!!\n"
     ]
    }
   ],
   "source": [
    "# 실습\n",
    "# input()함수로 임의의 수를 입력받아서 그 수가 짝수인지 홀수인지 여부를 출력\n",
    "number = int(input(\"임의의 수를 입력하세요 ==> \"))\n",
    "\n",
    "# 1) 일반 if문\n",
    "if number%2==0:\n",
    "    print(f'{number}는 짝수입니다!!')\n",
    "else:\n",
    "    print(f'{number}는 홀수입니다!!')\n",
    "    \n",
    "# 2) 삼항연산\n",
    "print(f'{number}는 짝수입니다!!') if number%2==0 else print(f'{number}는 홀수입니다!!')"
   ]
  }
 ],
 "metadata": {
  "kernelspec": {
   "display_name": "Python 3 (ipykernel)",
   "language": "python",
   "name": "python3"
  },
  "language_info": {
   "codemirror_mode": {
    "name": "ipython",
    "version": 3
   },
   "file_extension": ".py",
   "mimetype": "text/x-python",
   "name": "python",
   "nbconvert_exporter": "python",
   "pygments_lexer": "ipython3",
   "version": "3.11.7"
  }
 },
 "nbformat": 4,
 "nbformat_minor": 5
}
